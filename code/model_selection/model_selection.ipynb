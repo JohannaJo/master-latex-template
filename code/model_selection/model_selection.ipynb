{
 "cells": [
  {
   "cell_type": "markdown",
   "metadata": {},
   "source": [
    "# Model selection for knowledge graph embeddings\n",
    "\n",
    "For hyperparameter optimisation random search is more optimal than grid search as the search space grows: *James Bergstra and Yoshua Bengio. Random search for hyper-parameter optimization. Journal of Machine Learning Research, 13(Feb):281–305, 2012.*\n",
    "\n",
    "While this approach is not optimal, it is a strong baseline agains other more advanced methods such as Baysian optimisation: *Lisha Li and Kevin Jamieson. Hyperband: a novel bandit-based approach to hyperparameter optimization. Journal of Machine Learning Research, 18:1–52, 2018.*"
   ]
  },
  {
   "cell_type": "code",
   "execution_count": 29,
   "metadata": {},
   "outputs": [],
   "source": [
    "import tensorflow as tf\n",
    "import numpy as np\n",
    "import pickle\n",
    "np.random.seed(0)\n",
    "import matplotlib as mpl\n",
    "import matplotlib.pyplot  as plt\n",
    "\n",
    "\n",
    "from ampligraph.evaluation import train_test_split_no_unseen \n",
    "from ampligraph.latent_features import RandomBaseline, TransE, DistMult, ComplEx, HolE, ConvE, ConvKB\n",
    "from ampligraph.latent_features import save_model\n",
    "from ampligraph.evaluation import evaluate_performance, select_best_model_ranking, mr_score, mrr_score, hits_at_n_score\n",
    "from ampligraph.latent_features import save_model, restore_model"
   ]
  },
  {
   "cell_type": "markdown",
   "metadata": {},
   "source": [
    "## Data retrieval"
   ]
  },
  {
   "cell_type": "code",
   "execution_count": 2,
   "metadata": {},
   "outputs": [],
   "source": [
    "#data = np.loadtxt(\"family_subset.txt\", dtype = 'object')"
   ]
  },
  {
   "cell_type": "code",
   "execution_count": 3,
   "metadata": {},
   "outputs": [],
   "source": [
    "data = np.loadtxt(\"family_subset.txt\", dtype = 'object')\n",
    "X_train = data[:1000]\n",
    "X_val = data[1000:1500]\n",
    "X_test = data[1500:1900]"
   ]
  },
  {
   "cell_type": "code",
   "execution_count": 4,
   "metadata": {},
   "outputs": [
    {
     "data": {
      "text/plain": [
       "(258235, 3)"
      ]
     },
     "execution_count": 4,
     "metadata": {},
     "output_type": "execute_result"
    }
   ],
   "source": [
    "data.shape"
   ]
  },
  {
   "cell_type": "markdown",
   "metadata": {},
   "source": [
    "## Metrics"
   ]
  },
  {
   "cell_type": "code",
   "execution_count": 5,
   "metadata": {},
   "outputs": [],
   "source": [
    "test_metrics = {}"
   ]
  },
  {
   "cell_type": "markdown",
   "metadata": {},
   "source": [
    "## Random Baseline\n",
    "Random baseline requires no hyperparameter search as it assigns a pseudo-random score to triples."
   ]
  },
  {
   "cell_type": "code",
   "execution_count": 6,
   "metadata": {},
   "outputs": [
    {
     "name": "stdout",
     "output_type": "stream",
     "text": [
      "WARNING - All triples will be processed in the same batch (batches_count=1). When processing large graphs it is recommended to batch the input knowledge graph instead.\n"
     ]
    }
   ],
   "source": [
    "model_class = RandomBaseline\n",
    "param_grid = {\n",
    "    \"seed\": 0\n",
    "}\n",
    "best_model, _, _, _, randomBaseline_mrr_test, _ = select_best_model_ranking(model_class, X_train, X_val, X_test,\n",
    "                          param_grid,\n",
    "                          max_combinations=1,\n",
    "                          use_filter=True,\n",
    "                          verbose=False,\n",
    "                          early_stopping=False)"
   ]
  },
  {
   "cell_type": "code",
   "execution_count": 7,
   "metadata": {},
   "outputs": [],
   "source": [
    "test_metrics[\"RandomBaseline\"] = randomBaseline_mrr_test\n",
    "save_model(best_model, './trained_models/RandomBaseline.pkl')\n",
    "del best_model"
   ]
  },
  {
   "cell_type": "markdown",
   "metadata": {},
   "source": [
    "## TransE"
   ]
  },
  {
   "cell_type": "code",
   "execution_count": 8,
   "metadata": {},
   "outputs": [],
   "source": [
    "model_class = TransE\n",
    "param_grid = {\n",
    "    \"batches_count\": [50],\n",
    "    \"seed\": 0,\n",
    "     \"epochs\": [10],\n",
    "     \"k\": [100, 200],\n",
    "     \"eta\": [5, 10, 15],\n",
    "     \"loss\": [\"pairwise\", \"nll\"],\n",
    "     \"loss_params\": {\n",
    "         \"margin\": [2]\n",
    "     },\n",
    "     \"embedding_model_params\": {\n",
    "     },\n",
    "     \"regularizer\": [\"LP\", None],\n",
    "     \"regularizer_params\": {\n",
    "         \"p\": [1, 3],\n",
    "         \"lambda\": [1e-4, 1e-5]\n",
    "     },\n",
    "     \"optimizer\": [\"adagrad\", \"adam\"],\n",
    "     \"optimizer_params\": {\n",
    "         \"lr\": lambda: np.random.uniform(0.0001, 0.01)\n",
    "     },\n",
    "     \"verbose\": False\n",
    "}"
   ]
  },
  {
   "cell_type": "code",
   "execution_count": 9,
   "metadata": {},
   "outputs": [],
   "source": [
    "best_model, _, _, _, transE_mrr_test, _ = select_best_model_ranking(model_class, X_train, X_val, X_test,\n",
    "                          param_grid,\n",
    "                          max_combinations=6,\n",
    "                          use_filter=True,\n",
    "                          verbose=False,\n",
    "                          early_stopping=False)"
   ]
  },
  {
   "cell_type": "code",
   "execution_count": 10,
   "metadata": {},
   "outputs": [],
   "source": [
    "save_model(best_model, './trained_models/TransE.pkl')\n",
    "test_metrics[\"TransE\"] = transE_mrr_test\n",
    "del best_model"
   ]
  },
  {
   "cell_type": "markdown",
   "metadata": {},
   "source": [
    "## Distmult"
   ]
  },
  {
   "cell_type": "code",
   "execution_count": 11,
   "metadata": {},
   "outputs": [],
   "source": [
    "model_class = DistMult\n",
    "param_grid = {\n",
    "    \"batches_count\": [50],\n",
    "    \"seed\": 0,\n",
    "    \"epochs\": [10],\n",
    "    \"k\": [100, 200],\n",
    "    \"eta\": [5, 10, 15],\n",
    "    \"loss\": [\"pairwise\", \"nll\"],\n",
    "    \"loss_params\": {\n",
    "        \"margin\": [2]\n",
    "    },\n",
    "    \"embedding_model_params\": {\n",
    "        \n",
    "    },\n",
    "    \"regularizer\": [\"LP\", None],\n",
    "    \"regularizer_params\": {\n",
    "        \"p\": [1, 3],\n",
    "        \"lambda\": [1e-4, 1e-5]\n",
    "    },\n",
    "    \"optimizer\": [\"adagrad\", \"adam\"],\n",
    "    \"optimizer_params\": {\n",
    "        \"lr\": lambda: np.random.uniform(0.0001, 0.01)\n",
    "    },\n",
    "    \"verbose\": True\n",
    "}"
   ]
  },
  {
   "cell_type": "code",
   "execution_count": 12,
   "metadata": {},
   "outputs": [
    {
     "name": "stderr",
     "output_type": "stream",
     "text": [
      "Average DistMult Loss:   0.003453: 100%|████| 10/10 [00:00<00:00, 10.98epoch/s]\n",
      "100%|█████████████████████████████████████████| 10/10 [00:00<00:00, 118.15it/s]\n",
      "Average DistMult Loss:   1.994144: 100%|████| 10/10 [00:00<00:00, 11.86epoch/s]\n",
      "100%|██████████████████████████████████████████| 10/10 [00:00<00:00, 60.30it/s]\n",
      "Average DistMult Loss:   0.057269: 100%|████| 10/10 [00:01<00:00,  6.09epoch/s]\n",
      "100%|██████████████████████████████████████████| 10/10 [00:00<00:00, 86.28it/s]\n",
      "Average DistMult Loss:   0.100038: 100%|████| 10/10 [00:02<00:00,  4.38epoch/s]\n",
      "100%|██████████████████████████████████████████| 10/10 [00:00<00:00, 74.37it/s]\n",
      "Average DistMult Loss:   0.003830: 100%|████| 10/10 [00:01<00:00,  6.65epoch/s]\n",
      "100%|██████████████████████████████████████████| 10/10 [00:00<00:00, 99.72it/s]\n",
      "Average DistMult Loss:   0.061176: 100%|████| 10/10 [00:02<00:00,  3.93epoch/s]\n",
      "100%|██████████████████████████████████████████| 10/10 [00:00<00:00, 84.80it/s]\n",
      "100%|█████████████████████████████████████████| 57/57 [00:00<00:00, 189.44it/s]\n"
     ]
    }
   ],
   "source": [
    "best_model, _, _, _, distMult_mrr_test, _ = select_best_model_ranking(model_class, X_train, X_val, X_test,\n",
    "                          param_grid,\n",
    "                          max_combinations=6,\n",
    "                          use_filter=True,\n",
    "                          verbose=False,\n",
    "                          early_stopping=False)"
   ]
  },
  {
   "cell_type": "code",
   "execution_count": 13,
   "metadata": {},
   "outputs": [],
   "source": [
    "save_model(best_model, './trained_models/DistMult.pkl')\n",
    "test_metrics[\"DistMult\"] = distMult_mrr_test\n",
    "del best_model"
   ]
  },
  {
   "cell_type": "markdown",
   "metadata": {},
   "source": [
    "## ComplEx"
   ]
  },
  {
   "cell_type": "code",
   "execution_count": 14,
   "metadata": {},
   "outputs": [],
   "source": [
    "model_class = ComplEx\n",
    "param_grid = {\n",
    "    \"batches_count\": [50],\n",
    "    \"seed\": 0,\n",
    "    \"epochs\": [10],\n",
    "    \"k\": [100, 200],\n",
    "    \"eta\": [5, 10, 15],\n",
    "    \"loss\": [\"pairwise\", \"nll\"],\n",
    "    \"loss_params\": {\n",
    "        \"margin\": [2]\n",
    "    },\n",
    "    \"embedding_model_params\": {\n",
    "        \n",
    "    },\n",
    "    \"regularizer\": [\"LP\", None],\n",
    "    \"regularizer_params\": {\n",
    "        \"p\": [1, 3],\n",
    "        \"lambda\": [1e-4, 1e-5]\n",
    "    },\n",
    "    \"optimizer\": [\"adagrad\", \"adam\"],\n",
    "    \"optimizer_params\": {\n",
    "        \"lr\": lambda: np.random.uniform(0.0001, 0.01)\n",
    "    },\n",
    "    \"verbose\": True\n",
    "}"
   ]
  },
  {
   "cell_type": "code",
   "execution_count": 15,
   "metadata": {},
   "outputs": [
    {
     "name": "stderr",
     "output_type": "stream",
     "text": [
      "Average ComplEx Loss:   0.002958: 100%|█████| 10/10 [00:01<00:00,  5.37epoch/s]\n",
      "100%|██████████████████████████████████████████| 10/10 [00:00<00:00, 65.04it/s]\n",
      "Average ComplEx Loss:   1.988073: 100%|█████| 10/10 [00:02<00:00,  4.68epoch/s]\n",
      "100%|██████████████████████████████████████████| 10/10 [00:00<00:00, 40.42it/s]\n",
      "Average ComplEx Loss:   0.088653: 100%|█████| 10/10 [00:04<00:00,  2.12epoch/s]\n",
      "100%|██████████████████████████████████████████| 10/10 [00:00<00:00, 41.95it/s]\n",
      "Average ComplEx Loss:   0.135878: 100%|█████| 10/10 [00:05<00:00,  1.76epoch/s]\n",
      "100%|██████████████████████████████████████████| 10/10 [00:00<00:00, 39.37it/s]\n",
      "Average ComplEx Loss:   0.008476: 100%|█████| 10/10 [00:03<00:00,  2.71epoch/s]\n",
      "100%|██████████████████████████████████████████| 10/10 [00:00<00:00, 40.89it/s]\n",
      "Average ComplEx Loss:   0.096060: 100%|█████| 10/10 [00:06<00:00,  1.49epoch/s]\n",
      "100%|██████████████████████████████████████████| 10/10 [00:00<00:00, 39.36it/s]\n",
      "100%|██████████████████████████████████████████| 57/57 [00:01<00:00, 55.14it/s]\n"
     ]
    }
   ],
   "source": [
    "best_model, _, _, _, complEx_mrr_test, _ = select_best_model_ranking(model_class, X_train, X_val, X_test,\n",
    "                          param_grid,\n",
    "                          max_combinations=6,\n",
    "                          use_filter=True,\n",
    "                          verbose=False,\n",
    "                          early_stopping=False)"
   ]
  },
  {
   "cell_type": "code",
   "execution_count": 17,
   "metadata": {},
   "outputs": [],
   "source": [
    "save_model(best_model, './trained_models/ComplEx.pkl')\n",
    "test_metrics[\"ComplEx\"] = complEx_mrr_test\n",
    "#del best_model"
   ]
  },
  {
   "cell_type": "markdown",
   "metadata": {},
   "source": [
    "## View test metrics"
   ]
  },
  {
   "cell_type": "code",
   "execution_count": 19,
   "metadata": {},
   "outputs": [],
   "source": [
    "# save test metrics to file\n",
    "file = open(\"test_metrics.pkl\",\"wb\")\n",
    "\n",
    "# write the python object (dict) to pickle file\n",
    "pickle.dump(test_metrics,file)\n",
    "\n",
    "# close file\n",
    "file.close()"
   ]
  },
  {
   "cell_type": "code",
   "execution_count": 18,
   "metadata": {},
   "outputs": [
    {
     "data": {
      "text/plain": [
       "{'RandomBaseline': {'mrr': 0.0025414034914838556,\n",
       "  'mr': 687.5,\n",
       "  'hits_1': 0.0,\n",
       "  'hits_3': 0.0,\n",
       "  'hits_10': 0.0},\n",
       " 'TransE': {'mrr': 0.04500424337819401,\n",
       "  'mr': 67.70175438596492,\n",
       "  'hits_1': 0.0,\n",
       "  'hits_3': 0.03508771929824561,\n",
       "  'hits_10': 0.06140350877192982},\n",
       " 'DistMult': {'mrr': 0.024709890573435384,\n",
       "  'mr': 491.67543859649123,\n",
       "  'hits_1': 0.017543859649122806,\n",
       "  'hits_3': 0.02631578947368421,\n",
       "  'hits_10': 0.02631578947368421},\n",
       " 'ComplEx': {'mrr': 0.0676401615558213,\n",
       "  'mr': 241.1578947368421,\n",
       "  'hits_1': 0.017543859649122806,\n",
       "  'hits_3': 0.07017543859649122,\n",
       "  'hits_10': 0.17543859649122806}}"
      ]
     },
     "execution_count": 18,
     "metadata": {},
     "output_type": "execute_result"
    }
   ],
   "source": [
    "test_metrics"
   ]
  },
  {
   "cell_type": "code",
   "execution_count": 56,
   "metadata": {
    "jupyter": {
     "source_hidden": true
    }
   },
   "outputs": [
    {
     "data": {
      "image/png": "[encoded data removed]",
      "text/plain": [
       "<Figure size 432x288 with 1 Axes>"
      ]
     },
     "metadata": {
      "needs_background": "light"
     },
     "output_type": "display_data"
    }
   ],
   "source": [
    "# Histogram\n",
    "names = [\"RandomBaseline\", \"TransE\", \"DistMult\", \"ComplEx\"]\n",
    "values = [list(test_metrics[\"RandomBaseline\"].values())[0], \n",
    "          list(test_metrics[\"TransE\"].values())[0], \n",
    "          list(test_metrics[\"DistMult\"].values())[0], \n",
    "          list(test_metrics[\"ComplEx\"].values())[0]]\n",
    "plt.bar(names, values, color=['red', 'green', 'blue', 'orange'])\n",
    "plt.ylabel('Score')\n",
    "plt.xlabel('Model class')\n",
    "plt.title(\"MRR score on test data\");"
   ]
  },
  {
   "cell_type": "code",
   "execution_count": 57,
   "metadata": {
    "jupyter": {
     "source_hidden": true
    }
   },
   "outputs": [
    {
     "data": {
      "image/png": "[encoded data removed]",
      "text/plain": [
       "<Figure size 432x288 with 1 Axes>"
      ]
     },
     "metadata": {
      "needs_background": "light"
     },
     "output_type": "display_data"
    }
   ],
   "source": [
    "# Histogram\n",
    "names = [\"RandomBaseline\", \"TransE\", \"DistMult\", \"ComplEx\"]\n",
    "values = [list(test_metrics[\"RandomBaseline\"].values())[1], \n",
    "          list(test_metrics[\"TransE\"].values())[1], \n",
    "          list(test_metrics[\"DistMult\"].values())[1], \n",
    "          list(test_metrics[\"ComplEx\"].values())[1]]\n",
    "plt.bar(names, values, color=['red', 'green', 'blue', 'orange'])\n",
    "plt.ylabel('Score')\n",
    "plt.xlabel('Model class')\n",
    "plt.title(\"MR score on test data\");"
   ]
  },
  {
   "cell_type": "code",
   "execution_count": 58,
   "metadata": {
    "jupyter": {
     "source_hidden": true
    }
   },
   "outputs": [
    {
     "data": {
      "image/png": "[encoded data removed]",
      "text/plain": [
       "<Figure size 432x288 with 1 Axes>"
      ]
     },
     "metadata": {
      "needs_background": "light"
     },
     "output_type": "display_data"
    }
   ],
   "source": [
    "labels = ['Hits@1','Hits@3','Hits@10']\n",
    "metrics_RandomBaseline = list(test_metrics[\"RandomBaseline\"].values())[2:5]\n",
    "metrics_TransE = list(test_metrics[\"TransE\"].values())[2:5]\n",
    "metrics_DistMult = list(test_metrics[\"DistMult\"].values())[2:5]\n",
    "metrics_ComplEx = list(test_metrics[\"ComplEx\"].values())[2:5]\n",
    "\n",
    "\n",
    "x = (np.arange(len(labels)))*3  # the label locations\n",
    "width = 0.35  # the width of the bars\n",
    "mpl.style.use(\"bmh\")\n",
    "fig, ax = plt.subplots()\n",
    "bar_C11 = ax.bar(x - 3*(width), metrics_RandomBaseline, width, label='RandomBaseline')\n",
    "bar_C12 = ax.bar(x - 2*(width), metrics_TransE, width, label='TransE')\n",
    "bar_C21 = ax.bar(x - width, metrics_DistMult, width, label='DistMult')\n",
    "bar_C22 = ax.bar(x, metrics_ComplEx, width, label='ComplEx')\n",
    "\n",
    "# Add some text for labels, title and custom x-axis tick labels, etc.\n",
    "ax.set_ylabel('Score')\n",
    "ax.set_title('Hit scores for models')\n",
    "\n",
    "ax.set_xticks(x)\n",
    "ax.set_xticklabels(labels)\n",
    "ax.legend()\n",
    "\n",
    "\n",
    "fig.tight_layout()\n",
    "plt.show()"
   ]
  }
 ],
 "metadata": {
  "kernelspec": {
   "display_name": "Python 3",
   "language": "python",
   "name": "python3"
  },
  "language_info": {
   "codemirror_mode": {
    "name": "ipython",
    "version": 3
   },
   "file_extension": ".py",
   "mimetype": "text/x-python",
   "name": "python",
   "nbconvert_exporter": "python",
   "pygments_lexer": "ipython3",
   "version": "3.7.7"
  }
 },
 "nbformat": 4,
 "nbformat_minor": 4
}
