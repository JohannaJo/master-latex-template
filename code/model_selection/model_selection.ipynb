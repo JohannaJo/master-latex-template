{
 "cells": [
  {
   "cell_type": "markdown",
   "metadata": {},
   "source": [
    "# Model selection for knowledge graph embeddings\n",
    "\n",
    "For hyperparameter optimisation random search is more optimal than grid search as the search space grows: *James Bergstra and Yoshua Bengio. Random search for hyper-parameter optimization. Journal of Machine Learning Research, 13(Feb):281–305, 2012.*\n",
    "\n",
    "While this approach is not optimal, it is a strong baseline agains other more advanced methods such as Baysian optimisation: *Lisha Li and Kevin Jamieson. Hyperband: a novel bandit-based approach to hyperparameter optimization. Journal of Machine Learning Research, 18:1–52, 2018.*"
   ]
  },
  {
   "cell_type": "code",
   "execution_count": 1,
   "metadata": {},
   "outputs": [],
   "source": [
    "import tensorflow as tf\n",
    "import numpy as np\n",
    "import pickle\n",
    "np.random.seed(0)\n",
    "\n",
    "from ampligraph.evaluation import train_test_split_no_unseen \n",
    "from ampligraph.latent_features import RandomBaseline, TransE, DistMult, ComplEx, HolE, ConvE, ConvKB\n",
    "from ampligraph.latent_features import save_model\n",
    "from ampligraph.evaluation import evaluate_performance, select_best_model_ranking, mr_score, mrr_score, hits_at_n_score\n",
    "from ampligraph.latent_features import save_model, restore_model"
   ]
  },
  {
   "cell_type": "markdown",
   "metadata": {},
   "source": [
    "## Data retrieval"
   ]
  },
  {
   "cell_type": "code",
   "execution_count": 2,
   "metadata": {},
   "outputs": [],
   "source": [
    "#data = np.loadtxt(\"family_subset.txt\", dtype = 'object')"
   ]
  },
  {
   "cell_type": "code",
   "execution_count": 3,
   "metadata": {},
   "outputs": [],
   "source": [
    "data = np.loadtxt(\"family_subset.txt\", dtype = 'object')\n",
    "X_train = data[:100]\n",
    "X_val = data[100:150]\n",
    "X_test = data[150:190]"
   ]
  },
  {
   "cell_type": "code",
   "execution_count": 4,
   "metadata": {},
   "outputs": [
    {
     "data": {
      "text/plain": [
       "(258235, 3)"
      ]
     },
     "execution_count": 4,
     "metadata": {},
     "output_type": "execute_result"
    }
   ],
   "source": [
    "data.shape"
   ]
  },
  {
   "cell_type": "markdown",
   "metadata": {},
   "source": [
    "## Metrics"
   ]
  },
  {
   "cell_type": "code",
   "execution_count": 5,
   "metadata": {},
   "outputs": [
    {
     "data": {
      "text/plain": [
       "'\\n# borrowed from https://github.com/Accenture/AmpliGraph/blob/master/ampligraph/evaluation/protocol.py\\ndef evaluation(ranks):\\n        mrr = mrr_score(ranks)\\n        mr = mr_score(ranks)\\n        hits_1 = hits_at_n_score(ranks, n=1)\\n        hits_3 = hits_at_n_score(ranks, n=3)\\n        hits_10 = hits_at_n_score(ranks, n=10)\\n        test_evaluation = {\\n            \"mrr\": mrr,\\n            \"mr\": mr,\\n            \"hits_1\": hits_1,\\n            \"hits_3\": hits_3,\\n            \"hits_10\": hits_10\\n        }\\n        return test_evaluation\\n    \\ndef get_metrics(model, test_data, complete_data):\\n    ranks = evaluate_performance(complete_data, model=model,\\n                                         filter_triples=complete_data, verbose=False,\\n                                         entities_subset=None,\\n                                         use_default_protocol=False,\\n                                         corrupt_side=\\'s,o\\')\\n    return evaluation(ranks)\\n'"
      ]
     },
     "execution_count": 5,
     "metadata": {},
     "output_type": "execute_result"
    }
   ],
   "source": [
    "\"\"\"\n",
    "# borrowed from https://github.com/Accenture/AmpliGraph/blob/master/ampligraph/evaluation/protocol.py\n",
    "def evaluation(ranks):\n",
    "        mrr = mrr_score(ranks)\n",
    "        mr = mr_score(ranks)\n",
    "        hits_1 = hits_at_n_score(ranks, n=1)\n",
    "        hits_3 = hits_at_n_score(ranks, n=3)\n",
    "        hits_10 = hits_at_n_score(ranks, n=10)\n",
    "        test_evaluation = {\n",
    "            \"mrr\": mrr,\n",
    "            \"mr\": mr,\n",
    "            \"hits_1\": hits_1,\n",
    "            \"hits_3\": hits_3,\n",
    "            \"hits_10\": hits_10\n",
    "        }\n",
    "        return test_evaluation\n",
    "    \n",
    "def get_metrics(model, test_data, complete_data):\n",
    "    ranks = evaluate_performance(complete_data, model=model,\n",
    "                                         filter_triples=complete_data, verbose=False,\n",
    "                                         entities_subset=None,\n",
    "                                         use_default_protocol=False,\n",
    "                                         corrupt_side='s,o')\n",
    "    return evaluation(ranks)\n",
    "\"\"\""
   ]
  },
  {
   "cell_type": "code",
   "execution_count": 6,
   "metadata": {},
   "outputs": [],
   "source": [
    "test_metrics = {}"
   ]
  },
  {
   "cell_type": "markdown",
   "metadata": {},
   "source": [
    "## Random Baseline\n",
    "Random baseline requires no hyperparameter search as it assigns a pseudo-random score to triples."
   ]
  },
  {
   "cell_type": "code",
   "execution_count": 7,
   "metadata": {},
   "outputs": [
    {
     "name": "stdout",
     "output_type": "stream",
     "text": [
      "WARNING - All triples will be processed in the same batch (batches_count=1). When processing large graphs it is recommended to batch the input knowledge graph instead.\n"
     ]
    }
   ],
   "source": [
    "model_class = RandomBaseline\n",
    "param_grid = {\n",
    "    \"seed\": 0\n",
    "}\n",
    "best_model, _, _, _, randomBaseline_mrr_test, _ = select_best_model_ranking(model_class, X_train, X_val, X_test,\n",
    "                          param_grid,\n",
    "                          max_combinations=1,\n",
    "                          use_filter=True,\n",
    "                          verbose=False,\n",
    "                          early_stopping=False)"
   ]
  },
  {
   "cell_type": "code",
   "execution_count": 8,
   "metadata": {},
   "outputs": [],
   "source": [
    "test_metrics[\"RandomBaseline\"] = randomBaseline_mrr_test\n",
    "save_model(best_model, './trained_models/RandomBaseline.pkl')\n",
    "del best_model"
   ]
  },
  {
   "cell_type": "markdown",
   "metadata": {},
   "source": [
    "## TransE"
   ]
  },
  {
   "cell_type": "code",
   "execution_count": 9,
   "metadata": {},
   "outputs": [],
   "source": [
    "model_class = TransE\n",
    "param_grid = {\n",
    "    \"batches_count\": [50],\n",
    "    \"seed\": 0,\n",
    "     \"epochs\": [10],\n",
    "     \"k\": [100, 200],\n",
    "     \"eta\": [5, 10, 15],\n",
    "     \"loss\": [\"pairwise\", \"nll\"],\n",
    "     \"loss_params\": {\n",
    "         \"margin\": [2]\n",
    "     },\n",
    "     \"embedding_model_params\": {\n",
    "     },\n",
    "     \"regularizer\": [\"LP\", None],\n",
    "     \"regularizer_params\": {\n",
    "         \"p\": [1, 3],\n",
    "         \"lambda\": [1e-4, 1e-5]\n",
    "     },\n",
    "     \"optimizer\": [\"adagrad\", \"adam\"],\n",
    "     \"optimizer_params\": {\n",
    "         \"lr\": lambda: np.random.uniform(0.0001, 0.01)\n",
    "     },\n",
    "     \"verbose\": False\n",
    "}"
   ]
  },
  {
   "cell_type": "code",
   "execution_count": 10,
   "metadata": {},
   "outputs": [],
   "source": [
    "best_model, _, _, _, transE_mrr_test, _ = select_best_model_ranking(model_class, X_train, X_val, X_test,\n",
    "                          param_grid,\n",
    "                          max_combinations=6,\n",
    "                          use_filter=True,\n",
    "                          verbose=False,\n",
    "                          early_stopping=False)"
   ]
  },
  {
   "cell_type": "code",
   "execution_count": 12,
   "metadata": {},
   "outputs": [],
   "source": [
    "save_model(best_model, './trained_models/TransE.pkl')\n",
    "test_metrics[\"TransE\"] = transE_mrr_test\n",
    "del best_model"
   ]
  },
  {
   "cell_type": "markdown",
   "metadata": {},
   "source": [
    "## Distmult"
   ]
  },
  {
   "cell_type": "code",
   "execution_count": 13,
   "metadata": {},
   "outputs": [],
   "source": [
    "model_class = DistMult\n",
    "param_grid = {\n",
    "    \"batches_count\": [50],\n",
    "    \"seed\": 0,\n",
    "    \"epochs\": [10],\n",
    "    \"k\": [100, 200],\n",
    "    \"eta\": [5, 10, 15],\n",
    "    \"loss\": [\"pairwise\", \"nll\"],\n",
    "    \"loss_params\": {\n",
    "        \"margin\": [2]\n",
    "    },\n",
    "    \"embedding_model_params\": {\n",
    "        \n",
    "    },\n",
    "    \"regularizer\": [\"LP\", None],\n",
    "    \"regularizer_params\": {\n",
    "        \"p\": [1, 3],\n",
    "        \"lambda\": [1e-4, 1e-5]\n",
    "    },\n",
    "    \"optimizer\": [\"adagrad\", \"adam\"],\n",
    "    \"optimizer_params\": {\n",
    "        \"lr\": lambda: np.random.uniform(0.0001, 0.01)\n",
    "    },\n",
    "    \"verbose\": True\n",
    "}"
   ]
  },
  {
   "cell_type": "code",
   "execution_count": 14,
   "metadata": {},
   "outputs": [
    {
     "name": "stderr",
     "output_type": "stream",
     "text": [
      "Average DistMult Loss:   0.027634: 100%|████| 10/10 [00:00<00:00, 19.35epoch/s]\n",
      "100%|████████████████████████████████████████████| 5/5 [00:00<00:00, 80.04it/s]\n",
      "Average DistMult Loss:   1.980858: 100%|████| 10/10 [00:00<00:00, 22.79epoch/s]\n",
      "100%|████████████████████████████████████████████| 5/5 [00:00<00:00, 63.99it/s]\n",
      "Average DistMult Loss:   0.217374: 100%|████| 10/10 [00:00<00:00, 19.16epoch/s]\n",
      "100%|████████████████████████████████████████████| 5/5 [00:00<00:00, 63.98it/s]\n",
      "Average DistMult Loss:   0.173331: 100%|████| 10/10 [00:00<00:00, 17.95epoch/s]\n",
      "100%|████████████████████████████████████████████| 5/5 [00:00<00:00, 93.59it/s]\n",
      "Average DistMult Loss:   0.027534: 100%|████| 10/10 [00:00<00:00, 19.95epoch/s]\n",
      "100%|████████████████████████████████████████████| 5/5 [00:00<00:00, 59.07it/s]\n",
      "Average DistMult Loss:   0.227242: 100%|████| 10/10 [00:00<00:00, 16.67epoch/s]\n",
      "100%|████████████████████████████████████████████| 5/5 [00:00<00:00, 72.42it/s]\n",
      "100%|████████████████████████████████████████████| 2/2 [00:00<00:00, 28.97it/s]\n"
     ]
    }
   ],
   "source": [
    "best_model, _, _, _, distMult_mrr_test, _ = select_best_model_ranking(model_class, X_train, X_val, X_test,\n",
    "                          param_grid,\n",
    "                          max_combinations=6,\n",
    "                          use_filter=True,\n",
    "                          verbose=False,\n",
    "                          early_stopping=False)"
   ]
  },
  {
   "cell_type": "code",
   "execution_count": 15,
   "metadata": {},
   "outputs": [],
   "source": [
    "save_model(best_model, './trained_models/DistMult.pkl')\n",
    "test_metrics[\"DistMult\"] = distMult_mrr_test\n",
    "del best_model"
   ]
  },
  {
   "cell_type": "markdown",
   "metadata": {},
   "source": [
    "## ComplEx"
   ]
  },
  {
   "cell_type": "code",
   "execution_count": 16,
   "metadata": {},
   "outputs": [],
   "source": [
    "model_class = ComplEx\n",
    "param_grid = {\n",
    "    \"batches_count\": [50],\n",
    "    \"seed\": 0,\n",
    "    \"epochs\": [10],\n",
    "    \"k\": [100, 200],\n",
    "    \"eta\": [5, 10, 15],\n",
    "    \"loss\": [\"pairwise\", \"nll\"],\n",
    "    \"loss_params\": {\n",
    "        \"margin\": [2]\n",
    "    },\n",
    "    \"embedding_model_params\": {\n",
    "        \n",
    "    },\n",
    "    \"regularizer\": [\"LP\", None],\n",
    "    \"regularizer_params\": {\n",
    "        \"p\": [1, 3],\n",
    "        \"lambda\": [1e-4, 1e-5]\n",
    "    },\n",
    "    \"optimizer\": [\"adagrad\", \"adam\"],\n",
    "    \"optimizer_params\": {\n",
    "        \"lr\": lambda: np.random.uniform(0.0001, 0.01)\n",
    "    },\n",
    "    \"verbose\": True\n",
    "}"
   ]
  },
  {
   "cell_type": "code",
   "execution_count": 17,
   "metadata": {},
   "outputs": [
    {
     "name": "stderr",
     "output_type": "stream",
     "text": [
      "  0%|                                                    | 0/6 [00:00<?, ?it/s]\n",
      "  0%|                                                | 0/10 [00:00<?, ?epoch/s]\u001b[A\n",
      "Average ComplEx Loss:   1.998603:   0%|              | 0/10 [00:00<?, ?epoch/s]\u001b[A\n",
      "Average ComplEx Loss:   1.998603:  10%|▌     | 1/10 [00:00<00:02,  4.13epoch/s]\u001b[A\n",
      "Average ComplEx Loss:   1.901968:  10%|▌     | 1/10 [00:00<00:02,  4.13epoch/s]\u001b[A\n",
      "Average ComplEx Loss:   1.615407:  10%|▌     | 1/10 [00:00<00:02,  4.13epoch/s]\u001b[A\n",
      "Average ComplEx Loss:   1.615407:  30%|█▊    | 3/10 [00:00<00:01,  5.38epoch/s]\u001b[A\n",
      "Average ComplEx Loss:   0.694634:  30%|█▊    | 3/10 [00:00<00:01,  5.38epoch/s]\u001b[A\n",
      "Average ComplEx Loss:   0.027787:  30%|█▊    | 3/10 [00:00<00:01,  5.38epoch/s]\u001b[A\n",
      "Average ComplEx Loss:   0.027787:  50%|███   | 5/10 [00:00<00:00,  6.74epoch/s]\u001b[A\n",
      "Average ComplEx Loss:   0.006291:  50%|███   | 5/10 [00:00<00:00,  6.74epoch/s]\u001b[A\n",
      "Average ComplEx Loss:   0.013893:  50%|███   | 5/10 [00:00<00:00,  6.74epoch/s]\u001b[A\n",
      "Average ComplEx Loss:   0.013893:  70%|████▏ | 7/10 [00:00<00:00,  8.41epoch/s]\u001b[A\n",
      "Average ComplEx Loss:   0.032957:  70%|████▏ | 7/10 [00:00<00:00,  8.41epoch/s]\u001b[A\n",
      "Average ComplEx Loss:   0.015088:  70%|████▏ | 7/10 [00:00<00:00,  8.41epoch/s]\u001b[A\n",
      "Average ComplEx Loss:   0.015088:  90%|█████▍| 9/10 [00:00<00:00,  9.94epoch/s]\u001b[A\n",
      "Average ComplEx Loss:   0.027317: 100%|█████| 10/10 [00:00<00:00, 13.46epoch/s]\u001b[A\n",
      "\n",
      "100%|████████████████████████████████████████████| 5/5 [00:00<00:00, 59.04it/s]\u001b[A\n",
      " 17%|███████▎                                    | 1/6 [00:01<00:08,  1.66s/it]\n",
      "  0%|                                                | 0/10 [00:00<?, ?epoch/s]\u001b[A\n",
      "Average ComplEx Loss:   2.000146:   0%|              | 0/10 [00:00<?, ?epoch/s]\u001b[A\n",
      "Average ComplEx Loss:   2.000146:  10%|▌     | 1/10 [00:00<00:01,  4.62epoch/s]\u001b[A\n",
      "Average ComplEx Loss:   1.995611:  10%|▌     | 1/10 [00:00<00:01,  4.62epoch/s]\u001b[A\n",
      "Average ComplEx Loss:   1.991926:  10%|▌     | 1/10 [00:00<00:01,  4.62epoch/s]\u001b[A\n",
      "Average ComplEx Loss:   1.991926:  30%|█▊    | 3/10 [00:00<00:01,  5.93epoch/s]\u001b[A\n",
      "Average ComplEx Loss:   1.988566:  30%|█▊    | 3/10 [00:00<00:01,  5.93epoch/s]\u001b[A\n",
      "Average ComplEx Loss:   1.985337:  30%|█▊    | 3/10 [00:00<00:01,  5.93epoch/s]\u001b[A\n",
      "Average ComplEx Loss:   1.985337:  50%|███   | 5/10 [00:00<00:00,  7.51epoch/s]\u001b[A\n",
      "Average ComplEx Loss:   1.981935:  50%|███   | 5/10 [00:00<00:00,  7.51epoch/s]\u001b[A\n",
      "Average ComplEx Loss:   1.978802:  50%|███   | 5/10 [00:00<00:00,  7.51epoch/s]\u001b[A\n",
      "Average ComplEx Loss:   1.978802:  70%|████▏ | 7/10 [00:00<00:00,  9.04epoch/s]\u001b[A\n",
      "Average ComplEx Loss:   1.976302:  70%|████▏ | 7/10 [00:00<00:00,  9.04epoch/s]\u001b[A\n",
      "Average ComplEx Loss:   1.973023:  70%|████▏ | 7/10 [00:00<00:00,  9.04epoch/s]\u001b[A\n",
      "Average ComplEx Loss:   1.973023:  90%|█████▍| 9/10 [00:00<00:00, 10.19epoch/s]\u001b[A\n",
      "Average ComplEx Loss:   1.970142: 100%|█████| 10/10 [00:00<00:00, 13.35epoch/s]\u001b[A\n",
      "\n",
      "100%|████████████████████████████████████████████| 5/5 [00:00<00:00, 59.06it/s]\u001b[A\n",
      " 33%|██████████████▋                             | 2/6 [00:03<00:06,  1.69s/it]\n",
      "  0%|                                                | 0/10 [00:00<?, ?epoch/s]\u001b[A\n",
      "Average ComplEx Loss:   1.385515:   0%|              | 0/10 [00:00<?, ?epoch/s]\u001b[A\n",
      "Average ComplEx Loss:   1.385515:  10%|▌     | 1/10 [00:00<00:02,  3.66epoch/s]\u001b[A\n",
      "Average ComplEx Loss:   1.161525:  10%|▌     | 1/10 [00:00<00:02,  3.66epoch/s]\u001b[A\n",
      "Average ComplEx Loss:   0.711624:  10%|▌     | 1/10 [00:00<00:02,  3.66epoch/s]\u001b[A\n",
      "Average ComplEx Loss:   0.711624:  30%|█▊    | 3/10 [00:00<00:01,  4.72epoch/s]\u001b[A\n",
      "Average ComplEx Loss:   0.448224:  30%|█▊    | 3/10 [00:00<00:01,  4.72epoch/s]\u001b[A\n",
      "Average ComplEx Loss:   0.212308:  30%|█▊    | 3/10 [00:00<00:01,  4.72epoch/s]\u001b[A\n",
      "Average ComplEx Loss:   0.212308:  50%|███   | 5/10 [00:00<00:00,  5.95epoch/s]\u001b[A\n",
      "Average ComplEx Loss:   0.262551:  50%|███   | 5/10 [00:00<00:00,  5.95epoch/s]\u001b[A\n",
      "Average ComplEx Loss:   0.274433:  50%|███   | 5/10 [00:00<00:00,  5.95epoch/s]\u001b[A\n",
      "Average ComplEx Loss:   0.274433:  70%|████▏ | 7/10 [00:00<00:00,  7.41epoch/s]\u001b[A\n",
      "Average ComplEx Loss:   0.386972:  70%|████▏ | 7/10 [00:00<00:00,  7.41epoch/s]\u001b[A\n",
      "Average ComplEx Loss:   0.340723:  70%|████▏ | 7/10 [00:00<00:00,  7.41epoch/s]\u001b[A\n",
      "Average ComplEx Loss:   0.340723:  90%|█████▍| 9/10 [00:00<00:00,  8.75epoch/s]\u001b[A\n",
      "Average ComplEx Loss:   0.416925: 100%|█████| 10/10 [00:00<00:00, 11.64epoch/s]\u001b[A\n",
      "\n",
      "100%|████████████████████████████████████████████| 5/5 [00:00<00:00, 59.02it/s]\u001b[A\n",
      " 50%|██████████████████████                      | 3/6 [00:05<00:05,  1.73s/it]\n",
      "  0%|                                                | 0/10 [00:00<?, ?epoch/s]\u001b[A\n",
      "Average ComplEx Loss:   1.387083:   0%|              | 0/10 [00:00<?, ?epoch/s]\u001b[A\n",
      "Average ComplEx Loss:   1.387083:  10%|▌     | 1/10 [00:00<00:02,  3.24epoch/s]\u001b[A\n",
      "Average ComplEx Loss:   1.254114:  10%|▌     | 1/10 [00:00<00:02,  3.24epoch/s]\u001b[A\n",
      "Average ComplEx Loss:   0.808580:  10%|▌     | 1/10 [00:00<00:02,  3.24epoch/s]\u001b[A\n",
      "Average ComplEx Loss:   0.808580:  30%|█▊    | 3/10 [00:00<00:01,  4.20epoch/s]\u001b[A\n",
      "Average ComplEx Loss:   0.656912:  30%|█▊    | 3/10 [00:00<00:01,  4.20epoch/s]\u001b[A\n",
      "Average ComplEx Loss:   0.656912:  40%|██▍   | 4/10 [00:00<00:01,  5.08epoch/s]\u001b[A\n",
      "Average ComplEx Loss:   0.510582:  40%|██▍   | 4/10 [00:00<00:01,  5.08epoch/s]\u001b[A\n",
      "Average ComplEx Loss:   0.522930:  40%|██▍   | 4/10 [00:00<00:01,  5.08epoch/s]\u001b[A\n",
      "Average ComplEx Loss:   0.522930:  60%|███▌  | 6/10 [00:00<00:00,  6.22epoch/s]\u001b[A\n",
      "Average ComplEx Loss:   0.549427:  60%|███▌  | 6/10 [00:00<00:00,  6.22epoch/s]\u001b[A\n",
      "Average ComplEx Loss:   0.396822:  60%|███▌  | 6/10 [00:00<00:00,  6.22epoch/s]\u001b[A\n",
      "Average ComplEx Loss:   0.396822:  80%|████▊ | 8/10 [00:00<00:00,  7.43epoch/s]\u001b[A\n",
      "Average ComplEx Loss:   0.207708:  80%|████▊ | 8/10 [00:00<00:00,  7.43epoch/s]\u001b[A\n",
      "Average ComplEx Loss:   0.164233:  80%|████▊ | 8/10 [00:01<00:00,  7.43epoch/s]\u001b[A\n",
      "Average ComplEx Loss:   0.164233: 100%|█████| 10/10 [00:01<00:00,  9.75epoch/s]\u001b[A\n",
      "\n",
      "100%|████████████████████████████████████████████| 5/5 [00:00<00:00, 59.00it/s]\u001b[A\n",
      " 67%|█████████████████████████████▎              | 4/6 [00:07<00:03,  1.81s/it]\n",
      "  0%|                                                | 0/10 [00:00<?, ?epoch/s]\u001b[A\n",
      "Average ComplEx Loss:   1.999008:   0%|              | 0/10 [00:00<?, ?epoch/s]\u001b[A\n",
      "Average ComplEx Loss:   1.999008:  10%|▌     | 1/10 [00:00<00:02,  4.13epoch/s]\u001b[A\n",
      "Average ComplEx Loss:   1.834631:  10%|▌     | 1/10 [00:00<00:02,  4.13epoch/s]\u001b[A\n",
      "Average ComplEx Loss:   1.047188:  10%|▌     | 1/10 [00:00<00:02,  4.13epoch/s]\u001b[A\n",
      "Average ComplEx Loss:   1.047188:  30%|█▊    | 3/10 [00:00<00:01,  5.29epoch/s]\u001b[A\n",
      "Average ComplEx Loss:   0.015650:  30%|█▊    | 3/10 [00:00<00:01,  5.29epoch/s]\u001b[A\n",
      "Average ComplEx Loss:   0.028597:  30%|█▊    | 3/10 [00:00<00:01,  5.29epoch/s]\u001b[A\n",
      "Average ComplEx Loss:   0.028597:  50%|███   | 5/10 [00:00<00:00,  6.53epoch/s]\u001b[A\n",
      "Average ComplEx Loss:   0.032604:  50%|███   | 5/10 [00:00<00:00,  6.53epoch/s]\u001b[A\n",
      "Average ComplEx Loss:   0.036309:  50%|███   | 5/10 [00:00<00:00,  6.53epoch/s]\u001b[A\n",
      "Average ComplEx Loss:   0.036309:  70%|████▏ | 7/10 [00:00<00:00,  8.03epoch/s]\u001b[A\n",
      "Average ComplEx Loss:   0.016745:  70%|████▏ | 7/10 [00:00<00:00,  8.03epoch/s]\u001b[A\n",
      "Average ComplEx Loss:   0.010696:  70%|████▏ | 7/10 [00:00<00:00,  8.03epoch/s]\u001b[A\n",
      "Average ComplEx Loss:   0.010696:  90%|█████▍| 9/10 [00:00<00:00,  9.15epoch/s]\u001b[A\n",
      "Average ComplEx Loss:   0.027751: 100%|█████| 10/10 [00:00<00:00, 11.64epoch/s]\u001b[A\n",
      "\n",
      "100%|████████████████████████████████████████████| 5/5 [00:00<00:00, 59.07it/s]\u001b[A\n",
      " 83%|████████████████████████████████████▋       | 5/6 [00:08<00:01,  1.79s/it]\n",
      "  0%|                                                | 0/10 [00:00<?, ?epoch/s]\u001b[A\n",
      "Average ComplEx Loss:   1.385778:   0%|              | 0/10 [00:00<?, ?epoch/s]\u001b[A\n",
      "Average ComplEx Loss:   1.385778:  10%|▌     | 1/10 [00:00<00:02,  3.46epoch/s]\u001b[A\n",
      "Average ComplEx Loss:   1.176208:  10%|▌     | 1/10 [00:00<00:02,  3.46epoch/s]\u001b[A\n",
      "Average ComplEx Loss:   0.705925:  10%|▌     | 1/10 [00:00<00:02,  3.46epoch/s]\u001b[A\n",
      "Average ComplEx Loss:   0.705925:  30%|█▊    | 3/10 [00:00<00:01,  4.44epoch/s]\u001b[A\n",
      "Average ComplEx Loss:   0.411204:  30%|█▊    | 3/10 [00:00<00:01,  4.44epoch/s]\u001b[A\n",
      "Average ComplEx Loss:   0.200560:  30%|█▊    | 3/10 [00:00<00:01,  4.44epoch/s]\u001b[A\n",
      "Average ComplEx Loss:   0.200560:  50%|███   | 5/10 [00:00<00:00,  5.56epoch/s]\u001b[A\n",
      "Average ComplEx Loss:   0.278886:  50%|███   | 5/10 [00:00<00:00,  5.56epoch/s]\u001b[A\n",
      "Average ComplEx Loss:   0.250265:  50%|███   | 5/10 [00:00<00:00,  5.56epoch/s]\u001b[A\n",
      "Average ComplEx Loss:   0.250265:  70%|████▏ | 7/10 [00:00<00:00,  6.82epoch/s]\u001b[A\n",
      "Average ComplEx Loss:   0.372453:  70%|████▏ | 7/10 [00:00<00:00,  6.82epoch/s]\u001b[A\n",
      "Average ComplEx Loss:   0.472379:  70%|████▏ | 7/10 [00:00<00:00,  6.82epoch/s]\u001b[A\n",
      "Average ComplEx Loss:   0.472379:  90%|█████▍| 9/10 [00:00<00:00,  7.87epoch/s]\u001b[A\n",
      "Average ComplEx Loss:   0.401445: 100%|█████| 10/10 [00:00<00:00, 10.25epoch/s]\u001b[A\n",
      "\n",
      "  0%|                                                    | 0/5 [00:00<?, ?it/s]\u001b[A\n",
      "100%|████████████████████████████████████████████| 5/5 [00:00<00:00, 49.85it/s]\u001b[A\n",
      "100%|████████████████████████████████████████████| 6/6 [00:11<00:00,  1.86s/it]\n",
      "100%|████████████████████████████████████████████| 2/2 [00:00<00:00, 28.94it/s]\n"
     ]
    }
   ],
   "source": [
    "best_model, _, _, _, complEx_mrr_test, _ = select_best_model_ranking(model_class, X_train, X_val, X_test,\n",
    "                          param_grid,\n",
    "                          max_combinations=6,\n",
    "                          use_filter=True,\n",
    "                          verbose=True,\n",
    "                          early_stopping=False)"
   ]
  },
  {
   "cell_type": "code",
   "execution_count": 18,
   "metadata": {},
   "outputs": [
    {
     "data": {
      "text/plain": [
       "<ampligraph.latent_features.models.ComplEx.ComplEx at 0x2016d8bf308>"
      ]
     },
     "execution_count": 18,
     "metadata": {},
     "output_type": "execute_result"
    }
   ],
   "source": [
    "best_model"
   ]
  },
  {
   "cell_type": "markdown",
   "metadata": {},
   "source": []
  },
  {
   "cell_type": "code",
   "execution_count": 19,
   "metadata": {},
   "outputs": [],
   "source": [
    "save_model(best_model, './trained_models/ComplEx.pkl')\n",
    "test_metrics[\"ComplEx\"] = complEx_mrr_test\n",
    "#del best_model"
   ]
  },
  {
   "cell_type": "markdown",
   "metadata": {},
   "source": [
    "## View test metrics"
   ]
  },
  {
   "cell_type": "code",
   "execution_count": 20,
   "metadata": {},
   "outputs": [
    {
     "data": {
      "text/plain": [
       "{'RandomBaseline': {'mrr': 0.021060303181742464,\n",
       "  'mr': 61.75,\n",
       "  'hits_1': 0.0,\n",
       "  'hits_3': 0.0,\n",
       "  'hits_10': 0.0},\n",
       " 'TransE': {'mrr': 0.25383823529411764,\n",
       "  'mr': 66.25,\n",
       "  'hits_1': 0.0,\n",
       "  'hits_3': 0.5,\n",
       "  'hits_10': 0.5},\n",
       " 'DistMult': {'mrr': 0.016620549629846094,\n",
       "  'mr': 60.25,\n",
       "  'hits_1': 0.0,\n",
       "  'hits_3': 0.0,\n",
       "  'hits_10': 0.0},\n",
       " 'ComplEx': {'mrr': 0.38231837606837604,\n",
       "  'mr': 35.0,\n",
       "  'hits_1': 0.25,\n",
       "  'hits_3': 0.5,\n",
       "  'hits_10': 0.5}}"
      ]
     },
     "execution_count": 20,
     "metadata": {},
     "output_type": "execute_result"
    }
   ],
   "source": [
    "test_metrics"
   ]
  },
  {
   "cell_type": "code",
   "execution_count": 21,
   "metadata": {},
   "outputs": [],
   "source": [
    "# save test metrics to file\n",
    "file = open(\"test_metrics.pkl\",\"wb\")\n",
    "\n",
    "# write the python object (dict) to pickle file\n",
    "pickle.dump(test_metrics,file)\n",
    "\n",
    "# close file\n",
    "file.close()"
   ]
  }
 ],
 "metadata": {
  "kernelspec": {
   "display_name": "Python 3",
   "language": "python",
   "name": "python3"
  },
  "language_info": {
   "codemirror_mode": {
    "name": "ipython",
    "version": 3
   },
   "file_extension": ".py",
   "mimetype": "text/x-python",
   "name": "python",
   "nbconvert_exporter": "python",
   "pygments_lexer": "ipython3",
   "version": "3.7.7"
  }
 },
 "nbformat": 4,
 "nbformat_minor": 4
}
