{
 "cells": [
  {
   "cell_type": "markdown",
   "metadata": {},
   "source": [
    "\n",
    "# Wikidata rule suggestions\n",
    "\n",
    "\n",
    "This notebook presents some possible rules that could be extacted from Wikidata.\n",
    "\n",
    "---\n",
    "### **Rule 1**: P26[Spouse](A, B) -> P26[Spouse](B, A)\n",
    "\"If A is the spouse of B, then B is a spouse of A.\"\n",
    "\n",
    "---\n",
    "### **Rule 2**: P25[Mother](A, B) -> P40[Child](B, A)\n",
    "\"If A is the mother of B, then B is the child of A\"\n",
    "\n",
    "---\n",
    "### **Rule 3**: p22[Father](A, B) -> P40[Child](B, A)\n",
    "\"If A is the father of B, then B is a child of A.\"\n",
    "\n",
    "---\n",
    "### **Rule 4**: P185[doctoralStudent](A, B) -> P184[doctoralAdvisor](B, A)\n",
    "\"If A is the doctoral student of B, then B is the doctoral advisor of A.\"\n",
    "\n",
    "---\n",
    "\n",
    "### **Rule 5**: P800[notableWork](A, B) -> P170[creator](B, A)\n",
    "\"If A is the notable work of B, then B is the creator of A.\"\n",
    "\n",
    "---\n",
    "### **Rule 6**: P1196[mannerOfDeath](A, Q171558[accident]) -> P184[causeOfDeath](A, Q171558[accident])\n",
    "\"If the manner of A's death was an accident, then the cause of A's death was a accident.\"\n",
    "\n",
    "---"
   ]
  },
  {
   "cell_type": "code",
   "execution_count": 5,
   "metadata": {},
   "outputs": [],
   "source": [
    "from pykeen.pipeline import pipeline\n",
    "from pykeen.triples import TriplesFactory\n",
    "from pykeen.datasets import Wikidata5M\n",
    "import pykeen\n",
    "import pandas as pd\n",
    "import numpy as np"
   ]
  },
  {
   "cell_type": "code",
   "execution_count": 6,
   "metadata": {},
   "outputs": [
    {
     "data": {
      "text/plain": [
       "pykeen.datasets.wikidata5m.Wikidata5M"
      ]
     },
     "execution_count": 6,
     "metadata": {},
     "output_type": "execute_result"
    }
   ],
   "source": [
    "Wikidata5M"
   ]
  },
  {
   "cell_type": "code",
   "execution_count": 7,
   "metadata": {},
   "outputs": [],
   "source": [
    "data = Wikidata5M()"
   ]
  },
  {
   "cell_type": "code",
   "execution_count": 11,
   "metadata": {},
   "outputs": [
    {
     "name": "stderr",
     "output_type": "stream",
     "text": [
      "You're trying to map triples with 156 entities and 0 relations that are not in the training set. These triples will be excluded from the mapping.\n",
      "In total 156 from 5133 triples were filtered out\n",
      "You're trying to map triples with 180 entities and 0 relations that are not in the training set. These triples will be excluded from the mapping.\n",
      "In total 180 from 5163 triples were filtered out\n"
     ]
    },
    {
     "name": "stdout",
     "output_type": "stream",
     "text": [
      "Wikidata5M (create_inverse_triples=False)\n",
      "Name        Entities    Relations      Triples\n",
      "----------  ----------  -----------  ---------\n",
      "Training    4594149     822           20614279\n",
      "Testing     4594149     822               4977\n",
      "Validation  4594149     822               4983\n",
      "Total       -           -             20624239\n",
      "Head    Relation    tail\n",
      "------  ----------  --------\n",
      "Q1      P1343       Q602358\n",
      "Q1      P1419       Q1647152\n",
      "Q1      P1552       Q11412\n",
      "Q1      P2184       Q136407\n",
      "Q1      P2670       Q18343\n",
      "\n"
     ]
    }
   ],
   "source": [
    "data.summarize()"
   ]
  },
  {
   "cell_type": "code",
   "execution_count": 12,
   "metadata": {},
   "outputs": [
    {
     "data": {
      "text/plain": [
       "Wikidata5M(training_path=\"C:\\Users\\johan\\.data\\pykeen\\datasets\\wikidata5m\\wikidata5m_transductive_train.txt\", testing_path=\"C:\\Users\\johan\\.data\\pykeen\\datasets\\wikidata5m\\wikidata5m_transductive_test.txt\", validation_path=\"C:\\Users\\johan\\.data\\pykeen\\datasets\\wikidata5m\\wikidata5m_transductive_valid.txt\")"
      ]
     },
     "execution_count": 12,
     "metadata": {},
     "output_type": "execute_result"
    }
   ],
   "source": [
    "data"
   ]
  },
  {
   "cell_type": "code",
   "execution_count": null,
   "metadata": {},
   "outputs": [],
   "source": []
  }
 ],
 "metadata": {
  "kernelspec": {
   "display_name": "Python 3",
   "language": "python",
   "name": "python3"
  },
  "language_info": {
   "codemirror_mode": {
    "name": "ipython",
    "version": 3
   },
   "file_extension": ".py",
   "mimetype": "text/x-python",
   "name": "python",
   "nbconvert_exporter": "python",
   "pygments_lexer": "ipython3",
   "version": "3.7.7"
  }
 },
 "nbformat": 4,
 "nbformat_minor": 4
}
