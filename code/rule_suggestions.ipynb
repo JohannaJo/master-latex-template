{
 "cells": [
  {
   "cell_type": "markdown",
   "metadata": {},
   "source": [
    "\n",
    "# Rule suggestions\n",
    "\n",
    "\n",
    "This notebook presents some possible rules that could be extacted, paired with their appropriate datasets.\n",
    "\n",
    "---\n",
    "### **Rule 1**: (A, \"parents\", B) and (A, \"parents\", C) and (B, \"gender\", \"male\") --> (C, \"gender\", \"female\")\n",
    "\"If some A has different parents B and C, and B is male, then C is female.\"\n",
    "\n",
    "\n",
    "**Dataset**: fb13\n",
    "\n",
    "This rule is somewhat homophobic, but I assume that the embedding will support it.\n",
    "\n",
    "\n",
    "---\n",
    "### **Rule 2**: (A, \"daughterOf\", B) and (B, \"motherOf\", C) --> (A, \"sisterOf\", C)\n",
    "\"If some A is the daughter of some B, and that B is a mother of C, then A is a sister of C.\"\n",
    "\n",
    "\n",
    "\n",
    "**Dataset**: kinship\n",
    "\n",
    "---\n",
    "### **Rule 3**: (A, \"wasBornIn\", B) and (A, \"livesIn\", B) --> (A, \"isCitizenOf\", B)\n",
    "\"If some A was born in B and lives in B, then they are a citizen of B.\"\n",
    "\n",
    "**Dataset**: yago3_10\n",
    "\n",
    "---\n",
    "### **Rule 4**: (A, \"livesIn\", B) and (B, \"isCapitalOf\", C) --> (A, \"livesIn\", C)\n",
    "\"If some A lives in B, which is the capital of C, then A lives in C.\"\n",
    "\n",
    "\n",
    "**Dataset**: yago3_10\n",
    "\n",
    "---\n",
    "### **Rule 5**: (A, \"isCapitolOf\", B) and (C, \"isLeaderOf\" B) --> (C, \"isCitizenOf\", B)\n",
    "\"If A is the capitol of B and C is the leader of B, then C is a citizen of B.\" (You cannot be a leader of a country without being a citizen of that country.)\n",
    "\n",
    "***Problematic***: B is not nessecarily a country in this dataset. Could have written (B \"hasCurrency\" A), but then we encounter the same problem.\n",
    "\n",
    "**Dataset**: yago3_10\n",
    "\n",
    "\n",
    "---\n",
    "### **Rule 6**: (A, \"playsFor\", B) --> (A, \"gender\", \"male\")\n",
    "\"If A plays for B, then A is a male.\"\n",
    "\n",
    "This is an odd rule which might be supported by the dataset?? Would be interesting to check out.\n",
    "\n",
    "\n",
    "**Dataset**: yago3_10"
   ]
  },
  {
   "cell_type": "code",
   "execution_count": 1,
   "metadata": {},
   "outputs": [],
   "source": [
    "import numpy as np\n",
    "import ampligraph\n",
    "import tensorflow as tf\n",
    "from ampligraph.datasets import load_yago3_10\n",
    "from ampligraph.evaluation import evaluate_performance\n",
    "from ampligraph.evaluation import train_test_split_no_unseen \n",
    "from ampligraph.evaluation import mr_score, mrr_score, hits_at_n_score\n",
    "from ampligraph.latent_features import save_model\n",
    "from signature_tools import subset_by_signature, subset_by_frequency, most_frequent_objects, most_frequent_predicates, most_frequent_targets"
   ]
  },
  {
   "cell_type": "markdown",
   "metadata": {},
   "source": [
    "## Yago3_10"
   ]
  },
  {
   "cell_type": "code",
   "execution_count": 2,
   "metadata": {},
   "outputs": [],
   "source": [
    "yago = load_yago3_10()\n",
    "yago = np.concatenate([yago['train'], yago['valid'], yago['test']]) # combine the split data"
   ]
  },
  {
   "cell_type": "code",
   "execution_count": 3,
   "metadata": {},
   "outputs": [
    {
     "data": {
      "text/plain": [
       "array([[264, 'Frankfurt_Airport'],\n",
       "       [259, 'Amsterdam_Airport_Schiphol'],\n",
       "       [250, 'Charles_de_Gaulle_Airport'],\n",
       "       [230, 'Istanbul_Atatürk_Airport'],\n",
       "       [210, 'United_States'],\n",
       "       [206, 'Munich_Airport'],\n",
       "       [202, 'Barcelona–El_Prat_Airport'],\n",
       "       [200, 'Dubai_International_Airport'],\n",
       "       [191, 'Brussels_Airport'],\n",
       "       [179, 'Leonardo_da_Vinci–Fiumicino_Airport']], dtype=object)"
      ]
     },
     "execution_count": 3,
     "metadata": {},
     "output_type": "execute_result"
    }
   ],
   "source": [
    "most_frequent_objects(yago)"
   ]
  },
  {
   "cell_type": "code",
   "execution_count": 4,
   "metadata": {},
   "outputs": [
    {
     "data": {
      "text/plain": [
       "array([[377143, 'isAffiliatedTo'],\n",
       "       [324048, 'playsFor'],\n",
       "       [89495, 'isLocatedIn'],\n",
       "       [66764, 'hasGender'],\n",
       "       [45410, 'wasBornIn'],\n",
       "       [32479, 'actedIn'],\n",
       "       [32338, 'isConnectedTo'],\n",
       "       [24277, 'hasWonPrize'],\n",
       "       [10801, 'influences'],\n",
       "       [9340, 'diedIn'],\n",
       "       [7827, 'hasMusicalRole'],\n",
       "       [7432, 'graduatedFrom'],\n",
       "       [7006, 'created'],\n",
       "       [6102, 'wroteMusicFor'],\n",
       "       [5530, 'directed'],\n",
       "       [5190, 'participatedIn'],\n",
       "       [5111, 'hasChild'],\n",
       "       [5099, 'happenedIn'],\n",
       "       [3795, 'isMarriedTo'],\n",
       "       [3482, 'isCitizenOf'],\n",
       "       [3419, 'worksAt'],\n",
       "       [3114, 'edited'],\n",
       "       [3011, 'livesIn'],\n",
       "       [2587, 'hasCapital'],\n",
       "       [2186, 'isPoliticianOf'],\n",
       "       [1320, 'dealsWith'],\n",
       "       [966, 'isLeaderOf'],\n",
       "       [921, 'hasAcademicAdvisor'],\n",
       "       [733, 'owns'],\n",
       "       [558, 'hasNeighbor'],\n",
       "       [394, 'imports'],\n",
       "       [381, 'exports'],\n",
       "       [300, 'hasOfficialLanguage'],\n",
       "       [243, 'isInterestedIn'],\n",
       "       [110, 'hasCurrency'],\n",
       "       [69, 'hasWebsite'],\n",
       "       [19, 'isKnownFor']], dtype=object)"
      ]
     },
     "execution_count": 4,
     "metadata": {},
     "output_type": "execute_result"
    }
   ],
   "source": [
    "most_frequent_predicates(yago, n = 40)"
   ]
  },
  {
   "cell_type": "code",
   "execution_count": 5,
   "metadata": {},
   "outputs": [
    {
     "data": {
      "text/plain": [
       "array([[61599, 'male'],\n",
       "       [12309, 'United_States'],\n",
       "       [5165, 'female'],\n",
       "       [1743, 'London'],\n",
       "       [1733, 'United_Kingdom'],\n",
       "       [1673, 'wordnet_guitar_103467517'],\n",
       "       [1578, 'France'],\n",
       "       [1443, 'New_York_City'],\n",
       "       [1384, 'Birmingham_City_F.C.'],\n",
       "       [1373, 'Los_Angeles']], dtype=object)"
      ]
     },
     "execution_count": 5,
     "metadata": {},
     "output_type": "execute_result"
    }
   ],
   "source": [
    "most_frequent_targets(yago)"
   ]
  },
  {
   "cell_type": "markdown",
   "metadata": {},
   "source": [
    "### Generate subset\n",
    "\n",
    "It seems that airports make up a large part of the dataset, and these are related to eachother by the predicate \"isConnectedTo\". \n",
    "\n",
    "So, we will generate a subset containing only triplets with the predicate \"isConnectedTo\" that include entities that appear in at least 50 triplets."
   ]
  },
  {
   "cell_type": "code",
   "execution_count": 45,
   "metadata": {},
   "outputs": [],
   "source": [
    "subset = subset_by_signature(yago, [], [\"playsFor\"], [])"
   ]
  },
  {
   "cell_type": "code",
   "execution_count": 48,
   "metadata": {},
   "outputs": [
    {
     "data": {
      "text/plain": [
       "array([['Boo_Young-tae', 'playsFor', 'Yangju_Citizen_FC'],\n",
       "       ['Josh_Smith_(soccer)', 'playsFor', 'Trinity_University_(Texas)'],\n",
       "       ['George_Mallia', 'playsFor', 'Malta_national_football_team'],\n",
       "       ['Ariel_Garcé', 'playsFor', 'Rosario_Central'],\n",
       "       ['Trevor_Senior', 'playsFor', 'Dorchester_Town_F.C.'],\n",
       "       ['Emanuele_Concetti', 'playsFor', 'U.S._Pergolettese_1932'],\n",
       "       ['Warren_Bradley_(footballer)', 'playsFor',\n",
       "        'Macclesfield_Town_F.C.'],\n",
       "       ['Simone_Zaza', 'playsFor', 'F.C._Esperia_Viareggio'],\n",
       "       ['Ricardo_Moniz', 'playsFor', 'Helmond_Sport'],\n",
       "       ['László_Sternberg', 'playsFor', 'New_York_Americans_(soccer)'],\n",
       "       ['Lee_Clarke', 'playsFor',\n",
       "        'Northern_Ireland_national_under-21_football_team'],\n",
       "       ['Nicola_Sansone', 'playsFor', 'Parma_F.C.'],\n",
       "       ['Edgardo_Abdala', 'playsFor', 'Huachipato'],\n",
       "       ['Júnior_Maranhão', 'playsFor', 'Club_Sportivo_Sergipe'],\n",
       "       ['Xavier_Hochstrasser', 'playsFor', 'Calcio_Padova'],\n",
       "       ['Nils_Petersen', 'playsFor', 'FC_Carl_Zeiss_Jena'],\n",
       "       ['Serigne_Diop', 'playsFor', 'PAEEK'],\n",
       "       ['Arthur_Sorin', 'playsFor', 'Stade_Rennais_F.C.'],\n",
       "       ['Albert_Jorquera', 'playsFor', 'AD_Ceuta'],\n",
       "       ['Willie_Sims_(footballer)', 'playsFor',\n",
       "        'San_Fernando_Valley_Quakes'],\n",
       "       ['Chic_Charnley', 'playsFor', 'Portadown_F.C.'],\n",
       "       ['Pablo_Granoche', 'playsFor', 'Tiburones_Rojos_de_Coatzacoalcos'],\n",
       "       ['Anderson_Ribeiro_Pereira', 'playsFor',\n",
       "        'Sport_Club_Corinthians_Paulista'],\n",
       "       ['Glen_Crowe', 'playsFor', 'Plymouth_Argyle_F.C.'],\n",
       "       ['O._W._Fischer', 'playsFor', 'Hartlepool_United_F.C.'],\n",
       "       ['Nenad_Đorđević', 'playsFor', 'FK_Obilić'],\n",
       "       ['Michal_Nehoda', 'playsFor', 'SK_Hanácká_Slavia_Kroměříž'],\n",
       "       ['Dave_McEachran', 'playsFor', 'Boston_Bears_(soccer)'],\n",
       "       ['Juan_Pablo_Sorín', 'playsFor', 'Cruzeiro_Esporte_Clube'],\n",
       "       ['Esteban_Cambiasso', 'playsFor',\n",
       "        'Argentina_national_football_team'],\n",
       "       ['Adam_Haywood', 'playsFor', 'Arsenal_F.C.'],\n",
       "       ['Hans_Krankl', 'playsFor', 'FC_Red_Bull_Salzburg'],\n",
       "       ['Clemens_August_Graf_von_Galen', 'playsFor',\n",
       "        'FC_Zirka_Kirovohrad'],\n",
       "       ['Mariusz_Mowlik', 'playsFor', 'ŁKS_Łódź'],\n",
       "       ['İsmail_Özgür_Göktaş', 'playsFor', 'Tarsus_Idman_Yurdu'],\n",
       "       ['Giuseppe_Casari', 'playsFor', 'Atalanta_B.C.'],\n",
       "       ['Haile_Selassie', 'playsFor', 'South_China_AA'],\n",
       "       ['Keith_Scott_(footballer)', 'playsFor', 'Reading_F.C.'],\n",
       "       ['Sidney_Govou', 'playsFor', 'Olympique_Lyonnais'],\n",
       "       ['Damien_McCrory', 'playsFor',\n",
       "        'Republic_of_Ireland_national_under-19_football_team'],\n",
       "       ['Sander_Puri', 'playsFor', 'St._Mirren_F.C.'],\n",
       "       ['Patrick_Colleter', 'playsFor', 'AS_Cannes'],\n",
       "       ['George_Lawrence_(footballer)', 'playsFor',\n",
       "        'Hednesford_Town_F.C.'],\n",
       "       ['Richard_Anthony_(politician)', 'playsFor', 'Rákospalotai_EAC'],\n",
       "       ['Allan_Dugbley', 'playsFor', 'FC_Shinnik_Yaroslavl'],\n",
       "       ['Stefano_Bono', 'playsFor', 'Brescia_Calcio'],\n",
       "       ['Tom_Brownlee', 'playsFor', 'Broxburn_Athletic_F.C.'],\n",
       "       ['Francesco_Caracciolo', 'playsFor', 'Coritiba_Foot_Ball_Club'],\n",
       "       ['Flamur_Kastrati', 'playsFor', 'Skeid_Fotball'],\n",
       "       ['Luciano_Vella', 'playsFor', 'FC_Rapid_București'],\n",
       "       ['Simone_Pepe', 'playsFor', 'S.S._Teramo_Calcio'],\n",
       "       ['Adrian_Slywotzky', 'playsFor',\n",
       "        'Thailand_national_under-23_football_team'],\n",
       "       ['Márcio_Abreu', 'playsFor', 'C.S._Marítimo_B'],\n",
       "       ['Mikkel_Hansen', 'playsFor', 'AG_København'],\n",
       "       ['Tony_Scott_(footballer)', 'playsFor', 'A.F.C._Bournemouth'],\n",
       "       ['José_Luis_Sierra', 'playsFor', 'Real_Valladolid'],\n",
       "       ['Mark_Byrne', 'playsFor', 'Burton_Albion_F.C.'],\n",
       "       ['Grigory_Kenkishvili', 'playsFor', 'FC_Alnas_Almetyevsk'],\n",
       "       ['Les_Massie', 'playsFor', 'Halifax_Town_A.F.C.'],\n",
       "       ['Richard_Witschge', 'playsFor', 'Oita_Trinita'],\n",
       "       ['Rafael_Porcellis', 'playsFor', 'Brazil_national_football_team'],\n",
       "       ['Adam_Miller_(footballer)', 'playsFor', 'Cambridge_United_F.C.'],\n",
       "       ['David_Knight_(English_footballer)', 'playsFor',\n",
       "        'York_City_F.C.'],\n",
       "       ['Jetro_Willems', 'playsFor',\n",
       "        'Netherlands_national_under-21_football_team'],\n",
       "       ['Walter_Nahún_López', 'playsFor', 'Platense_F.C.'],\n",
       "       ['Kamel_Larbi', 'playsFor', 'ES_Uzès_Pont_du_Gard'],\n",
       "       ['Kangana_Ndiwa', 'playsFor', 'Montrose_F.C.'],\n",
       "       ['Maximilian_Mehring', 'playsFor', 'Wormatia_Worms'],\n",
       "       ['Dexter_Langen', 'playsFor', 'Borussia_Mönchengladbach'],\n",
       "       ['Mohamed_Coly', 'playsFor', 'A.S._Varese_1910'],\n",
       "       ['Fabrice_Catherine', 'playsFor', 'CS_Sedan_Ardennes'],\n",
       "       ['Lars_Unger', 'playsFor', 'SV_Werder_Bremen'],\n",
       "       ['Alex_Jeannin', 'playsFor', 'Kidderminster_Harriers_F.C.'],\n",
       "       ['Silvano_Villa', 'playsFor', 'U.S._Arezzo'],\n",
       "       ['Constantin_Schumacher', 'playsFor', 'FC_Universitatea_Craiova'],\n",
       "       ['Fernando_Álvez', 'playsFor', 'Uruguay_national_football_team'],\n",
       "       ['Lisandro_López', 'playsFor', 'Sun_Hei_SC'],\n",
       "       ['Diego_Cervantes', 'playsFor', 'C.F._Monterrey'],\n",
       "       ['Eric_Hobsbawm', 'playsFor', 'Reggina_Calcio'],\n",
       "       ['Mateus_Paraná', 'playsFor',\n",
       "        'Operário_Ferroviário_Esporte_Clube'],\n",
       "       ['Billy_Hughes_(footballer_born_1948)', 'playsFor',\n",
       "        'Sunderland_A.F.C.'],\n",
       "       ['Germán_Lux', 'playsFor',\n",
       "        'Argentina_national_under-23_football_team'],\n",
       "       ['Arda_Turan', 'playsFor',\n",
       "        'Turkey_national_under-17_football_team'],\n",
       "       ['Roy_Aitken', 'playsFor', 'Celtic_Boys_Club'],\n",
       "       ['Ma_Lin_(footballer)', 'playsFor', 'NK_Zadar'],\n",
       "       ['Pat_Jennings,_Jr.', 'playsFor', \"St_Patrick's_Athletic_F.C.\"],\n",
       "       ['Eriverton_Lima', 'playsFor', 'Clube_Atlético_do_Porto'],\n",
       "       ['Dean_Howell', 'playsFor', 'Spalding_United_F.C.'],\n",
       "       ['Gastón_Otreras', 'playsFor', 'Huracán_de_Tres_Arroyos'],\n",
       "       ['Lee_Kyung-soo', 'playsFor',\n",
       "        'South_Korea_national_under-23_football_team'],\n",
       "       ['Éber_Luís_Cucchi', 'playsFor', 'Esporte_Clube_Guarani'],\n",
       "       ['Luis_Molowny', 'playsFor', 'CD_Tenerife'],\n",
       "       ['Riga_Mustapha', 'playsFor', 'Bolton_Wanderers_F.C.'],\n",
       "       ['Anicet_Adjamossi', 'playsFor', 'FC_Istres'],\n",
       "       ['Ralph_Adams_Cram', 'playsFor', 'FK_Austria_Wien'],\n",
       "       ['Milan_Perić', 'playsFor', 'FK_Jagodina'],\n",
       "       ['Mamadou_Samassa_(footballer_born_1986)', 'playsFor',\n",
       "        'France_national_under-21_football_team'],\n",
       "       ['Yazid_Mansouri', 'playsFor', 'Al-Sailiya_SC'],\n",
       "       ['Denis_Popov', 'playsFor', 'FC_Slavyansk_Slavyansk-na-Kubani'],\n",
       "       ['Hawar_Mulla_Mohammed', 'playsFor', 'Al-Khor_Sports_Club']],\n",
       "      dtype=object)"
      ]
     },
     "execution_count": 48,
     "metadata": {},
     "output_type": "execute_result"
    }
   ],
   "source": [
    "subset[:100]"
   ]
  },
  {
   "cell_type": "code",
   "execution_count": 8,
   "metadata": {},
   "outputs": [
    {
     "data": {
      "text/plain": [
       "array(['14th_Dalai_Lama', 'A._C._Grayling', 'A._J._John,_Anaparambil',\n",
       "       ..., 'Łódź', 'Żagań', 'Željko_Ražnatović'], dtype=object)"
      ]
     },
     "execution_count": 8,
     "metadata": {},
     "output_type": "execute_result"
    }
   ],
   "source": [
    "entities = np.unique(np.concatenate([subset[:, 0], subset[:, 2]]))\n",
    "entities"
   ]
  },
  {
   "cell_type": "code",
   "execution_count": 9,
   "metadata": {},
   "outputs": [
    {
     "data": {
      "text/plain": [
       "array(['livesIn'], dtype=object)"
      ]
     },
     "execution_count": 9,
     "metadata": {},
     "output_type": "execute_result"
    }
   ],
   "source": [
    "relations = np.unique(subset[:, 1])\n",
    "relations"
   ]
  },
  {
   "cell_type": "code",
   "execution_count": 10,
   "metadata": {},
   "outputs": [],
   "source": [
    "#subset = subset_by_frequency(subset, 1, 1)"
   ]
  },
  {
   "cell_type": "code",
   "execution_count": 11,
   "metadata": {},
   "outputs": [
    {
     "data": {
      "text/plain": [
       "(3011, 3)"
      ]
     },
     "execution_count": 11,
     "metadata": {},
     "output_type": "execute_result"
    }
   ],
   "source": [
    "subset.shape"
   ]
  },
  {
   "cell_type": "markdown",
   "metadata": {},
   "source": [
    "# 2. Defining train and test datasets"
   ]
  },
  {
   "cell_type": "markdown",
   "metadata": {},
   "source": [
    "As is typical in machine learning, we need to split our dataset into training and test (and sometimes validation) datasets. \n",
    "\n",
    "What differs from the standard method of randomly sampling N points to make up our test set, is that our data points are two entities linked by some relationship, and we need to take care to ensure that all entities are represented in train and test sets by at least one triple. \n",
    "\n",
    "To accomplish this, AmpliGraph provides the [`train_test_split_no_unseen`](https://docs.ampligraph.org/en/latest/generated/ampligraph.evaluation.train_test_split_no_unseen.html#train-test-split-no-unseen) function.  \n",
    "\n",
    "For sake of example, we will create a small test size that includes only 100 triples:"
   ]
  },
  {
   "cell_type": "code",
   "execution_count": 12,
   "metadata": {},
   "outputs": [],
   "source": [
    "from ampligraph.evaluation import train_test_split_no_unseen \n",
    "\n",
    "X_train, X_test = train_test_split_no_unseen(subset, test_size=100) "
   ]
  },
  {
   "cell_type": "markdown",
   "metadata": {},
   "source": [
    "Our data is now split into train/test sets. If we need to further divide into a validation dataset we can just repeat using the same procedure on the test set (and adjusting the split percentages). "
   ]
  },
  {
   "cell_type": "code",
   "execution_count": 13,
   "metadata": {},
   "outputs": [
    {
     "name": "stdout",
     "output_type": "stream",
     "text": [
      "Train set size:  (2911, 3)\n",
      "Test set size:  (100, 3)\n"
     ]
    }
   ],
   "source": [
    "print('Train set size: ', X_train.shape)\n",
    "print('Test set size: ', X_test.shape)"
   ]
  },
  {
   "cell_type": "code",
   "execution_count": 14,
   "metadata": {},
   "outputs": [
    {
     "data": {
      "text/plain": [
       "False"
      ]
     },
     "execution_count": 14,
     "metadata": {},
     "output_type": "execute_result"
    }
   ],
   "source": [
    "[\"Trondheim_Airport\", \"hasGender\", \"Brisbane_Airport\"] in subset"
   ]
  },
  {
   "cell_type": "markdown",
   "metadata": {},
   "source": [
    "---\n",
    "# 3. Training a model \n",
    "\n",
    "AmpliGraph has implemented [several Knoweldge Graph Embedding models](https://docs.ampligraph.org/en/latest/ampligraph.latent_features.html#knowledge-graph-embedding-models) (TransE, ComplEx, DistMult, HolE), but to begin with we're just going to use the [ComplEx](https://docs.ampligraph.org/en/latest/generated/ampligraph.latent_features.ComplEx.html#ampligraph.latent_features.ComplEx) model (with  default values), so lets import that:"
   ]
  },
  {
   "cell_type": "code",
   "execution_count": 15,
   "metadata": {},
   "outputs": [],
   "source": [
    "from ampligraph.latent_features import ComplEx"
   ]
  },
  {
   "cell_type": "markdown",
   "metadata": {},
   "source": [
    "Lets go through the parameters to understand what's going on:\n",
    "\n",
    "- **`k`** : the dimensionality of the embedding space\n",
    "- **`eta`** ($\\eta$) : the number of negative, or false triples that must be generated at training runtime for each positive, or true triple\n",
    "- **`batches_count`** : the number of batches in which the training set is split during the training loop. If you are having into low memory issues than settings this to a higher number may help.\n",
    "- **`epochs`** : the number of epochs to train the model for.\n",
    "- **`optimizer`** : the Adam optimizer, with a learning rate of 1e-3 set via the *optimizer_params* kwarg.\n",
    "- **`loss`** : pairwise loss, with a margin of 0.5 set via the *loss_params* kwarg.\n",
    "- **`regularizer`** : $L_p$ regularization with $p=2$, i.e. l2 regularization. $\\lambda$ = 1e-5, set via the *regularizer_params* kwarg. \n",
    "\n",
    "Now we can instantiate the model:\n"
   ]
  },
  {
   "cell_type": "code",
   "execution_count": 16,
   "metadata": {},
   "outputs": [],
   "source": [
    "model = ComplEx(batches_count=100, \n",
    "                seed=0, \n",
    "                epochs=200, \n",
    "                k=150, \n",
    "                eta=5,\n",
    "                optimizer='adam', \n",
    "                optimizer_params={'lr':1e-3},\n",
    "                loss='multiclass_nll', \n",
    "                regularizer='LP', \n",
    "                regularizer_params={'p':3, 'lambda':1e-5}, \n",
    "                verbose=True)"
   ]
  },
  {
   "cell_type": "markdown",
   "metadata": {},
   "source": [
    "## Filtering negatives\n",
    "\n",
    "AmpliGraph aims to follow scikit-learn's ease-of-use design philosophy and simplify everything down to **`fit`**, **`evaluate`**, and **`predict`** functions. \n",
    "\n",
    "However, there are some knowledge graph specific steps we must take to ensure our model can be trained and evaluated correctly. The first of these is defining the filter that will be used to ensure that no *negative* statements generated by the corruption procedure are actually positives. This is simply done by concatenating our train and test sets. Now when negative triples are generated by the corruption strategy, we can check that they aren't actually true statements.  \n"
   ]
  },
  {
   "cell_type": "code",
   "execution_count": 17,
   "metadata": {},
   "outputs": [],
   "source": [
    "positives_filter = subset"
   ]
  },
  {
   "cell_type": "markdown",
   "metadata": {},
   "source": [
    "## Fitting the model\n",
    "\n",
    "Once you run the next cell the model will train. \n",
    "\n",
    "On a modern laptop this should take ~3 minutes (although your mileage may vary, especially if you've changed any of the hyper-parameters above)."
   ]
  },
  {
   "cell_type": "code",
   "execution_count": 18,
   "metadata": {},
   "outputs": [
    {
     "name": "stderr",
     "output_type": "stream",
     "text": [
      "  0%|                                               | 0/200 [00:02<?, ?epoch/s]\n"
     ]
    },
    {
     "ename": "InvalidArgumentError",
     "evalue": "ValueError: `generator` yielded an element of shape (3,) where an element of shape (?, 3) was expected.\nTraceback (most recent call last):\n\n  File \"c:\\users\\johan\\appdata\\local\\programs\\python\\python37\\lib\\site-packages\\tensorflow_core\\python\\ops\\script_ops.py\", line 235, in __call__\n    ret = func(*args)\n\n  File \"c:\\users\\johan\\appdata\\local\\programs\\python\\python37\\lib\\site-packages\\tensorflow_core\\python\\data\\ops\\dataset_ops.py\", line 630, in generator_py_func\n    \"of shape %s was expected.\" % (ret_array.shape, expected_shape))\n\nValueError: `generator` yielded an element of shape (3,) where an element of shape (?, 3) was expected.\n\n\n\t [[{{node PyFunc}}]]\n\t [[IteratorGetNext]]",
     "output_type": "error",
     "traceback": [
      "\u001b[1;31m---------------------------------------------------------------------------\u001b[0m",
      "\u001b[1;31mInvalidArgumentError\u001b[0m                      Traceback (most recent call last)",
      "\u001b[1;32mc:\\users\\johan\\appdata\\local\\programs\\python\\python37\\lib\\site-packages\\tensorflow_core\\python\\client\\session.py\u001b[0m in \u001b[0;36m_do_call\u001b[1;34m(self, fn, *args)\u001b[0m\n\u001b[0;32m   1364\u001b[0m     \u001b[1;32mtry\u001b[0m\u001b[1;33m:\u001b[0m\u001b[1;33m\u001b[0m\u001b[1;33m\u001b[0m\u001b[0m\n\u001b[1;32m-> 1365\u001b[1;33m       \u001b[1;32mreturn\u001b[0m \u001b[0mfn\u001b[0m\u001b[1;33m(\u001b[0m\u001b[1;33m*\u001b[0m\u001b[0margs\u001b[0m\u001b[1;33m)\u001b[0m\u001b[1;33m\u001b[0m\u001b[1;33m\u001b[0m\u001b[0m\n\u001b[0m\u001b[0;32m   1366\u001b[0m     \u001b[1;32mexcept\u001b[0m \u001b[0merrors\u001b[0m\u001b[1;33m.\u001b[0m\u001b[0mOpError\u001b[0m \u001b[1;32mas\u001b[0m \u001b[0me\u001b[0m\u001b[1;33m:\u001b[0m\u001b[1;33m\u001b[0m\u001b[1;33m\u001b[0m\u001b[0m\n",
      "\u001b[1;32mc:\\users\\johan\\appdata\\local\\programs\\python\\python37\\lib\\site-packages\\tensorflow_core\\python\\client\\session.py\u001b[0m in \u001b[0;36m_run_fn\u001b[1;34m(feed_dict, fetch_list, target_list, options, run_metadata)\u001b[0m\n\u001b[0;32m   1349\u001b[0m       return self._call_tf_sessionrun(options, feed_dict, fetch_list,\n\u001b[1;32m-> 1350\u001b[1;33m                                       target_list, run_metadata)\n\u001b[0m\u001b[0;32m   1351\u001b[0m \u001b[1;33m\u001b[0m\u001b[0m\n",
      "\u001b[1;32mc:\\users\\johan\\appdata\\local\\programs\\python\\python37\\lib\\site-packages\\tensorflow_core\\python\\client\\session.py\u001b[0m in \u001b[0;36m_call_tf_sessionrun\u001b[1;34m(self, options, feed_dict, fetch_list, target_list, run_metadata)\u001b[0m\n\u001b[0;32m   1442\u001b[0m                                             \u001b[0mfetch_list\u001b[0m\u001b[1;33m,\u001b[0m \u001b[0mtarget_list\u001b[0m\u001b[1;33m,\u001b[0m\u001b[1;33m\u001b[0m\u001b[1;33m\u001b[0m\u001b[0m\n\u001b[1;32m-> 1443\u001b[1;33m                                             run_metadata)\n\u001b[0m\u001b[0;32m   1444\u001b[0m \u001b[1;33m\u001b[0m\u001b[0m\n",
      "\u001b[1;31mInvalidArgumentError\u001b[0m: ValueError: `generator` yielded an element of shape (3,) where an element of shape (?, 3) was expected.\nTraceback (most recent call last):\n\n  File \"c:\\users\\johan\\appdata\\local\\programs\\python\\python37\\lib\\site-packages\\tensorflow_core\\python\\ops\\script_ops.py\", line 235, in __call__\n    ret = func(*args)\n\n  File \"c:\\users\\johan\\appdata\\local\\programs\\python\\python37\\lib\\site-packages\\tensorflow_core\\python\\data\\ops\\dataset_ops.py\", line 630, in generator_py_func\n    \"of shape %s was expected.\" % (ret_array.shape, expected_shape))\n\nValueError: `generator` yielded an element of shape (3,) where an element of shape (?, 3) was expected.\n\n\n\t [[{{node PyFunc}}]]\n\t [[IteratorGetNext]]",
      "\nDuring handling of the above exception, another exception occurred:\n",
      "\u001b[1;31mInvalidArgumentError\u001b[0m                      Traceback (most recent call last)",
      "\u001b[1;32m<ipython-input-18-22c0e8860920>\u001b[0m in \u001b[0;36m<module>\u001b[1;34m\u001b[0m\n\u001b[0;32m      1\u001b[0m \u001b[0mtf\u001b[0m\u001b[1;33m.\u001b[0m\u001b[0mlogging\u001b[0m\u001b[1;33m.\u001b[0m\u001b[0mset_verbosity\u001b[0m\u001b[1;33m(\u001b[0m\u001b[0mtf\u001b[0m\u001b[1;33m.\u001b[0m\u001b[0mlogging\u001b[0m\u001b[1;33m.\u001b[0m\u001b[0mERROR\u001b[0m\u001b[1;33m)\u001b[0m\u001b[1;33m\u001b[0m\u001b[1;33m\u001b[0m\u001b[0m\n\u001b[0;32m      2\u001b[0m \u001b[1;33m\u001b[0m\u001b[0m\n\u001b[1;32m----> 3\u001b[1;33m \u001b[0mmodel\u001b[0m\u001b[1;33m.\u001b[0m\u001b[0mfit\u001b[0m\u001b[1;33m(\u001b[0m\u001b[0mX_train\u001b[0m\u001b[1;33m,\u001b[0m \u001b[0mearly_stopping\u001b[0m \u001b[1;33m=\u001b[0m \u001b[1;32mFalse\u001b[0m\u001b[1;33m)\u001b[0m\u001b[1;33m\u001b[0m\u001b[1;33m\u001b[0m\u001b[0m\n\u001b[0m",
      "\u001b[1;32mc:\\users\\johan\\appdata\\local\\programs\\python\\python37\\lib\\site-packages\\ampligraph\\latent_features\\models\\ComplEx.py\u001b[0m in \u001b[0;36mfit\u001b[1;34m(self, X, early_stopping, early_stopping_params, focusE_numeric_edge_values, tensorboard_logs_path)\u001b[0m\n\u001b[0;32m    371\u001b[0m         \"\"\"\n\u001b[0;32m    372\u001b[0m         super().fit(X, early_stopping, early_stopping_params, focusE_numeric_edge_values,\n\u001b[1;32m--> 373\u001b[1;33m                     tensorboard_logs_path=tensorboard_logs_path)\n\u001b[0m\u001b[0;32m    374\u001b[0m \u001b[1;33m\u001b[0m\u001b[0m\n\u001b[0;32m    375\u001b[0m     \u001b[1;32mdef\u001b[0m \u001b[0mpredict\u001b[0m\u001b[1;33m(\u001b[0m\u001b[0mself\u001b[0m\u001b[1;33m,\u001b[0m \u001b[0mX\u001b[0m\u001b[1;33m,\u001b[0m \u001b[0mfrom_idx\u001b[0m\u001b[1;33m=\u001b[0m\u001b[1;32mFalse\u001b[0m\u001b[1;33m)\u001b[0m\u001b[1;33m:\u001b[0m\u001b[1;33m\u001b[0m\u001b[1;33m\u001b[0m\u001b[0m\n",
      "\u001b[1;32mc:\\users\\johan\\appdata\\local\\programs\\python\\python37\\lib\\site-packages\\ampligraph\\latent_features\\models\\EmbeddingModel.py\u001b[0m in \u001b[0;36mfit\u001b[1;34m(self, X, early_stopping, early_stopping_params, focusE_numeric_edge_values, tensorboard_logs_path)\u001b[0m\n\u001b[0;32m   1210\u001b[0m         \u001b[1;32mexcept\u001b[0m \u001b[0mBaseException\u001b[0m \u001b[1;32mas\u001b[0m \u001b[0me\u001b[0m\u001b[1;33m:\u001b[0m\u001b[1;33m\u001b[0m\u001b[1;33m\u001b[0m\u001b[0m\n\u001b[0;32m   1211\u001b[0m             \u001b[0mself\u001b[0m\u001b[1;33m.\u001b[0m\u001b[0m_end_training\u001b[0m\u001b[1;33m(\u001b[0m\u001b[1;33m)\u001b[0m\u001b[1;33m\u001b[0m\u001b[1;33m\u001b[0m\u001b[0m\n\u001b[1;32m-> 1212\u001b[1;33m             \u001b[1;32mraise\u001b[0m \u001b[0me\u001b[0m\u001b[1;33m\u001b[0m\u001b[1;33m\u001b[0m\u001b[0m\n\u001b[0m\u001b[0;32m   1213\u001b[0m \u001b[1;33m\u001b[0m\u001b[0m\n\u001b[0;32m   1214\u001b[0m     \u001b[1;32mdef\u001b[0m \u001b[0mset_filter_for_eval\u001b[0m\u001b[1;33m(\u001b[0m\u001b[0mself\u001b[0m\u001b[1;33m)\u001b[0m\u001b[1;33m:\u001b[0m\u001b[1;33m\u001b[0m\u001b[1;33m\u001b[0m\u001b[0m\n",
      "\u001b[1;32mc:\\users\\johan\\appdata\\local\\programs\\python\\python37\\lib\\site-packages\\ampligraph\\latent_features\\models\\EmbeddingModel.py\u001b[0m in \u001b[0;36mfit\u001b[1;34m(self, X, early_stopping, early_stopping_params, focusE_numeric_edge_values, tensorboard_logs_path)\u001b[0m\n\u001b[0;32m   1155\u001b[0m                             \u001b[0mself\u001b[0m\u001b[1;33m.\u001b[0m\u001b[0msess_train\u001b[0m\u001b[1;33m.\u001b[0m\u001b[0mrun\u001b[0m\u001b[1;33m(\u001b[0m\u001b[0mself\u001b[0m\u001b[1;33m.\u001b[0m\u001b[0ment_emb\u001b[0m\u001b[1;33m)\u001b[0m\u001b[1;33m[\u001b[0m\u001b[1;33m:\u001b[0m\u001b[0munique_entities\u001b[0m\u001b[1;33m.\u001b[0m\u001b[0mshape\u001b[0m\u001b[1;33m[\u001b[0m\u001b[1;36m0\u001b[0m\u001b[1;33m]\u001b[0m\u001b[1;33m,\u001b[0m \u001b[1;33m:\u001b[0m\u001b[1;33m]\u001b[0m\u001b[1;33m\u001b[0m\u001b[1;33m\u001b[0m\u001b[0m\n\u001b[0;32m   1156\u001b[0m                     \u001b[1;32melse\u001b[0m\u001b[1;33m:\u001b[0m\u001b[1;33m\u001b[0m\u001b[1;33m\u001b[0m\u001b[0m\n\u001b[1;32m-> 1157\u001b[1;33m                         \u001b[0mloss_batch\u001b[0m\u001b[1;33m,\u001b[0m \u001b[0m_\u001b[0m \u001b[1;33m=\u001b[0m \u001b[0mself\u001b[0m\u001b[1;33m.\u001b[0m\u001b[0msess_train\u001b[0m\u001b[1;33m.\u001b[0m\u001b[0mrun\u001b[0m\u001b[1;33m(\u001b[0m\u001b[1;33m[\u001b[0m\u001b[0mloss\u001b[0m\u001b[1;33m,\u001b[0m \u001b[0mtrain\u001b[0m\u001b[1;33m]\u001b[0m\u001b[1;33m,\u001b[0m \u001b[0mfeed_dict\u001b[0m\u001b[1;33m=\u001b[0m\u001b[0mfeed_dict\u001b[0m\u001b[1;33m)\u001b[0m\u001b[1;33m\u001b[0m\u001b[1;33m\u001b[0m\u001b[0m\n\u001b[0m\u001b[0;32m   1158\u001b[0m \u001b[1;33m\u001b[0m\u001b[0m\n\u001b[0;32m   1159\u001b[0m                     \u001b[1;32mif\u001b[0m \u001b[0mnp\u001b[0m\u001b[1;33m.\u001b[0m\u001b[0misnan\u001b[0m\u001b[1;33m(\u001b[0m\u001b[0mloss_batch\u001b[0m\u001b[1;33m)\u001b[0m \u001b[1;32mor\u001b[0m \u001b[0mnp\u001b[0m\u001b[1;33m.\u001b[0m\u001b[0misinf\u001b[0m\u001b[1;33m(\u001b[0m\u001b[0mloss_batch\u001b[0m\u001b[1;33m)\u001b[0m\u001b[1;33m:\u001b[0m\u001b[1;33m\u001b[0m\u001b[1;33m\u001b[0m\u001b[0m\n",
      "\u001b[1;32mc:\\users\\johan\\appdata\\local\\programs\\python\\python37\\lib\\site-packages\\tensorflow_core\\python\\client\\session.py\u001b[0m in \u001b[0;36mrun\u001b[1;34m(self, fetches, feed_dict, options, run_metadata)\u001b[0m\n\u001b[0;32m    954\u001b[0m     \u001b[1;32mtry\u001b[0m\u001b[1;33m:\u001b[0m\u001b[1;33m\u001b[0m\u001b[1;33m\u001b[0m\u001b[0m\n\u001b[0;32m    955\u001b[0m       result = self._run(None, fetches, feed_dict, options_ptr,\n\u001b[1;32m--> 956\u001b[1;33m                          run_metadata_ptr)\n\u001b[0m\u001b[0;32m    957\u001b[0m       \u001b[1;32mif\u001b[0m \u001b[0mrun_metadata\u001b[0m\u001b[1;33m:\u001b[0m\u001b[1;33m\u001b[0m\u001b[1;33m\u001b[0m\u001b[0m\n\u001b[0;32m    958\u001b[0m         \u001b[0mproto_data\u001b[0m \u001b[1;33m=\u001b[0m \u001b[0mtf_session\u001b[0m\u001b[1;33m.\u001b[0m\u001b[0mTF_GetBuffer\u001b[0m\u001b[1;33m(\u001b[0m\u001b[0mrun_metadata_ptr\u001b[0m\u001b[1;33m)\u001b[0m\u001b[1;33m\u001b[0m\u001b[1;33m\u001b[0m\u001b[0m\n",
      "\u001b[1;32mc:\\users\\johan\\appdata\\local\\programs\\python\\python37\\lib\\site-packages\\tensorflow_core\\python\\client\\session.py\u001b[0m in \u001b[0;36m_run\u001b[1;34m(self, handle, fetches, feed_dict, options, run_metadata)\u001b[0m\n\u001b[0;32m   1178\u001b[0m     \u001b[1;32mif\u001b[0m \u001b[0mfinal_fetches\u001b[0m \u001b[1;32mor\u001b[0m \u001b[0mfinal_targets\u001b[0m \u001b[1;32mor\u001b[0m \u001b[1;33m(\u001b[0m\u001b[0mhandle\u001b[0m \u001b[1;32mand\u001b[0m \u001b[0mfeed_dict_tensor\u001b[0m\u001b[1;33m)\u001b[0m\u001b[1;33m:\u001b[0m\u001b[1;33m\u001b[0m\u001b[1;33m\u001b[0m\u001b[0m\n\u001b[0;32m   1179\u001b[0m       results = self._do_run(handle, final_targets, final_fetches,\n\u001b[1;32m-> 1180\u001b[1;33m                              feed_dict_tensor, options, run_metadata)\n\u001b[0m\u001b[0;32m   1181\u001b[0m     \u001b[1;32melse\u001b[0m\u001b[1;33m:\u001b[0m\u001b[1;33m\u001b[0m\u001b[1;33m\u001b[0m\u001b[0m\n\u001b[0;32m   1182\u001b[0m       \u001b[0mresults\u001b[0m \u001b[1;33m=\u001b[0m \u001b[1;33m[\u001b[0m\u001b[1;33m]\u001b[0m\u001b[1;33m\u001b[0m\u001b[1;33m\u001b[0m\u001b[0m\n",
      "\u001b[1;32mc:\\users\\johan\\appdata\\local\\programs\\python\\python37\\lib\\site-packages\\tensorflow_core\\python\\client\\session.py\u001b[0m in \u001b[0;36m_do_run\u001b[1;34m(self, handle, target_list, fetch_list, feed_dict, options, run_metadata)\u001b[0m\n\u001b[0;32m   1357\u001b[0m     \u001b[1;32mif\u001b[0m \u001b[0mhandle\u001b[0m \u001b[1;32mis\u001b[0m \u001b[1;32mNone\u001b[0m\u001b[1;33m:\u001b[0m\u001b[1;33m\u001b[0m\u001b[1;33m\u001b[0m\u001b[0m\n\u001b[0;32m   1358\u001b[0m       return self._do_call(_run_fn, feeds, fetches, targets, options,\n\u001b[1;32m-> 1359\u001b[1;33m                            run_metadata)\n\u001b[0m\u001b[0;32m   1360\u001b[0m     \u001b[1;32melse\u001b[0m\u001b[1;33m:\u001b[0m\u001b[1;33m\u001b[0m\u001b[1;33m\u001b[0m\u001b[0m\n\u001b[0;32m   1361\u001b[0m       \u001b[1;32mreturn\u001b[0m \u001b[0mself\u001b[0m\u001b[1;33m.\u001b[0m\u001b[0m_do_call\u001b[0m\u001b[1;33m(\u001b[0m\u001b[0m_prun_fn\u001b[0m\u001b[1;33m,\u001b[0m \u001b[0mhandle\u001b[0m\u001b[1;33m,\u001b[0m \u001b[0mfeeds\u001b[0m\u001b[1;33m,\u001b[0m \u001b[0mfetches\u001b[0m\u001b[1;33m)\u001b[0m\u001b[1;33m\u001b[0m\u001b[1;33m\u001b[0m\u001b[0m\n",
      "\u001b[1;32mc:\\users\\johan\\appdata\\local\\programs\\python\\python37\\lib\\site-packages\\tensorflow_core\\python\\client\\session.py\u001b[0m in \u001b[0;36m_do_call\u001b[1;34m(self, fn, *args)\u001b[0m\n\u001b[0;32m   1382\u001b[0m                     \u001b[1;34m'\\nsession_config.graph_options.rewrite_options.'\u001b[0m\u001b[1;33m\u001b[0m\u001b[1;33m\u001b[0m\u001b[0m\n\u001b[0;32m   1383\u001b[0m                     'disable_meta_optimizer = True')\n\u001b[1;32m-> 1384\u001b[1;33m       \u001b[1;32mraise\u001b[0m \u001b[0mtype\u001b[0m\u001b[1;33m(\u001b[0m\u001b[0me\u001b[0m\u001b[1;33m)\u001b[0m\u001b[1;33m(\u001b[0m\u001b[0mnode_def\u001b[0m\u001b[1;33m,\u001b[0m \u001b[0mop\u001b[0m\u001b[1;33m,\u001b[0m \u001b[0mmessage\u001b[0m\u001b[1;33m)\u001b[0m\u001b[1;33m\u001b[0m\u001b[1;33m\u001b[0m\u001b[0m\n\u001b[0m\u001b[0;32m   1385\u001b[0m \u001b[1;33m\u001b[0m\u001b[0m\n\u001b[0;32m   1386\u001b[0m   \u001b[1;32mdef\u001b[0m \u001b[0m_extend_graph\u001b[0m\u001b[1;33m(\u001b[0m\u001b[0mself\u001b[0m\u001b[1;33m)\u001b[0m\u001b[1;33m:\u001b[0m\u001b[1;33m\u001b[0m\u001b[1;33m\u001b[0m\u001b[0m\n",
      "\u001b[1;31mInvalidArgumentError\u001b[0m: ValueError: `generator` yielded an element of shape (3,) where an element of shape (?, 3) was expected.\nTraceback (most recent call last):\n\n  File \"c:\\users\\johan\\appdata\\local\\programs\\python\\python37\\lib\\site-packages\\tensorflow_core\\python\\ops\\script_ops.py\", line 235, in __call__\n    ret = func(*args)\n\n  File \"c:\\users\\johan\\appdata\\local\\programs\\python\\python37\\lib\\site-packages\\tensorflow_core\\python\\data\\ops\\dataset_ops.py\", line 630, in generator_py_func\n    \"of shape %s was expected.\" % (ret_array.shape, expected_shape))\n\nValueError: `generator` yielded an element of shape (3,) where an element of shape (?, 3) was expected.\n\n\n\t [[{{node PyFunc}}]]\n\t [[IteratorGetNext]]"
     ]
    }
   ],
   "source": [
    "tf.logging.set_verbosity(tf.logging.ERROR)\n",
    "\n",
    "model.fit(X_train, early_stopping = False)"
   ]
  },
  {
   "cell_type": "markdown",
   "metadata": {},
   "source": [
    "---\n",
    "# 5.  Saving and restoring a model\n",
    "\n",
    "Before we go any further, let's save the best model found so that we can restore it in future."
   ]
  },
  {
   "cell_type": "code",
   "execution_count": null,
   "metadata": {},
   "outputs": [],
   "source": [
    "from ampligraph.latent_features import save_model"
   ]
  },
  {
   "cell_type": "code",
   "execution_count": null,
   "metadata": {},
   "outputs": [],
   "source": [
    "save_model(model, './airports_subset.pkl')"
   ]
  },
  {
   "cell_type": "markdown",
   "metadata": {},
   "source": [
    "This will save the model in the ampligraph_tutorial directory as `best_model.pkl`."
   ]
  },
  {
   "cell_type": "markdown",
   "metadata": {},
   "source": [
    ".. we can then delete the model .. "
   ]
  },
  {
   "cell_type": "code",
   "execution_count": null,
   "metadata": {},
   "outputs": [],
   "source": [
    "#del model"
   ]
  },
  {
   "cell_type": "markdown",
   "metadata": {},
   "source": [
    ".. and then restore it from disk! Ta-da! "
   ]
  },
  {
   "cell_type": "code",
   "execution_count": null,
   "metadata": {},
   "outputs": [],
   "source": [
    "#model = restore_model('./connectedTo_subset.pkl')"
   ]
  },
  {
   "cell_type": "markdown",
   "metadata": {},
   "source": [
    "And let's just double check that the model we restored has been fit:"
   ]
  },
  {
   "cell_type": "code",
   "execution_count": null,
   "metadata": {},
   "outputs": [],
   "source": [
    "if model.is_fitted:\n",
    "    print('The model is fit!')\n",
    "else:\n",
    "    print('The model is not fit! Did you skip a step?')"
   ]
  },
  {
   "cell_type": "markdown",
   "metadata": {},
   "source": [
    "## Running evaluation"
   ]
  },
  {
   "cell_type": "code",
   "execution_count": null,
   "metadata": {},
   "outputs": [],
   "source": [
    "ranks = evaluate_performance(X_test, \n",
    "                             model=model, \n",
    "                             filter_triples=positives_filter,   # Corruption strategy filter defined above \n",
    "                             use_default_protocol=True, # corrupt subj and obj separately while evaluating\n",
    "                             verbose=True)"
   ]
  },
  {
   "cell_type": "markdown",
   "metadata": {},
   "source": [
    "\n",
    "The ***ranks*** returned by the evaluate_performance function indicate the rank at which the test set triple was found when performing link prediction using the model. \n",
    "\n",
    "For example, given the triple:\n",
    "\n",
    "    <House Stark of Winterfell, IN_REGION The North>\n",
    "    \n",
    "The model returns a rank of 7. This tells us that while it's not the highest likelihood true statement (which would be given a rank 1), it's pretty likely.\n"
   ]
  },
  {
   "cell_type": "markdown",
   "metadata": {},
   "source": [
    "## Metrics"
   ]
  },
  {
   "cell_type": "markdown",
   "metadata": {},
   "source": [
    "Let's compute some evaluate metrics and print them out.\n",
    "\n",
    "We're going to use the mrr_score (mean reciprocal rank) and hits_at_n_score functions. \n",
    "\n",
    "- ***mrr_score***:  The function computes the mean of the reciprocal of elements of a vector of rankings ranks.\n",
    "- ***hits_at_n_score***: The function computes how many elements of a vector of rankings ranks make it to the top n positions.\n"
   ]
  },
  {
   "cell_type": "code",
   "execution_count": null,
   "metadata": {},
   "outputs": [],
   "source": [
    "mrr = mrr_score(ranks)\n",
    "print(\"MRR: %.2f\" % (mrr))\n",
    "\n",
    "hits_10 = hits_at_n_score(ranks, n=10)\n",
    "print(\"Hits@10: %.2f\" % (hits_10))\n",
    "hits_3 = hits_at_n_score(ranks, n=3)\n",
    "print(\"Hits@3: %.2f\" % (hits_3))\n",
    "hits_1 = hits_at_n_score(ranks, n=1)\n",
    "print(\"Hits@1: %.2f\" % (hits_1))"
   ]
  },
  {
   "cell_type": "markdown",
   "metadata": {},
   "source": [
    "Now, how do we interpret those numbers? \n",
    "\n",
    "[Hits@N](http://docs.ampligraph.org/en/1.0.3/generated/ampligraph.evaluation.hits_at_n_score.html#ampligraph.evaluation.hits_at_n_score) indicates how many times in average a true triple was ranked in the top-N. Therefore, on average, we guessed the correct subject or object 53% of the time when considering the top-3 better ranked triples. The choice of which N makes more sense depends on the application.\n",
    "\n",
    "The [Mean Reciprocal Rank (MRR)](http://docs.ampligraph.org/en/latest/generated/ampligraph.evaluation.mrr_score.html) is another popular metrics to assess the predictive power of a model."
   ]
  }
 ],
 "metadata": {
  "kernelspec": {
   "display_name": "Python 3",
   "language": "python",
   "name": "python3"
  },
  "language_info": {
   "codemirror_mode": {
    "name": "ipython",
    "version": 3
   },
   "file_extension": ".py",
   "mimetype": "text/x-python",
   "name": "python",
   "nbconvert_exporter": "python",
   "pygments_lexer": "ipython3",
   "version": "3.7.7"
  }
 },
 "nbformat": 4,
 "nbformat_minor": 4
}
