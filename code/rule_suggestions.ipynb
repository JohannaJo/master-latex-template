{
 "cells": [
  {
   "cell_type": "markdown",
   "metadata": {},
   "source": [
    "\n",
    "# Rule suggestions\n",
    "\n",
    "\n",
    "This notebook presents some possible rules that could be extacted, paired with their appropriate datasets.\n",
    "\n",
    "---\n",
    "### **Rule 1**: (A, \"parents\", B) and (C, \"parents\", B) and (A, \"gender\", \"male\") --> (C, \"gender\", \"female\")\n",
    "\"If some A has different parents B and C, and B is male, then C is female.\"\n",
    "\n",
    "\n",
    "**Dataset**: fb13\n",
    "\n",
    "This rule is somewhat homophobic, but I assume that the embedding will support it.\n",
    "\n",
    "\n",
    "---\n",
    "### **Rule 2**: (A, \"daughterOf\", B) and (B, \"motherOf\", C) --> (A, \"sisterOf\", C)\n",
    "\"If some A is the daughter of some B, and that B is a mother of C, then A is a sister of C.\"\n",
    "\n",
    "**Dataset**: kinship\n",
    "\n",
    "***Problem***: dataset is synthetic and quite small.\n",
    "\n",
    "---\n",
    "### **Rule 3**: (A, \"wasBornIn\", B) and (A, \"livesIn\", B) --> (A, \"isCitizenOf\", B)\n",
    "\"If some A was born in B and lives in B, then they are a citizen of B.\"\n",
    "\n",
    "***Problem***: no data that fulfills rule.\n",
    "\n",
    "**Dataset**: yago3_10\n",
    "\n",
    "---\n",
    "### **Rule 4**: (A, \"livesIn\", B) and (B, \"hasCapital\", C) --> (A, \"livesIn\", C)\n",
    "\"If some A lives in B, which is the capital of C, then A lives in C.\"\n",
    "\n",
    "***Problem***: no data that fulfills rule. There are no true consequents of the rule in the dataset. SO if we have two triplets that fulfill the antecedent (A, \"livesIn\", B) and (B, \"hasCapital\", C), then there is no triplet in the dataset that can fulfill (A, \"livesIn\", C).\n",
    "\n",
    "**Dataset**: yago3_10\n",
    "\n",
    "---\n",
    "### **Rule 5**: (A, \"hasCapital\", B) and (C, \"isLeaderOf\" B) --> (C, \"isCitizenOf\", B)\n",
    "\"If A is the capitol of B and C is the leader of B, then C is a citizen of B.\" (You cannot be a leader of a country without being a citizen of that country.)\n",
    "\n",
    "***Problematic***: B is not nessecarily a country in this dataset. Could have written (B \"hasCurrency\" A), but then we encounter the same problem.\n",
    "\n",
    "**Dataset**: yago3_10\n",
    "\n",
    "\n",
    "---\n",
    "### **Rule 6**: (A, \"playsFor\", B) --> (A, \"gender\", \"male\")\n",
    "\"If A plays for B, then A is a male.\"\n",
    "\n",
    "This is an odd rule which is supported by the yago3_10 dataset. There are 334684 triplets that can be used to train the rule. 99% of the data is of players that are men, so the rule could be learnt from this dataset.\n",
    "\n",
    "\n",
    "**Dataset**: yago3_10"
   ]
  },
  {
   "cell_type": "code",
   "execution_count": 24,
   "metadata": {},
   "outputs": [],
   "source": [
    "import numpy as np\n",
    "import ampligraph\n",
    "import tensorflow as tf\n",
    "from ampligraph.datasets import load_yago3_10, load_fb13\n",
    "from ampligraph.evaluation import evaluate_performance\n",
    "from ampligraph.evaluation import train_test_split_no_unseen \n",
    "from ampligraph.evaluation import mr_score, mrr_score, hits_at_n_score\n",
    "from ampligraph.latent_features import save_model\n",
    "from signature_tools import subset_by_signature, subset_by_strict_signature, subset_by_frequency, most_frequent_objects, most_frequent_predicates, most_frequent_targets"
   ]
  },
  {
   "cell_type": "markdown",
   "metadata": {},
   "source": [
    "## fb13"
   ]
  },
  {
   "cell_type": "code",
   "execution_count": 25,
   "metadata": {},
   "outputs": [],
   "source": [
    "fb13 = load_fb13()\n",
    "fb13 = np.concatenate([fb13['train'], fb13['valid'], fb13['test']]) # combine the split data"
   ]
  },
  {
   "cell_type": "code",
   "execution_count": 29,
   "metadata": {},
   "outputs": [
    {
     "data": {
      "text/plain": [
       "array([[37, 'albert_einstein'],\n",
       "       [29, 'winston_churchill'],\n",
       "       [29, 'theodore_roosevelt'],\n",
       "       [28, 'edgar_allan_poe'],\n",
       "       [28, 'thomas_jefferson'],\n",
       "       [27, 'paul_newman'],\n",
       "       [27, 'carl_sagan'],\n",
       "       [26, 'harold_pinter'],\n",
       "       [26, 'george_iii_of_the_united_kingdom'],\n",
       "       [25, 'michael_crichton']], dtype=object)"
      ]
     },
     "execution_count": 29,
     "metadata": {},
     "output_type": "execute_result"
    }
   ],
   "source": [
    "most_frequent_objects(fb13, n = 10)"
   ]
  },
  {
   "cell_type": "code",
   "execution_count": 28,
   "metadata": {},
   "outputs": [
    {
     "data": {
      "text/plain": [
       "array([[73903, 'gender'],\n",
       "       [62432, 'profession'],\n",
       "       [61321, 'nationality'],\n",
       "       [40579, 'place_of_death'],\n",
       "       [37970, 'place_of_birth'],\n",
       "       [28783, 'location'],\n",
       "       [21150, 'institution'],\n",
       "       [14897, 'cause_of_death'],\n",
       "       [11158, 'religion'],\n",
       "       [6546, 'ethnicity']], dtype=object)"
      ]
     },
     "execution_count": 28,
     "metadata": {},
     "output_type": "execute_result"
    }
   ],
   "source": [
    "most_frequent_predicates(fb13, n =10)"
   ]
  },
  {
   "cell_type": "code",
   "execution_count": 27,
   "metadata": {},
   "outputs": [
    {
     "data": {
      "text/plain": [
       "array([[59666, 'male'],\n",
       "       [21075, 'united_states'],\n",
       "       [14237, 'female'],\n",
       "       [5973, 'politician'],\n",
       "       [5815, 'germany'],\n",
       "       [5049, 'writer'],\n",
       "       [4501, 'united_kingdom'],\n",
       "       [3894, 'england'],\n",
       "       [3801, 'france'],\n",
       "       [3600, 'paris']], dtype=object)"
      ]
     },
     "execution_count": 27,
     "metadata": {},
     "output_type": "execute_result"
    }
   ],
   "source": [
    "most_frequent_targets(fb13, n = 10)"
   ]
  },
  {
   "cell_type": "markdown",
   "metadata": {},
   "source": [
    "### **Rule 1**: (A, \"parents\", B) and (C, \"parents\", B) and (A, \"gender\", \"male\") --> (C, \"gender\", \"female\")"
   ]
  },
  {
   "cell_type": "code",
   "execution_count": 31,
   "metadata": {},
   "outputs": [
    {
     "data": {
      "text/plain": [
       "array([['anna_e_roosevelt', 'parents', 'eleanor_roosevelt'],\n",
       "       ['ethel_lilian_voynich', 'parents', 'george_boole'],\n",
       "       ['prince_sigismund_of_prussia_kiel', 'parents',\n",
       "        'princess_irene_of_hesse_and_by_rhine'],\n",
       "       ...,\n",
       "       ['joan_whitney_payson', 'gender', 'male'],\n",
       "       ['ferdinando_stanley_5th_earl_of_derby', 'gender', 'male'],\n",
       "       ['ferdinando_stanley_5th_earl_of_derby', 'gender', 'female']],\n",
       "      dtype=object)"
      ]
     },
     "execution_count": 31,
     "metadata": {},
     "output_type": "execute_result"
    }
   ],
   "source": [
    "# extract triplets with relevant predicates for rule\n",
    "parents_subset = subset_by_signature(fb13, [], [\"parents\"], [])\n",
    "gender_subset = subset_by_signature(fb13, [], [\"gender\"], [])\n",
    "gender_female_subset = subset_by_signature(fb13, [], [\"gender\"], [\"female\"])\n",
    "gender_male_subset = subset_by_signature(fb13, [], [\"gender\"], [\"male\"])\n",
    "\n",
    "\n",
    "\n",
    "# extract the objects and subjects that appear in the relevant triplets\n",
    "parents_subjects = parents_subset[:,2]\n",
    "gender_subjects = gender_subset[:,2]\n",
    "parents_objects = parents_subset[:,0]\n",
    "gender_objects = gender_subset[:,0]\n",
    "gender_female_objects = gender_female_subset[:,0]\n",
    "gender_male_objects = gender_male_subset[:,0]\n",
    "\n",
    "# extract the objects and subjects that appear in multiple of the relevant predicates\n",
    "parent_subjects_and_female_objects = np.intersect1d(parents_subjects, gender_female_objects)\n",
    "parent_subjects_and_male_objects = np.intersect1d(parents_objects, gender_male_objects)\n",
    "male_and_female_parents = np.concatenate((parent_subjects_and_female_objects, parent_subjects_and_male_objects))\n",
    "\n",
    "# extract triplets that share subjects across all the relevant predicates\n",
    "parents = subset_by_signature(parents_subset, list(male_and_female_parents), [], [])\n",
    "gender_female = subset_by_signature(gender_female_subset, list(parent_subjects_and_female_objects), [], [])\n",
    "gender_male = subset_by_signature(gender_male_subset, list(parent_subjects_and_male_objects), [], [])\n",
    "\n",
    "# final dataset to be used to learn the gendered players rule\n",
    "parents_female_male_dataset = np.concatenate((parents, gender_female, gender_male))\n",
    "parents_female_male_dataset"
   ]
  },
  {
   "cell_type": "markdown",
   "metadata": {},
   "source": [
    "## Yago3_10"
   ]
  },
  {
   "cell_type": "code",
   "execution_count": 2,
   "metadata": {},
   "outputs": [],
   "source": [
    "yago = load_yago3_10()\n",
    "yago = np.concatenate([yago['train'], yago['valid'], yago['test']]) # combine the split data"
   ]
  },
  {
   "cell_type": "code",
   "execution_count": 3,
   "metadata": {},
   "outputs": [
    {
     "data": {
      "text/plain": [
       "array([[264, 'Frankfurt_Airport'],\n",
       "       [259, 'Amsterdam_Airport_Schiphol']], dtype=object)"
      ]
     },
     "execution_count": 3,
     "metadata": {},
     "output_type": "execute_result"
    }
   ],
   "source": [
    "most_frequent_objects(yago, n = 2)"
   ]
  },
  {
   "cell_type": "code",
   "execution_count": 20,
   "metadata": {},
   "outputs": [
    {
     "data": {
      "text/plain": [
       "array([[377143, 'isAffiliatedTo'],\n",
       "       [324048, 'playsFor']], dtype=object)"
      ]
     },
     "execution_count": 20,
     "metadata": {},
     "output_type": "execute_result"
    }
   ],
   "source": [
    "most_frequent_predicates(yago, n =2)"
   ]
  },
  {
   "cell_type": "code",
   "execution_count": 5,
   "metadata": {},
   "outputs": [
    {
     "data": {
      "text/plain": [
       "array([[61599, 'male'],\n",
       "       [12309, 'United_States']], dtype=object)"
      ]
     },
     "execution_count": 5,
     "metadata": {},
     "output_type": "execute_result"
    }
   ],
   "source": [
    "most_frequent_targets(yago, n = 2)"
   ]
  },
  {
   "cell_type": "markdown",
   "metadata": {},
   "source": [
    "### **Rule 3**: (A, \"wasBornIn\", B) and (A, \"livesIn\", B) --> (A, \"isCitizenOf\", B)"
   ]
  },
  {
   "cell_type": "code",
   "execution_count": 10,
   "metadata": {},
   "outputs": [
    {
     "data": {
      "text/plain": [
       "array([], shape=(0, 3), dtype=object)"
      ]
     },
     "execution_count": 10,
     "metadata": {},
     "output_type": "execute_result"
    }
   ],
   "source": [
    "# extract triplets with relevant predicates for rule\n",
    "born_subset = subset_by_signature(yago, [], [\"wasBornIn\"], [])\n",
    "lives_subset = subset_by_signature(yago, [], [\"livesIn\"], [])\n",
    "citizen_subset = subset_by_signature(yago, [], [\"isCitizenOf\"], [])\n",
    "\n",
    "# extract the objects and subjects that appear in the relevant triplets\n",
    "born_objects = born_subset[:,0]\n",
    "born_subjects = born_subset[:,2]\n",
    "lives_objects = lives_subset[:,0]\n",
    "lives_subjects = lives_subset[:,2]\n",
    "citizen_objects = citizen_subset[:,0]\n",
    "citizen_subjects = citizen_subset[:,2]\n",
    "\n",
    "# extract the objects that are common for wasBornIn, livesIn and isCitizenOf predicates\n",
    "born_lives_objects = np.intersect1d(born_objects, lives_objects)\n",
    "born_citizen_objects = np.intersect1d(born_objects, citizen_objects)\n",
    "lives_citizen_objects = np.intersect1d(lives_objects, citizen_objects)\n",
    "born_lives_citizen_objects_incomplete = np.intersect1d(born_lives_objects, born_citizen_objects)\n",
    "born_lives_citizen_objects = np.intersect1d(born_lives_citizen_objects_incomplete, lives_citizen_objects)\n",
    "\n",
    "# extract the subjects that are common for wasBornIn, livesIn and isCitizenOf predicates\n",
    "born_lives_subjects = np.intersect1d(born_subjects, lives_subjects)\n",
    "born_citizen_subjects = np.intersect1d(born_subjects, citizen_subjects)\n",
    "lives_citizen_subjects = np.intersect1d(lives_subjects, citizen_subjects)\n",
    "born_lives_citizen_subjects_incomplete = np.intersect1d(born_lives_subjects, born_citizen_subjects)\n",
    "born_lives_citizen_subjects = np.intersect1d(born_lives_citizen_subjects_incomplete, lives_citizen_subjects)\n",
    "\n",
    "# extract triplets that share objects and subjects across all the relevant predicates\n",
    "born_filtered = subset_by_strict_signature(born_subset, list(born_lives_citizen_objects), [], list(born_lives_citizen_subjects))\n",
    "lives_filtered = subset_by_strict_signature(lives_subset, list(born_lives_citizen_objects), [], list(born_lives_citizen_subjects))\n",
    "citizen_filtered = subset_by_strict_signature(citizen_subset, list(born_lives_citizen_objects), [], list(born_lives_citizen_subjects))\n",
    "\n",
    "# final dataset to be used to learn rule 3\n",
    "born_lives_citizen_dataset = np.concatenate((born_filtered, lives_filtered, citizen_filtered))\n",
    "born_lives_citizen_dataset"
   ]
  },
  {
   "cell_type": "markdown",
   "metadata": {},
   "source": [
    "No data that fulfills rule."
   ]
  },
  {
   "cell_type": "markdown",
   "metadata": {},
   "source": [
    "### **Rule 4**: (A, \"livesIn\", B) and (B, \"hasCapital\", C) --> (A, \"livesIn\", C)\n"
   ]
  },
  {
   "cell_type": "code",
   "execution_count": 15,
   "metadata": {},
   "outputs": [],
   "source": [
    "# extract triplets with relevant predicates for rule\n",
    "capital_subset = subset_by_signature(yago, [], [\"hasCapital\"], [])\n",
    "lives_subset = subset_by_signature(yago, [], [\"livesIn\"], [])\n",
    "\n",
    "# extract the objects and subjects that appear in the relevant triplets\n",
    "capital_subjects = capital_subset[:,2]\n",
    "lives_subjects = lives_subset[:,2]\n",
    "capital_objects = capital_subset[:,0]\n",
    "lives_objects = lives_subset[:,0]\n",
    "\n",
    "# extract objects that appear in a playsFor and hasGender triplet\n",
    "capital_and_lives_subjects = np.intersect1d(capital_subjects, lives_subjects)\n",
    "capital_objects_and_lives_subjects = np.intersect1d(capital_objects, lives_subjects)\n",
    "\n",
    "# extract triplets that have subjects as objects of other preicates or vice versa\n",
    "lives_with_capital_objects_as_subjects = subset_by_signature(lives_subset, [], [], list(capital_objects))\n",
    "capitals_with_lives_subjects_as_objects = subset_by_signature(capital_subset, list(lives_subjects), [], [])\n",
    "\n",
    "# find possible subjects and objects for a livesIn triplet that could be the consequent of a true example of the rule.\n",
    "A = lives_with_capital_objects_as_subjects[:,0]\n",
    "C = capitals_with_lives_subjects_as_objects[:,2]\n",
    "\n",
    "# true consequents of rule\n",
    "A_livesIn_C = subset_by_strict_signature(lives_subset, list(A), [], list(C))"
   ]
  },
  {
   "cell_type": "code",
   "execution_count": 16,
   "metadata": {},
   "outputs": [
    {
     "data": {
      "text/plain": [
       "1343"
      ]
     },
     "execution_count": 16,
     "metadata": {},
     "output_type": "execute_result"
    }
   ],
   "source": [
    "len(lives_with_capital_objects_as_subjects)"
   ]
  },
  {
   "cell_type": "code",
   "execution_count": 17,
   "metadata": {},
   "outputs": [
    {
     "data": {
      "text/plain": [
       "239"
      ]
     },
     "execution_count": 17,
     "metadata": {},
     "output_type": "execute_result"
    }
   ],
   "source": [
    "len(capitals_with_lives_subjects_as_objects)"
   ]
  },
  {
   "cell_type": "code",
   "execution_count": 19,
   "metadata": {},
   "outputs": [
    {
     "data": {
      "text/plain": [
       "0"
      ]
     },
     "execution_count": 19,
     "metadata": {},
     "output_type": "execute_result"
    }
   ],
   "source": [
    "len(A_livesIn_C)"
   ]
  },
  {
   "cell_type": "markdown",
   "metadata": {},
   "source": [
    "No true consequents of rule in dataset."
   ]
  },
  {
   "cell_type": "markdown",
   "metadata": {},
   "source": [
    "### **Rule 5**: (A, \"hasCapital\", B) and (C, \"isLeaderOf\" B) --> (C, \"isCitizenOf\", B)"
   ]
  },
  {
   "cell_type": "code",
   "execution_count": 21,
   "metadata": {},
   "outputs": [
    {
     "data": {
      "text/plain": [
       "array([['Straits_Settlements', 'hasCapital', 'Singapore'],\n",
       "       ['Lee_Hsien_Loong', 'isLeaderOf', 'Singapore'],\n",
       "       ['Tony_Tan', 'isLeaderOf', 'Singapore'],\n",
       "       ['Edwin_Thumboo', 'isCitizenOf', 'Singapore'],\n",
       "       ['Gong_Li', 'isCitizenOf', 'Singapore']], dtype=object)"
      ]
     },
     "execution_count": 21,
     "metadata": {},
     "output_type": "execute_result"
    }
   ],
   "source": [
    "# extract triplets with relevant predicates for rule\n",
    "capital_subset = subset_by_signature(yago, [], [\"hasCapital\"], [])\n",
    "leader_subset = subset_by_signature(yago, [], [\"isLeaderOf\"], [])\n",
    "citizen_subset = subset_by_signature(yago, [], [\"isCitizenOf\"], [])\n",
    "\n",
    "# extract the objects and subjects that appear in the relevant triplets\n",
    "capital_subjects = capital_subset[:,2]\n",
    "leader_subjects = leader_subset[:,2]\n",
    "leader_objects = leader_subset[:,0]\n",
    "citizen_objects = citizen_subset[:,0]\n",
    "citizen_subjects = citizen_subset[:,2]\n",
    "\n",
    "# extract the objects and subjects that appear in multiple of the relevant predicates\n",
    "capital_and_leader_subjects = np.intersect1d(capital_subjects, leader_subjects)\n",
    "citizen_and_leader_subjects = np.intersect1d(citizen_subjects, leader_subjects)\n",
    "citizen_and_leader_objects = np.intersect1d(citizen_objects, leader_objects)\n",
    "capital_citizen_and_leader_subjects = np.intersect1d(capital_and_leader_subjects, citizen_and_leader_subjects)\n",
    "\n",
    "# extract triplets that share subjects across all the relevant predicates\n",
    "capitals_with_leaders = subset_by_signature(capital_subset, [], [], list(capital_citizen_and_leader_subjects))\n",
    "leader_of_B_is_citizen_of_B = subset_by_signature(leader_subset, [], [], list(capital_citizen_and_leader_subjects))\n",
    "citizen_of_B_is_leader_of_B = subset_by_signature(citizen_subset, [], [], list(capital_citizen_and_leader_subjects))\n",
    "\n",
    "# final dataset to be used to learn the gendered players rule\n",
    "capital_leader_citizen_dataset = np.concatenate((capitals_with_leaders, leader_of_B_is_citizen_of_B, citizen_of_B_is_leader_of_B))\n",
    "capital_leader_citizen_dataset"
   ]
  },
  {
   "cell_type": "markdown",
   "metadata": {},
   "source": [
    "### **Rule 6**: (A, \"playsFor\", B) --> (A, \"gender\", \"male\")"
   ]
  },
  {
   "cell_type": "code",
   "execution_count": 22,
   "metadata": {},
   "outputs": [
    {
     "name": "stdout",
     "output_type": "stream",
     "text": [
      "Size of dataset that can be used to learn the rule: 334684\n",
      "[[40858 'male']\n",
      " [638 'female']]\n"
     ]
    }
   ],
   "source": [
    "playsFor_subset = subset_by_signature(yago, [], [\"playsFor\"], [])\n",
    "hasGender_subset = subset_by_signature(yago, [], [\"hasGender\"], [])\n",
    "playsFor_objects = playsFor_subset[:,0]\n",
    "hasGender_objects = hasGender_subset[:,0]\n",
    "\n",
    "# extract objects that appear in a playsFor and hasGender triplet\n",
    "playsFor_and_gender_objects = np.intersect1d(playsFor_objects, hasGender_objects)\n",
    "\n",
    "players_with_gender = subset_by_signature(playsFor_subset, list(playsFor_and_gender_objects), [], [])\n",
    "genders_that_are_players = subset_by_signature(hasGender_subset, list(playsFor_and_gender_objects), [], [])\n",
    "\n",
    "# final dataset to be used to learn the gendered players rule\n",
    "gendered_players = np.concatenate((players_with_gender, genders_that_are_players))\n",
    "print(\"Size of dataset that can be used to learn the rule:\", len(gendered_players))\n",
    "\n",
    "print(most_frequent_targets(genders_that_are_players, n = 2))"
   ]
  },
  {
   "cell_type": "code",
   "execution_count": 23,
   "metadata": {},
   "outputs": [
    {
     "data": {
      "text/plain": [
       "array([['female', '3641'],\n",
       "       ['male', '289547']], dtype='<U21')"
      ]
     },
     "execution_count": 23,
     "metadata": {},
     "output_type": "execute_result"
    }
   ],
   "source": [
    "genders = []\n",
    "for triplet in players_with_gender:\n",
    "    player = triplet[0]\n",
    "    genders.append(genders_that_are_players[genders_that_are_players[:,0]==player, :][0][2])\n",
    "\n",
    "unique, counts = np.unique(genders, return_counts=True)\n",
    "frequencies = np.asarray((unique, counts)).T\n",
    "frequencies"
   ]
  },
  {
   "cell_type": "markdown",
   "metadata": {},
   "source": [
    "99% of the datapoints support the rule, out of a dataset of size 334684."
   ]
  },
  {
   "cell_type": "markdown",
   "metadata": {},
   "source": [
    "Not enough data to support this rule. This dataset doesn't even contain a single example of three triplets that fulfill the rule."
   ]
  }
 ],
 "metadata": {
  "kernelspec": {
   "display_name": "Python 3",
   "language": "python",
   "name": "python3"
  },
  "language_info": {
   "codemirror_mode": {
    "name": "ipython",
    "version": 3
   },
   "file_extension": ".py",
   "mimetype": "text/x-python",
   "name": "python",
   "nbconvert_exporter": "python",
   "pygments_lexer": "ipython3",
   "version": "3.7.7"
  }
 },
 "nbformat": 4,
 "nbformat_minor": 4
}
