{
 "cells": [
  {
   "cell_type": "markdown",
   "metadata": {},
   "source": [
    "\n",
    "# Rule suggestions\n",
    "\n",
    "\n",
    "This notebook presents some possible rules that could be extacted, paired with their appropriate datasets.\n",
    "\n",
    "---\n",
    "### **Rule 1**: (A, \"parents\", B) and (A, \"parents\", C) and (B, \"gender\", \"male\") --> (C, \"gender\", \"female\")\n",
    "\"If some A has different parents B and C, and B is male, then C is female.\"\n",
    "\n",
    "\n",
    "**Dataset**: fb13\n",
    "\n",
    "This rule is somewhat homophobic, but I assume that the embedding will support it.\n",
    "\n",
    "\n",
    "---\n",
    "### **Rule 2**: (A, \"daughterOf\", B) and (B, \"motherOf\", C) --> (A, \"sisterOf\", C)\n",
    "\"If some A is the daughter of some B, and that B is a mother of C, then A is a sister of C.\"\n",
    "\n",
    "**Dataset**: kinship\n",
    "\n",
    "***Problem***: dataset is synthetic and quite small.\n",
    "\n",
    "---\n",
    "### **Rule 3**: (A, \"wasBornIn\", B) and (A, \"livesIn\", B) --> (A, \"isCitizenOf\", B)\n",
    "\"If some A was born in B and lives in B, then they are a citizen of B.\"\n",
    "\n",
    "***Problem***: no data that fulfills rule.\n",
    "\n",
    "**Dataset**: yago3_10\n",
    "\n",
    "---\n",
    "### **Rule 4**: (A, \"livesIn\", B) and (B, \"hasCapital\", C) --> (A, \"livesIn\", C)\n",
    "\"If some A lives in B, which is the capital of C, then A lives in C.\"\n",
    "\n",
    "***Problem***: no data that fulfills rule. There are no true consequents of the rule in the dataset. SO if we have two tr\n",
    "\n",
    "**Dataset**: yago3_10\n",
    "\n",
    "---\n",
    "### **Rule 5**: (A, \"hasCapital\", B) and (C, \"isLeaderOf\" B) --> (C, \"isCitizenOf\", B)\n",
    "\"If A is the capitol of B and C is the leader of B, then C is a citizen of B.\" (You cannot be a leader of a country without being a citizen of that country.)\n",
    "\n",
    "***Problematic***: B is not nessecarily a country in this dataset. Could have written (B \"hasCurrency\" A), but then we encounter the same problem.\n",
    "\n",
    "**Dataset**: yago3_10\n",
    "\n",
    "\n",
    "---\n",
    "### **Rule 6**: (A, \"playsFor\", B) --> (A, \"gender\", \"male\")\n",
    "\"If A plays for B, then A is a male.\"\n",
    "\n",
    "This is an odd rule which is supported by the yago3_10 dataset. There are 334684 triplets that can be used to train the rule. 99% of the data is of players that are men, so the rule could be learnt from this dataset.\n",
    "\n",
    "\n",
    "**Dataset**: yago3_10"
   ]
  },
  {
   "cell_type": "code",
   "execution_count": 8,
   "metadata": {},
   "outputs": [],
   "source": [
    "import numpy as np\n",
    "import ampligraph\n",
    "import tensorflow as tf\n",
    "from ampligraph.datasets import load_yago3_10\n",
    "from ampligraph.evaluation import evaluate_performance\n",
    "from ampligraph.evaluation import train_test_split_no_unseen \n",
    "from ampligraph.evaluation import mr_score, mrr_score, hits_at_n_score\n",
    "from ampligraph.latent_features import save_model\n",
    "from signature_tools import subset_by_signature, subset_by_strict_signature, subset_by_frequency, most_frequent_objects, most_frequent_predicates, most_frequent_targets"
   ]
  },
  {
   "cell_type": "markdown",
   "metadata": {},
   "source": [
    "## Yago3_10"
   ]
  },
  {
   "cell_type": "code",
   "execution_count": 2,
   "metadata": {},
   "outputs": [],
   "source": [
    "yago = load_yago3_10()\n",
    "yago = np.concatenate([yago['train'], yago['valid'], yago['test']]) # combine the split data"
   ]
  },
  {
   "cell_type": "code",
   "execution_count": 3,
   "metadata": {},
   "outputs": [
    {
     "data": {
      "text/plain": [
       "array([[264, 'Frankfurt_Airport'],\n",
       "       [259, 'Amsterdam_Airport_Schiphol']], dtype=object)"
      ]
     },
     "execution_count": 3,
     "metadata": {},
     "output_type": "execute_result"
    }
   ],
   "source": [
    "most_frequent_objects(yago, n = 2)"
   ]
  },
  {
   "cell_type": "code",
   "execution_count": 4,
   "metadata": {},
   "outputs": [
    {
     "data": {
      "text/plain": [
       "array([[377143, 'isAffiliatedTo'],\n",
       "       [324048, 'playsFor'],\n",
       "       [89495, 'isLocatedIn'],\n",
       "       [66764, 'hasGender'],\n",
       "       [45410, 'wasBornIn'],\n",
       "       [32479, 'actedIn'],\n",
       "       [32338, 'isConnectedTo'],\n",
       "       [24277, 'hasWonPrize'],\n",
       "       [10801, 'influences'],\n",
       "       [9340, 'diedIn'],\n",
       "       [7827, 'hasMusicalRole'],\n",
       "       [7432, 'graduatedFrom'],\n",
       "       [7006, 'created'],\n",
       "       [6102, 'wroteMusicFor'],\n",
       "       [5530, 'directed'],\n",
       "       [5190, 'participatedIn'],\n",
       "       [5111, 'hasChild'],\n",
       "       [5099, 'happenedIn'],\n",
       "       [3795, 'isMarriedTo'],\n",
       "       [3482, 'isCitizenOf'],\n",
       "       [3419, 'worksAt'],\n",
       "       [3114, 'edited'],\n",
       "       [3011, 'livesIn'],\n",
       "       [2587, 'hasCapital'],\n",
       "       [2186, 'isPoliticianOf'],\n",
       "       [1320, 'dealsWith'],\n",
       "       [966, 'isLeaderOf'],\n",
       "       [921, 'hasAcademicAdvisor'],\n",
       "       [733, 'owns'],\n",
       "       [558, 'hasNeighbor']], dtype=object)"
      ]
     },
     "execution_count": 4,
     "metadata": {},
     "output_type": "execute_result"
    }
   ],
   "source": [
    "most_frequent_predicates(yago, n =30)"
   ]
  },
  {
   "cell_type": "code",
   "execution_count": 5,
   "metadata": {},
   "outputs": [
    {
     "data": {
      "text/plain": [
       "array([[61599, 'male'],\n",
       "       [12309, 'United_States']], dtype=object)"
      ]
     },
     "execution_count": 5,
     "metadata": {},
     "output_type": "execute_result"
    }
   ],
   "source": [
    "most_frequent_targets(yago, n = 2)"
   ]
  },
  {
   "cell_type": "markdown",
   "metadata": {},
   "source": [
    "### **Rule 3**: (A, \"wasBornIn\", B) and (A, \"livesIn\", B) --> (A, \"isCitizenOf\", B)"
   ]
  },
  {
   "cell_type": "code",
   "execution_count": 10,
   "metadata": {},
   "outputs": [
    {
     "data": {
      "text/plain": [
       "array([], shape=(0, 3), dtype=object)"
      ]
     },
     "execution_count": 10,
     "metadata": {},
     "output_type": "execute_result"
    }
   ],
   "source": [
    "# extract triplets with relevant predicates for rule\n",
    "born_subset = subset_by_signature(yago, [], [\"wasBornIn\"], [])\n",
    "lives_subset = subset_by_signature(yago, [], [\"livesIn\"], [])\n",
    "citizen_subset = subset_by_signature(yago, [], [\"isCitizenOf\"], [])\n",
    "\n",
    "# extract the objects and subjects that appear in the relevant triplets\n",
    "born_objects = born_subset[:,0]\n",
    "born_subjects = born_subset[:,2]\n",
    "lives_objects = lives_subset[:,0]\n",
    "lives_subjects = lives_subset[:,2]\n",
    "citizen_objects = citizen_subset[:,0]\n",
    "citizen_subjects = citizen_subset[:,2]\n",
    "\n",
    "# extract the objects that are common for wasBornIn, livesIn and isCitizenOf predicates\n",
    "born_lives_objects = np.intersect1d(born_objects, lives_objects)\n",
    "born_citizen_objects = np.intersect1d(born_objects, citizen_objects)\n",
    "lives_citizen_objects = np.intersect1d(lives_objects, citizen_objects)\n",
    "born_lives_citizen_objects_incomplete = np.intersect1d(born_lives_objects, born_citizen_objects)\n",
    "born_lives_citizen_objects = np.intersect1d(born_lives_citizen_objects_incomplete, lives_citizen_objects)\n",
    "\n",
    "# extract the subjects that are common for wasBornIn, livesIn and isCitizenOf predicates\n",
    "born_lives_subjects = np.intersect1d(born_subjects, lives_subjects)\n",
    "born_citizen_subjects = np.intersect1d(born_subjects, citizen_subjects)\n",
    "lives_citizen_subjects = np.intersect1d(lives_subjects, citizen_subjects)\n",
    "born_lives_citizen_subjects_incomplete = np.intersect1d(born_lives_subjects, born_citizen_subjects)\n",
    "born_lives_citizen_subjects = np.intersect1d(born_lives_citizen_subjects_incomplete, lives_citizen_subjects)\n",
    "\n",
    "# extract triplets that share objects and subjects across all the relevant predicates\n",
    "born_filtered = subset_by_strict_signature(born_subset, list(born_lives_citizen_objects), [], list(born_lives_citizen_subjects))\n",
    "lives_filtered = subset_by_strict_signature(lives_subset, list(born_lives_citizen_objects), [], list(born_lives_citizen_subjects))\n",
    "citizen_filtered = subset_by_strict_signature(citizen_subset, list(born_lives_citizen_objects), [], list(born_lives_citizen_subjects))\n",
    "\n",
    "# final dataset to be used to learn rule 3\n",
    "born_lives_citizen_dataset = np.concatenate((born_filtered, lives_filtered, citizen_filtered))\n",
    "born_lives_citizen_dataset"
   ]
  },
  {
   "cell_type": "markdown",
   "metadata": {},
   "source": [
    "No data that fulfills rule."
   ]
  },
  {
   "cell_type": "markdown",
   "metadata": {},
   "source": [
    "### **Rule 4**: (A, \"livesIn\", B) and (B, \"hasCapital\", C) --> (A, \"livesIn\", C)\n"
   ]
  },
  {
   "cell_type": "code",
   "execution_count": 15,
   "metadata": {},
   "outputs": [],
   "source": [
    "# extract triplets with relevant predicates for rule\n",
    "capital_subset = subset_by_signature(yago, [], [\"hasCapital\"], [])\n",
    "lives_subset = subset_by_signature(yago, [], [\"livesIn\"], [])\n",
    "\n",
    "# extract the objects and subjects that appear in the relevant triplets\n",
    "capital_subjects = capital_subset[:,2]\n",
    "lives_subjects = lives_subset[:,2]\n",
    "capital_objects = capital_subset[:,0]\n",
    "lives_objects = lives_subset[:,0]\n",
    "\n",
    "# extract objects that appear in a playsFor and hasGender triplet\n",
    "capital_and_lives_subjects = np.intersect1d(capital_subjects, lives_subjects)\n",
    "capital_objects_and_lives_subjects = np.intersect1d(capital_objects, lives_subjects)\n",
    "\n",
    "# extract triplets that have subjects as objects of other preicates or vice versa\n",
    "lives_with_capital_objects_as_subjects = subset_by_signature(lives_subset, [], [], list(capital_objects))\n",
    "capitals_with_lives_subjects_as_objects = subset_by_signature(capital_subset, list(lives_subjects), [], [])\n",
    "\n",
    "# find possible subjects and objects for a livesIn triplet that could be the consequent of a true example of the rule.\n",
    "A = lives_with_capital_objects_as_subjects[:,0]\n",
    "C = capitals_with_lives_subjects_as_objects[:,2]\n",
    "\n",
    "# true consequents of rule\n",
    "A_livesIn_C = subset_by_strict_signature(lives_subset, list(A), [], list(C))"
   ]
  },
  {
   "cell_type": "code",
   "execution_count": 16,
   "metadata": {},
   "outputs": [
    {
     "data": {
      "text/plain": [
       "1343"
      ]
     },
     "execution_count": 16,
     "metadata": {},
     "output_type": "execute_result"
    }
   ],
   "source": [
    "len(lives_with_capital_objects_as_subjects)"
   ]
  },
  {
   "cell_type": "code",
   "execution_count": 17,
   "metadata": {},
   "outputs": [
    {
     "data": {
      "text/plain": [
       "239"
      ]
     },
     "execution_count": 17,
     "metadata": {},
     "output_type": "execute_result"
    }
   ],
   "source": [
    "len(capitals_with_lives_subjects_as_objects)"
   ]
  },
  {
   "cell_type": "code",
   "execution_count": 19,
   "metadata": {},
   "outputs": [
    {
     "data": {
      "text/plain": [
       "0"
      ]
     },
     "execution_count": 19,
     "metadata": {},
     "output_type": "execute_result"
    }
   ],
   "source": [
    "len(A_livesIn_C)"
   ]
  },
  {
   "cell_type": "markdown",
   "metadata": {},
   "source": [
    "No true consequents of rule in dataset."
   ]
  },
  {
   "cell_type": "markdown",
   "metadata": {},
   "source": [
    "### **Rule 5**: (A, \"hasCapital\", B) and (C, \"isLeaderOf\" B) --> (C, \"isCitizenOf\", B)"
   ]
  },
  {
   "cell_type": "code",
   "execution_count": null,
   "metadata": {},
   "outputs": [],
   "source": [
    "# extract triplets with relevant predicates for rule\n",
    "capital_subset = subset_by_signature(yago, [], [\"hasCapital\"], [])\n",
    "leader_subset = subset_by_signature(yago, [], [\"isLeaderOf\"], [])\n",
    "citizen_subset = subset_by_signature(yago, [], [\"isCitizenOf\"], [])\n",
    "\n",
    "# extract the objects and subjects that appear in the relevant triplets\n",
    "capital_subjects = capital_subset[:,2]\n",
    "leader_subjects = leader_subset[:,2]\n",
    "leader_objects = leader_subset[:,0]\n",
    "citizen_objects = citizen_subset[:,0]\n",
    "citizen_subjects = citizen_subset[:,2]\n",
    "\n",
    "# extract the objects and subjects that appear in multiple of the relevant predicates\n",
    "capital_and_leader_subjects = np.intersect1d(capital_subjects, leader_subjects)\n",
    "citizen_and_leader_subjects = np.intersect1d(citizen_subjects, leader_subjects)\n",
    "citizen_and_leader_objects = np.intersect1d(citizen_objects, leader_objects)\n",
    "capital_citizen_and_leader_subjects = np.intersect1d(capital_and_leader_subjects, citizen_and_leader_subjects)\n",
    "\n",
    "# extract triplets that share subjects across all the relevant predicates\n",
    "capitals_with_leaders = subset_by_signature(capital_subset, [], [], list(capital_citizen_and_leader_subjects))\n",
    "leader_of_B_is_citizen_of_B = subset_by_signature(leader_subset, [], [], list(capital_citizen_and_leader_subjects))\n",
    "citizen_of_B_is_leader_of_B = subset_by_signature(citizen_subset, [], [], list(capital_citizen_and_leader_subjects))\n",
    "\n",
    "# final dataset to be used to learn the gendered players rule\n",
    "capital_leader_citizen_dataset = np.concatenate((capitals_with_leaders, leader_of_B_is_citizen_of_B, citizen_of_B_is_leader_of_B))\n",
    "capital_leader_citizen_dataset"
   ]
  },
  {
   "cell_type": "markdown",
   "metadata": {},
   "source": [
    "### **Rule 6**: (A, \"playsFor\", B) --> (A, \"gender\", \"male\")"
   ]
  },
  {
   "cell_type": "code",
   "execution_count": null,
   "metadata": {},
   "outputs": [],
   "source": [
    "playsFor_subset = subset_by_signature(yago, [], [\"playsFor\"], [])\n",
    "hasGender_subset = subset_by_signature(yago, [], [\"hasGender\"], [])\n",
    "playsFor_objects = playsFor_subset[:,0]\n",
    "hasGender_objects = hasGender_subset[:,0]\n",
    "\n",
    "# extract objects that appear in a playsFor and hasGender triplet\n",
    "playsFor_and_gender_objects = np.intersect1d(playsFor_objects, hasGender_objects)\n",
    "\n",
    "players_with_gender = subset_by_signature(playsFor_subset, list(playsFor_and_gender_objects), [], [])\n",
    "genders_that_are_players = subset_by_signature(hasGender_subset, list(playsFor_and_gender_objects), [], [])\n",
    "\n",
    "# final dataset to be used to learn the gendered players rule\n",
    "gendered_players = np.concatenate((players_with_gender, genders_that_are_players))\n",
    "print(\"Size of dataset that can be used to learn the rule:\", len(gendered_players))\n",
    "\n",
    "print(most_frequent_targets(genders_that_are_players, n = 2))"
   ]
  },
  {
   "cell_type": "code",
   "execution_count": null,
   "metadata": {},
   "outputs": [],
   "source": [
    "genders = []\n",
    "for triplet in players_with_gender:\n",
    "    player = triplet[0]\n",
    "    genders.append(genders_that_are_players[genders_that_are_players[:,0]==player, :][0][2])\n",
    "\n",
    "unique, counts = np.unique(genders, return_counts=True)\n",
    "frequencies = np.asarray((unique, counts)).T\n",
    "frequencies"
   ]
  },
  {
   "cell_type": "markdown",
   "metadata": {},
   "source": [
    "99% of the datapoints support the rule, out of a dataset of size 334684."
   ]
  },
  {
   "cell_type": "markdown",
   "metadata": {},
   "source": [
    "Not enough data to support this rule. This dataset doesn't even contain a single example of three triplets that fulfill the rule."
   ]
  },
  {
   "cell_type": "code",
   "execution_count": null,
   "metadata": {},
   "outputs": [],
   "source": []
  },
  {
   "cell_type": "markdown",
   "metadata": {},
   "source": [
    "# 2. Defining train and test datasets"
   ]
  },
  {
   "cell_type": "markdown",
   "metadata": {},
   "source": [
    "As is typical in machine learning, we need to split our dataset into training and test (and sometimes validation) datasets. \n",
    "\n",
    "What differs from the standard method of randomly sampling N points to make up our test set, is that our data points are two entities linked by some relationship, and we need to take care to ensure that all entities are represented in train and test sets by at least one triple. \n",
    "\n",
    "To accomplish this, AmpliGraph provides the [`train_test_split_no_unseen`](https://docs.ampligraph.org/en/latest/generated/ampligraph.evaluation.train_test_split_no_unseen.html#train-test-split-no-unseen) function.  \n",
    "\n",
    "For sake of example, we will create a small test size that includes only 100 triples:"
   ]
  },
  {
   "cell_type": "code",
   "execution_count": null,
   "metadata": {},
   "outputs": [],
   "source": [
    "from ampligraph.evaluation import train_test_split_no_unseen \n",
    "\n",
    "X_train, X_test = train_test_split_no_unseen(subset, test_size=100) "
   ]
  },
  {
   "cell_type": "markdown",
   "metadata": {},
   "source": [
    "Our data is now split into train/test sets. If we need to further divide into a validation dataset we can just repeat using the same procedure on the test set (and adjusting the split percentages). "
   ]
  },
  {
   "cell_type": "code",
   "execution_count": null,
   "metadata": {},
   "outputs": [],
   "source": [
    "print('Train set size: ', X_train.shape)\n",
    "print('Test set size: ', X_test.shape)"
   ]
  },
  {
   "cell_type": "code",
   "execution_count": null,
   "metadata": {},
   "outputs": [],
   "source": [
    "[\"Trondheim_Airport\", \"hasGender\", \"Brisbane_Airport\"] in subset"
   ]
  },
  {
   "cell_type": "markdown",
   "metadata": {},
   "source": [
    "---\n",
    "# 3. Training a model \n",
    "\n",
    "AmpliGraph has implemented [several Knoweldge Graph Embedding models](https://docs.ampligraph.org/en/latest/ampligraph.latent_features.html#knowledge-graph-embedding-models) (TransE, ComplEx, DistMult, HolE), but to begin with we're just going to use the [ComplEx](https://docs.ampligraph.org/en/latest/generated/ampligraph.latent_features.ComplEx.html#ampligraph.latent_features.ComplEx) model (with  default values), so lets import that:"
   ]
  },
  {
   "cell_type": "code",
   "execution_count": null,
   "metadata": {},
   "outputs": [],
   "source": [
    "from ampligraph.latent_features import ComplEx"
   ]
  },
  {
   "cell_type": "markdown",
   "metadata": {},
   "source": [
    "Lets go through the parameters to understand what's going on:\n",
    "\n",
    "- **`k`** : the dimensionality of the embedding space\n",
    "- **`eta`** ($\\eta$) : the number of negative, or false triples that must be generated at training runtime for each positive, or true triple\n",
    "- **`batches_count`** : the number of batches in which the training set is split during the training loop. If you are having into low memory issues than settings this to a higher number may help.\n",
    "- **`epochs`** : the number of epochs to train the model for.\n",
    "- **`optimizer`** : the Adam optimizer, with a learning rate of 1e-3 set via the *optimizer_params* kwarg.\n",
    "- **`loss`** : pairwise loss, with a margin of 0.5 set via the *loss_params* kwarg.\n",
    "- **`regularizer`** : $L_p$ regularization with $p=2$, i.e. l2 regularization. $\\lambda$ = 1e-5, set via the *regularizer_params* kwarg. \n",
    "\n",
    "Now we can instantiate the model:\n"
   ]
  },
  {
   "cell_type": "code",
   "execution_count": null,
   "metadata": {},
   "outputs": [],
   "source": [
    "model = ComplEx(batches_count=100, \n",
    "                seed=0, \n",
    "                epochs=200, \n",
    "                k=150, \n",
    "                eta=5,\n",
    "                optimizer='adam', \n",
    "                optimizer_params={'lr':1e-3},\n",
    "                loss='multiclass_nll', \n",
    "                regularizer='LP', \n",
    "                regularizer_params={'p':3, 'lambda':1e-5}, \n",
    "                verbose=True)"
   ]
  },
  {
   "cell_type": "markdown",
   "metadata": {},
   "source": [
    "## Filtering negatives\n",
    "\n",
    "AmpliGraph aims to follow scikit-learn's ease-of-use design philosophy and simplify everything down to **`fit`**, **`evaluate`**, and **`predict`** functions. \n",
    "\n",
    "However, there are some knowledge graph specific steps we must take to ensure our model can be trained and evaluated correctly. The first of these is defining the filter that will be used to ensure that no *negative* statements generated by the corruption procedure are actually positives. This is simply done by concatenating our train and test sets. Now when negative triples are generated by the corruption strategy, we can check that they aren't actually true statements.  \n"
   ]
  },
  {
   "cell_type": "code",
   "execution_count": null,
   "metadata": {},
   "outputs": [],
   "source": [
    "positives_filter = subset"
   ]
  },
  {
   "cell_type": "markdown",
   "metadata": {},
   "source": [
    "## Fitting the model\n",
    "\n",
    "Once you run the next cell the model will train. \n",
    "\n",
    "On a modern laptop this should take ~3 minutes (although your mileage may vary, especially if you've changed any of the hyper-parameters above)."
   ]
  },
  {
   "cell_type": "code",
   "execution_count": null,
   "metadata": {},
   "outputs": [],
   "source": [
    "tf.logging.set_verbosity(tf.logging.ERROR)\n",
    "\n",
    "model.fit(X_train, early_stopping = False)"
   ]
  },
  {
   "cell_type": "markdown",
   "metadata": {},
   "source": [
    "---\n",
    "# 5.  Saving and restoring a model\n",
    "\n",
    "Before we go any further, let's save the best model found so that we can restore it in future."
   ]
  },
  {
   "cell_type": "code",
   "execution_count": null,
   "metadata": {},
   "outputs": [],
   "source": [
    "from ampligraph.latent_features import save_model"
   ]
  },
  {
   "cell_type": "code",
   "execution_count": null,
   "metadata": {},
   "outputs": [],
   "source": [
    "save_model(model, './airports_subset.pkl')"
   ]
  },
  {
   "cell_type": "markdown",
   "metadata": {},
   "source": [
    "This will save the model in the ampligraph_tutorial directory as `best_model.pkl`."
   ]
  },
  {
   "cell_type": "markdown",
   "metadata": {},
   "source": [
    ".. we can then delete the model .. "
   ]
  },
  {
   "cell_type": "code",
   "execution_count": null,
   "metadata": {},
   "outputs": [],
   "source": [
    "#del model"
   ]
  },
  {
   "cell_type": "markdown",
   "metadata": {},
   "source": [
    ".. and then restore it from disk! Ta-da! "
   ]
  },
  {
   "cell_type": "code",
   "execution_count": null,
   "metadata": {},
   "outputs": [],
   "source": [
    "#model = restore_model('./connectedTo_subset.pkl')"
   ]
  },
  {
   "cell_type": "markdown",
   "metadata": {},
   "source": [
    "And let's just double check that the model we restored has been fit:"
   ]
  },
  {
   "cell_type": "code",
   "execution_count": null,
   "metadata": {},
   "outputs": [],
   "source": [
    "if model.is_fitted:\n",
    "    print('The model is fit!')\n",
    "else:\n",
    "    print('The model is not fit! Did you skip a step?')"
   ]
  },
  {
   "cell_type": "markdown",
   "metadata": {},
   "source": [
    "## Running evaluation"
   ]
  },
  {
   "cell_type": "code",
   "execution_count": null,
   "metadata": {},
   "outputs": [],
   "source": [
    "ranks = evaluate_performance(X_test, \n",
    "                             model=model, \n",
    "                             filter_triples=positives_filter,   # Corruption strategy filter defined above \n",
    "                             use_default_protocol=True, # corrupt subj and obj separately while evaluating\n",
    "                             verbose=True)"
   ]
  },
  {
   "cell_type": "markdown",
   "metadata": {},
   "source": [
    "\n",
    "The ***ranks*** returned by the evaluate_performance function indicate the rank at which the test set triple was found when performing link prediction using the model. \n",
    "\n",
    "For example, given the triple:\n",
    "\n",
    "    <House Stark of Winterfell, IN_REGION The North>\n",
    "    \n",
    "The model returns a rank of 7. This tells us that while it's not the highest likelihood true statement (which would be given a rank 1), it's pretty likely.\n"
   ]
  },
  {
   "cell_type": "markdown",
   "metadata": {},
   "source": [
    "## Metrics"
   ]
  },
  {
   "cell_type": "markdown",
   "metadata": {},
   "source": [
    "Let's compute some evaluate metrics and print them out.\n",
    "\n",
    "We're going to use the mrr_score (mean reciprocal rank) and hits_at_n_score functions. \n",
    "\n",
    "- ***mrr_score***:  The function computes the mean of the reciprocal of elements of a vector of rankings ranks.\n",
    "- ***hits_at_n_score***: The function computes how many elements of a vector of rankings ranks make it to the top n positions.\n"
   ]
  },
  {
   "cell_type": "code",
   "execution_count": null,
   "metadata": {},
   "outputs": [],
   "source": [
    "mrr = mrr_score(ranks)\n",
    "print(\"MRR: %.2f\" % (mrr))\n",
    "\n",
    "hits_10 = hits_at_n_score(ranks, n=10)\n",
    "print(\"Hits@10: %.2f\" % (hits_10))\n",
    "hits_3 = hits_at_n_score(ranks, n=3)\n",
    "print(\"Hits@3: %.2f\" % (hits_3))\n",
    "hits_1 = hits_at_n_score(ranks, n=1)\n",
    "print(\"Hits@1: %.2f\" % (hits_1))"
   ]
  },
  {
   "cell_type": "markdown",
   "metadata": {},
   "source": [
    "Now, how do we interpret those numbers? \n",
    "\n",
    "[Hits@N](http://docs.ampligraph.org/en/1.0.3/generated/ampligraph.evaluation.hits_at_n_score.html#ampligraph.evaluation.hits_at_n_score) indicates how many times in average a true triple was ranked in the top-N. Therefore, on average, we guessed the correct subject or object 53% of the time when considering the top-3 better ranked triples. The choice of which N makes more sense depends on the application.\n",
    "\n",
    "The [Mean Reciprocal Rank (MRR)](http://docs.ampligraph.org/en/latest/generated/ampligraph.evaluation.mrr_score.html) is another popular metrics to assess the predictive power of a model."
   ]
  }
 ],
 "metadata": {
  "kernelspec": {
   "display_name": "Python 3",
   "language": "python",
   "name": "python3"
  },
  "language_info": {
   "codemirror_mode": {
    "name": "ipython",
    "version": 3
   },
   "file_extension": ".py",
   "mimetype": "text/x-python",
   "name": "python",
   "nbconvert_exporter": "python",
   "pygments_lexer": "ipython3",
   "version": "3.7.7"
  }
 },
 "nbformat": 4,
 "nbformat_minor": 4
}
