{
 "cells": [
  {
   "cell_type": "markdown",
   "id": "2fa158dc-f09a-4d09-9c3e-6c92ba1368cf",
   "metadata": {},
   "source": [
    "# Candidate admittance testing\n",
    "\n",
    "Test how the ranking and admittance of candidates is affected by the models that rank candidates and the admittance criteria.\n",
    "\n",
    "\n",
    "- Compare selection of top 1% candidates by RandomBaseline ranking with random selection of 1% of candidates.\n",
    "- Compare ranking by ComplEx with ranking of Randombaseline.\n"
   ]
  },
  {
   "cell_type": "code",
   "execution_count": 1,
   "id": "cd3e406f-4103-4b08-a36f-e0a3eaa8b23f",
   "metadata": {},
   "outputs": [
    {
     "name": "stdout",
     "output_type": "stream",
     "text": [
      "WARNING - All triples will be processed in the same batch (batches_count=1). When processing large graphs it is recommended to batch the input knowledge graph instead.\n"
     ]
    }
   ],
   "source": [
    "import models\n",
    "import numpy as np\n",
    "import pandas as pd\n",
    "import config\n",
    "from candidate_ranking import rank_candidates, admit_candidates\n",
    "from kb_extension import extend_kb\n",
    "from candidate_generation import generate_candidate_triples\n",
    "\n",
    "import matplotlib.pyplot as plt\n",
    "import seaborn as sns\n",
    "\n",
    "# file imports\n",
    "#original_kb = np.loadtxt(\"family_subset.txt\", dtype = 'object')"
   ]
  },
  {
   "cell_type": "code",
   "execution_count": 3,
   "id": "2f7c5c8d-e988-4cc0-ad84-2af81a9fec95",
   "metadata": {},
   "outputs": [],
   "source": [
    "kb_extensions = pd.read_pickle(\"./kb_extensions.pkl\")"
   ]
  },
  {
   "cell_type": "code",
   "execution_count": 9,
   "id": "bde8fc37-399d-415d-be18-cb387e620798",
   "metadata": {},
   "outputs": [],
   "source": [
    "parameter_combinations = pd.read_pickle(\"./parameter_combinations.pkl\")"
   ]
  },
  {
   "cell_type": "code",
   "execution_count": 12,
   "id": "1c14aed1-10f7-4f02-afd6-3397abd64e60",
   "metadata": {},
   "outputs": [],
   "source": [
    "# add extensions to parameter combination dataframe\n",
    "parameter_combinations[\"kb_extension\"] = kb_extensions"
   ]
  },
  {
   "cell_type": "code",
   "execution_count": 73,
   "id": "c111c436-0f0b-4adc-9e9e-abb967bd204f",
   "metadata": {},
   "outputs": [
    {
     "name": "stdout",
     "output_type": "stream",
     "text": [
      "Number of common rank 1 candidates: 0\n"
     ]
    }
   ],
   "source": [
    "complEx_rank_1 = parameter_combinations.loc[(parameter_combinations.Model == 'ComplEx') & (parameter_combinations.Entity_selection == 'probabilistic') & (parameter_combinations.Candidate_criteria == ('rank_cutoff',1))]\n",
    "randomBaseline_rank_1 = parameter_combinations.loc[(parameter_combinations.Model == 'RandomBaseline') & (parameter_combinations.Entity_selection == 'probabilistic') & (parameter_combinations.Candidate_criteria == ('rank_cutoff',1))]\n",
    "\n",
    "complEx_rank_1_extension = complEx_rank_1.iloc[0].kb_extension\n",
    "randomBaseline_rank_1_extension = randomBaseline_rank_1.iloc[0].kb_extension\n",
    "\n",
    "common_rank_1_candidates = pd.DataFrame(complEx_rank_1_extension).merge(pd.DataFrame(randomBaseline_rank_1_extension), \"inner\")\n",
    "\n",
    "print(\"Number of common rank 1 candidates:\", len(common_rank_1_candidates))"
   ]
  },
  {
   "cell_type": "code",
   "execution_count": 76,
   "id": "fdcb7d06-6023-47ba-8288-1b9b7e293ad6",
   "metadata": {},
   "outputs": [
    {
     "name": "stdout",
     "output_type": "stream",
     "text": [
      "Number of common rank 4 candidates: 1\n"
     ]
    }
   ],
   "source": [
    "complEx_rank_4 = parameter_combinations.loc[(parameter_combinations.Model == 'ComplEx') & (parameter_combinations.Entity_selection == 'probabilistic') & (parameter_combinations.Candidate_criteria == ('rank_cutoff',4))]\n",
    "randomBaseline_rank_4 = parameter_combinations.loc[(parameter_combinations.Model == 'RandomBaseline') & (parameter_combinations.Entity_selection == 'probabilistic') & (parameter_combinations.Candidate_criteria == ('rank_cutoff',4))]\n",
    "\n",
    "complEx_rank_4_extension = complEx_rank_4.iloc[0].kb_extension\n",
    "randomBaseline_rank_4_extension = randomBaseline_rank_4.iloc[0].kb_extension\n",
    "\n",
    "common_rank_4_candidates = pd.DataFrame(complEx_rank_4_extension).merge(pd.DataFrame(randomBaseline_rank_4_extension), \"inner\")\n",
    "\n",
    "print(\"Number of common rank 4 candidates:\", len(common_rank_4_candidates))"
   ]
  },
  {
   "cell_type": "code",
   "execution_count": 75,
   "id": "ed6f76c1-f9c0-4cfc-afa9-602d4e4f75a9",
   "metadata": {},
   "outputs": [
    {
     "name": "stdout",
     "output_type": "stream",
     "text": [
      "WARNING - No artists with labels found to put in legend.  Note that artists whose label start with an underscore are ignored when legend() is called with no argument.\n"
     ]
    },
    {
     "data": {
      "text/plain": [
       "<matplotlib.legend.Legend at 0x7f47943c7c90>"
      ]
     },
     "execution_count": 75,
     "metadata": {},
     "output_type": "execute_result"
    },
    {
     "data": {
      "image/png": "[encoded data removed]",
      "text/plain": [
       "<Figure size 800x600 with 1 Axes>"
      ]
     },
     "metadata": {},
     "output_type": "display_data"
    }
   ],
   "source": [
    "plt.subplots(figsize=(8,6), dpi=100)\n",
    "ax = sns.boxplot(x=\"Model\", y=\"Extension\", data=extension_sizes)\n",
    "#plt.axhline(original_rules_median_PCA, color=\"black\", label=\"Median original rules\", linestyle=\"--\")\n",
    "plt.legend()"
   ]
  },
  {
   "cell_type": "code",
   "execution_count": 12,
   "id": "adb174f8-2289-45d8-a877-0cbd54f88563",
   "metadata": {},
   "outputs": [
    {
     "name": "stderr",
     "output_type": "stream",
     "text": [
      "/Home/siv30/fak006/miniconda/envs/ampligraph/lib/python3.7/site-packages/ampligraph/latent_features/models/EmbeddingModel.py:1329: FutureWarning: elementwise comparison failed; returning scalar instead, but in the future will perform elementwise comparison\n",
      "  if corruption_entities == 'all':\n",
      "100%|██████████| 60000/60000 [00:35<00:00, 1667.52it/s]\n"
     ]
    },
    {
     "ename": "NameError",
     "evalue": "name 'model' is not defined",
     "output_type": "error",
     "traceback": [
      "\u001b[0;31m---------------------------------------------------------------------------\u001b[0m",
      "\u001b[0;31mNameError\u001b[0m                                 Traceback (most recent call last)",
      "\u001b[0;32m<ipython-input-12-e6b7c9bdaaa6>\u001b[0m in \u001b[0;36m<module>\u001b[0;34m\u001b[0m\n\u001b[1;32m      1\u001b[0m \u001b[0mextended_kb\u001b[0m\u001b[0;34m,\u001b[0m \u001b[0madmitted_candidates\u001b[0m \u001b[0;34m=\u001b[0m \u001b[0mextend_kb\u001b[0m\u001b[0;34m(\u001b[0m\u001b[0moriginal_kb\u001b[0m\u001b[0;34m,\u001b[0m \u001b[0mmodels\u001b[0m\u001b[0;34m.\u001b[0m\u001b[0mcomplEx\u001b[0m\u001b[0;34m,\u001b[0m \u001b[0;34m\"probabilistic\"\u001b[0m\u001b[0;34m,\u001b[0m \u001b[0;34m(\u001b[0m\u001b[0;34m\"random\"\u001b[0m\u001b[0;34m,\u001b[0m \u001b[0;36m0\u001b[0m\u001b[0;34m)\u001b[0m\u001b[0;34m,\u001b[0m \u001b[0mmax_entities\u001b[0m\u001b[0;34m=\u001b[0m\u001b[0mconfig\u001b[0m\u001b[0;34m.\u001b[0m\u001b[0mmax_entities\u001b[0m\u001b[0;34m)\u001b[0m\u001b[0;34m\u001b[0m\u001b[0;34m\u001b[0m\u001b[0m\n\u001b[0;32m----> 2\u001b[0;31m \u001b[0madmitted_w_parameters\u001b[0m \u001b[0;34m=\u001b[0m \u001b[0mpd\u001b[0m\u001b[0;34m.\u001b[0m\u001b[0mDataFrame\u001b[0m\u001b[0;34m(\u001b[0m\u001b[0;34m[\u001b[0m\u001b[0;34m[\u001b[0m\u001b[0mlen\u001b[0m\u001b[0;34m(\u001b[0m\u001b[0madmitted_candidates\u001b[0m\u001b[0;34m)\u001b[0m\u001b[0;34m,\u001b[0m \u001b[0mmodel\u001b[0m\u001b[0;34m.\u001b[0m\u001b[0mname\u001b[0m\u001b[0;34m,\u001b[0m \u001b[0mmethod\u001b[0m\u001b[0;34m,\u001b[0m \u001b[0mcriteria\u001b[0m\u001b[0;34m]\u001b[0m\u001b[0;34m]\u001b[0m\u001b[0;34m,\u001b[0m \u001b[0mcolumns\u001b[0m\u001b[0;34m=\u001b[0m\u001b[0;34m[\u001b[0m\u001b[0;34m\"Extension\"\u001b[0m\u001b[0;34m,\u001b[0m \u001b[0;34m\"Model\"\u001b[0m\u001b[0;34m,\u001b[0m \u001b[0;34m\"Entity_selection\"\u001b[0m\u001b[0;34m,\u001b[0m \u001b[0;34m\"Candidate_criteria\"\u001b[0m\u001b[0;34m]\u001b[0m\u001b[0;34m)\u001b[0m\u001b[0;34m\u001b[0m\u001b[0;34m\u001b[0m\u001b[0m\n\u001b[0m\u001b[1;32m      3\u001b[0m \u001b[0mextension_sizes\u001b[0m \u001b[0;34m=\u001b[0m \u001b[0mextension_sizes\u001b[0m\u001b[0;34m.\u001b[0m\u001b[0mappend\u001b[0m\u001b[0;34m(\u001b[0m\u001b[0madmitted_w_parameters\u001b[0m\u001b[0;34m)\u001b[0m\u001b[0;34m\u001b[0m\u001b[0;34m\u001b[0m\u001b[0m\n",
      "\u001b[0;31mNameError\u001b[0m: name 'model' is not defined"
     ]
    }
   ],
   "source": [
    "extended_kb, admitted_candidates = extend_kb(original_kb, models.complEx, \"probabilistic\", (\"random\", 0), max_entities=config.max_entities)\n",
    "admitted_w_parameters = pd.DataFrame([[len(admitted_candidates), models.complEx.name, method, criteria]], columns=[\"Extension\", \"Model\", \"Entity_selection\", \"Candidate_criteria\"])\n",
    "extension_sizes = extension_sizes.append(admitted_w_parameters)"
   ]
  },
  {
   "cell_type": "code",
   "execution_count": 20,
   "id": "46de3e20-c315-4a20-b756-58b15bc125ad",
   "metadata": {},
   "outputs": [],
   "source": [
    "admitted_w_parameters = pd.DataFrame([[len(admitted_candidates), \"random\", \"probabilistic\", (\"random\", 0)]], columns=[\"Extension\", \"Model\", \"Entity_selection\", \"Candidate_criteria\"])\n",
    "extension_sizes = extension_sizes.append(admitted_w_parameters)"
   ]
  },
  {
   "cell_type": "code",
   "execution_count": 21,
   "id": "68ec3c1e-ba75-4a8f-ac32-f1231152a226",
   "metadata": {},
   "outputs": [
    {
     "data": {
      "text/html": [
       "<div>\n",
       "<style scoped>\n",
       "    .dataframe tbody tr th:only-of-type {\n",
       "        vertical-align: middle;\n",
       "    }\n",
       "\n",
       "    .dataframe tbody tr th {\n",
       "        vertical-align: top;\n",
       "    }\n",
       "\n",
       "    .dataframe thead th {\n",
       "        text-align: right;\n",
       "    }\n",
       "</style>\n",
       "<table border=\"1\" class=\"dataframe\">\n",
       "  <thead>\n",
       "    <tr style=\"text-align: right;\">\n",
       "      <th></th>\n",
       "      <th>Extension</th>\n",
       "      <th>Model</th>\n",
       "      <th>Entity_selection</th>\n",
       "      <th>Candidate_criteria</th>\n",
       "    </tr>\n",
       "  </thead>\n",
       "  <tbody>\n",
       "    <tr>\n",
       "      <th>0</th>\n",
       "      <td>253</td>\n",
       "      <td>ComplEx</td>\n",
       "      <td>probabilistic</td>\n",
       "      <td>(rank_cutoff, 1)</td>\n",
       "    </tr>\n",
       "    <tr>\n",
       "      <th>0</th>\n",
       "      <td>1324</td>\n",
       "      <td>ComplEx</td>\n",
       "      <td>probabilistic</td>\n",
       "      <td>(rank_cutoff, 4)</td>\n",
       "    </tr>\n",
       "    <tr>\n",
       "      <th>0</th>\n",
       "      <td>2766</td>\n",
       "      <td>ComplEx</td>\n",
       "      <td>probabilistic</td>\n",
       "      <td>(rank_cutoff, 7)</td>\n",
       "    </tr>\n",
       "    <tr>\n",
       "      <th>0</th>\n",
       "      <td>210</td>\n",
       "      <td>DistMult</td>\n",
       "      <td>probabilistic</td>\n",
       "      <td>(rank_cutoff, 1)</td>\n",
       "    </tr>\n",
       "    <tr>\n",
       "      <th>0</th>\n",
       "      <td>1271</td>\n",
       "      <td>DistMult</td>\n",
       "      <td>probabilistic</td>\n",
       "      <td>(rank_cutoff, 4)</td>\n",
       "    </tr>\n",
       "    <tr>\n",
       "      <th>0</th>\n",
       "      <td>2567</td>\n",
       "      <td>DistMult</td>\n",
       "      <td>probabilistic</td>\n",
       "      <td>(rank_cutoff, 7)</td>\n",
       "    </tr>\n",
       "    <tr>\n",
       "      <th>0</th>\n",
       "      <td>386</td>\n",
       "      <td>TransE</td>\n",
       "      <td>probabilistic</td>\n",
       "      <td>(rank_cutoff, 1)</td>\n",
       "    </tr>\n",
       "    <tr>\n",
       "      <th>0</th>\n",
       "      <td>830</td>\n",
       "      <td>TransE</td>\n",
       "      <td>probabilistic</td>\n",
       "      <td>(rank_cutoff, 4)</td>\n",
       "    </tr>\n",
       "    <tr>\n",
       "      <th>0</th>\n",
       "      <td>1325</td>\n",
       "      <td>TransE</td>\n",
       "      <td>probabilistic</td>\n",
       "      <td>(rank_cutoff, 7)</td>\n",
       "    </tr>\n",
       "    <tr>\n",
       "      <th>0</th>\n",
       "      <td>308</td>\n",
       "      <td>RandomBaseline</td>\n",
       "      <td>probabilistic</td>\n",
       "      <td>(rank_cutoff, 1)</td>\n",
       "    </tr>\n",
       "    <tr>\n",
       "      <th>0</th>\n",
       "      <td>1846</td>\n",
       "      <td>RandomBaseline</td>\n",
       "      <td>probabilistic</td>\n",
       "      <td>(rank_cutoff, 4)</td>\n",
       "    </tr>\n",
       "    <tr>\n",
       "      <th>0</th>\n",
       "      <td>3455</td>\n",
       "      <td>RandomBaseline</td>\n",
       "      <td>probabilistic</td>\n",
       "      <td>(rank_cutoff, 7)</td>\n",
       "    </tr>\n",
       "    <tr>\n",
       "      <th>0</th>\n",
       "      <td>6000</td>\n",
       "      <td>random</td>\n",
       "      <td>random</td>\n",
       "      <td>random</td>\n",
       "    </tr>\n",
       "    <tr>\n",
       "      <th>0</th>\n",
       "      <td>6000</td>\n",
       "      <td>random</td>\n",
       "      <td>random</td>\n",
       "      <td>(rank_cutoff, 1)</td>\n",
       "    </tr>\n",
       "    <tr>\n",
       "      <th>0</th>\n",
       "      <td>6000</td>\n",
       "      <td>random</td>\n",
       "      <td>probabilistic</td>\n",
       "      <td>(rank_cutoff, 1)</td>\n",
       "    </tr>\n",
       "    <tr>\n",
       "      <th>0</th>\n",
       "      <td>6000</td>\n",
       "      <td>random</td>\n",
       "      <td>probabilistic</td>\n",
       "      <td>(random, 0)</td>\n",
       "    </tr>\n",
       "  </tbody>\n",
       "</table>\n",
       "</div>"
      ],
      "text/plain": [
       "  Extension           Model Entity_selection Candidate_criteria\n",
       "0       253         ComplEx    probabilistic   (rank_cutoff, 1)\n",
       "0      1324         ComplEx    probabilistic   (rank_cutoff, 4)\n",
       "0      2766         ComplEx    probabilistic   (rank_cutoff, 7)\n",
       "0       210        DistMult    probabilistic   (rank_cutoff, 1)\n",
       "0      1271        DistMult    probabilistic   (rank_cutoff, 4)\n",
       "0      2567        DistMult    probabilistic   (rank_cutoff, 7)\n",
       "0       386          TransE    probabilistic   (rank_cutoff, 1)\n",
       "0       830          TransE    probabilistic   (rank_cutoff, 4)\n",
       "0      1325          TransE    probabilistic   (rank_cutoff, 7)\n",
       "0       308  RandomBaseline    probabilistic   (rank_cutoff, 1)\n",
       "0      1846  RandomBaseline    probabilistic   (rank_cutoff, 4)\n",
       "0      3455  RandomBaseline    probabilistic   (rank_cutoff, 7)\n",
       "0      6000          random           random             random\n",
       "0      6000          random           random   (rank_cutoff, 1)\n",
       "0      6000          random    probabilistic   (rank_cutoff, 1)\n",
       "0      6000          random    probabilistic        (random, 0)"
      ]
     },
     "execution_count": 21,
     "metadata": {},
     "output_type": "execute_result"
    }
   ],
   "source": [
    "extension_sizes"
   ]
  },
  {
   "cell_type": "code",
   "execution_count": null,
   "id": "7b1a12ae-08c6-45ef-953f-78fbe081614f",
   "metadata": {},
   "outputs": [],
   "source": [
    "# add rules mined from randomly selected candidates\n",
    "extended_kb, admitted_candidates = extend_kb(original_kb, models.complEx, \"probabilistic\", (\"random\", 0), max_entities=config.max_entities)\n",
    "rules = rule_mining(extended_kb)\n",
    "number_of_rules = len(rules)\n",
    "parameter_list = [\"Rand cand\",\"Rand cand\",\"Rand cand\"]\n",
    "parameter_full = [parameter_list for j in range(number_of_rules)]\n",
    "parameter_full_df = pd.DataFrame(parameter_full, columns=[\"Model\", \"Entity_selection\", \"Candidate_criteria\"])\n",
    "original_rules_parameters= pd.concat([rules, parameter_full_df], axis=1)\n",
    "original_rules_parameters['PCA Confidence'] = original_rules_parameters['PCA Confidence'].apply(lambda x: float(x.replace(',','.')))\n",
    "original_rules_parameters['Head Coverage'] = original_rules_parameters['Head Coverage'].apply(lambda x: float(x.replace(',','.')))\n",
    "#mined_rules.append(original_rules_parameters)\n",
    "mined_rules_parameters = pd.concat([mined_rules_parameters,original_rules_parameters])"
   ]
  },
  {
   "cell_type": "markdown",
   "id": "6e9c7023-489a-4aea-a8bc-163b452f3ad5",
   "metadata": {},
   "source": [
    "## Compare ranking by ComplEx with ranking of Randombaseline."
   ]
  },
  {
   "cell_type": "code",
   "execution_count": 1,
   "id": "94734947-40da-4232-818d-07375abd9b82",
   "metadata": {},
   "outputs": [],
   "source": [
    "from scipy import stats\n",
    "family_relations = [\"child\", \"sibling\", \"mother\", \"father\", \"relative\", \"spouse\"]\n"
   ]
  },
  {
   "cell_type": "code",
   "execution_count": 2,
   "id": "9af5c185-490f-4782-820e-35b9516fae90",
   "metadata": {},
   "outputs": [
    {
     "ename": "NameError",
     "evalue": "name 'generate_candidate_triples' is not defined",
     "output_type": "error",
     "traceback": [
      "\u001b[0;31m---------------------------------------------------------------------------\u001b[0m",
      "\u001b[0;31mNameError\u001b[0m                                 Traceback (most recent call last)",
      "\u001b[0;32m<ipython-input-2-9e173a44668e>\u001b[0m in \u001b[0;36m<module>\u001b[0;34m\u001b[0m\n\u001b[0;32m----> 1\u001b[0;31m \u001b[0mcandidates\u001b[0m\u001b[0;34m,\u001b[0m \u001b[0mentities\u001b[0m \u001b[0;34m=\u001b[0m \u001b[0mgenerate_candidate_triples\u001b[0m\u001b[0;34m(\u001b[0m\u001b[0moriginal_kb\u001b[0m\u001b[0;34m,\u001b[0m \u001b[0mentities\u001b[0m\u001b[0;34m=\u001b[0m\u001b[0;32mNone\u001b[0m\u001b[0;34m,\u001b[0m \u001b[0mentity_selection_method\u001b[0m\u001b[0;34m=\u001b[0m\u001b[0;34m\"probabilistic\"\u001b[0m\u001b[0;34m,\u001b[0m \u001b[0mmax_entities\u001b[0m\u001b[0;34m=\u001b[0m\u001b[0;36m100\u001b[0m\u001b[0;34m,\u001b[0m \u001b[0mrelations\u001b[0m\u001b[0;34m=\u001b[0m\u001b[0mfamily_relations\u001b[0m\u001b[0;34m,\u001b[0m \u001b[0msavefile_name\u001b[0m\u001b[0;34m=\u001b[0m\u001b[0;32mNone\u001b[0m\u001b[0;34m)\u001b[0m\u001b[0;34m\u001b[0m\u001b[0;34m\u001b[0m\u001b[0m\n\u001b[0m",
      "\u001b[0;31mNameError\u001b[0m: name 'generate_candidate_triples' is not defined"
     ]
    }
   ],
   "source": [
    "candidates, entities = generate_candidate_triples(original_kb, entities=None, entity_selection_method=\"probabilistic\", max_entities=100, relations=family_relations, savefile_name=None)"
   ]
  },
  {
   "cell_type": "code",
   "execution_count": 32,
   "id": "65c4dbfe-0a5e-45b5-a820-529687ef9e98",
   "metadata": {},
   "outputs": [
    {
     "name": "stderr",
     "output_type": "stream",
     "text": [
      "/Home/siv30/fak006/miniconda/envs/ampligraph/lib/python3.7/site-packages/ampligraph/latent_features/models/EmbeddingModel.py:1329: FutureWarning: elementwise comparison failed; returning scalar instead, but in the future will perform elementwise comparison\n",
      "  if corruption_entities == 'all':\n",
      "100%|██████████| 59998/59998 [00:36<00:00, 1634.84it/s]\n"
     ]
    }
   ],
   "source": [
    "complEx_ranked = rank_candidates(models.complEx, candidates, original_kb, entities)"
   ]
  },
  {
   "cell_type": "code",
   "execution_count": 41,
   "id": "980e3554-2008-4996-b17f-d1be873182e8",
   "metadata": {},
   "outputs": [],
   "source": [
    "complEx_ranked['Model']='complEx'"
   ]
  },
  {
   "cell_type": "code",
   "execution_count": 33,
   "id": "568efe55-bea0-44e8-8788-19c6a830c25d",
   "metadata": {},
   "outputs": [],
   "source": [
    "randomBaseline_ranked = rank_candidates(models.randomBaseline, candidates, original_kb, entities)"
   ]
  },
  {
   "cell_type": "code",
   "execution_count": 42,
   "id": "75fbbdfb-9347-474d-8a52-ecfe76fb34e9",
   "metadata": {},
   "outputs": [],
   "source": [
    "randomBaseline_ranked['Model']='randomBaseline'"
   ]
  },
  {
   "cell_type": "code",
   "execution_count": 37,
   "id": "68d74868-fd58-4da0-a1cf-4545f37b5aff",
   "metadata": {},
   "outputs": [
    {
     "data": {
      "text/plain": [
       "array([64, 26, 35, ..., 81,  2, 33], dtype=int32)"
      ]
     },
     "execution_count": 37,
     "metadata": {},
     "output_type": "execute_result"
    }
   ],
   "source": [
    "randomBaseline_ranked[\"Sub_rank\"].values"
   ]
  },
  {
   "cell_type": "code",
   "execution_count": 46,
   "id": "18cc26fb-0fa3-4254-862f-6b6401082e8f",
   "metadata": {},
   "outputs": [],
   "source": [
    "combined = pd.concat([complEx_ranked, randomBaseline_ranked], ignore_index=True)"
   ]
  },
  {
   "cell_type": "code",
   "execution_count": 39,
   "id": "3bb0fd0d-7d25-468b-8611-311c53ab46ad",
   "metadata": {},
   "outputs": [
    {
     "data": {
      "text/plain": [
       "SpearmanrResult(correlation=0.004578933897997838, pvalue=0.2620457471935607)"
      ]
     },
     "execution_count": 39,
     "metadata": {},
     "output_type": "execute_result"
    }
   ],
   "source": [
    "stats.spearmanr(randomBaseline_ranked[\"Sub_rank\"].values, complEx_ranked[\"Sub_rank\"].values)"
   ]
  },
  {
   "cell_type": "code",
   "execution_count": 40,
   "id": "53bc509b-d90b-48dc-a2c0-0d6795993a1a",
   "metadata": {},
   "outputs": [
    {
     "data": {
      "text/plain": [
       "SpearmanrResult(correlation=0.0026169844479070514, pvalue=0.5215196197594257)"
      ]
     },
     "execution_count": 40,
     "metadata": {},
     "output_type": "execute_result"
    }
   ],
   "source": [
    "stats.spearmanr(randomBaseline_ranked[\"Obj_rank\"].values, complEx_ranked[\"Obj_rank\"].values)"
   ]
  },
  {
   "cell_type": "code",
   "execution_count": 47,
   "id": "4d4d60fa-aa78-496a-adb1-dbf843b55219",
   "metadata": {},
   "outputs": [
    {
     "data": {
      "text/html": [
       "<div>\n",
       "<style scoped>\n",
       "    .dataframe tbody tr th:only-of-type {\n",
       "        vertical-align: middle;\n",
       "    }\n",
       "\n",
       "    .dataframe tbody tr th {\n",
       "        vertical-align: top;\n",
       "    }\n",
       "\n",
       "    .dataframe thead th {\n",
       "        text-align: right;\n",
       "    }\n",
       "</style>\n",
       "<table border=\"1\" class=\"dataframe\">\n",
       "  <thead>\n",
       "    <tr style=\"text-align: right;\">\n",
       "      <th></th>\n",
       "      <th>Object</th>\n",
       "      <th>Predicate</th>\n",
       "      <th>Subject</th>\n",
       "      <th>Sub_rank</th>\n",
       "      <th>Obj_rank</th>\n",
       "      <th>Model</th>\n",
       "    </tr>\n",
       "  </thead>\n",
       "  <tbody>\n",
       "    <tr>\n",
       "      <th>0</th>\n",
       "      <td>Q570989</td>\n",
       "      <td>sibling</td>\n",
       "      <td>Q64215</td>\n",
       "      <td>37</td>\n",
       "      <td>33</td>\n",
       "      <td>complEx</td>\n",
       "    </tr>\n",
       "    <tr>\n",
       "      <th>1</th>\n",
       "      <td>Q570989</td>\n",
       "      <td>child</td>\n",
       "      <td>Q353816</td>\n",
       "      <td>36</td>\n",
       "      <td>27</td>\n",
       "      <td>complEx</td>\n",
       "    </tr>\n",
       "    <tr>\n",
       "      <th>2</th>\n",
       "      <td>Q550652</td>\n",
       "      <td>child</td>\n",
       "      <td>Q15433864</td>\n",
       "      <td>96</td>\n",
       "      <td>76</td>\n",
       "      <td>complEx</td>\n",
       "    </tr>\n",
       "    <tr>\n",
       "      <th>3</th>\n",
       "      <td>Q3041265</td>\n",
       "      <td>relative</td>\n",
       "      <td>Q271856</td>\n",
       "      <td>26</td>\n",
       "      <td>19</td>\n",
       "      <td>complEx</td>\n",
       "    </tr>\n",
       "    <tr>\n",
       "      <th>4</th>\n",
       "      <td>Q16914031</td>\n",
       "      <td>spouse</td>\n",
       "      <td>Q476670</td>\n",
       "      <td>16</td>\n",
       "      <td>21</td>\n",
       "      <td>complEx</td>\n",
       "    </tr>\n",
       "    <tr>\n",
       "      <th>...</th>\n",
       "      <td>...</td>\n",
       "      <td>...</td>\n",
       "      <td>...</td>\n",
       "      <td>...</td>\n",
       "      <td>...</td>\n",
       "      <td>...</td>\n",
       "    </tr>\n",
       "    <tr>\n",
       "      <th>119991</th>\n",
       "      <td>Q16867</td>\n",
       "      <td>relative</td>\n",
       "      <td>Q3154738</td>\n",
       "      <td>97</td>\n",
       "      <td>96</td>\n",
       "      <td>randomBaseline</td>\n",
       "    </tr>\n",
       "    <tr>\n",
       "      <th>119992</th>\n",
       "      <td>Q13129206</td>\n",
       "      <td>spouse</td>\n",
       "      <td>Q203829</td>\n",
       "      <td>37</td>\n",
       "      <td>48</td>\n",
       "      <td>randomBaseline</td>\n",
       "    </tr>\n",
       "    <tr>\n",
       "      <th>119993</th>\n",
       "      <td>Q6790615</td>\n",
       "      <td>child</td>\n",
       "      <td>Q182019</td>\n",
       "      <td>81</td>\n",
       "      <td>84</td>\n",
       "      <td>randomBaseline</td>\n",
       "    </tr>\n",
       "    <tr>\n",
       "      <th>119994</th>\n",
       "      <td>Q476670</td>\n",
       "      <td>child</td>\n",
       "      <td>Q333182</td>\n",
       "      <td>2</td>\n",
       "      <td>2</td>\n",
       "      <td>randomBaseline</td>\n",
       "    </tr>\n",
       "    <tr>\n",
       "      <th>119995</th>\n",
       "      <td>Q163514</td>\n",
       "      <td>relative</td>\n",
       "      <td>Q16863901</td>\n",
       "      <td>33</td>\n",
       "      <td>37</td>\n",
       "      <td>randomBaseline</td>\n",
       "    </tr>\n",
       "  </tbody>\n",
       "</table>\n",
       "<p>119996 rows × 6 columns</p>\n",
       "</div>"
      ],
      "text/plain": [
       "           Object Predicate    Subject  Sub_rank  Obj_rank           Model\n",
       "0         Q570989   sibling     Q64215        37        33         complEx\n",
       "1         Q570989     child    Q353816        36        27         complEx\n",
       "2         Q550652     child  Q15433864        96        76         complEx\n",
       "3        Q3041265  relative    Q271856        26        19         complEx\n",
       "4       Q16914031    spouse    Q476670        16        21         complEx\n",
       "...           ...       ...        ...       ...       ...             ...\n",
       "119991     Q16867  relative   Q3154738        97        96  randomBaseline\n",
       "119992  Q13129206    spouse    Q203829        37        48  randomBaseline\n",
       "119993   Q6790615     child    Q182019        81        84  randomBaseline\n",
       "119994    Q476670     child    Q333182         2         2  randomBaseline\n",
       "119995    Q163514  relative  Q16863901        33        37  randomBaseline\n",
       "\n",
       "[119996 rows x 6 columns]"
      ]
     },
     "execution_count": 47,
     "metadata": {},
     "output_type": "execute_result"
    }
   ],
   "source": [
    "combined"
   ]
  },
  {
   "cell_type": "code",
   "execution_count": 73,
   "id": "32fd6a90-9ec9-4c7a-b228-345a0d523c4c",
   "metadata": {},
   "outputs": [
    {
     "data": {
      "text/plain": [
       "<seaborn.axisgrid.FacetGrid at 0x7f48aa5d5390>"
      ]
     },
     "execution_count": 73,
     "metadata": {},
     "output_type": "execute_result"
    },
    {
     "data": {
      "text/plain": [
       "<Figure size 1080x576 with 0 Axes>"
      ]
     },
     "metadata": {},
     "output_type": "display_data"
    },
    {
     "data": {
      "image/png": "[encoded data removed]",
      "text/plain": [
       "<Figure size 801.85x720 with 1 Axes>"
      ]
     },
     "metadata": {},
     "output_type": "display_data"
    }
   ],
   "source": [
    "plt.figure(figsize = (15,8))\n",
    "sns.displot(complEx_ranked, x=\"Sub_rank\", hue=\"Model\", height=10)"
   ]
  },
  {
   "cell_type": "code",
   "execution_count": 63,
   "id": "17125bf1-1583-43c3-9077-ac87626ccb47",
   "metadata": {},
   "outputs": [
    {
     "data": {
      "text/plain": [
       "<seaborn.axisgrid.FacetGrid at 0x7f48aa3b66d0>"
      ]
     },
     "execution_count": 63,
     "metadata": {},
     "output_type": "execute_result"
    },
    {
     "data": {
      "text/plain": [
       "<Figure size 1080x576 with 0 Axes>"
      ]
     },
     "metadata": {},
     "output_type": "display_data"
    },
    {
     "data": {
      "image/png": "[encoded data removed]",
      "text/plain": [
       "<Figure size 839.35x720 with 1 Axes>"
      ]
     },
     "metadata": {},
     "output_type": "display_data"
    }
   ],
   "source": [
    "plt.figure(figsize = (15,8))\n",
    "sns.displot(randomBaseline_ranked, x=\"Sub_rank\", hue=\"Model\", height=10)"
   ]
  },
  {
   "cell_type": "code",
   "execution_count": null,
   "id": "b413c3b4-b5fe-4878-83be-5596e35eea0f",
   "metadata": {},
   "outputs": [
    {
     "name": "stderr",
     "output_type": "stream",
     "text": [
      "/Home/siv30/fak006/miniconda/envs/ampligraph/lib/python3.7/site-packages/ampligraph/latent_features/models/EmbeddingModel.py:1329: FutureWarning: elementwise comparison failed; returning scalar instead, but in the future will perform elementwise comparison\n",
      "  if corruption_entities == 'all':\n"
     ]
    }
   ],
   "source": [
    "transE_ranked = rank_candidates(models.transE, candidates, original_kb, entities)"
   ]
  },
  {
   "cell_type": "code",
   "execution_count": null,
   "id": "ef7c5934-86f8-4973-ad55-e2780b31210c",
   "metadata": {},
   "outputs": [],
   "source": [
    "plt.figure(figsize = (15,8))\n",
    "sns.displot(transE_ranked, x=\"Sub_rank\", hue=\"Model\", height=10)"
   ]
  },
  {
   "cell_type": "code",
   "execution_count": null,
   "id": "7e5183c5-7e87-4f77-85dd-7c9b0e79efdd",
   "metadata": {},
   "outputs": [],
   "source": [
    "distMult_ranked = rank_candidates(models.distMult, candidates, original_kb, entities)"
   ]
  },
  {
   "cell_type": "code",
   "execution_count": null,
   "id": "f0b65714-2a7a-4362-9a8f-c75e86e2f360",
   "metadata": {},
   "outputs": [],
   "source": [
    "plt.figure(figsize = (15,8))\n",
    "sns.displot(distMult_ranked, x=\"Sub_rank\", hue=\"Model\", height=10)"
   ]
  },
  {
   "cell_type": "code",
   "execution_count": 64,
   "id": "ca8b4a71-1279-43da-8731-0b0d9c308367",
   "metadata": {},
   "outputs": [
    {
     "data": {
      "text/plain": [
       "<seaborn.axisgrid.FacetGrid at 0x7f48aa3c3890>"
      ]
     },
     "execution_count": 64,
     "metadata": {},
     "output_type": "execute_result"
    },
    {
     "data": {
      "text/plain": [
       "<Figure size 1080x576 with 0 Axes>"
      ]
     },
     "metadata": {},
     "output_type": "display_data"
    },
    {
     "data": {
      "image/png": "[encoded data removed]",
      "text/plain": [
       "<Figure size 839.35x720 with 1 Axes>"
      ]
     },
     "metadata": {},
     "output_type": "display_data"
    }
   ],
   "source": [
    "plt.figure(figsize = (15,8))\n",
    "sns.displot(combined, x=\"Sub_rank\", hue=\"Model\", height=10)"
   ]
  },
  {
   "cell_type": "code",
   "execution_count": 59,
   "id": "027a9e92-794a-424c-8792-4f9835b5da39",
   "metadata": {},
   "outputs": [
    {
     "data": {
      "text/plain": [
       "<seaborn.axisgrid.FacetGrid at 0x7f48aa2ebd90>"
      ]
     },
     "execution_count": 59,
     "metadata": {},
     "output_type": "execute_result"
    },
    {
     "data": {
      "text/plain": [
       "<Figure size 1080x576 with 0 Axes>"
      ]
     },
     "metadata": {},
     "output_type": "display_data"
    },
    {
     "data": {
      "image/png": "[encoded data removed]",
      "text/plain": [
       "<Figure size 839.35x720 with 1 Axes>"
      ]
     },
     "metadata": {},
     "output_type": "display_data"
    }
   ],
   "source": [
    "plt.figure(figsize = (15,8))\n",
    "sns.displot(combined, x=\"Obj_rank\", hue=\"Model\", height=10)"
   ]
  },
  {
   "cell_type": "code",
   "execution_count": null,
   "id": "c204556c-99fa-4c78-935f-b7bcab112f2a",
   "metadata": {},
   "outputs": [],
   "source": []
  }
 ],
 "metadata": {
  "kernelspec": {
   "display_name": "Python 3",
   "language": "python",
   "name": "python3"
  },
  "language_info": {
   "codemirror_mode": {
    "name": "ipython",
    "version": 3
   },
   "file_extension": ".py",
   "mimetype": "text/x-python",
   "name": "python",
   "nbconvert_exporter": "python",
   "pygments_lexer": "ipython3",
   "version": "3.7.11"
  }
 },
 "nbformat": 4,
 "nbformat_minor": 5
}
