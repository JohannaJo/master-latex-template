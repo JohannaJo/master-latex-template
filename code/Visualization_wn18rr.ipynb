{
 "cells": [
  {
   "cell_type": "markdown",
   "metadata": {},
   "source": [
    "##"
   ]
  },
  {
   "cell_type": "code",
   "execution_count": 20,
   "metadata": {
    "tags": []
   },
   "outputs": [],
   "source": [
    "import numpy as np\n",
    "import pandas as pd\n",
    "import config\n",
    "from rule_comparison import plot_pie_chart, get_common_rules, display_comparison, get_unique_rules\n",
    "from operator import itemgetter\n",
    "from kb_extension import extend_kb\n",
    "\n",
    "# random slection of candidates\n",
    "import models\n",
    "from rule_mining import rule_mining\n",
    "from ampligraph.latent_features import RandomBaseline\n",
    "\n",
    "# Visualisation\n",
    "import seaborn as sns\n",
    "import matplotlib.pyplot as plt\n",
    "import copy\n",
    "\n",
    "\n",
    "# family dataset\n",
    "#original_kb = np.loadtxt(config.family_dataset_path, dtype = 'object')\n",
    "#relations = config.family_relations\n",
    "#folder_path = \"./family_max_entities_200/\"\n",
    "\n",
    "# wn18rr dataset\n",
    "original_kb = np.loadtxt(config.wn18rr_dataset_path, dtype = 'object')\n",
    "relations = config.wn18rr_relations\n",
    "folder_path = \"./wn18rr_max_entities_1000/\"\n",
    "\n",
    "#temp_remove\n",
    "from rule_mining import rule_mining"
   ]
  },
  {
   "cell_type": "markdown",
   "metadata": {},
   "source": [
    "## Load and view raw data"
   ]
  },
  {
   "cell_type": "code",
   "execution_count": 2,
   "metadata": {
    "tags": []
   },
   "outputs": [],
   "source": [
    "# load saved rules\n",
    "original_rules = pd.read_pickle(folder_path + \"original_rules.pkl\")\n",
    "mined_rules = pd.read_pickle(folder_path + \"mined_rules.pkl\")\n",
    "mined_rules_parameters = pd.read_pickle(folder_path + \"mined_rules_parameters.pkl\")\n",
    "parameter_combinations = pd.read_pickle(folder_path + \"parameter_combinations.pkl\")\n",
    "extension_sizes = pd.read_pickle(folder_path + \"extension_sizes.pkl\")\n",
    "\n",
    "#original_rules = rule_mining(original_kb) #only temp\n",
    "#original_rules['PCA Confidence'] = original_rules['PCA Confidence'].apply(lambda x: float(x.replace(',','.')))\n",
    "#original_rules['Head Coverage'] = original_rules['Head Coverage'].apply(lambda x: float(x.replace(',','.')))\n",
    "\n",
    "original_rules_median_PCA = original_rules[\"PCA Confidence\"].median()\n",
    "original_rules_median_HC = original_rules[\"Head Coverage\"].median()"
   ]
  },
  {
   "cell_type": "code",
   "execution_count": 3,
   "metadata": {},
   "outputs": [
    {
     "data": {
      "text/html": [
       "<div>\n",
       "<style scoped>\n",
       "    .dataframe tbody tr th:only-of-type {\n",
       "        vertical-align: middle;\n",
       "    }\n",
       "\n",
       "    .dataframe tbody tr th {\n",
       "        vertical-align: top;\n",
       "    }\n",
       "\n",
       "    .dataframe thead th {\n",
       "        text-align: right;\n",
       "    }\n",
       "</style>\n",
       "<table border=\"1\" class=\"dataframe\">\n",
       "  <thead>\n",
       "    <tr style=\"text-align: right;\">\n",
       "      <th></th>\n",
       "      <th>Rule</th>\n",
       "      <th>Head Coverage</th>\n",
       "      <th>PCA Confidence</th>\n",
       "      <th>Positive Examples</th>\n",
       "      <th>PCA Body size</th>\n",
       "      <th>Functional variable</th>\n",
       "      <th>Entity_selection</th>\n",
       "      <th>Model</th>\n",
       "      <th>Candidate_criteria</th>\n",
       "    </tr>\n",
       "  </thead>\n",
       "  <tbody>\n",
       "    <tr>\n",
       "      <th>0</th>\n",
       "      <td>?b  _derivationally_related_form  ?a   =&gt; ?a  ...</td>\n",
       "      <td>0.999312</td>\n",
       "      <td>0.999374</td>\n",
       "      <td>31937</td>\n",
       "      <td>31957</td>\n",
       "      <td>-2</td>\n",
       "      <td>probabilistic</td>\n",
       "      <td>ComplEx</td>\n",
       "      <td>('rank_cutoff', 1)</td>\n",
       "    </tr>\n",
       "    <tr>\n",
       "      <th>1</th>\n",
       "      <td>?a  _has_part  ?h  ?h  _synset_domain_topic_of...</td>\n",
       "      <td>0.018469</td>\n",
       "      <td>0.805195</td>\n",
       "      <td>62</td>\n",
       "      <td>77</td>\n",
       "      <td>-1</td>\n",
       "      <td>probabilistic</td>\n",
       "      <td>ComplEx</td>\n",
       "      <td>('rank_cutoff', 1)</td>\n",
       "    </tr>\n",
       "    <tr>\n",
       "      <th>2</th>\n",
       "      <td>?a  _instance_hypernym  ?h  ?h  _synset_domain...</td>\n",
       "      <td>0.037831</td>\n",
       "      <td>0.830065</td>\n",
       "      <td>127</td>\n",
       "      <td>153</td>\n",
       "      <td>-1</td>\n",
       "      <td>probabilistic</td>\n",
       "      <td>ComplEx</td>\n",
       "      <td>('rank_cutoff', 1)</td>\n",
       "    </tr>\n",
       "    <tr>\n",
       "      <th>3</th>\n",
       "      <td>?g  _member_meronym  ?a  ?g  _synset_domain_to...</td>\n",
       "      <td>0.011022</td>\n",
       "      <td>0.902439</td>\n",
       "      <td>37</td>\n",
       "      <td>41</td>\n",
       "      <td>-1</td>\n",
       "      <td>probabilistic</td>\n",
       "      <td>ComplEx</td>\n",
       "      <td>('rank_cutoff', 1)</td>\n",
       "    </tr>\n",
       "    <tr>\n",
       "      <th>4</th>\n",
       "      <td>?g  _has_part  ?a  ?g  _synset_domain_topic_of...</td>\n",
       "      <td>0.025022</td>\n",
       "      <td>0.785047</td>\n",
       "      <td>84</td>\n",
       "      <td>107</td>\n",
       "      <td>-1</td>\n",
       "      <td>probabilistic</td>\n",
       "      <td>ComplEx</td>\n",
       "      <td>('rank_cutoff', 1)</td>\n",
       "    </tr>\n",
       "    <tr>\n",
       "      <th>...</th>\n",
       "      <td>...</td>\n",
       "      <td>...</td>\n",
       "      <td>...</td>\n",
       "      <td>...</td>\n",
       "      <td>...</td>\n",
       "      <td>...</td>\n",
       "      <td>...</td>\n",
       "      <td>...</td>\n",
       "      <td>...</td>\n",
       "    </tr>\n",
       "    <tr>\n",
       "      <th>5</th>\n",
       "      <td>?g  _derivationally_related_form  ?a  ?g  _syn...</td>\n",
       "      <td>0.041466</td>\n",
       "      <td>0.492857</td>\n",
       "      <td>138</td>\n",
       "      <td>280</td>\n",
       "      <td>-1</td>\n",
       "      <td>Original rules</td>\n",
       "      <td>Original rules</td>\n",
       "      <td>Original rules</td>\n",
       "    </tr>\n",
       "    <tr>\n",
       "      <th>6</th>\n",
       "      <td>?a  _hypernym  ?h  ?h  _synset_domain_topic_of...</td>\n",
       "      <td>0.213942</td>\n",
       "      <td>0.828871</td>\n",
       "      <td>712</td>\n",
       "      <td>859</td>\n",
       "      <td>-1</td>\n",
       "      <td>Original rules</td>\n",
       "      <td>Original rules</td>\n",
       "      <td>Original rules</td>\n",
       "    </tr>\n",
       "    <tr>\n",
       "      <th>7</th>\n",
       "      <td>?a  _has_part  ?h  ?b  _instance_hypernym  ?h ...</td>\n",
       "      <td>0.035081</td>\n",
       "      <td>0.532544</td>\n",
       "      <td>180</td>\n",
       "      <td>338</td>\n",
       "      <td>-2</td>\n",
       "      <td>Original rules</td>\n",
       "      <td>Original rules</td>\n",
       "      <td>Original rules</td>\n",
       "    </tr>\n",
       "    <tr>\n",
       "      <th>8</th>\n",
       "      <td>?a  _has_part  ?h  ?b  _hypernym  ?h   =&gt; ?a  ...</td>\n",
       "      <td>0.019684</td>\n",
       "      <td>0.104016</td>\n",
       "      <td>101</td>\n",
       "      <td>971</td>\n",
       "      <td>-2</td>\n",
       "      <td>Original rules</td>\n",
       "      <td>Original rules</td>\n",
       "      <td>Original rules</td>\n",
       "    </tr>\n",
       "    <tr>\n",
       "      <th>9</th>\n",
       "      <td>?g  _hypernym  ?a  ?g  _synset_domain_topic_of...</td>\n",
       "      <td>0.098257</td>\n",
       "      <td>0.726667</td>\n",
       "      <td>327</td>\n",
       "      <td>450</td>\n",
       "      <td>-1</td>\n",
       "      <td>Original rules</td>\n",
       "      <td>Original rules</td>\n",
       "      <td>Original rules</td>\n",
       "    </tr>\n",
       "  </tbody>\n",
       "</table>\n",
       "<p>9163 rows × 9 columns</p>\n",
       "</div>"
      ],
      "text/plain": [
       "                                                 Rule  Head Coverage  \\\n",
       "0   ?b  _derivationally_related_form  ?a   => ?a  ...       0.999312   \n",
       "1   ?a  _has_part  ?h  ?h  _synset_domain_topic_of...       0.018469   \n",
       "2   ?a  _instance_hypernym  ?h  ?h  _synset_domain...       0.037831   \n",
       "3   ?g  _member_meronym  ?a  ?g  _synset_domain_to...       0.011022   \n",
       "4   ?g  _has_part  ?a  ?g  _synset_domain_topic_of...       0.025022   \n",
       "..                                                ...            ...   \n",
       "5   ?g  _derivationally_related_form  ?a  ?g  _syn...       0.041466   \n",
       "6   ?a  _hypernym  ?h  ?h  _synset_domain_topic_of...       0.213942   \n",
       "7   ?a  _has_part  ?h  ?b  _instance_hypernym  ?h ...       0.035081   \n",
       "8   ?a  _has_part  ?h  ?b  _hypernym  ?h   => ?a  ...       0.019684   \n",
       "9   ?g  _hypernym  ?a  ?g  _synset_domain_topic_of...       0.098257   \n",
       "\n",
       "    PCA Confidence Positive Examples PCA Body size Functional variable  \\\n",
       "0         0.999374             31937         31957                  -2   \n",
       "1         0.805195                62            77                  -1   \n",
       "2         0.830065               127           153                  -1   \n",
       "3         0.902439                37            41                  -1   \n",
       "4         0.785047                84           107                  -1   \n",
       "..             ...               ...           ...                 ...   \n",
       "5         0.492857               138           280                  -1   \n",
       "6         0.828871               712           859                  -1   \n",
       "7         0.532544               180           338                  -2   \n",
       "8         0.104016               101           971                  -2   \n",
       "9         0.726667               327           450                  -1   \n",
       "\n",
       "   Entity_selection           Model  Candidate_criteria  \n",
       "0     probabilistic         ComplEx  ('rank_cutoff', 1)  \n",
       "1     probabilistic         ComplEx  ('rank_cutoff', 1)  \n",
       "2     probabilistic         ComplEx  ('rank_cutoff', 1)  \n",
       "3     probabilistic         ComplEx  ('rank_cutoff', 1)  \n",
       "4     probabilistic         ComplEx  ('rank_cutoff', 1)  \n",
       "..              ...             ...                 ...  \n",
       "5    Original rules  Original rules      Original rules  \n",
       "6    Original rules  Original rules      Original rules  \n",
       "7    Original rules  Original rules      Original rules  \n",
       "8    Original rules  Original rules      Original rules  \n",
       "9    Original rules  Original rules      Original rules  \n",
       "\n",
       "[9163 rows x 9 columns]"
      ]
     },
     "execution_count": 3,
     "metadata": {},
     "output_type": "execute_result"
    }
   ],
   "source": [
    "mined_rules_parameters"
   ]
  },
  {
   "cell_type": "markdown",
   "metadata": {},
   "source": [
    "### Examine size of kb extension"
   ]
  },
  {
   "cell_type": "code",
   "execution_count": 4,
   "metadata": {},
   "outputs": [
    {
     "name": "stdout",
     "output_type": "stream",
     "text": [
      "WARNING - No artists with labels found to put in legend.  Note that artists whose label start with an underscore are ignored when legend() is called with no argument.\n"
     ]
    },
    {
     "data": {
      "text/plain": [
       "<matplotlib.legend.Legend at 0x7f50aa64f0d0>"
      ]
     },
     "execution_count": 4,
     "metadata": {},
     "output_type": "execute_result"
    },
    {
     "data": {
      "image/png": "[encoded data removed]",
      "text/plain": [
       "<Figure size 800x600 with 1 Axes>"
      ]
     },
     "metadata": {
      "needs_background": "light"
     },
     "output_type": "display_data"
    }
   ],
   "source": [
    "plt.subplots(figsize=(8,6), dpi=100)\n",
    "ax = sns.boxplot(x=\"Model\", y=\"Extension\", data=extension_sizes)\n",
    "#plt.axhline(original_rules_median_PCA, color=\"black\", label=\"Median original rules\", linestyle=\"--\")\n",
    "plt.legend()"
   ]
  },
  {
   "cell_type": "markdown",
   "metadata": {},
   "source": [
    "## Add true randombasleine\n",
    "Randomly select candidates and mine rules from the resulting expanded kb. The number of candidates to randomly add is the mean of the number of candidates added by ComplEx ranking."
   ]
  },
  {
   "cell_type": "code",
   "execution_count": 5,
   "metadata": {},
   "outputs": [
    {
     "name": "stdout",
     "output_type": "stream",
     "text": [
      "WARNING - All triples will be processed in the same batch (batches_count=1). When processing large graphs it is recommended to batch the input knowledge graph instead.\n"
     ]
    },
    {
     "name": "stderr",
     "output_type": "stream",
     "text": [
      "/Home/siv30/fak006/miniconda/envs/ampligraph/lib/python3.7/site-packages/ampligraph/latent_features/models/EmbeddingModel.py:1329: FutureWarning: elementwise comparison failed; returning scalar instead, but in the future will perform elementwise comparison\n",
      "  if corruption_entities == 'all':\n"
     ]
    }
   ],
   "source": [
    "# used to determine the number of candidates to randomly add to kb\n",
    "mean_complEx_extension_size = int(extension_sizes.loc[extension_sizes[\"Model\"] == 'ComplEx'].Extension.mean())\n",
    "\n",
    "# construct filler model\n",
    "filler_model = RandomBaseline()\n",
    "filler_model.fit(original_kb)\n",
    "\n",
    "# add rules mined from randomly selected candidates\n",
    "extended_kb, admitted_candidates = extend_kb(original_kb, relations, filler_model, \"random\", (\"random\", mean_complEx_extension_size), max_entities=config.max_entities)\n",
    "rules = rule_mining(extended_kb)\n",
    "number_of_rules = len(rules)\n",
    "parameter_list = [\"Rand cand\",\"Rand cand\",\"Rand cand\"]\n",
    "parameter_full = [parameter_list for j in range(number_of_rules)]\n",
    "parameter_full_df = pd.DataFrame(parameter_full, columns=[\"Entity_selection\", \"Model\", \"Candidate_criteria\"])\n",
    "original_rules_parameters= pd.concat([rules, parameter_full_df], axis=1)\n",
    "original_rules_parameters['PCA Confidence'] = original_rules_parameters['PCA Confidence'].apply(lambda x: float(x.replace(',','.')))\n",
    "original_rules_parameters['Head Coverage'] = original_rules_parameters['Head Coverage'].apply(lambda x: float(x.replace(',','.')))\n",
    "#mined_rules.append(original_rules_parameters)\n",
    "mined_rules_parameters = pd.concat([mined_rules_parameters,original_rules_parameters])"
   ]
  },
  {
   "cell_type": "code",
   "execution_count": 6,
   "metadata": {},
   "outputs": [],
   "source": [
    "mined_rules_parameters.to_pickle(folder_path + \"mined_rules_parameters_w_random.pkl\")"
   ]
  },
  {
   "cell_type": "code",
   "execution_count": 7,
   "metadata": {},
   "outputs": [],
   "source": [
    "mined_rules_parameters = pd.read_pickle(folder_path + \"mined_rules_parameters_w_random.pkl\")"
   ]
  },
  {
   "cell_type": "code",
   "execution_count": 8,
   "metadata": {},
   "outputs": [],
   "source": [
    "# limited to rules mined with candidates ranked 1\n",
    "mined_rules_parameters = mined_rules_parameters.loc[((mined_rules_parameters[\"Candidate_criteria\"] == \"('rank_cutoff', 1)\") | (mined_rules_parameters[\"Candidate_criteria\"] == 'Original rules') | (mined_rules_parameters[\"Candidate_criteria\"] == 'Rand cand')) & ((mined_rules_parameters[\"Entity_selection\"] == 'least_frequent') | (mined_rules_parameters[\"Entity_selection\"] == 'Rand cand'))]"
   ]
  },
  {
   "cell_type": "markdown",
   "metadata": {
    "tags": []
   },
   "source": [
    "## Parameter 1: embedding model"
   ]
  },
  {
   "cell_type": "code",
   "execution_count": 9,
   "metadata": {
    "tags": []
   },
   "outputs": [],
   "source": [
    "def get_dataframe_to_plot(all_rules, parameter_type, parameter_name):\n",
    "    \"\"\"\n",
    "    Generate dataframe containing rules mined with certain parameter value\n",
    "    \"\"\"\n",
    "    rules = all_rules.loc[(all_rules[parameter_type] == parameter_name)]\n",
    "    return rules"
   ]
  },
  {
   "cell_type": "markdown",
   "metadata": {
    "tags": []
   },
   "source": [
    "### Parameter 1: KG embeddings"
   ]
  },
  {
   "cell_type": "code",
   "execution_count": 11,
   "metadata": {
    "tags": []
   },
   "outputs": [],
   "source": [
    "complEx_rules = get_dataframe_to_plot(mined_rules_parameters, \"Model\", \"ComplEx\")\n",
    "distMult_rules = get_dataframe_to_plot(mined_rules_parameters, \"Model\", \"DistMult\")\n",
    "transE_rules = get_dataframe_to_plot(mined_rules_parameters, \"Model\", \"TransE\")\n",
    "randomBaseline_rules = get_dataframe_to_plot(mined_rules_parameters, \"Model\", \"RandomBaseline\")\n",
    "random_rules = get_dataframe_to_plot(mined_rules_parameters, \"Model\", \"Rand cand\")"
   ]
  },
  {
   "cell_type": "code",
   "execution_count": 12,
   "metadata": {},
   "outputs": [],
   "source": [
    "complEx_PCA_mean = complEx_rules['PCA Confidence'].mean()\n",
    "distMult_PCA_mean = distMult_rules['PCA Confidence'].mean()\n",
    "transE_PCA_mean = transE_rules['PCA Confidence'].mean()\n",
    "randomBaseline_PCA_mean = randomBaseline_rules['PCA Confidence'].mean()\n",
    "random_PCA_mean = random_rules['PCA Confidence'].mean()"
   ]
  },
  {
   "cell_type": "code",
   "execution_count": 13,
   "metadata": {},
   "outputs": [
    {
     "data": {
      "image/png": "[encoded data removed]",
      "text/plain": [
       "<Figure size 1080x360 with 1 Axes>"
      ]
     },
     "metadata": {
      "needs_background": "light"
     },
     "output_type": "display_data"
    }
   ],
   "source": [
    "names = [\"ComplEx\", \"DistMult\", \"TransE\", \"RandomBaseline\", \"Random\"]\n",
    "values = [complEx_PCA_mean, distMult_PCA_mean, transE_PCA_mean, randomBaseline_PCA_mean, random_PCA_mean]\n",
    "fig = plt.figure(figsize=(15,5))\n",
    "plt.bar(names, values)\n",
    "plt.ylabel('Mean PCA Confidence')\n",
    "plt.xlabel('Model')\n",
    "plt.title(\"Mean PCA confidence for rules mined over KGEs used\");"
   ]
  },
  {
   "cell_type": "code",
   "execution_count": 14,
   "metadata": {},
   "outputs": [
    {
     "data": {
      "text/html": [
       "<div>\n",
       "<style scoped>\n",
       "    .dataframe tbody tr th:only-of-type {\n",
       "        vertical-align: middle;\n",
       "    }\n",
       "\n",
       "    .dataframe tbody tr th {\n",
       "        vertical-align: top;\n",
       "    }\n",
       "\n",
       "    .dataframe thead th {\n",
       "        text-align: right;\n",
       "    }\n",
       "</style>\n",
       "<table border=\"1\" class=\"dataframe\">\n",
       "  <thead>\n",
       "    <tr style=\"text-align: right;\">\n",
       "      <th></th>\n",
       "      <th>Rule</th>\n",
       "      <th>Head Coverage</th>\n",
       "      <th>PCA Confidence</th>\n",
       "      <th>Positive Examples</th>\n",
       "      <th>PCA Body size</th>\n",
       "      <th>Functional variable</th>\n",
       "      <th>Entity_selection</th>\n",
       "      <th>Model</th>\n",
       "      <th>Candidate_criteria</th>\n",
       "    </tr>\n",
       "  </thead>\n",
       "  <tbody>\n",
       "    <tr>\n",
       "      <th>0</th>\n",
       "      <td>?b  _derivationally_related_form  ?a   =&gt; ?a  ...</td>\n",
       "      <td>0.998061</td>\n",
       "      <td>0.999186</td>\n",
       "      <td>31918</td>\n",
       "      <td>31944</td>\n",
       "      <td>-1</td>\n",
       "      <td>least_frequent</td>\n",
       "      <td>ComplEx</td>\n",
       "      <td>('rank_cutoff', 1)</td>\n",
       "    </tr>\n",
       "    <tr>\n",
       "      <th>1</th>\n",
       "      <td>?a  _instance_hypernym  ?h  ?h  _synset_domain...</td>\n",
       "      <td>0.037080</td>\n",
       "      <td>0.841060</td>\n",
       "      <td>127</td>\n",
       "      <td>151</td>\n",
       "      <td>-1</td>\n",
       "      <td>least_frequent</td>\n",
       "      <td>ComplEx</td>\n",
       "      <td>('rank_cutoff', 1)</td>\n",
       "    </tr>\n",
       "    <tr>\n",
       "      <th>2</th>\n",
       "      <td>?g  _has_part  ?a  ?g  _synset_domain_topic_of...</td>\n",
       "      <td>0.025693</td>\n",
       "      <td>0.765217</td>\n",
       "      <td>88</td>\n",
       "      <td>115</td>\n",
       "      <td>-1</td>\n",
       "      <td>least_frequent</td>\n",
       "      <td>ComplEx</td>\n",
       "      <td>('rank_cutoff', 1)</td>\n",
       "    </tr>\n",
       "    <tr>\n",
       "      <th>3</th>\n",
       "      <td>?a  _has_part  ?h  ?h  _synset_domain_topic_of...</td>\n",
       "      <td>0.019562</td>\n",
       "      <td>0.788235</td>\n",
       "      <td>67</td>\n",
       "      <td>85</td>\n",
       "      <td>-1</td>\n",
       "      <td>least_frequent</td>\n",
       "      <td>ComplEx</td>\n",
       "      <td>('rank_cutoff', 1)</td>\n",
       "    </tr>\n",
       "    <tr>\n",
       "      <th>4</th>\n",
       "      <td>?a  _derivationally_related_form  ?h  ?h  _syn...</td>\n",
       "      <td>0.041460</td>\n",
       "      <td>0.471761</td>\n",
       "      <td>142</td>\n",
       "      <td>301</td>\n",
       "      <td>-1</td>\n",
       "      <td>least_frequent</td>\n",
       "      <td>ComplEx</td>\n",
       "      <td>('rank_cutoff', 1)</td>\n",
       "    </tr>\n",
       "    <tr>\n",
       "      <th>5</th>\n",
       "      <td>?g  _derivationally_related_form  ?a  ?g  _syn...</td>\n",
       "      <td>0.041460</td>\n",
       "      <td>0.471761</td>\n",
       "      <td>142</td>\n",
       "      <td>301</td>\n",
       "      <td>-1</td>\n",
       "      <td>least_frequent</td>\n",
       "      <td>ComplEx</td>\n",
       "      <td>('rank_cutoff', 1)</td>\n",
       "    </tr>\n",
       "    <tr>\n",
       "      <th>6</th>\n",
       "      <td>?a  _hypernym  ?h  ?h  _synset_domain_topic_of...</td>\n",
       "      <td>0.210803</td>\n",
       "      <td>0.810325</td>\n",
       "      <td>722</td>\n",
       "      <td>891</td>\n",
       "      <td>-1</td>\n",
       "      <td>least_frequent</td>\n",
       "      <td>ComplEx</td>\n",
       "      <td>('rank_cutoff', 1)</td>\n",
       "    </tr>\n",
       "    <tr>\n",
       "      <th>7</th>\n",
       "      <td>?a  _has_part  ?h  ?b  _instance_hypernym  ?h ...</td>\n",
       "      <td>0.035301</td>\n",
       "      <td>0.497326</td>\n",
       "      <td>186</td>\n",
       "      <td>374</td>\n",
       "      <td>-2</td>\n",
       "      <td>least_frequent</td>\n",
       "      <td>ComplEx</td>\n",
       "      <td>('rank_cutoff', 1)</td>\n",
       "    </tr>\n",
       "    <tr>\n",
       "      <th>8</th>\n",
       "      <td>?a  _has_part  ?h  ?h  _member_meronym  ?b   =...</td>\n",
       "      <td>0.012992</td>\n",
       "      <td>0.308605</td>\n",
       "      <td>104</td>\n",
       "      <td>337</td>\n",
       "      <td>-2</td>\n",
       "      <td>least_frequent</td>\n",
       "      <td>ComplEx</td>\n",
       "      <td>('rank_cutoff', 1)</td>\n",
       "    </tr>\n",
       "    <tr>\n",
       "      <th>9</th>\n",
       "      <td>?a  _has_part  ?h  ?b  _hypernym  ?h   =&gt; ?a  ...</td>\n",
       "      <td>0.022775</td>\n",
       "      <td>0.114613</td>\n",
       "      <td>120</td>\n",
       "      <td>1047</td>\n",
       "      <td>-2</td>\n",
       "      <td>least_frequent</td>\n",
       "      <td>ComplEx</td>\n",
       "      <td>('rank_cutoff', 1)</td>\n",
       "    </tr>\n",
       "    <tr>\n",
       "      <th>10</th>\n",
       "      <td>?a  _has_part  ?g  ?g  _hypernym  ?b   =&gt; ?a  ...</td>\n",
       "      <td>0.015183</td>\n",
       "      <td>0.115607</td>\n",
       "      <td>80</td>\n",
       "      <td>692</td>\n",
       "      <td>-2</td>\n",
       "      <td>least_frequent</td>\n",
       "      <td>ComplEx</td>\n",
       "      <td>('rank_cutoff', 1)</td>\n",
       "    </tr>\n",
       "    <tr>\n",
       "      <th>11</th>\n",
       "      <td>?g  _hypernym  ?a  ?g  _synset_domain_topic_of...</td>\n",
       "      <td>0.098686</td>\n",
       "      <td>0.701245</td>\n",
       "      <td>338</td>\n",
       "      <td>482</td>\n",
       "      <td>-1</td>\n",
       "      <td>least_frequent</td>\n",
       "      <td>ComplEx</td>\n",
       "      <td>('rank_cutoff', 1)</td>\n",
       "    </tr>\n",
       "    <tr>\n",
       "      <th>12</th>\n",
       "      <td>?g  _has_part  ?a  ?g  _hypernym  ?b   =&gt; ?a  ...</td>\n",
       "      <td>0.010880</td>\n",
       "      <td>0.137449</td>\n",
       "      <td>403</td>\n",
       "      <td>2932</td>\n",
       "      <td>-1</td>\n",
       "      <td>least_frequent</td>\n",
       "      <td>ComplEx</td>\n",
       "      <td>('rank_cutoff', 1)</td>\n",
       "    </tr>\n",
       "  </tbody>\n",
       "</table>\n",
       "</div>"
      ],
      "text/plain": [
       "                                                 Rule  Head Coverage  \\\n",
       "0   ?b  _derivationally_related_form  ?a   => ?a  ...       0.998061   \n",
       "1   ?a  _instance_hypernym  ?h  ?h  _synset_domain...       0.037080   \n",
       "2   ?g  _has_part  ?a  ?g  _synset_domain_topic_of...       0.025693   \n",
       "3   ?a  _has_part  ?h  ?h  _synset_domain_topic_of...       0.019562   \n",
       "4   ?a  _derivationally_related_form  ?h  ?h  _syn...       0.041460   \n",
       "5   ?g  _derivationally_related_form  ?a  ?g  _syn...       0.041460   \n",
       "6   ?a  _hypernym  ?h  ?h  _synset_domain_topic_of...       0.210803   \n",
       "7   ?a  _has_part  ?h  ?b  _instance_hypernym  ?h ...       0.035301   \n",
       "8   ?a  _has_part  ?h  ?h  _member_meronym  ?b   =...       0.012992   \n",
       "9   ?a  _has_part  ?h  ?b  _hypernym  ?h   => ?a  ...       0.022775   \n",
       "10  ?a  _has_part  ?g  ?g  _hypernym  ?b   => ?a  ...       0.015183   \n",
       "11  ?g  _hypernym  ?a  ?g  _synset_domain_topic_of...       0.098686   \n",
       "12  ?g  _has_part  ?a  ?g  _hypernym  ?b   => ?a  ...       0.010880   \n",
       "\n",
       "    PCA Confidence Positive Examples PCA Body size Functional variable  \\\n",
       "0         0.999186             31918         31944                  -1   \n",
       "1         0.841060               127           151                  -1   \n",
       "2         0.765217                88           115                  -1   \n",
       "3         0.788235                67            85                  -1   \n",
       "4         0.471761               142           301                  -1   \n",
       "5         0.471761               142           301                  -1   \n",
       "6         0.810325               722           891                  -1   \n",
       "7         0.497326               186           374                  -2   \n",
       "8         0.308605               104           337                  -2   \n",
       "9         0.114613               120          1047                  -2   \n",
       "10        0.115607                80           692                  -2   \n",
       "11        0.701245               338           482                  -1   \n",
       "12        0.137449               403          2932                  -1   \n",
       "\n",
       "   Entity_selection    Model  Candidate_criteria  \n",
       "0    least_frequent  ComplEx  ('rank_cutoff', 1)  \n",
       "1    least_frequent  ComplEx  ('rank_cutoff', 1)  \n",
       "2    least_frequent  ComplEx  ('rank_cutoff', 1)  \n",
       "3    least_frequent  ComplEx  ('rank_cutoff', 1)  \n",
       "4    least_frequent  ComplEx  ('rank_cutoff', 1)  \n",
       "5    least_frequent  ComplEx  ('rank_cutoff', 1)  \n",
       "6    least_frequent  ComplEx  ('rank_cutoff', 1)  \n",
       "7    least_frequent  ComplEx  ('rank_cutoff', 1)  \n",
       "8    least_frequent  ComplEx  ('rank_cutoff', 1)  \n",
       "9    least_frequent  ComplEx  ('rank_cutoff', 1)  \n",
       "10   least_frequent  ComplEx  ('rank_cutoff', 1)  \n",
       "11   least_frequent  ComplEx  ('rank_cutoff', 1)  \n",
       "12   least_frequent  ComplEx  ('rank_cutoff', 1)  "
      ]
     },
     "execution_count": 14,
     "metadata": {},
     "output_type": "execute_result"
    }
   ],
   "source": [
    "complEx_rules[0:50]"
   ]
  },
  {
   "cell_type": "code",
   "execution_count": 15,
   "metadata": {
    "tags": []
   },
   "outputs": [
    {
     "name": "stdout",
     "output_type": "stream",
     "text": [
      "\n",
      "complEx\n",
      "Mined 10/10 original rules, and 3 new rules.\n"
     ]
    },
    {
     "data": {
      "image/png": "[encoded data removed]",
      "text/plain": [
       "<Figure size 432x288 with 1 Axes>"
      ]
     },
     "metadata": {},
     "output_type": "display_data"
    },
    {
     "name": "stdout",
     "output_type": "stream",
     "text": [
      "\n",
      "distMult\n",
      "Mined 10/10 original rules, and 30 new rules.\n"
     ]
    },
    {
     "data": {
      "image/png": "[encoded data removed]",
      "text/plain": [
       "<Figure size 432x288 with 1 Axes>"
      ]
     },
     "metadata": {},
     "output_type": "display_data"
    },
    {
     "name": "stdout",
     "output_type": "stream",
     "text": [
      "\n",
      "transE\n",
      "Mined 9/10 original rules, and 608 new rules.\n",
      "Rules missed:\n",
      "?a  _derivationally_related_form  ?h  ?h  _synset_domain_topic_of  ?b   => ?a  _synset_domain_topic_of  ?b\n"
     ]
    },
    {
     "data": {
      "image/png": "[encoded data removed]",
      "text/plain": [
       "<Figure size 432x288 with 1 Axes>"
      ]
     },
     "metadata": {},
     "output_type": "display_data"
    },
    {
     "name": "stdout",
     "output_type": "stream",
     "text": [
      "\n",
      "randomBaseline\n",
      "Mined 8/10 original rules, and 0 new rules.\n",
      "Rules missed:\n",
      "?a  _has_part  ?h  ?b  _hypernym  ?h   => ?a  _has_part  ?b\n"
     ]
    },
    {
     "data": {
      "image/png": "[encoded data removed]",
      "text/plain": [
       "<Figure size 432x288 with 1 Axes>"
      ]
     },
     "metadata": {},
     "output_type": "display_data"
    },
    {
     "name": "stdout",
     "output_type": "stream",
     "text": [
      "\n",
      "random\n",
      "Mined 8/10 original rules, and 0 new rules.\n",
      "Rules missed:\n",
      "?a  _has_part  ?h  ?b  _hypernym  ?h   => ?a  _has_part  ?b\n"
     ]
    },
    {
     "data": {
      "image/png": "[encoded data removed]",
      "text/plain": [
       "<Figure size 432x288 with 1 Axes>"
      ]
     },
     "metadata": {},
     "output_type": "display_data"
    }
   ],
   "source": [
    "display_comparison(\"complEx\", original_rules, complEx_rules.drop_duplicates(\"Rule\"))\n",
    "display_comparison(\"distMult\", original_rules, distMult_rules.drop_duplicates(\"Rule\"))\n",
    "display_comparison(\"transE\", original_rules, transE_rules.drop_duplicates(\"Rule\"))\n",
    "display_comparison(\"randomBaseline\", original_rules, randomBaseline_rules.drop_duplicates(\"Rule\"))\n",
    "display_comparison(\"random\", original_rules, random_rules.drop_duplicates(\"Rule\"))"
   ]
  },
  {
   "cell_type": "code",
   "execution_count": 16,
   "metadata": {},
   "outputs": [
    {
     "data": {
      "text/html": [
       "<div>\n",
       "<style scoped>\n",
       "    .dataframe tbody tr th:only-of-type {\n",
       "        vertical-align: middle;\n",
       "    }\n",
       "\n",
       "    .dataframe tbody tr th {\n",
       "        vertical-align: top;\n",
       "    }\n",
       "\n",
       "    .dataframe thead th {\n",
       "        text-align: right;\n",
       "    }\n",
       "</style>\n",
       "<table border=\"1\" class=\"dataframe\">\n",
       "  <thead>\n",
       "    <tr style=\"text-align: right;\">\n",
       "      <th></th>\n",
       "      <th>Model</th>\n",
       "      <th>Not found</th>\n",
       "      <th>Found</th>\n",
       "      <th>New</th>\n",
       "    </tr>\n",
       "  </thead>\n",
       "  <tbody>\n",
       "    <tr>\n",
       "      <th>0</th>\n",
       "      <td>ComplEx</td>\n",
       "      <td>0</td>\n",
       "      <td>10</td>\n",
       "      <td>3</td>\n",
       "    </tr>\n",
       "    <tr>\n",
       "      <th>0</th>\n",
       "      <td>DistMult</td>\n",
       "      <td>0</td>\n",
       "      <td>10</td>\n",
       "      <td>30</td>\n",
       "    </tr>\n",
       "    <tr>\n",
       "      <th>0</th>\n",
       "      <td>TransE</td>\n",
       "      <td>1</td>\n",
       "      <td>9</td>\n",
       "      <td>608</td>\n",
       "    </tr>\n",
       "    <tr>\n",
       "      <th>0</th>\n",
       "      <td>RandomBaseline</td>\n",
       "      <td>1</td>\n",
       "      <td>8</td>\n",
       "      <td>0</td>\n",
       "    </tr>\n",
       "    <tr>\n",
       "      <th>0</th>\n",
       "      <td>Rand cand</td>\n",
       "      <td>1</td>\n",
       "      <td>8</td>\n",
       "      <td>0</td>\n",
       "    </tr>\n",
       "  </tbody>\n",
       "</table>\n",
       "</div>"
      ],
      "text/plain": [
       "            Model Not found Found  New\n",
       "0         ComplEx         0    10    3\n",
       "0        DistMult         0    10   30\n",
       "0          TransE         1     9  608\n",
       "0  RandomBaseline         1     8    0\n",
       "0       Rand cand         1     8    0"
      ]
     },
     "execution_count": 16,
     "metadata": {},
     "output_type": "execute_result"
    }
   ],
   "source": [
    "#def get_rule_distribution_dataframe(original_rules, mined_rules):\n",
    "models = mined_rules_parameters.Model.unique()\n",
    "rule_set_A = original_rules\n",
    "rule_dist_df = pd.DataFrame([], columns = [\"Model\", \"Not found\", \"Found\", \"New\"])\n",
    "for model in models:\n",
    "    if model == \"Original rules\":\n",
    "        continue\n",
    "    rule_set_B = mined_rules_parameters.loc[(mined_rules_parameters['Model'] == model)].drop_duplicates(['Rule'])\n",
    "    common = get_common_rules(rule_set_A, rule_set_B)\n",
    "    unique_A, unique_B = get_unique_rules(rule_set_A, rule_set_B)\n",
    "    common = len(common)\n",
    "    len_unique_A = len(unique_A)\n",
    "    len_unique_B = len(unique_B)\n",
    "    append_df = pd.DataFrame([[model, len_unique_A, common, len_unique_B]], columns = [\"Model\", \"Not found\", \"Found\", \"New\"])\n",
    "    rule_dist_df = rule_dist_df.append(append_df)\n",
    "rule_dist_df"
   ]
  },
  {
   "cell_type": "code",
   "execution_count": 17,
   "metadata": {},
   "outputs": [
    {
     "data": {
      "text/plain": [
       "Text(4, -0.05, '10')"
      ]
     },
     "execution_count": 17,
     "metadata": {},
     "output_type": "execute_result"
    },
    {
     "data": {
      "image/png": "[encoded data removed]",
      "text/plain": [
       "<Figure size 864x360 with 1 Axes>"
      ]
     },
     "metadata": {
      "needs_background": "light"
     },
     "output_type": "display_data"
    }
   ],
   "source": [
    "df = pd.DataFrame(rule_dist_df.set_index('Model'))\n",
    "ax = df.plot.barh(figsize = (12, 5), title = \"Number of rules over KGEs\", stacked=True, xlim = (0,170), legend = True)\n",
    "ax.set_xlabel('Number of rules')\n",
    "randomBaseline_not_found_rules = 1 # TODO\n",
    "ax.annotate(str(randomBaseline_not_found_rules), xy =(0.08,2.95), color = \"white\")\n",
    "randomBaseline_found_rules = rule_dist_df.loc[(rule_dist_df['Model'] == 'RandomBaseline')].Found.values[0]\n",
    "ax.annotate(str(randomBaseline_found_rules), xy =(4,2.95), color = \"white\", fontsize=12)\n",
    "transE_new_rules = rule_dist_df.loc[(rule_dist_df['Model'] == 'TransE')].New.values[0]\n",
    "ax.annotate(str(transE_new_rules), xy =(45,1.9), color = \"white\", fontsize=16)\n",
    "transE_found_rules = rule_dist_df.loc[(rule_dist_df['Model'] == 'TransE')].Found.values[0]\n",
    "ax.annotate(str(transE_found_rules), xy =(4,1.95), color = \"white\", fontsize=12)\n",
    "distMult_new_rules = rule_dist_df.loc[(rule_dist_df['Model'] == 'DistMult')].New.values[0]\n",
    "ax.annotate(str(distMult_new_rules), xy =(45,0.95), color = \"white\", fontsize=12)\n",
    "distMult_found_rules = rule_dist_df.loc[(rule_dist_df['Model'] == 'DistMult')].Found.values[0]\n",
    "ax.annotate(str(distMult_found_rules), xy =(4,0.95), color = \"white\", fontsize=12)\n",
    "complEx_new_rules = rule_dist_df.loc[(rule_dist_df['Model'] == 'ComplEx')].New.values[0]\n",
    "ax.annotate(str(complEx_new_rules), xy =(18,-0.05), color = \"white\", fontsize=12)\n",
    "complEx_found_rules = rule_dist_df.loc[(rule_dist_df['Model'] == 'ComplEx')].Found.values[0]\n",
    "ax.annotate(str(complEx_found_rules), xy =(4,-0.05), color = \"white\", fontsize=12)"
   ]
  },
  {
   "cell_type": "code",
   "execution_count": 24,
   "metadata": {},
   "outputs": [],
   "source": [
    "def parse_rule(string_rule: str):\n",
    "    list_rule = string_rule.split()\n",
    "    body_1 = [list_rule[0], list_rule[1], list_rule[2]]\n",
    "    body_parts = [body_1]\n",
    "    if len(list_rule) > 7:\n",
    "        body_2 = [list_rule[3], list_rule[4], list_rule[5]]\n",
    "        body_parts.append(body_2)\n",
    "        head = [list_rule[7], list_rule[8], list_rule[9]]\n",
    "    else:\n",
    "        head = [list_rule[4], list_rule[5], list_rule[6]]\n",
    "    return body_parts, head"
   ]
  },
  {
   "cell_type": "code",
   "execution_count": 31,
   "metadata": {},
   "outputs": [],
   "source": [
    "b, h = parse_rule(transE_rules.drop_duplicates(\"Rule\").Rule[0])"
   ]
  },
  {
   "cell_type": "code",
   "execution_count": 32,
   "metadata": {},
   "outputs": [
    {
     "data": {
      "text/plain": [
       "[['?b', '_has_part', '?a']]"
      ]
     },
     "execution_count": 32,
     "metadata": {},
     "output_type": "execute_result"
    }
   ],
   "source": [
    "b"
   ]
  },
  {
   "cell_type": "code",
   "execution_count": 33,
   "metadata": {},
   "outputs": [
    {
     "data": {
      "text/plain": [
       "['?a', '_synset_domain_topic_of', '?b']"
      ]
     },
     "execution_count": 33,
     "metadata": {},
     "output_type": "execute_result"
    }
   ],
   "source": [
    "h"
   ]
  },
  {
   "cell_type": "code",
   "execution_count": 34,
   "metadata": {},
   "outputs": [
    {
     "name": "stdout",
     "output_type": "stream",
     "text": [
      "?b  _has_part  ?a   => ?a  _synset_domain_topic_of  ?b\n",
      "?b  _hypernym  ?a   => ?a  _synset_domain_topic_of  ?b\n",
      "?b  _synset_domain_topic_of  ?a   => ?a  _synset_domain_topic_of  ?b\n",
      "?a  _member_meronym  ?b   => ?a  _synset_domain_topic_of  ?b\n",
      "?b  _derivationally_related_form  ?a   => ?a  _synset_domain_topic_of  ?b\n",
      "?a  _has_part  ?b   => ?a  _synset_domain_topic_of  ?b\n",
      "?b  _member_meronym  ?a   => ?a  _synset_domain_topic_of  ?b\n",
      "?a  _derivationally_related_form  ?b   => ?a  _synset_domain_topic_of  ?b\n",
      "?a  _hypernym  ?b   => ?a  _synset_domain_topic_of  ?b\n",
      "?b  _synset_domain_topic_of  ?a   => ?a  _has_part  ?b\n",
      "?b  _hypernym  ?a   => ?a  _has_part  ?b\n",
      "?a  _derivationally_related_form  ?b   => ?a  _has_part  ?b\n",
      "?b  _member_meronym  ?a   => ?a  _has_part  ?b\n",
      "?b  _derivationally_related_form  ?a   => ?a  _has_part  ?b\n",
      "?a  _synset_domain_topic_of  ?b   => ?a  _has_part  ?b\n",
      "?a  _hypernym  ?b   => ?a  _has_part  ?b\n",
      "?a  _member_meronym  ?b   => ?a  _has_part  ?b\n",
      "?b  _has_part  ?a   => ?a  _has_part  ?b\n",
      "?a  _has_part  ?b   => ?a  _member_meronym  ?b\n",
      "?b  _has_part  ?a   => ?a  _member_meronym  ?b\n",
      "?a  _synset_domain_topic_of  ?b   => ?a  _member_meronym  ?b\n",
      "?b  _synset_domain_topic_of  ?a   => ?a  _member_meronym  ?b\n",
      "?a  _derivationally_related_form  ?b   => ?a  _member_meronym  ?b\n",
      "?b  _derivationally_related_form  ?a   => ?a  _member_meronym  ?b\n",
      "?b  _derivationally_related_form  ?a   => ?a  _derivationally_related_form  ?b\n",
      "?b  _member_meronym  ?a   => ?a  _derivationally_related_form  ?b\n",
      "?a  _member_meronym  ?b   => ?a  _derivationally_related_form  ?b\n",
      "?a  _has_part  ?b   => ?a  _derivationally_related_form  ?b\n",
      "?a  _synset_domain_topic_of  ?b   => ?a  _derivationally_related_form  ?b\n",
      "?b  _synset_domain_topic_of  ?a   => ?a  _derivationally_related_form  ?b\n",
      "?b  _has_part  ?a   => ?a  _derivationally_related_form  ?b\n",
      "?b  _has_part  ?a   => ?a  _hypernym  ?b\n",
      "?a  _has_part  ?b   => ?a  _hypernym  ?b\n",
      "?b  _synset_domain_topic_of  ?a   => ?a  _hypernym  ?b\n",
      "?a  _synset_domain_topic_of  ?b   => ?a  _hypernym  ?b\n",
      "?b  _has_part  ?a  ?a  _has_part  ?b   => ?a  _synset_domain_topic_of  ?b\n",
      "?a  _derivationally_related_form  ?h  ?h  _instance_hypernym  ?b   => ?a  _instance_hypernym  ?b\n",
      "?b  _has_part  ?a  ?a  _member_meronym  ?b   => ?a  _synset_domain_topic_of  ?b\n",
      "?b  _has_part  ?a  ?a  _hypernym  ?b   => ?a  _synset_domain_topic_of  ?b\n",
      "?b  _derivationally_related_form  ?a  ?b  _has_part  ?a   => ?a  _synset_domain_topic_of  ?b\n",
      "?b  _has_part  ?h  ?a  _instance_hypernym  ?h   => ?a  _instance_hypernym  ?b\n",
      "?g  _derivationally_related_form  ?a  ?g  _instance_hypernym  ?b   => ?a  _instance_hypernym  ?b\n",
      "?b  _has_part  ?a  ?b  _member_meronym  ?a   => ?a  _synset_domain_topic_of  ?b\n",
      "?a  _derivationally_related_form  ?b  ?b  _has_part  ?a   => ?a  _synset_domain_topic_of  ?b\n",
      "?b  _has_part  ?a  ?b  _synset_domain_topic_of  ?a   => ?a  _synset_domain_topic_of  ?b\n",
      "?b  _has_part  ?h  ?h  _synset_domain_topic_of  ?a   => ?a  _synset_domain_topic_of  ?b\n",
      "?b  _has_part  ?a  ?b  _hypernym  ?a   => ?a  _synset_domain_topic_of  ?b\n",
      "?b  _hypernym  ?h  ?h  _synset_domain_topic_of  ?a   => ?a  _synset_domain_topic_of  ?b\n",
      "?b  _has_part  ?h  ?h  _hypernym  ?a   => ?a  _synset_domain_topic_of  ?b\n",
      "?h  _has_part  ?a  ?b  _has_part  ?h   => ?a  _synset_domain_topic_of  ?b\n",
      "?b  _hypernym  ?h  ?h  _member_meronym  ?a   => ?a  _synset_domain_topic_of  ?b\n",
      "?a  _derivationally_related_form  ?h  ?b  _has_part  ?h   => ?a  _synset_domain_topic_of  ?b\n",
      "?h  _has_part  ?a  ?b  _hypernym  ?h   => ?a  _synset_domain_topic_of  ?b\n",
      "?h  _derivationally_related_form  ?a  ?b  _hypernym  ?h   => ?a  _synset_domain_topic_of  ?b\n",
      "?a  _has_part  ?h  ?b  _has_part  ?h   => ?a  _synset_domain_topic_of  ?b\n",
      "?b  _has_part  ?h  ?a  _hypernym  ?h   => ?a  _synset_domain_topic_of  ?b\n",
      "?b  _hypernym  ?a  ?b  _synset_domain_topic_of  ?a   => ?a  _synset_domain_topic_of  ?b\n",
      "?a  _has_part  ?h  ?b  _hypernym  ?h   => ?a  _synset_domain_topic_of  ?b\n",
      "?h  _derivationally_related_form  ?a  ?b  _has_part  ?h   => ?a  _synset_domain_topic_of  ?b\n",
      "?b  _hypernym  ?a  ?a  _member_meronym  ?b   => ?a  _synset_domain_topic_of  ?b\n",
      "?a  _has_part  ?b  ?b  _hypernym  ?a   => ?a  _synset_domain_topic_of  ?b\n",
      "?b  _hypernym  ?a  ?a  _hypernym  ?b   => ?a  _synset_domain_topic_of  ?b\n",
      "?a  _derivationally_related_form  ?b  ?b  _synset_domain_topic_of  ?a   => ?a  _synset_domain_topic_of  ?b\n",
      "?a  _member_meronym  ?b  ?b  _synset_domain_topic_of  ?a   => ?a  _synset_domain_topic_of  ?b\n",
      "?b  _has_part  ?h  ?h  _member_meronym  ?a   => ?a  _synset_domain_topic_of  ?b\n",
      "?b  _has_part  ?h  ?a  _member_meronym  ?h   => ?a  _synset_domain_topic_of  ?b\n",
      "?b  _derivationally_related_form  ?a  ?b  _hypernym  ?a   => ?a  _synset_domain_topic_of  ?b\n",
      "?b  _hypernym  ?h  ?a  _member_meronym  ?h   => ?a  _synset_domain_topic_of  ?b\n",
      "?a  _derivationally_related_form  ?h  ?b  _hypernym  ?h   => ?a  _synset_domain_topic_of  ?b\n",
      "?a  _has_part  ?b  ?b  _synset_domain_topic_of  ?a   => ?a  _synset_domain_topic_of  ?b\n",
      "?b  _hypernym  ?a  ?b  _member_meronym  ?a   => ?a  _synset_domain_topic_of  ?b\n",
      "?a  _hypernym  ?b  ?b  _synset_domain_topic_of  ?a   => ?a  _synset_domain_topic_of  ?b\n",
      "?b  _member_meronym  ?a  ?b  _synset_domain_topic_of  ?a   => ?a  _synset_domain_topic_of  ?b\n",
      "?b  _derivationally_related_form  ?a  ?b  _synset_domain_topic_of  ?a   => ?a  _synset_domain_topic_of  ?b\n",
      "?b  _has_part  ?h  ?a  _synset_domain_topic_of  ?h   => ?a  _synset_domain_topic_of  ?b\n",
      "?a  _hypernym  ?b  ?a  _member_meronym  ?b   => ?a  _synset_domain_topic_of  ?b\n",
      "?b  _derivationally_related_form  ?h  ?h  _synset_domain_topic_of  ?a   => ?a  _synset_domain_topic_of  ?b\n",
      "?b  _derivationally_related_form  ?a  ?a  _member_meronym  ?b   => ?a  _synset_domain_topic_of  ?b\n",
      "?b  _member_meronym  ?a  ?a  _member_meronym  ?b   => ?a  _synset_domain_topic_of  ?b\n",
      "?b  _member_meronym  ?h  ?h  _synset_domain_topic_of  ?a   => ?a  _synset_domain_topic_of  ?b\n",
      "?a  _derivationally_related_form  ?b  ?b  _hypernym  ?a   => ?a  _synset_domain_topic_of  ?b\n",
      "?b  _derivationally_related_form  ?h  ?a  _member_meronym  ?h   => ?a  _synset_domain_topic_of  ?b\n",
      "?h  _has_part  ?a  ?b  _member_meronym  ?h   => ?a  _synset_domain_topic_of  ?b\n",
      "?a  _has_part  ?b  ?a  _member_meronym  ?b   => ?a  _synset_domain_topic_of  ?b\n",
      "?a  _derivationally_related_form  ?b  ?a  _member_meronym  ?b   => ?a  _synset_domain_topic_of  ?b\n",
      "?b  _derivationally_related_form  ?h  ?a  _has_part  ?h   => ?a  _synset_domain_topic_of  ?b\n",
      "?b  _derivationally_related_form  ?h  ?h  _has_part  ?a   => ?a  _synset_domain_topic_of  ?b\n",
      "?h  _member_meronym  ?a  ?b  _member_meronym  ?h   => ?a  _synset_domain_topic_of  ?b\n",
      "?b  _derivationally_related_form  ?h  ?h  _member_meronym  ?a   => ?a  _synset_domain_topic_of  ?b\n",
      "?a  _has_part  ?h  ?b  _member_meronym  ?h   => ?a  _synset_domain_topic_of  ?b\n",
      "?h  _synset_domain_topic_of  ?a  ?b  _synset_domain_topic_of  ?h   => ?a  _synset_domain_topic_of  ?b\n",
      "?b  _derivationally_related_form  ?h  ?h  _hypernym  ?a   => ?a  _synset_domain_topic_of  ?b\n",
      "?h  _derivationally_related_form  ?a  ?b  _synset_domain_topic_of  ?h   => ?a  _synset_domain_topic_of  ?b\n",
      "?a  _derivationally_related_form  ?h  ?b  _member_meronym  ?h   => ?a  _synset_domain_topic_of  ?b\n",
      "?h  _member_meronym  ?a  ?b  _synset_domain_topic_of  ?h   => ?a  _synset_domain_topic_of  ?b\n",
      "?h  _hypernym  ?a  ?b  _member_meronym  ?h   => ?a  _synset_domain_topic_of  ?b\n",
      "?b  _derivationally_related_form  ?a  ?a  _has_part  ?b   => ?a  _synset_domain_topic_of  ?b\n",
      "?h  _hypernym  ?a  ?b  _synset_domain_topic_of  ?h   => ?a  _synset_domain_topic_of  ?b\n",
      "?a  _has_part  ?h  ?b  _synset_domain_topic_of  ?h   => ?a  _synset_domain_topic_of  ?b\n",
      "?a  _derivationally_related_form  ?h  ?b  _synset_domain_topic_of  ?h   => ?a  _synset_domain_topic_of  ?b\n",
      "?h  _derivationally_related_form  ?a  ?b  _member_meronym  ?h   => ?a  _synset_domain_topic_of  ?b\n",
      "?a  _member_meronym  ?h  ?b  _synset_domain_topic_of  ?h   => ?a  _synset_domain_topic_of  ?b\n",
      "?h  _derivationally_related_form  ?a  ?b  _derivationally_related_form  ?h   => ?a  _synset_domain_topic_of  ?b\n",
      "?h  _has_part  ?a  ?b  _synset_domain_topic_of  ?h   => ?a  _synset_domain_topic_of  ?b\n",
      "?b  _member_meronym  ?h  ?a  _synset_domain_topic_of  ?h   => ?a  _synset_domain_topic_of  ?b\n",
      "?a  _hypernym  ?h  ?b  _member_meronym  ?h   => ?a  _synset_domain_topic_of  ?b\n",
      "?a  _derivationally_related_form  ?b  ?a  _has_part  ?b   => ?a  _synset_domain_topic_of  ?b\n",
      "?a  _derivationally_related_form  ?h  ?b  _derivationally_related_form  ?h   => ?a  _synset_domain_topic_of  ?b\n",
      "?a  _has_part  ?h  ?h  _synset_domain_topic_of  ?b   => ?a  _synset_domain_topic_of  ?b\n",
      "?a  _has_part  ?b  ?b  _member_meronym  ?a   => ?a  _synset_domain_topic_of  ?b\n",
      "?a  _derivationally_related_form  ?b  ?b  _member_meronym  ?a   => ?a  _synset_domain_topic_of  ?b\n",
      "?a  _member_meronym  ?h  ?h  _synset_domain_topic_of  ?b   => ?a  _synset_domain_topic_of  ?b\n",
      "?a  _member_meronym  ?h  ?b  _member_meronym  ?h   => ?a  _synset_domain_topic_of  ?b\n",
      "?b  _derivationally_related_form  ?a  ?b  _member_meronym  ?a   => ?a  _synset_domain_topic_of  ?b\n",
      "?a  _hypernym  ?b  ?b  _member_meronym  ?a   => ?a  _synset_domain_topic_of  ?b\n",
      "?b  _derivationally_related_form  ?a  ?a  _hypernym  ?b   => ?a  _synset_domain_topic_of  ?b\n",
      "?b  _derivationally_related_form  ?h  ?a  _synset_domain_topic_of  ?h   => ?a  _synset_domain_topic_of  ?b\n",
      "?h  _derivationally_related_form  ?b  ?a  _member_meronym  ?h   => ?a  _synset_domain_topic_of  ?b\n",
      "?a  _has_part  ?b  ?a  _hypernym  ?b   => ?a  _synset_domain_topic_of  ?b\n",
      "?h  _hypernym  ?b  ?a  _member_meronym  ?h   => ?a  _synset_domain_topic_of  ?b\n",
      "?a  _instance_hypernym  ?h  ?h  _synset_domain_topic_of  ?b   => ?a  _synset_domain_topic_of  ?b\n",
      "?a  _derivationally_related_form  ?b  ?a  _hypernym  ?b   => ?a  _synset_domain_topic_of  ?b\n",
      "?g  _derivationally_related_form  ?b  ?g  _synset_domain_topic_of  ?a   => ?a  _synset_domain_topic_of  ?b\n",
      "?g  _hypernym  ?b  ?g  _synset_domain_topic_of  ?a   => ?a  _synset_domain_topic_of  ?b\n",
      "?a  _derivationally_related_form  ?g  ?g  _has_part  ?b   => ?a  _synset_domain_topic_of  ?b\n",
      "?g  _has_part  ?b  ?g  _member_meronym  ?a   => ?a  _synset_domain_topic_of  ?b\n",
      "?h  _member_meronym  ?b  ?a  _member_meronym  ?h   => ?a  _synset_domain_topic_of  ?b\n",
      "?g  _has_part  ?b  ?g  _synset_domain_topic_of  ?a   => ?a  _synset_domain_topic_of  ?b\n",
      "?g  _member_meronym  ?b  ?g  _synset_domain_topic_of  ?a   => ?a  _synset_domain_topic_of  ?b\n",
      "?a  _has_part  ?h  ?h  _member_meronym  ?b   => ?a  _synset_domain_topic_of  ?b\n",
      "?g  _has_part  ?b  ?a  _hypernym  ?g   => ?a  _synset_domain_topic_of  ?b\n",
      "?g  _synset_domain_topic_of  ?a  ?g  _synset_domain_topic_of  ?b   => ?a  _synset_domain_topic_of  ?b\n",
      "?h  _has_part  ?b  ?a  _has_part  ?h   => ?a  _synset_domain_topic_of  ?b\n",
      "?h  _has_part  ?b  ?a  _member_meronym  ?h   => ?a  _synset_domain_topic_of  ?b\n",
      "?h  _derivationally_related_form  ?b  ?a  _has_part  ?h   => ?a  _synset_domain_topic_of  ?b\n",
      "?g  _has_part  ?b  ?g  _hypernym  ?a   => ?a  _synset_domain_topic_of  ?b\n",
      "?g  _member_meronym  ?a  ?g  _synset_domain_topic_of  ?b   => ?a  _synset_domain_topic_of  ?b\n",
      "?g  _has_part  ?a  ?g  _synset_domain_topic_of  ?b   => ?a  _synset_domain_topic_of  ?b\n",
      "?g  _derivationally_related_form  ?b  ?g  _member_meronym  ?a   => ?a  _synset_domain_topic_of  ?b\n",
      "?g  _has_part  ?b  ?a  _synset_domain_topic_of  ?g   => ?a  _synset_domain_topic_of  ?b\n",
      "?g  _derivationally_related_form  ?b  ?g  _has_part  ?a   => ?a  _synset_domain_topic_of  ?b\n",
      "?g  _member_meronym  ?a  ?g  _member_meronym  ?b   => ?a  _synset_domain_topic_of  ?b\n",
      "?g  _has_part  ?a  ?g  _member_meronym  ?b   => ?a  _synset_domain_topic_of  ?b\n",
      "?g  _has_part  ?a  ?g  _hypernym  ?b   => ?a  _synset_domain_topic_of  ?b\n",
      "?g  _has_part  ?a  ?g  _has_part  ?b   => ?a  _synset_domain_topic_of  ?b\n",
      "?a  _has_part  ?h  ?h  _hypernym  ?b   => ?a  _synset_domain_topic_of  ?b\n",
      "?a  _hypernym  ?h  ?h  _synset_domain_topic_of  ?b   => ?a  _synset_domain_topic_of  ?b\n",
      "?g  _hypernym  ?a  ?g  _member_meronym  ?b   => ?a  _synset_domain_topic_of  ?b\n",
      "?g  _derivationally_related_form  ?a  ?g  _member_meronym  ?b   => ?a  _synset_domain_topic_of  ?b\n",
      "?a  _hypernym  ?h  ?h  _member_meronym  ?b   => ?a  _synset_domain_topic_of  ?b\n",
      "?h  _synset_domain_topic_of  ?b  ?a  _synset_domain_topic_of  ?h   => ?a  _synset_domain_topic_of  ?b\n",
      "?g  _derivationally_related_form  ?a  ?g  _has_part  ?b   => ?a  _synset_domain_topic_of  ?b\n",
      "?g  _hypernym  ?b  ?g  _member_meronym  ?a   => ?a  _synset_domain_topic_of  ?b\n",
      "?a  _derivationally_related_form  ?g  ?g  _member_meronym  ?b   => ?a  _synset_domain_topic_of  ?b\n",
      "?h  _member_meronym  ?b  ?a  _synset_domain_topic_of  ?h   => ?a  _synset_domain_topic_of  ?b\n",
      "?g  _hypernym  ?a  ?g  _synset_domain_topic_of  ?b   => ?a  _synset_domain_topic_of  ?b\n",
      "?g  _derivationally_related_form  ?a  ?g  _derivationally_related_form  ?b   => ?a  _synset_domain_topic_of  ?b\n",
      "?b  _synset_domain_topic_of  ?a  ?a  _synset_domain_topic_of  ?b   => ?a  _has_part  ?b\n",
      "?a  _derivationally_related_form  ?g  ?g  _hypernym  ?b   => ?a  _synset_domain_topic_of  ?b\n",
      "?h  _hypernym  ?b  ?a  _hypernym  ?h   => ?a  _synset_domain_topic_of  ?b\n",
      "?g  _hypernym  ?a  ?g  _hypernym  ?b   => ?a  _synset_domain_topic_of  ?b\n",
      "?a  _derivationally_related_form  ?b  ?b  _synset_domain_topic_of  ?a   => ?a  _has_part  ?b\n",
      "?g  _derivationally_related_form  ?a  ?g  _synset_domain_topic_of  ?b   => ?a  _synset_domain_topic_of  ?b\n",
      "?h  _hypernym  ?b  ?a  _synset_domain_topic_of  ?h   => ?a  _synset_domain_topic_of  ?b\n",
      "?a  _member_meronym  ?b  ?b  _synset_domain_topic_of  ?a   => ?a  _has_part  ?b\n",
      "?a  _derivationally_related_form  ?g  ?g  _synset_domain_topic_of  ?b   => ?a  _synset_domain_topic_of  ?b\n",
      "?b  _member_meronym  ?a  ?b  _synset_domain_topic_of  ?a   => ?a  _has_part  ?b\n",
      "?g  _derivationally_related_form  ?b  ?a  _synset_domain_topic_of  ?g   => ?a  _synset_domain_topic_of  ?b\n",
      "?h  _has_part  ?a  ?b  _synset_domain_topic_of  ?h   => ?a  _has_part  ?b\n",
      "?h  _derivationally_related_form  ?a  ?b  _synset_domain_topic_of  ?h   => ?a  _has_part  ?b\n",
      "?h  _member_meronym  ?a  ?b  _synset_domain_topic_of  ?h   => ?a  _has_part  ?b\n",
      "?a  _has_part  ?h  ?b  _synset_domain_topic_of  ?h   => ?a  _has_part  ?b\n",
      "?a  _hypernym  ?h  ?b  _synset_domain_topic_of  ?h   => ?a  _has_part  ?b\n",
      "?g  _derivationally_related_form  ?b  ?g  _hypernym  ?a   => ?a  _synset_domain_topic_of  ?b\n",
      "?a  _derivationally_related_form  ?h  ?b  _synset_domain_topic_of  ?h   => ?a  _has_part  ?b\n",
      "?b  _has_part  ?h  ?h  _synset_domain_topic_of  ?a   => ?a  _has_part  ?b\n",
      "?a  _member_meronym  ?h  ?b  _synset_domain_topic_of  ?h   => ?a  _has_part  ?b\n",
      "?b  _derivationally_related_form  ?a  ?b  _synset_domain_topic_of  ?a   => ?a  _has_part  ?b\n",
      "?a  _has_part  ?h  ?b  _instance_hypernym  ?h   => ?a  _has_part  ?b\n",
      "?b  _hypernym  ?a  ?b  _synset_domain_topic_of  ?a   => ?a  _has_part  ?b\n",
      "?a  _hypernym  ?b  ?b  _synset_domain_topic_of  ?a   => ?a  _has_part  ?b\n",
      "?b  _has_part  ?a  ?b  _synset_domain_topic_of  ?a   => ?a  _has_part  ?b\n",
      "?h  _hypernym  ?a  ?b  _synset_domain_topic_of  ?h   => ?a  _has_part  ?b\n",
      "?b  _has_part  ?h  ?a  _synset_domain_topic_of  ?h   => ?a  _has_part  ?b\n",
      "?b  _has_part  ?h  ?h  _member_meronym  ?a   => ?a  _has_part  ?b\n",
      "?b  _has_part  ?h  ?h  _hypernym  ?a   => ?a  _has_part  ?b\n",
      "?g  _derivationally_related_form  ?a  ?g  _hypernym  ?b   => ?a  _synset_domain_topic_of  ?b\n",
      "?b  _hypernym  ?a  ?a  _hypernym  ?b   => ?a  _has_part  ?b\n",
      "?a  _derivationally_related_form  ?h  ?b  _has_part  ?h   => ?a  _has_part  ?b\n",
      "?b  _has_part  ?h  ?a  _member_meronym  ?h   => ?a  _has_part  ?b\n",
      "?a  _derivationally_related_form  ?b  ?b  _hypernym  ?a   => ?a  _has_part  ?b\n",
      "?b  _hypernym  ?a  ?a  _synset_domain_topic_of  ?b   => ?a  _has_part  ?b\n",
      "?b  _has_part  ?a  ?b  _hypernym  ?a   => ?a  _has_part  ?b\n",
      "?a  _has_part  ?h  ?b  _has_part  ?h   => ?a  _has_part  ?b\n",
      "?b  _derivationally_related_form  ?a  ?b  _hypernym  ?a   => ?a  _has_part  ?b\n",
      "?b  _hypernym  ?a  ?b  _member_meronym  ?a   => ?a  _has_part  ?b\n",
      "?h  _has_part  ?a  ?b  _member_meronym  ?h   => ?a  _has_part  ?b\n",
      "?a  _derivationally_related_form  ?b  ?a  _member_meronym  ?b   => ?a  _has_part  ?b\n",
      "?a  _derivationally_related_form  ?b  ?b  _has_part  ?a   => ?a  _has_part  ?b\n",
      "?a  _derivationally_related_form  ?b  ?b  _member_meronym  ?a   => ?a  _has_part  ?b\n",
      "?h  _synset_domain_topic_of  ?a  ?b  _synset_domain_topic_of  ?h   => ?a  _has_part  ?b\n",
      "?h  _derivationally_related_form  ?a  ?b  _has_part  ?h   => ?a  _has_part  ?b\n",
      "?h  _has_part  ?a  ?b  _has_part  ?h   => ?a  _has_part  ?b\n",
      "?g  _derivationally_related_form  ?b  ?a  _derivationally_related_form  ?g   => ?a  _synset_domain_topic_of  ?b\n",
      "?b  _has_part  ?h  ?a  _hypernym  ?h   => ?a  _has_part  ?b\n",
      "?a  _derivationally_related_form  ?b  ?a  _hypernym  ?b   => ?a  _has_part  ?b\n",
      "?h  _derivationally_related_form  ?a  ?b  _member_meronym  ?h   => ?a  _has_part  ?b\n",
      "?b  _member_meronym  ?h  ?a  _synset_domain_topic_of  ?h   => ?a  _has_part  ?b\n",
      "?h  _hypernym  ?a  ?b  _member_meronym  ?h   => ?a  _has_part  ?b\n",
      "?h  _member_meronym  ?a  ?b  _member_meronym  ?h   => ?a  _has_part  ?b\n",
      "?b  _member_meronym  ?a  ?a  _synset_domain_topic_of  ?b   => ?a  _has_part  ?b\n",
      "?a  _derivationally_related_form  ?b  ?a  _synset_domain_topic_of  ?b   => ?a  _has_part  ?b\n",
      "?b  _hypernym  ?h  ?a  _synset_domain_topic_of  ?h   => ?a  _has_part  ?b\n",
      "?h  _synset_domain_topic_of  ?b  ?a  _synset_domain_topic_of  ?h   => ?a  _has_part  ?b\n",
      "?b  _member_meronym  ?h  ?h  _synset_domain_topic_of  ?a   => ?a  _has_part  ?b\n",
      "?h  _member_meronym  ?b  ?a  _synset_domain_topic_of  ?h   => ?a  _has_part  ?b\n",
      "?h  _derivationally_related_form  ?b  ?a  _synset_domain_topic_of  ?h   => ?a  _has_part  ?b\n",
      "?h  _has_part  ?b  ?a  _synset_domain_topic_of  ?h   => ?a  _has_part  ?b\n",
      "?b  _hypernym  ?a  ?a  _member_meronym  ?b   => ?a  _has_part  ?b\n",
      "?a  _hypernym  ?b  ?b  _member_meronym  ?a   => ?a  _has_part  ?b\n",
      "?b  _member_meronym  ?a  ?a  _member_meronym  ?b   => ?a  _has_part  ?b\n",
      "?a  _derivationally_related_form  ?h  ?b  _member_meronym  ?h   => ?a  _has_part  ?b\n",
      "?a  _member_meronym  ?h  ?b  _member_meronym  ?h   => ?a  _has_part  ?b\n",
      "?b  _derivationally_related_form  ?h  ?h  _has_part  ?a   => ?a  _has_part  ?b\n",
      "?a  _has_part  ?h  ?b  _member_meronym  ?h   => ?a  _has_part  ?b\n",
      "?h  _hypernym  ?b  ?a  _synset_domain_topic_of  ?h   => ?a  _has_part  ?b\n",
      "?b  _derivationally_related_form  ?h  ?h  _synset_domain_topic_of  ?a   => ?a  _has_part  ?b\n",
      "?a  _member_meronym  ?b  ?a  _synset_domain_topic_of  ?b   => ?a  _has_part  ?b\n",
      "?b  _derivationally_related_form  ?h  ?a  _synset_domain_topic_of  ?h   => ?a  _has_part  ?b\n",
      "?b  _derivationally_related_form  ?h  ?a  _has_part  ?h   => ?a  _has_part  ?b\n",
      "?a  _has_part  ?g  ?g  _synset_domain_topic_of  ?b   => ?a  _has_part  ?b\n",
      "?h  _derivationally_related_form  ?a  ?b  _derivationally_related_form  ?h   => ?a  _has_part  ?b\n",
      "?b  _derivationally_related_form  ?a  ?a  _member_meronym  ?b   => ?a  _has_part  ?b\n",
      "?b  _derivationally_related_form  ?h  ?h  _member_meronym  ?a   => ?a  _has_part  ?b\n",
      "?a  _derivationally_related_form  ?g  ?g  _synset_domain_topic_of  ?b   => ?a  _has_part  ?b\n",
      "?b  _derivationally_related_form  ?a  ?b  _has_part  ?a   => ?a  _has_part  ?b\n",
      "?b  _has_part  ?a  ?b  _member_meronym  ?a   => ?a  _has_part  ?b\n",
      "?b  _derivationally_related_form  ?h  ?h  _hypernym  ?a   => ?a  _has_part  ?b\n",
      "?a  _member_meronym  ?g  ?g  _synset_domain_topic_of  ?b   => ?a  _has_part  ?b\n",
      "?b  _derivationally_related_form  ?h  ?a  _hypernym  ?h   => ?a  _has_part  ?b\n",
      "?a  _hypernym  ?g  ?g  _synset_domain_topic_of  ?b   => ?a  _has_part  ?b\n",
      "?g  _hypernym  ?a  ?g  _synset_domain_topic_of  ?b   => ?a  _has_part  ?b\n",
      "?b  _derivationally_related_form  ?a  ?b  _member_meronym  ?a   => ?a  _has_part  ?b\n",
      "?g  _member_meronym  ?a  ?g  _synset_domain_topic_of  ?b   => ?a  _has_part  ?b\n",
      "?g  _synset_domain_topic_of  ?a  ?g  _synset_domain_topic_of  ?b   => ?a  _has_part  ?b\n",
      "?b  _derivationally_related_form  ?a  ?a  _hypernym  ?b   => ?a  _has_part  ?b\n",
      "?a  _hypernym  ?h  ?b  _member_meronym  ?h   => ?a  _has_part  ?b\n",
      "?a  _derivationally_related_form  ?h  ?b  _derivationally_related_form  ?h   => ?a  _has_part  ?b\n",
      "?g  _member_meronym  ?b  ?g  _synset_domain_topic_of  ?a   => ?a  _has_part  ?b\n",
      "?b  _hypernym  ?g  ?g  _synset_domain_topic_of  ?a   => ?a  _has_part  ?b\n",
      "?g  _has_part  ?b  ?g  _synset_domain_topic_of  ?a   => ?a  _has_part  ?b\n",
      "?g  _hypernym  ?b  ?g  _synset_domain_topic_of  ?a   => ?a  _has_part  ?b\n",
      "?a  _hypernym  ?b  ?a  _synset_domain_topic_of  ?b   => ?a  _has_part  ?b\n",
      "?h  _member_meronym  ?b  ?a  _member_meronym  ?h   => ?a  _has_part  ?b\n",
      "?h  _derivationally_related_form  ?b  ?a  _member_meronym  ?h   => ?a  _has_part  ?b\n",
      "?b  _hypernym  ?h  ?a  _member_meronym  ?h   => ?a  _has_part  ?b\n",
      "?h  _derivationally_related_form  ?b  ?a  _derivationally_related_form  ?h   => ?a  _has_part  ?b\n",
      "?a  _derivationally_related_form  ?h  ?h  _member_meronym  ?b   => ?a  _has_part  ?b\n",
      "?a  _derivationally_related_form  ?h  ?h  _hypernym  ?b   => ?a  _has_part  ?b\n",
      "?h  _hypernym  ?b  ?a  _member_meronym  ?h   => ?a  _has_part  ?b\n",
      "?b  _derivationally_related_form  ?a  ?a  _synset_domain_topic_of  ?b   => ?a  _has_part  ?b\n",
      "?a  _derivationally_related_form  ?h  ?b  _hypernym  ?h   => ?a  _has_part  ?b\n",
      "?h  _hypernym  ?b  ?a  _hypernym  ?h   => ?a  _has_part  ?b\n",
      "?a  _has_part  ?g  ?g  _member_meronym  ?b   => ?a  _has_part  ?b\n",
      "?g  _has_part  ?a  ?g  _synset_domain_topic_of  ?b   => ?a  _has_part  ?b\n",
      "?g  _derivationally_related_form  ?a  ?g  _synset_domain_topic_of  ?b   => ?a  _has_part  ?b\n",
      "?g  _derivationally_related_form  ?b  ?g  _synset_domain_topic_of  ?a   => ?a  _has_part  ?b\n",
      "?b  _derivationally_related_form  ?h  ?a  _member_meronym  ?h   => ?a  _has_part  ?b\n",
      "?b  _has_part  ?a  ?a  _member_meronym  ?b   => ?a  _has_part  ?b\n",
      "?a  _hypernym  ?b  ?a  _member_meronym  ?b   => ?a  _has_part  ?b\n",
      "?h  _derivationally_related_form  ?b  ?a  _hypernym  ?h   => ?a  _has_part  ?b\n",
      "?b  _has_part  ?a  ?a  _synset_domain_topic_of  ?b   => ?a  _has_part  ?b\n",
      "?g  _derivationally_related_form  ?a  ?g  _member_meronym  ?b   => ?a  _has_part  ?b\n",
      "?g  _has_part  ?a  ?g  _member_meronym  ?b   => ?a  _has_part  ?b\n",
      "?g  _hypernym  ?a  ?g  _member_meronym  ?b   => ?a  _has_part  ?b\n",
      "?a  _derivationally_related_form  ?h  ?h  _has_part  ?b   => ?a  _has_part  ?b\n",
      "?g  _hypernym  ?b  ?g  _member_meronym  ?a   => ?a  _has_part  ?b\n",
      "?b  _hypernym  ?h  ?h  _member_meronym  ?a   => ?a  _has_part  ?b\n",
      "?h  _has_part  ?a  ?b  _hypernym  ?h   => ?a  _has_part  ?b\n",
      "?h  _has_part  ?b  ?a  _member_meronym  ?h   => ?a  _has_part  ?b\n",
      "?g  _derivationally_related_form  ?a  ?g  _hypernym  ?b   => ?a  _has_part  ?b\n",
      "?g  _has_part  ?a  ?g  _hypernym  ?b   => ?a  _has_part  ?b\n",
      "?b  _has_part  ?a  ?a  _hypernym  ?b   => ?a  _has_part  ?b\n",
      "?g  _derivationally_related_form  ?b  ?g  _member_meronym  ?a   => ?a  _has_part  ?b\n",
      "?g  _derivationally_related_form  ?b  ?a  _has_part  ?g   => ?a  _has_part  ?b\n",
      "?g  _derivationally_related_form  ?b  ?g  _has_part  ?a   => ?a  _has_part  ?b\n",
      "?g  _derivationally_related_form  ?b  ?g  _hypernym  ?a   => ?a  _has_part  ?b\n",
      "?a  _has_part  ?h  ?b  _hypernym  ?h   => ?a  _has_part  ?b\n",
      "?h  _hypernym  ?a  ?b  _hypernym  ?h   => ?a  _has_part  ?b\n",
      "?g  _derivationally_related_form  ?a  ?g  _derivationally_related_form  ?b   => ?a  _has_part  ?b\n",
      "?h  _derivationally_related_form  ?a  ?b  _synset_domain_topic_of  ?h   => ?a  _member_meronym  ?b\n",
      "?g  _has_part  ?b  ?g  _member_meronym  ?a   => ?a  _has_part  ?b\n",
      "?h  _hypernym  ?a  ?b  _synset_domain_topic_of  ?h   => ?a  _member_meronym  ?b\n",
      "?a  _hypernym  ?h  ?h  _member_meronym  ?b   => ?a  _has_part  ?b\n",
      "?h  _has_part  ?a  ?b  _synset_domain_topic_of  ?h   => ?a  _member_meronym  ?b\n",
      "?h  _member_meronym  ?a  ?b  _synset_domain_topic_of  ?h   => ?a  _member_meronym  ?b\n",
      "?a  _has_part  ?b  ?a  _synset_domain_topic_of  ?b   => ?a  _member_meronym  ?b\n",
      "?h  _derivationally_related_form  ?a  ?b  _hypernym  ?h   => ?a  _has_part  ?b\n",
      "?a  _derivationally_related_form  ?h  ?b  _synset_domain_topic_of  ?h   => ?a  _member_meronym  ?b\n",
      "?a  _has_part  ?h  ?b  _synset_domain_topic_of  ?h   => ?a  _member_meronym  ?b\n",
      "?a  _hypernym  ?h  ?b  _synset_domain_topic_of  ?h   => ?a  _member_meronym  ?b\n",
      "?a  _has_part  ?g  ?g  _hypernym  ?b   => ?a  _has_part  ?b\n",
      "?b  _has_part  ?a  ?a  _synset_domain_topic_of  ?b   => ?a  _member_meronym  ?b\n",
      "?a  _has_part  ?b  ?a  _hypernym  ?b   => ?a  _member_meronym  ?b\n",
      "?a  _derivationally_related_form  ?b  ?a  _has_part  ?b   => ?a  _member_meronym  ?b\n",
      "?a  _has_part  ?b  ?b  _synset_domain_topic_of  ?a   => ?a  _member_meronym  ?b\n",
      "?g  _has_part  ?b  ?g  _hypernym  ?a   => ?a  _has_part  ?b\n",
      "?h  _has_part  ?b  ?a  _has_part  ?h   => ?a  _has_part  ?b\n",
      "?b  _has_part  ?a  ?a  _hypernym  ?b   => ?a  _member_meronym  ?b\n",
      "?a  _member_meronym  ?h  ?b  _synset_domain_topic_of  ?h   => ?a  _member_meronym  ?b\n",
      "?h  _synset_domain_topic_of  ?a  ?b  _synset_domain_topic_of  ?h   => ?a  _member_meronym  ?b\n",
      "?g  _hypernym  ?a  ?g  _hypernym  ?b   => ?a  _has_part  ?b\n",
      "?b  _has_part  ?a  ?a  _has_part  ?b   => ?a  _member_meronym  ?b\n",
      "?b  _has_part  ?a  ?b  _member_meronym  ?a   => ?a  _member_meronym  ?b\n",
      "?a  _has_part  ?b  ?b  _member_meronym  ?a   => ?a  _member_meronym  ?b\n",
      "?a  _has_part  ?b  ?b  _hypernym  ?a   => ?a  _member_meronym  ?b\n",
      "?b  _derivationally_related_form  ?a  ?b  _has_part  ?a   => ?a  _member_meronym  ?b\n",
      "?b  _has_part  ?a  ?b  _synset_domain_topic_of  ?a   => ?a  _member_meronym  ?b\n",
      "?g  _derivationally_related_form  ?a  ?g  _has_part  ?b   => ?a  _has_part  ?b\n",
      "?b  _derivationally_related_form  ?h  ?a  _synset_domain_topic_of  ?h   => ?a  _member_meronym  ?b\n",
      "?b  _derivationally_related_form  ?h  ?h  _member_meronym  ?a   => ?a  _member_meronym  ?b\n",
      "?b  _derivationally_related_form  ?h  ?h  _has_part  ?a   => ?a  _member_meronym  ?b\n",
      "?b  _has_part  ?h  ?h  _member_meronym  ?a   => ?a  _member_meronym  ?b\n",
      "?b  _derivationally_related_form  ?h  ?h  _synset_domain_topic_of  ?a   => ?a  _member_meronym  ?b\n",
      "?b  _has_part  ?h  ?h  _synset_domain_topic_of  ?a   => ?a  _member_meronym  ?b\n",
      "?a  _derivationally_related_form  ?b  ?b  _has_part  ?a   => ?a  _member_meronym  ?b\n",
      "?b  _has_part  ?h  ?a  _member_meronym  ?h   => ?a  _member_meronym  ?b\n",
      "?h  _derivationally_related_form  ?a  ?b  _derivationally_related_form  ?h   => ?a  _member_meronym  ?b\n",
      "?a  _derivationally_related_form  ?b  ?a  _synset_domain_topic_of  ?b   => ?a  _member_meronym  ?b\n",
      "?a  _hypernym  ?b  ?a  _synset_domain_topic_of  ?b   => ?a  _member_meronym  ?b\n",
      "?b  _member_meronym  ?a  ?a  _synset_domain_topic_of  ?b   => ?a  _member_meronym  ?b\n",
      "?b  _derivationally_related_form  ?h  ?a  _has_part  ?h   => ?a  _member_meronym  ?b\n",
      "?a  _derivationally_related_form  ?h  ?b  _has_part  ?h   => ?a  _member_meronym  ?b\n",
      "?b  _derivationally_related_form  ?h  ?h  _hypernym  ?a   => ?a  _member_meronym  ?b\n",
      "?b  _has_part  ?h  ?a  _hypernym  ?h   => ?a  _member_meronym  ?b\n",
      "?h  _has_part  ?a  ?b  _has_part  ?h   => ?a  _member_meronym  ?b\n",
      "?b  _derivationally_related_form  ?a  ?a  _synset_domain_topic_of  ?b   => ?a  _member_meronym  ?b\n",
      "?b  _hypernym  ?a  ?a  _synset_domain_topic_of  ?b   => ?a  _member_meronym  ?b\n",
      "?b  _derivationally_related_form  ?h  ?a  _member_meronym  ?h   => ?a  _member_meronym  ?b\n",
      "?b  _synset_domain_topic_of  ?a  ?a  _synset_domain_topic_of  ?b   => ?a  _member_meronym  ?b\n",
      "?a  _has_part  ?h  ?b  _has_part  ?h   => ?a  _member_meronym  ?b\n",
      "?b  _derivationally_related_form  ?h  ?a  _hypernym  ?h   => ?a  _member_meronym  ?b\n",
      "?b  _has_part  ?h  ?h  _hypernym  ?a   => ?a  _member_meronym  ?b\n",
      "?b  _member_meronym  ?a  ?b  _synset_domain_topic_of  ?a   => ?a  _member_meronym  ?b\n",
      "?b  _derivationally_related_form  ?a  ?b  _synset_domain_topic_of  ?a   => ?a  _member_meronym  ?b\n",
      "?h  _derivationally_related_form  ?a  ?b  _has_part  ?h   => ?a  _member_meronym  ?b\n",
      "?b  _has_part  ?a  ?b  _hypernym  ?a   => ?a  _member_meronym  ?b\n",
      "?a  _derivationally_related_form  ?b  ?b  _synset_domain_topic_of  ?a   => ?a  _member_meronym  ?b\n",
      "?b  _has_part  ?h  ?a  _synset_domain_topic_of  ?h   => ?a  _member_meronym  ?b\n",
      "?h  _has_part  ?a  ?b  _member_meronym  ?h   => ?a  _member_meronym  ?b\n",
      "?b  _member_meronym  ?h  ?a  _synset_domain_topic_of  ?h   => ?a  _member_meronym  ?b\n",
      "?a  _derivationally_related_form  ?h  ?b  _derivationally_related_form  ?h   => ?a  _member_meronym  ?b\n",
      "?h  _member_meronym  ?b  ?a  _synset_domain_topic_of  ?h   => ?a  _member_meronym  ?b\n",
      "?a  _has_part  ?h  ?b  _member_meronym  ?h   => ?a  _member_meronym  ?b\n",
      "?a  _derivationally_related_form  ?b  ?b  _member_meronym  ?a   => ?a  _member_meronym  ?b\n",
      "?h  _synset_domain_topic_of  ?b  ?a  _synset_domain_topic_of  ?h   => ?a  _member_meronym  ?b\n",
      "?h  _derivationally_related_form  ?b  ?a  _synset_domain_topic_of  ?h   => ?a  _member_meronym  ?b\n",
      "?a  _derivationally_related_form  ?h  ?b  _member_meronym  ?h   => ?a  _member_meronym  ?b\n",
      "?h  _has_part  ?b  ?a  _synset_domain_topic_of  ?h   => ?a  _member_meronym  ?b\n",
      "?h  _derivationally_related_form  ?a  ?b  _member_meronym  ?h   => ?a  _member_meronym  ?b\n",
      "?a  _member_meronym  ?g  ?g  _synset_domain_topic_of  ?b   => ?a  _member_meronym  ?b\n",
      "?b  _derivationally_related_form  ?a  ?a  _has_part  ?b   => ?a  _member_meronym  ?b\n",
      "?a  _derivationally_related_form  ?g  ?g  _synset_domain_topic_of  ?b   => ?a  _member_meronym  ?b\n",
      "?b  _hypernym  ?a  ?b  _synset_domain_topic_of  ?a   => ?a  _member_meronym  ?b\n",
      "?b  _member_meronym  ?h  ?h  _synset_domain_topic_of  ?a   => ?a  _member_meronym  ?b\n",
      "?a  _derivationally_related_form  ?b  ?a  _hypernym  ?b   => ?a  _member_meronym  ?b\n",
      "?g  _member_meronym  ?a  ?g  _synset_domain_topic_of  ?b   => ?a  _member_meronym  ?b\n",
      "?g  _synset_domain_topic_of  ?a  ?g  _synset_domain_topic_of  ?b   => ?a  _member_meronym  ?b\n",
      "?a  _hypernym  ?b  ?b  _synset_domain_topic_of  ?a   => ?a  _member_meronym  ?b\n",
      "?g  _derivationally_related_form  ?a  ?g  _synset_domain_topic_of  ?b   => ?a  _member_meronym  ?b\n",
      "?g  _has_part  ?a  ?g  _synset_domain_topic_of  ?b   => ?a  _member_meronym  ?b\n",
      "?g  _hypernym  ?a  ?g  _synset_domain_topic_of  ?b   => ?a  _member_meronym  ?b\n",
      "?h  _hypernym  ?b  ?a  _synset_domain_topic_of  ?h   => ?a  _member_meronym  ?b\n",
      "?b  _derivationally_related_form  ?a  ?b  _member_meronym  ?a   => ?a  _member_meronym  ?b\n",
      "?b  _hypernym  ?h  ?a  _synset_domain_topic_of  ?h   => ?a  _member_meronym  ?b\n",
      "?a  _derivationally_related_form  ?b  ?b  _hypernym  ?a   => ?a  _member_meronym  ?b\n",
      "?b  _derivationally_related_form  ?a  ?a  _hypernym  ?b   => ?a  _member_meronym  ?b\n",
      "?a  _hypernym  ?b  ?b  _member_meronym  ?a   => ?a  _member_meronym  ?b\n",
      "?b  _derivationally_related_form  ?a  ?b  _hypernym  ?a   => ?a  _member_meronym  ?b\n",
      "?g  _has_part  ?b  ?g  _synset_domain_topic_of  ?a   => ?a  _member_meronym  ?b\n",
      "?a  _has_part  ?g  ?g  _synset_domain_topic_of  ?b   => ?a  _member_meronym  ?b\n",
      "?b  _hypernym  ?a  ?b  _member_meronym  ?a   => ?a  _member_meronym  ?b\n",
      "?g  _derivationally_related_form  ?b  ?g  _synset_domain_topic_of  ?a   => ?a  _member_meronym  ?b\n",
      "?a  _member_meronym  ?h  ?b  _member_meronym  ?h   => ?a  _member_meronym  ?b\n",
      "?a  _hypernym  ?g  ?g  _synset_domain_topic_of  ?b   => ?a  _member_meronym  ?b\n",
      "?g  _member_meronym  ?b  ?g  _synset_domain_topic_of  ?a   => ?a  _member_meronym  ?b\n",
      "?h  _has_part  ?b  ?a  _has_part  ?h   => ?a  _member_meronym  ?b\n",
      "?g  _hypernym  ?b  ?g  _synset_domain_topic_of  ?a   => ?a  _member_meronym  ?b\n",
      "?g  _has_part  ?b  ?a  _member_meronym  ?g   => ?a  _member_meronym  ?b\n",
      "?g  _has_part  ?b  ?a  _hypernym  ?g   => ?a  _member_meronym  ?b\n",
      "?a  _has_part  ?h  ?h  _hypernym  ?b   => ?a  _member_meronym  ?b\n",
      "?g  _has_part  ?b  ?g  _hypernym  ?a   => ?a  _member_meronym  ?b\n",
      "?b  _hypernym  ?g  ?g  _synset_domain_topic_of  ?a   => ?a  _member_meronym  ?b\n",
      "?g  _has_part  ?b  ?g  _member_meronym  ?a   => ?a  _member_meronym  ?b\n",
      "?h  _derivationally_related_form  ?b  ?a  _derivationally_related_form  ?h   => ?a  _member_meronym  ?b\n",
      "?g  _derivationally_related_form  ?a  ?g  _has_part  ?b   => ?a  _member_meronym  ?b\n",
      "?b  _hypernym  ?a  ?a  _hypernym  ?b   => ?a  _member_meronym  ?b\n",
      "?a  _derivationally_related_form  ?h  ?h  _member_meronym  ?b   => ?a  _member_meronym  ?b\n",
      "?h  _derivationally_related_form  ?b  ?a  _has_part  ?h   => ?a  _member_meronym  ?b\n",
      "?a  _has_part  ?h  ?h  _member_meronym  ?b   => ?a  _member_meronym  ?b\n",
      "?a  _has_part  ?h  ?b  _hypernym  ?h   => ?a  _member_meronym  ?b\n",
      "?a  _derivationally_related_form  ?h  ?h  _has_part  ?b   => ?a  _member_meronym  ?b\n",
      "?h  _derivationally_related_form  ?b  ?a  _hypernym  ?h   => ?a  _member_meronym  ?b\n",
      "?a  _hypernym  ?h  ?h  _member_meronym  ?b   => ?a  _member_meronym  ?b\n",
      "?a  _derivationally_related_form  ?h  ?b  _hypernym  ?h   => ?a  _member_meronym  ?b\n",
      "?a  _derivationally_related_form  ?h  ?h  _hypernym  ?b   => ?a  _member_meronym  ?b\n",
      "?b  _hypernym  ?h  ?h  _member_meronym  ?a   => ?a  _member_meronym  ?b\n",
      "?g  _derivationally_related_form  ?a  ?g  _member_meronym  ?b   => ?a  _member_meronym  ?b\n",
      "?h  _derivationally_related_form  ?b  ?a  _member_meronym  ?h   => ?a  _member_meronym  ?b\n",
      "?g  _derivationally_related_form  ?a  ?b  _hypernym  ?g   => ?a  _member_meronym  ?b\n",
      "?g  _derivationally_related_form  ?b  ?g  _member_meronym  ?a   => ?a  _member_meronym  ?b\n",
      "?h  _has_part  ?a  ?b  _hypernym  ?h   => ?a  _member_meronym  ?b\n",
      "?g  _derivationally_related_form  ?a  ?g  _derivationally_related_form  ?b   => ?a  _member_meronym  ?b\n",
      "?g  _derivationally_related_form  ?b  ?g  _has_part  ?a   => ?a  _member_meronym  ?b\n",
      "?g  _has_part  ?a  ?g  _member_meronym  ?b   => ?a  _member_meronym  ?b\n",
      "?b  _member_meronym  ?h  ?h  _synset_domain_topic_of  ?a   => ?a  _derivationally_related_form  ?b\n",
      "?g  _has_part  ?a  ?g  _hypernym  ?b   => ?a  _member_meronym  ?b\n",
      "?g  _derivationally_related_form  ?b  ?g  _hypernym  ?a   => ?a  _member_meronym  ?b\n",
      "?h  _has_part  ?a  ?b  _member_meronym  ?h   => ?a  _derivationally_related_form  ?b\n",
      "?g  _hypernym  ?a  ?g  _hypernym  ?b   => ?a  _member_meronym  ?b\n",
      "?b  _has_part  ?h  ?h  _synset_domain_topic_of  ?a   => ?a  _derivationally_related_form  ?b\n",
      "?h  _derivationally_related_form  ?a  ?b  _member_meronym  ?h   => ?a  _derivationally_related_form  ?b\n",
      "?h  _hypernym  ?b  ?a  _member_meronym  ?h   => ?a  _member_meronym  ?b\n",
      "?a  _has_part  ?h  ?b  _member_meronym  ?h   => ?a  _derivationally_related_form  ?b\n",
      "?b  _hypernym  ?h  ?a  _member_meronym  ?h   => ?a  _member_meronym  ?b\n",
      "?b  _has_part  ?h  ?h  _member_meronym  ?a   => ?a  _derivationally_related_form  ?b\n",
      "?a  _has_part  ?b  ?b  _member_meronym  ?a   => ?a  _derivationally_related_form  ?b\n",
      "?h  _derivationally_related_form  ?a  ?b  _has_part  ?h   => ?a  _derivationally_related_form  ?b\n",
      "?h  _has_part  ?a  ?b  _has_part  ?h   => ?a  _derivationally_related_form  ?b\n",
      "?b  _has_part  ?h  ?a  _synset_domain_topic_of  ?h   => ?a  _derivationally_related_form  ?b\n",
      "?a  _derivationally_related_form  ?h  ?b  _member_meronym  ?h   => ?a  _derivationally_related_form  ?b\n",
      "?h  _member_meronym  ?a  ?b  _member_meronym  ?h   => ?a  _derivationally_related_form  ?b\n",
      "?g  _derivationally_related_form  ?a  ?g  _hypernym  ?b   => ?a  _member_meronym  ?b\n",
      "?b  _member_meronym  ?a  ?a  _member_meronym  ?b   => ?a  _derivationally_related_form  ?b\n",
      "?a  _hypernym  ?h  ?b  _member_meronym  ?h   => ?a  _derivationally_related_form  ?b\n",
      "?h  _synset_domain_topic_of  ?a  ?b  _synset_domain_topic_of  ?h   => ?a  _derivationally_related_form  ?b\n",
      "?h  _has_part  ?a  ?b  _synset_domain_topic_of  ?h   => ?a  _derivationally_related_form  ?b\n",
      "?b  _has_part  ?h  ?a  _member_meronym  ?h   => ?a  _derivationally_related_form  ?b\n",
      "?h  _derivationally_related_form  ?a  ?b  _synset_domain_topic_of  ?h   => ?a  _derivationally_related_form  ?b\n",
      "?h  _member_meronym  ?a  ?b  _synset_domain_topic_of  ?h   => ?a  _derivationally_related_form  ?b\n",
      "?b  _has_part  ?h  ?h  _hypernym  ?a   => ?a  _derivationally_related_form  ?b\n",
      "?b  _hypernym  ?a  ?b  _member_meronym  ?a   => ?a  _derivationally_related_form  ?b\n",
      "?a  _hypernym  ?b  ?b  _member_meronym  ?a   => ?a  _derivationally_related_form  ?b\n",
      "?a  _has_part  ?h  ?b  _synset_domain_topic_of  ?h   => ?a  _derivationally_related_form  ?b\n",
      "?b  _has_part  ?h  ?a  _hypernym  ?h   => ?a  _derivationally_related_form  ?b\n",
      "?a  _derivationally_related_form  ?h  ?b  _has_part  ?h   => ?a  _derivationally_related_form  ?b\n",
      "?a  _derivationally_related_form  ?h  ?b  _synset_domain_topic_of  ?h   => ?a  _derivationally_related_form  ?b\n",
      "?a  _member_meronym  ?h  ?b  _member_meronym  ?h   => ?a  _derivationally_related_form  ?b\n",
      "?a  _has_part  ?b  ?a  _member_meronym  ?b   => ?a  _derivationally_related_form  ?b\n",
      "?a  _has_part  ?g  ?g  _synset_domain_topic_of  ?b   => ?a  _derivationally_related_form  ?b\n",
      "?a  _member_meronym  ?g  ?g  _synset_domain_topic_of  ?b   => ?a  _derivationally_related_form  ?b\n",
      "?a  _hypernym  ?b  ?a  _member_meronym  ?b   => ?a  _derivationally_related_form  ?b\n",
      "?b  _has_part  ?a  ?b  _member_meronym  ?a   => ?a  _derivationally_related_form  ?b\n",
      "?b  _hypernym  ?a  ?a  _member_meronym  ?b   => ?a  _derivationally_related_form  ?b\n",
      "?b  _has_part  ?a  ?a  _member_meronym  ?b   => ?a  _derivationally_related_form  ?b\n",
      "?g  _has_part  ?a  ?g  _synset_domain_topic_of  ?b   => ?a  _derivationally_related_form  ?b\n",
      "?a  _hypernym  ?g  ?g  _synset_domain_topic_of  ?b   => ?a  _derivationally_related_form  ?b\n",
      "?b  _derivationally_related_form  ?h  ?a  _has_part  ?h   => ?a  _derivationally_related_form  ?b\n",
      "?h  _derivationally_related_form  ?b  ?a  _has_part  ?h   => ?a  _derivationally_related_form  ?b\n",
      "?a  _has_part  ?h  ?h  _member_meronym  ?b   => ?a  _derivationally_related_form  ?b\n",
      "?h  _has_part  ?b  ?a  _has_part  ?h   => ?a  _derivationally_related_form  ?b\n",
      "?h  _hypernym  ?a  ?b  _synset_domain_topic_of  ?h   => ?a  _derivationally_related_form  ?b\n",
      "?a  _has_part  ?h  ?h  _hypernym  ?b   => ?a  _derivationally_related_form  ?b\n",
      "?g  _synset_domain_topic_of  ?a  ?g  _synset_domain_topic_of  ?b   => ?a  _derivationally_related_form  ?b\n",
      "?h  _member_meronym  ?b  ?a  _synset_domain_topic_of  ?h   => ?a  _derivationally_related_form  ?b\n",
      "?b  _derivationally_related_form  ?h  ?a  _synset_domain_topic_of  ?h   => ?a  _derivationally_related_form  ?b\n",
      "?h  _derivationally_related_form  ?b  ?a  _synset_domain_topic_of  ?h   => ?a  _derivationally_related_form  ?b\n",
      "?g  _synset_domain_topic_of  ?b  ?a  _synset_domain_topic_of  ?g   => ?a  _derivationally_related_form  ?b\n",
      "?b  _hypernym  ?h  ?a  _member_meronym  ?h   => ?a  _derivationally_related_form  ?b\n",
      "?h  _derivationally_related_form  ?b  ?a  _member_meronym  ?h   => ?a  _derivationally_related_form  ?b\n",
      "?h  _hypernym  ?b  ?a  _member_meronym  ?h   => ?a  _derivationally_related_form  ?b\n",
      "?h  _hypernym  ?b  ?a  _synset_domain_topic_of  ?h   => ?a  _derivationally_related_form  ?b\n",
      "?a  _has_part  ?b  ?b  _synset_domain_topic_of  ?a   => ?a  _derivationally_related_form  ?b\n",
      "?g  _derivationally_related_form  ?a  ?g  _synset_domain_topic_of  ?b   => ?a  _derivationally_related_form  ?b\n",
      "?a  _has_part  ?h  ?b  _hypernym  ?h   => ?a  _derivationally_related_form  ?b\n",
      "?h  _has_part  ?b  ?a  _synset_domain_topic_of  ?h   => ?a  _derivationally_related_form  ?b\n",
      "?a  _derivationally_related_form  ?g  ?g  _synset_domain_topic_of  ?b   => ?a  _derivationally_related_form  ?b\n",
      "?b  _derivationally_related_form  ?h  ?a  _member_meronym  ?h   => ?a  _derivationally_related_form  ?b\n",
      "?a  _has_part  ?b  ?a  _synset_domain_topic_of  ?b   => ?a  _derivationally_related_form  ?b\n",
      "?h  _member_meronym  ?b  ?a  _member_meronym  ?h   => ?a  _derivationally_related_form  ?b\n",
      "?h  _has_part  ?b  ?a  _member_meronym  ?h   => ?a  _derivationally_related_form  ?b\n",
      "?b  _has_part  ?a  ?a  _has_part  ?b   => ?a  _derivationally_related_form  ?b\n",
      "?a  _has_part  ?b  ?b  _hypernym  ?a   => ?a  _derivationally_related_form  ?b\n",
      "?h  _hypernym  ?a  ?b  _member_meronym  ?h   => ?a  _derivationally_related_form  ?b\n",
      "?b  _has_part  ?a  ?b  _synset_domain_topic_of  ?a   => ?a  _derivationally_related_form  ?b\n",
      "?b  _hypernym  ?a  ?b  _synset_domain_topic_of  ?a   => ?a  _derivationally_related_form  ?b\n",
      "?a  _hypernym  ?b  ?a  _synset_domain_topic_of  ?b   => ?a  _derivationally_related_form  ?b\n",
      "?b  _synset_domain_topic_of  ?a  ?a  _synset_domain_topic_of  ?b   => ?a  _derivationally_related_form  ?b\n",
      "?a  _has_part  ?h  ?b  _has_part  ?h   => ?a  _derivationally_related_form  ?b\n",
      "?b  _hypernym  ?a  ?a  _synset_domain_topic_of  ?b   => ?a  _derivationally_related_form  ?b\n",
      "?b  _has_part  ?a  ?a  _synset_domain_topic_of  ?b   => ?a  _derivationally_related_form  ?b\n",
      "?g  _has_part  ?b  ?g  _synset_domain_topic_of  ?a   => ?a  _derivationally_related_form  ?b\n",
      "?a  _has_part  ?b  ?a  _hypernym  ?b   => ?a  _derivationally_related_form  ?b\n",
      "?b  _derivationally_related_form  ?g  ?g  _synset_domain_topic_of  ?a   => ?a  _derivationally_related_form  ?b\n",
      "?a  _hypernym  ?b  ?b  _synset_domain_topic_of  ?a   => ?a  _derivationally_related_form  ?b\n",
      "?g  _has_part  ?b  ?g  _member_meronym  ?a   => ?a  _derivationally_related_form  ?b\n",
      "?b  _has_part  ?a  ?b  _hypernym  ?a   => ?a  _derivationally_related_form  ?b\n",
      "?b  _has_part  ?a  ?a  _hypernym  ?b   => ?a  _derivationally_related_form  ?b\n",
      "?g  _hypernym  ?b  ?g  _synset_domain_topic_of  ?a   => ?a  _derivationally_related_form  ?b\n",
      "?a  _derivationally_related_form  ?g  ?g  _has_part  ?b   => ?a  _derivationally_related_form  ?b\n",
      "?g  _derivationally_related_form  ?b  ?g  _has_part  ?a   => ?a  _derivationally_related_form  ?b\n",
      "?g  _has_part  ?a  ?g  _member_meronym  ?b   => ?a  _derivationally_related_form  ?b\n",
      "?b  _hypernym  ?g  ?g  _synset_domain_topic_of  ?a   => ?a  _derivationally_related_form  ?b\n",
      "?g  _hypernym  ?a  ?g  _synset_domain_topic_of  ?b   => ?a  _derivationally_related_form  ?b\n",
      "?g  _has_part  ?b  ?a  _hypernym  ?g   => ?a  _derivationally_related_form  ?b\n",
      "?g  _derivationally_related_form  ?b  ?g  _synset_domain_topic_of  ?a   => ?a  _derivationally_related_form  ?b\n",
      "?b  _derivationally_related_form  ?g  ?g  _has_part  ?a   => ?a  _derivationally_related_form  ?b\n",
      "?g  _has_part  ?a  ?g  _hypernym  ?b   => ?a  _derivationally_related_form  ?b\n",
      "?g  _has_part  ?a  ?b  _hypernym  ?g   => ?a  _derivationally_related_form  ?b\n",
      "?g  _has_part  ?a  ?g  _has_part  ?b   => ?a  _derivationally_related_form  ?b\n",
      "?g  _has_part  ?b  ?g  _hypernym  ?a   => ?a  _derivationally_related_form  ?b\n",
      "?a  _derivationally_related_form  ?g  ?g  _member_meronym  ?b   => ?a  _derivationally_related_form  ?b\n",
      "?b  _hypernym  ?g  ?g  _member_meronym  ?a   => ?a  _derivationally_related_form  ?b\n",
      "?a  _hypernym  ?g  ?g  _member_meronym  ?b   => ?a  _derivationally_related_form  ?b\n",
      "?b  _derivationally_related_form  ?g  ?g  _member_meronym  ?a   => ?a  _derivationally_related_form  ?b\n",
      "?g  _derivationally_related_form  ?a  ?g  _member_meronym  ?b   => ?a  _derivationally_related_form  ?b\n",
      "?g  _derivationally_related_form  ?a  ?g  _has_part  ?b   => ?a  _derivationally_related_form  ?b\n",
      "?b  _has_part  ?a  ?b  _member_meronym  ?a   => ?a  _hypernym  ?b\n",
      "?b  _has_part  ?a  ?b  _synset_domain_topic_of  ?a   => ?a  _hypernym  ?b\n",
      "?g  _derivationally_related_form  ?b  ?g  _member_meronym  ?a   => ?a  _derivationally_related_form  ?b\n",
      "?g  _hypernym  ?a  ?g  _member_meronym  ?b   => ?a  _derivationally_related_form  ?b\n",
      "?b  _has_part  ?a  ?a  _synset_domain_topic_of  ?b   => ?a  _hypernym  ?b\n",
      "?b  _has_part  ?a  ?a  _has_part  ?b   => ?a  _hypernym  ?b\n",
      "?a  _has_part  ?b  ?b  _synset_domain_topic_of  ?a   => ?a  _hypernym  ?b\n",
      "?a  _has_part  ?b  ?b  _member_meronym  ?a   => ?a  _hypernym  ?b\n",
      "?b  _synset_domain_topic_of  ?a  ?a  _synset_domain_topic_of  ?b   => ?a  _hypernym  ?b\n",
      "?a  _derivationally_related_form  ?b  ?b  _synset_domain_topic_of  ?a   => ?a  _hypernym  ?b\n",
      "?a  _has_part  ?b  ?a  _synset_domain_topic_of  ?b   => ?a  _hypernym  ?b\n",
      "?b  _hypernym  ?a  ?b  _synset_domain_topic_of  ?a   => ?a  _hypernym  ?b\n",
      "?b  _has_part  ?a  ?a  _member_meronym  ?b   => ?a  _hypernym  ?b\n",
      "?b  _hypernym  ?a  ?b  _member_meronym  ?a   => ?a  _hypernym  ?b\n",
      "?b  _derivationally_related_form  ?a  ?b  _synset_domain_topic_of  ?a   => ?a  _hypernym  ?b\n",
      "?a  _derivationally_related_form  ?b  ?a  _has_part  ?b   => ?a  _hypernym  ?b\n",
      "?b  _has_part  ?a  ?b  _hypernym  ?a   => ?a  _hypernym  ?b\n",
      "?a  _has_part  ?b  ?b  _hypernym  ?a   => ?a  _hypernym  ?b\n",
      "?b  _member_meronym  ?a  ?a  _member_meronym  ?b   => ?a  _hypernym  ?b\n",
      "?b  _derivationally_related_form  ?a  ?a  _has_part  ?b   => ?a  _hypernym  ?b\n",
      "?b  _derivationally_related_form  ?a  ?b  _has_part  ?a   => ?a  _hypernym  ?b\n",
      "?b  _derivationally_related_form  ?a  ?b  _member_meronym  ?a   => ?a  _hypernym  ?b\n",
      "?a  _derivationally_related_form  ?b  ?b  _member_meronym  ?a   => ?a  _hypernym  ?b\n",
      "?h  _synset_domain_topic_of  ?a  ?b  _synset_domain_topic_of  ?h   => ?a  _hypernym  ?b\n",
      "?h  _derivationally_related_form  ?a  ?b  _synset_domain_topic_of  ?h   => ?a  _hypernym  ?b\n",
      "?a  _has_part  ?b  ?a  _member_meronym  ?b   => ?a  _hypernym  ?b\n",
      "?h  _has_part  ?a  ?b  _synset_domain_topic_of  ?h   => ?a  _hypernym  ?b\n",
      "?a  _has_part  ?h  ?b  _member_meronym  ?h   => ?a  _hypernym  ?b\n",
      "?g  _hypernym  ?b  ?g  _member_meronym  ?a   => ?a  _derivationally_related_form  ?b\n",
      "?h  _has_part  ?a  ?b  _member_meronym  ?h   => ?a  _hypernym  ?b\n",
      "?a  _derivationally_related_form  ?h  ?b  _synset_domain_topic_of  ?h   => ?a  _hypernym  ?b\n",
      "?a  _has_part  ?h  ?b  _synset_domain_topic_of  ?h   => ?a  _hypernym  ?b\n",
      "?b  _has_part  ?h  ?h  _synset_domain_topic_of  ?a   => ?a  _hypernym  ?b\n",
      "?h  _hypernym  ?a  ?b  _synset_domain_topic_of  ?h   => ?a  _hypernym  ?b\n",
      "?a  _derivationally_related_form  ?b  ?b  _has_part  ?a   => ?a  _hypernym  ?b\n",
      "?b  _has_part  ?h  ?a  _synset_domain_topic_of  ?h   => ?a  _hypernym  ?b\n",
      "?h  _derivationally_related_form  ?a  ?b  _member_meronym  ?h   => ?a  _hypernym  ?b\n",
      "?a  _derivationally_related_form  ?b  ?a  _synset_domain_topic_of  ?b   => ?a  _hypernym  ?b\n",
      "?b  _hypernym  ?a  ?a  _synset_domain_topic_of  ?b   => ?a  _hypernym  ?b\n",
      "?b  _derivationally_related_form  ?a  ?a  _synset_domain_topic_of  ?b   => ?a  _hypernym  ?b\n",
      "?a  _derivationally_related_form  ?b  ?a  _member_meronym  ?b   => ?a  _hypernym  ?b\n",
      "?b  _has_part  ?h  ?h  _member_meronym  ?a   => ?a  _hypernym  ?b\n",
      "?b  _hypernym  ?a  ?a  _member_meronym  ?b   => ?a  _hypernym  ?b\n",
      "?b  _derivationally_related_form  ?a  ?a  _member_meronym  ?b   => ?a  _hypernym  ?b\n",
      "?a  _derivationally_related_form  ?h  ?b  _member_meronym  ?h   => ?a  _hypernym  ?b\n",
      "?b  _has_part  ?h  ?a  _member_meronym  ?h   => ?a  _hypernym  ?b\n",
      "?h  _derivationally_related_form  ?a  ?b  _has_part  ?h   => ?a  _hypernym  ?b\n",
      "?h  _has_part  ?a  ?b  _has_part  ?h   => ?a  _hypernym  ?b\n",
      "?a  _derivationally_related_form  ?h  ?b  _has_part  ?h   => ?a  _hypernym  ?b\n",
      "?b  _has_part  ?h  ?a  _hypernym  ?h   => ?a  _hypernym  ?b\n",
      "?a  _has_part  ?h  ?b  _has_part  ?h   => ?a  _hypernym  ?b\n",
      "?a  _has_part  ?g  ?g  _synset_domain_topic_of  ?b   => ?a  _hypernym  ?b\n",
      "?g  _synset_domain_topic_of  ?b  ?a  _synset_domain_topic_of  ?g   => ?a  _hypernym  ?b\n",
      "?b  _has_part  ?h  ?h  _hypernym  ?a   => ?a  _hypernym  ?b\n",
      "?a  _hypernym  ?g  ?g  _synset_domain_topic_of  ?b   => ?a  _hypernym  ?b\n",
      "?a  _derivationally_related_form  ?g  ?g  _synset_domain_topic_of  ?b   => ?a  _hypernym  ?b\n",
      "?a  _member_meronym  ?h  ?b  _member_meronym  ?h   => ?a  _hypernym  ?b\n",
      "?g  _has_part  ?a  ?g  _synset_domain_topic_of  ?b   => ?a  _hypernym  ?b\n",
      "?b  _hypernym  ?a  ?a  _hypernym  ?b   => ?a  _derivationally_related_form  ?b\n",
      "?a  _has_part  ?h  ?b  _hypernym  ?h   => ?a  _hypernym  ?b\n",
      "?g  _derivationally_related_form  ?a  ?g  _synset_domain_topic_of  ?b   => ?a  _hypernym  ?b\n",
      "?g  _synset_domain_topic_of  ?a  ?g  _synset_domain_topic_of  ?b   => ?a  _hypernym  ?b\n",
      "?b  _derivationally_related_form  ?h  ?a  _has_part  ?h   => ?a  _hypernym  ?b\n",
      "?h  _has_part  ?b  ?a  _has_part  ?h   => ?a  _hypernym  ?b\n",
      "?h  _derivationally_related_form  ?b  ?a  _has_part  ?h   => ?a  _hypernym  ?b\n",
      "?a  _has_part  ?h  ?h  _hypernym  ?b   => ?a  _hypernym  ?b\n",
      "?b  _derivationally_related_form  ?g  ?g  _synset_domain_topic_of  ?a   => ?a  _hypernym  ?b\n",
      "?g  _hypernym  ?b  ?g  _synset_domain_topic_of  ?a   => ?a  _hypernym  ?b\n",
      "?g  _hypernym  ?a  ?g  _synset_domain_topic_of  ?b   => ?a  _hypernym  ?b\n",
      "?b  _hypernym  ?g  ?g  _synset_domain_topic_of  ?a   => ?a  _hypernym  ?b\n",
      "?a  _has_part  ?h  ?h  _member_meronym  ?b   => ?a  _hypernym  ?b\n",
      "?g  _has_part  ?b  ?g  _synset_domain_topic_of  ?a   => ?a  _hypernym  ?b\n",
      "?g  _derivationally_related_form  ?b  ?g  _synset_domain_topic_of  ?a   => ?a  _hypernym  ?b\n",
      "?g  _has_part  ?b  ?a  _synset_domain_topic_of  ?g   => ?a  _hypernym  ?b\n",
      "?a  _derivationally_related_form  ?g  ?g  _has_part  ?b   => ?a  _hypernym  ?b\n",
      "?g  _has_part  ?b  ?a  _member_meronym  ?g   => ?a  _hypernym  ?b\n",
      "?g  _derivationally_related_form  ?a  ?g  _has_part  ?b   => ?a  _hypernym  ?b\n",
      "?g  _has_part  ?b  ?g  _member_meronym  ?a   => ?a  _hypernym  ?b\n",
      "?a  _derivationally_related_form  ?b  ?b  _hypernym  ?a   => ?a  _hypernym  ?b\n",
      "?b  _derivationally_related_form  ?h  ?a  _member_meronym  ?h   => ?a  _hypernym  ?b\n",
      "?b  _derivationally_related_form  ?a  ?b  _hypernym  ?a   => ?a  _hypernym  ?b\n",
      "?h  _derivationally_related_form  ?b  ?a  _member_meronym  ?h   => ?a  _hypernym  ?b\n",
      "?g  _has_part  ?b  ?g  _hypernym  ?a   => ?a  _hypernym  ?b\n",
      "?b  _derivationally_related_form  ?h  ?a  _synset_domain_topic_of  ?h   => ?a  _hypernym  ?b\n",
      "?a  _derivationally_related_form  ?g  ?g  _member_meronym  ?b   => ?a  _hypernym  ?b\n",
      "?h  _derivationally_related_form  ?b  ?a  _synset_domain_topic_of  ?h   => ?a  _hypernym  ?b\n",
      "?a  _hypernym  ?g  ?g  _member_meronym  ?b   => ?a  _hypernym  ?b\n",
      "?h  _hypernym  ?b  ?a  _synset_domain_topic_of  ?h   => ?a  _hypernym  ?b\n",
      "?g  _derivationally_related_form  ?a  ?g  _member_meronym  ?b   => ?a  _hypernym  ?b\n",
      "?b  _hypernym  ?h  ?h  _member_meronym  ?a   => ?a  _hypernym  ?b\n",
      "?g  _has_part  ?b  ?a  _hypernym  ?g   => ?a  _hypernym  ?b\n",
      "?g  _has_part  ?a  ?g  _member_meronym  ?b   => ?a  _hypernym  ?b\n",
      "?b  _derivationally_related_form  ?g  ?g  _has_part  ?a   => ?a  _hypernym  ?b\n",
      "?g  _derivationally_related_form  ?b  ?g  _has_part  ?a   => ?a  _hypernym  ?b\n",
      "?h  _hypernym  ?b  ?a  _member_meronym  ?h   => ?a  _hypernym  ?b\n",
      "?g  _has_part  ?a  ?g  _hypernym  ?b   => ?a  _hypernym  ?b\n",
      "?g  _derivationally_related_form  ?b  ?g  _member_meronym  ?a   => ?a  _hypernym  ?b\n",
      "?b  _derivationally_related_form  ?g  ?g  _member_meronym  ?a   => ?a  _hypernym  ?b\n",
      "?g  _hypernym  ?b  ?g  _member_meronym  ?a   => ?a  _hypernym  ?b\n",
      "?g  _hypernym  ?a  ?g  _hypernym  ?b   => ?a  _hypernym  ?b\n"
     ]
    }
   ],
   "source": [
    "for rule in transE_rules.drop_duplicates(\"Rule\").Rule:\n",
    "    print(rule)"
   ]
  },
  {
   "cell_type": "code",
   "execution_count": 19,
   "metadata": {},
   "outputs": [],
   "source": [
    "mined_rules_parameters = pd.read_pickle(folder_path + \"mined_rules_parameters_w_random.pkl\")"
   ]
  },
  {
   "cell_type": "code",
   "execution_count": null,
   "metadata": {
    "tags": []
   },
   "outputs": [],
   "source": [
    "plt.subplots(figsize=(8,6), dpi=100)\n",
    "ax = sns.boxplot(x=\"Model\", y=\"PCA Confidence\", data=mined_rules_parameters)\n",
    "plt.axhline(original_rules_median_PCA, color=\"black\", label=\"Median original rules\", linestyle=\"--\")\n",
    "plt.title(\"PCA Confidence for each model\")\n",
    "plt.legend()\n",
    "plt.savefig(\"Max_entities=250_randcand=600_rank=1.png\")"
   ]
  },
  {
   "cell_type": "code",
   "execution_count": null,
   "metadata": {
    "tags": []
   },
   "outputs": [],
   "source": [
    "plt.subplots(figsize=(8,6), dpi=100)\n",
    "ax = sns.boxplot(x=\"Model\", y=\"Head Coverage\", data=mined_rules_parameters)\n",
    "plt.axhline(original_rules_median_HC, color = \"black\", label=\"Median original rules\", linestyle=\"--\")\n",
    "plt.title(\"Head coverage for each model\")\n",
    "plt.legend()"
   ]
  },
  {
   "cell_type": "code",
   "execution_count": null,
   "metadata": {
    "tags": []
   },
   "outputs": [],
   "source": [
    "plt.subplots(figsize=(12,6), dpi=100)\n",
    "sns.distplot(distMult_rules[\"PCA Confidence\"] , color=\"orange\", bins = 100, label=\"DistMult\")\n",
    "sns.distplot(transE_rules[\"PCA Confidence\"] , color=\"deeppink\", bins = 100, label=\"TransE\")\n",
    "sns.distplot(complEx_rules[\"PCA Confidence\"] , color=\"dodgerblue\", bins = 100, label=\"ComplEx\")\n",
    "sns.distplot(randomBaseline_rules[\"PCA Confidence\"] , color=\"black\", bins = 100, label=\"RandomBaseline\")\n",
    "\n",
    "\n",
    "plt.title('PCA Confidence distribution for KG embeddings')\n",
    "plt.legend();"
   ]
  },
  {
   "cell_type": "code",
   "execution_count": null,
   "metadata": {
    "tags": []
   },
   "outputs": [],
   "source": [
    "plt.subplots(figsize=(12,6), dpi=100)\n",
    "sns.distplot(distMult_rules[\"Head Coverage\"] , color=\"orange\", bins = 100, label=\"DistMult\")\n",
    "sns.distplot(transE_rules[\"Head Coverage\"] , color=\"deeppink\", bins = 100, label=\"TransE\")\n",
    "sns.distplot(complEx_rules[\"Head Coverage\"] , color=\"dodgerblue\", bins = 100, label=\"ComplEx\")\n",
    "sns.distplot( randomBaseline_rules[\"Head Coverage\"] , color=\"black\", bins = 100, label=\"RandomBaseline\")\n",
    "\n",
    "\n",
    "plt.title('Head Coverage distribution for KG embeddings')\n",
    "plt.legend();"
   ]
  },
  {
   "cell_type": "markdown",
   "metadata": {
    "tags": []
   },
   "source": [
    "### Parameter 2: entity selection method"
   ]
  },
  {
   "cell_type": "code",
   "execution_count": null,
   "metadata": {
    "tags": []
   },
   "outputs": [],
   "source": [
    "random_entity_rules = get_dataframe_to_plot(mined_rules_parameters, \"Entity_selection\", \"random\")\n",
    "most_frequent_entity_rules = get_dataframe_to_plot(mined_rules_parameters, \"Entity_selection\", \"most_frequent\")\n",
    "least_frequent_entity_rules = get_dataframe_to_plot(mined_rules_parameters, \"Entity_selection\", \"least_frequent\")\n",
    "probabilistic_entity_rules = get_dataframe_to_plot(mined_rules_parameters, \"Entity_selection\", \"probabilistic\")"
   ]
  },
  {
   "cell_type": "code",
   "execution_count": null,
   "metadata": {},
   "outputs": [],
   "source": [
    "display_comparison(\"Random selecction\", original_rules, random_entity_rules.drop_duplicates(\"Rule\"))\n",
    "display_comparison(\"Most frequent\", original_rules, most_frequent_entity_rules.drop_duplicates(\"Rule\"))\n",
    "display_comparison(\"least frequent\", original_rules, least_frequent_entity_rules.drop_duplicates(\"Rule\"))\n",
    "display_comparison(\"Probabilistic selection\", original_rules, probabilistic_entity_rules.drop_duplicates(\"Rule\"))"
   ]
  },
  {
   "cell_type": "code",
   "execution_count": null,
   "metadata": {
    "tags": []
   },
   "outputs": [],
   "source": [
    "plt.subplots(figsize=(10,6), dpi=100)\n",
    "ax = sns.boxplot(x=\"Entity_selection\", y=\"PCA Confidence\", data=mined_rules_parameters)\n",
    "plt.axhline(original_rules_median_PCA, color = \"black\", label=\"Median original rules\", linestyle=\"--\")\n",
    "plt.title(\"PCA confidence for each entity selection method\")\n",
    "plt.legend()\n"
   ]
  },
  {
   "cell_type": "code",
   "execution_count": null,
   "metadata": {
    "tags": []
   },
   "outputs": [],
   "source": [
    "plt.subplots(figsize=(10,6), dpi=100)\n",
    "ax = sns.boxplot(x=\"Entity_selection\", y=\"Head Coverage\", data=mined_rules_parameters)\n",
    "plt.axhline(original_rules_median_HC, color = \"black\", label=\"Median original rules\", linestyle=\"--\")\n",
    "plt.title(\"Head coverage for each entity selection method\")\n",
    "plt.legend()"
   ]
  },
  {
   "cell_type": "code",
   "execution_count": null,
   "metadata": {
    "tags": []
   },
   "outputs": [],
   "source": [
    "plt.subplots(figsize=(12,6), dpi=100)\n",
    "sns.distplot(most_frequent_entity_rules[\"PCA Confidence\"] , color=\"orange\", bins = 100, label=\"most frequent\")\n",
    "sns.distplot(least_frequent_entity_rules[\"PCA Confidence\"] , color=\"deeppink\", bins = 100, label=\"least frequent\")\n",
    "sns.distplot( probabilistic_entity_rules[\"PCA Confidence\"] , color=\"dodgerblue\", bins = 100, label=\"probabilistic\")\n",
    "sns.distplot(random_entity_rules[\"PCA Confidence\"] , color=\"black\", bins = 100, label=\"random\")\n",
    "\n",
    "\n",
    "plt.title('PCA Confidence distribution for entity selection methods')\n",
    "plt.legend();"
   ]
  },
  {
   "cell_type": "code",
   "execution_count": null,
   "metadata": {
    "tags": []
   },
   "outputs": [],
   "source": [
    "plt.subplots(figsize=(12,6), dpi=100)\n",
    "sns.distplot(most_frequent_entity_rules[\"Head Coverage\"] , color=\"orange\", bins = 100, label=\"most frequent\")\n",
    "sns.distplot(least_frequent_entity_rules[\"Head Coverage\"] , color=\"deeppink\", bins = 100, label=\"least frequent\")\n",
    "sns.distplot( probabilistic_entity_rules[\"Head Coverage\"] , color=\"dodgerblue\", bins = 100, label=\"probabilistic\")\n",
    "sns.distplot(random_entity_rules[\"Head Coverage\"] , color=\"black\", bins = 100, label=\"random\")\n",
    "\n",
    "\n",
    "plt.title('Head Coverage distribution for entity selection methods')\n",
    "plt.legend();"
   ]
  },
  {
   "cell_type": "markdown",
   "metadata": {
    "tags": []
   },
   "source": [
    "### Parameter 3: candidate admittance criteria"
   ]
  },
  {
   "cell_type": "code",
   "execution_count": null,
   "metadata": {
    "tags": []
   },
   "outputs": [],
   "source": [
    "mined_rules_parameters['Candidate_criteria'] =  mined_rules_parameters.Candidate_criteria.astype(str)\n",
    "\n",
    "for rank in config.rank_cutoffs:\n",
    "    rank_df = get_dataframe_to_plot(mined_rules_parameters, \"Candidate_criteria\", str(rank))\n",
    "    display_comparison(str(rank), original_rules, rank_df.drop_duplicates(\"Rule\"))"
   ]
  },
  {
   "cell_type": "code",
   "execution_count": null,
   "metadata": {
    "tags": []
   },
   "outputs": [],
   "source": [
    "plt.subplots(figsize=(12,6), dpi=100)\n",
    "ax = sns.boxplot(x=\"Candidate_criteria\", y=\"PCA Confidence\", data=mined_rules_parameters)\n",
    "plt.axhline(original_rules_median_PCA, color = \"black\", label=\"Median original rules\", linestyle=\"--\")\n",
    "plt.title(\"PCA confidence for candidate admittance criteria\")\n",
    "\n",
    "plt.legend()"
   ]
  },
  {
   "cell_type": "code",
   "execution_count": null,
   "metadata": {
    "tags": []
   },
   "outputs": [],
   "source": [
    "plt.subplots(figsize=(12,6), dpi=100)\n",
    "ax = sns.boxplot(x=\"Candidate_criteria\", y=\"Head Coverage\", data=mined_rules_parameters)\n",
    "plt.axhline(original_rules_median_HC, color = \"black\", label=\"Median original rules\", linestyle=\"--\")\n",
    "plt.title(\"Head coverage for candidate admittance criteria\")\n",
    "plt.legend()"
   ]
  },
  {
   "cell_type": "code",
   "execution_count": null,
   "metadata": {
    "tags": []
   },
   "outputs": [],
   "source": [
    "plt.subplots(figsize=(12,6), dpi=100)\n",
    "for i, rank in enumerate(config.rank_cutoffs):\n",
    "    rules_set = get_dataframe_to_plot(mined_rules_parameters, \"Candidate_criteria\", str(rank))\n",
    "    sns.distplot(rules_set[\"PCA Confidence\"] , color=sns.color_palette()[i], bins = 100, label=\"rank \" +str(i+1))\n",
    "plt.title('PCA Confidence distribution for candidate admittance criteria')\n",
    "plt.legend();"
   ]
  },
  {
   "cell_type": "code",
   "execution_count": null,
   "metadata": {
    "tags": []
   },
   "outputs": [],
   "source": [
    "plt.subplots(figsize=(12,6), dpi=100)\n",
    "for i, rank in enumerate(config.rank_cutoffs):\n",
    "    rules_set = get_dataframe_to_plot(mined_rules_parameters, \"Candidate_criteria\", str(rank))\n",
    "    sns.distplot(rules_set[\"Head Coverage\"] , color=sns.color_palette()[i], bins = 100, label=\"rank \" +str(i+1))\n",
    "plt.title('Head Coverage distribution for candidate admittance criteria')\n",
    "plt.legend();"
   ]
  },
  {
   "cell_type": "markdown",
   "metadata": {},
   "source": [
    "### PCA Confidence vs Head Coverage\n",
    "\n",
    "These plots visualize too many datapoints so it is only confusing to look at these plots"
   ]
  },
  {
   "cell_type": "code",
   "execution_count": null,
   "metadata": {
    "tags": []
   },
   "outputs": [],
   "source": [
    "def plot_scatterplot(mined_rules_df, parameter=\"Model\"):\n",
    "    plt.subplots(figsize=(12,6), dpi=100)\n",
    "    plot = sns.scatterplot(data=mined_rules_df.sample(frac=1), x=\"PCA Confidence\", y=\"Head Coverage\", hue=parameter, alpha=1)\n",
    "    #plot.set_xlim(0.09, 0.5)\n",
    "    #plot.set_ylim(0, 0.16)\n",
    "    plot.set_title(\"PCA Confidence vs Head coverage per \" +parameter.lower())\n",
    "    plt.legend()"
   ]
  },
  {
   "cell_type": "code",
   "execution_count": null,
   "metadata": {
    "tags": []
   },
   "outputs": [],
   "source": [
    "plot_scatterplot(mined_rules_parameters, parameter=\"Model\")"
   ]
  },
  {
   "cell_type": "code",
   "execution_count": null,
   "metadata": {
    "tags": []
   },
   "outputs": [],
   "source": [
    "plot_scatterplot(mined_rules_parameters, parameter=\"Entity_selection\")"
   ]
  },
  {
   "cell_type": "code",
   "execution_count": null,
   "metadata": {
    "tags": []
   },
   "outputs": [],
   "source": [
    "plot_scatterplot(mined_rules_parameters, parameter=\"Candidate_criteria\")"
   ]
  },
  {
   "cell_type": "code",
   "execution_count": null,
   "metadata": {},
   "outputs": [],
   "source": []
  },
  {
   "cell_type": "code",
   "execution_count": null,
   "metadata": {},
   "outputs": [],
   "source": []
  },
  {
   "cell_type": "code",
   "execution_count": null,
   "metadata": {},
   "outputs": [],
   "source": []
  }
 ],
 "metadata": {
  "kernelspec": {
   "display_name": "Python 3",
   "language": "python",
   "name": "python3"
  },
  "language_info": {
   "codemirror_mode": {
    "name": "ipython",
    "version": 3
   },
   "file_extension": ".py",
   "mimetype": "text/x-python",
   "name": "python",
   "nbconvert_exporter": "python",
   "pygments_lexer": "ipython3",
   "version": "3.7.11"
  }
 },
 "nbformat": 4,
 "nbformat_minor": 4
}
