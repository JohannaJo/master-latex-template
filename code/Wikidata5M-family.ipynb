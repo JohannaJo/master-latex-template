{
 "cells": [
  {
   "cell_type": "markdown",
   "metadata": {},
   "source": [
    "# INF367 project - Rule mining on extended KG using AMIE+\n",
    "\n",
    "**Author**: Johanna Jøsang (fak006)"
   ]
  },
  {
   "cell_type": "code",
   "execution_count": 1,
   "metadata": {},
   "outputs": [
    {
     "name": "stdout",
     "output_type": "stream",
     "text": [
      "['Q349243' 'child' 'Q333609']\n",
      "<class 'numpy.ndarray'>\n",
      "(3,)\n",
      "A1: <class 'numpy.ndarray'>\n",
      "Ad1: object\n",
      "B: <class 'numpy.ndarray'>\n",
      "Bd: object\n",
      "A2: <class 'numpy.ndarray'>\n",
      "A [[['Q349243' 'child' 'Q333609']]\n",
      "\n",
      " [['Q6761233' 'child' 'Q333609']]\n",
      "\n",
      " [['Q95992' 'child' 'Q333609']]\n",
      "\n",
      " [['Q5569757' 'child' 'Q333609']]\n",
      "\n",
      " [['Q704668' 'child' 'Q333609']]\n",
      "\n",
      " [['Q355710' 'child' 'Q333609']]\n",
      "\n",
      " [['Q3296283' 'child' 'Q333609']]\n",
      "\n",
      " [['Q26704631' 'child' 'Q333609']]\n",
      "\n",
      " [['Q18600482' 'child' 'Q333609']]\n",
      "\n",
      " [['Q5489855' 'child' 'Q333609']]]\n",
      "B [['Q1000366' 'child' 'Q1701445']\n",
      " ['Q1000366' 'child' 'Q6776382']\n",
      " ['Q1000505' 'spouse' 'Q268177']\n",
      " ['Q1000505' 'spouse' 'Q540597']\n",
      " ['Q1000596' 'father' 'Q701504']\n",
      " ['Q1000596' 'sibling' 'Q718827']\n",
      " ['Q1000682' 'spouse' 'Q673856']\n",
      " ['Q10007' 'father' 'Q9994']\n",
      " ['Q10007' 'mother' 'Q5374627']\n",
      " ['Q10007' 'spouse' 'Q5374631']]\n",
      "hallo False\n",
      "hei [[[False  True False]\n",
      "  [False  True False]\n",
      "  [False False False]\n",
      "  ...\n",
      "  [False False False]\n",
      "  [False False False]\n",
      "  [False False False]]\n",
      "\n",
      " [[False  True False]\n",
      "  [False  True False]\n",
      "  [False False False]\n",
      "  ...\n",
      "  [False False False]\n",
      "  [False False False]\n",
      "  [False False False]]\n",
      "\n",
      " [[False  True False]\n",
      "  [False  True False]\n",
      "  [False False False]\n",
      "  ...\n",
      "  [False False False]\n",
      "  [False False False]\n",
      "  [False False False]]\n",
      "\n",
      " ...\n",
      "\n",
      " [[False  True False]\n",
      "  [False  True False]\n",
      "  [False False False]\n",
      "  ...\n",
      "  [False False False]\n",
      "  [False False False]\n",
      "  [False False False]]\n",
      "\n",
      " [[False  True False]\n",
      "  [False  True False]\n",
      "  [False False False]\n",
      "  ...\n",
      "  [False False False]\n",
      "  [False False False]\n",
      "  [False False False]]\n",
      "\n",
      " [[False  True False]\n",
      "  [False  True False]\n",
      "  [False False False]\n",
      "  ...\n",
      "  [False False False]\n",
      "  [False False False]\n",
      "  [False False False]]]\n"
     ]
    },
    {
     "ename": "RuntimeError",
     "evalue": ":)",
     "output_type": "error",
     "traceback": [
      "\u001b[1;31m---------------------------------------------------------------------------\u001b[0m",
      "\u001b[1;31mRuntimeError\u001b[0m                              Traceback (most recent call last)",
      "\u001b[1;32m<ipython-input-1-610e072b6d65>\u001b[0m in \u001b[0;36m<module>\u001b[1;34m\u001b[0m\n\u001b[0;32m     23\u001b[0m \u001b[0mentities_subset\u001b[0m \u001b[1;33m=\u001b[0m \u001b[0mnp\u001b[0m\u001b[1;33m.\u001b[0m\u001b[0mloadtxt\u001b[0m\u001b[1;33m(\u001b[0m\u001b[1;34m\"entities_subset.txt\"\u001b[0m\u001b[1;33m,\u001b[0m \u001b[0mdtype\u001b[0m \u001b[1;33m=\u001b[0m \u001b[1;34m'object'\u001b[0m\u001b[1;33m)\u001b[0m\u001b[1;33m\u001b[0m\u001b[1;33m\u001b[0m\u001b[0m\n\u001b[0;32m     24\u001b[0m \u001b[0mmodel\u001b[0m \u001b[1;33m=\u001b[0m \u001b[0mrestore_model\u001b[0m\u001b[1;33m(\u001b[0m\u001b[1;34m'./Wikidata_family_subset_100_epocs.pkl'\u001b[0m\u001b[1;33m)\u001b[0m\u001b[1;33m\u001b[0m\u001b[1;33m\u001b[0m\u001b[0m\n\u001b[1;32m---> 25\u001b[1;33m \u001b[0mdiscoveries\u001b[0m\u001b[1;33m,\u001b[0m \u001b[0mdiscovery_ranks\u001b[0m \u001b[1;33m=\u001b[0m \u001b[0mdiscover_facts\u001b[0m\u001b[1;33m(\u001b[0m\u001b[0mfamily_subset\u001b[0m\u001b[1;33m,\u001b[0m \u001b[0mmodel\u001b[0m\u001b[1;33m,\u001b[0m \u001b[0mtop_n\u001b[0m \u001b[1;33m=\u001b[0m \u001b[1;36m5000\u001b[0m\u001b[1;33m,\u001b[0m \u001b[0mmax_candidates\u001b[0m \u001b[1;33m=\u001b[0m \u001b[1;36m50000\u001b[0m\u001b[1;33m,\u001b[0m \u001b[0mentities_subset\u001b[0m \u001b[1;33m=\u001b[0m \u001b[0mentities_subset\u001b[0m\u001b[1;33m,\u001b[0m \u001b[0mseed\u001b[0m \u001b[1;33m=\u001b[0m \u001b[1;36m2\u001b[0m\u001b[1;33m)\u001b[0m\u001b[1;33m\u001b[0m\u001b[1;33m\u001b[0m\u001b[0m\n\u001b[0m",
      "\u001b[1;32mc:\\users\\johan\\appdata\\local\\programs\\python\\python37\\lib\\site-packages\\ampligraph\\discovery\\discovery.py\u001b[0m in \u001b[0;36mdiscover_facts\u001b[1;34m(X, model, top_n, strategy, max_candidates, target_rel, entities_subset, seed)\u001b[0m\n\u001b[0;32m    174\u001b[0m         \u001b[0mlogger\u001b[0m\u001b[1;33m.\u001b[0m\u001b[0minfo\u001b[0m\u001b[1;33m(\u001b[0m\u001b[1;34m'Generating candidates for relation: %s'\u001b[0m \u001b[1;33m%\u001b[0m \u001b[0mrelation\u001b[0m\u001b[1;33m)\u001b[0m\u001b[1;33m\u001b[0m\u001b[1;33m\u001b[0m\u001b[0m\n\u001b[0;32m    175\u001b[0m \u001b[1;33m\u001b[0m\u001b[0m\n\u001b[1;32m--> 176\u001b[1;33m         \u001b[0mcandidates\u001b[0m \u001b[1;33m=\u001b[0m \u001b[0mgenerate_candidates\u001b[0m\u001b[1;33m(\u001b[0m\u001b[0mX_filtered\u001b[0m\u001b[1;33m,\u001b[0m \u001b[0mstrategy\u001b[0m\u001b[1;33m,\u001b[0m \u001b[0mrelation\u001b[0m\u001b[1;33m,\u001b[0m \u001b[0mmax_candidates\u001b[0m\u001b[1;33m,\u001b[0m \u001b[0mseed\u001b[0m\u001b[1;33m=\u001b[0m\u001b[0mseed\u001b[0m\u001b[1;33m)\u001b[0m\u001b[1;33m\u001b[0m\u001b[1;33m\u001b[0m\u001b[0m\n\u001b[0m\u001b[0;32m    177\u001b[0m \u001b[1;33m\u001b[0m\u001b[0m\n\u001b[0;32m    178\u001b[0m         \u001b[0mlogger\u001b[0m\u001b[1;33m.\u001b[0m\u001b[0mdebug\u001b[0m\u001b[1;33m(\u001b[0m\u001b[1;34m'Generated %d candidate statements.'\u001b[0m \u001b[1;33m%\u001b[0m \u001b[0mlen\u001b[0m\u001b[1;33m(\u001b[0m\u001b[0mcandidates\u001b[0m\u001b[1;33m)\u001b[0m\u001b[1;33m)\u001b[0m\u001b[1;33m\u001b[0m\u001b[1;33m\u001b[0m\u001b[0m\n",
      "\u001b[1;32mc:\\users\\johan\\appdata\\local\\programs\\python\\python37\\lib\\site-packages\\ampligraph\\discovery\\discovery.py\u001b[0m in \u001b[0;36mgenerate_candidates\u001b[1;34m(X, strategy, target_rel, max_candidates, consolidate_sides, seed)\u001b[0m\n\u001b[0;32m    315\u001b[0m \u001b[1;33m\u001b[0m\u001b[0m\n\u001b[0;32m    316\u001b[0m             \u001b[0mgen_candidates\u001b[0m \u001b[1;33m=\u001b[0m \u001b[0mnp\u001b[0m\u001b[1;33m.\u001b[0m\u001b[0marray\u001b[0m\u001b[1;33m(\u001b[0m\u001b[0mnp\u001b[0m\u001b[1;33m.\u001b[0m\u001b[0mmeshgrid\u001b[0m\u001b[1;33m(\u001b[0m\u001b[0msample_e_s\u001b[0m\u001b[1;33m,\u001b[0m \u001b[0mtarget_rel\u001b[0m\u001b[1;33m,\u001b[0m \u001b[0msample_e_o\u001b[0m\u001b[1;33m)\u001b[0m\u001b[1;33m)\u001b[0m\u001b[1;33m.\u001b[0m\u001b[0mT\u001b[0m\u001b[1;33m.\u001b[0m\u001b[0mreshape\u001b[0m\u001b[1;33m(\u001b[0m\u001b[1;33m-\u001b[0m\u001b[1;36m1\u001b[0m\u001b[1;33m,\u001b[0m \u001b[1;36m3\u001b[0m\u001b[1;33m)\u001b[0m\u001b[1;33m\u001b[0m\u001b[1;33m\u001b[0m\u001b[0m\n\u001b[1;32m--> 317\u001b[1;33m             \u001b[0mgen_candidates\u001b[0m \u001b[1;33m=\u001b[0m \u001b[0m_filter_candidates\u001b[0m\u001b[1;33m(\u001b[0m\u001b[0mgen_candidates\u001b[0m\u001b[1;33m,\u001b[0m \u001b[0mX\u001b[0m\u001b[1;33m)\u001b[0m\u001b[1;33m\u001b[0m\u001b[1;33m\u001b[0m\u001b[0m\n\u001b[0m\u001b[0;32m    318\u001b[0m \u001b[1;33m\u001b[0m\u001b[0m\n\u001b[0;32m    319\u001b[0m             \u001b[1;31m# Select either all of gen_candidates or just enough to fill X_candidates\u001b[0m\u001b[1;33m\u001b[0m\u001b[1;33m\u001b[0m\u001b[1;33m\u001b[0m\u001b[0m\n",
      "\u001b[1;32mc:\\users\\johan\\appdata\\local\\programs\\python\\python37\\lib\\site-packages\\ampligraph\\discovery\\discovery.py\u001b[0m in \u001b[0;36m_filter_candidates\u001b[1;34m(X_candidates, X, remove_reflexive)\u001b[0m\n\u001b[0;32m    280\u001b[0m         \"\"\" Inner function to filter candidate statements from X_candidates that are in X.\n\u001b[0;32m    281\u001b[0m         \"\"\"\n\u001b[1;32m--> 282\u001b[1;33m         \u001b[0mX_candidates\u001b[0m \u001b[1;33m=\u001b[0m \u001b[0m_setdiff2d\u001b[0m\u001b[1;33m(\u001b[0m\u001b[0mX_candidates\u001b[0m\u001b[1;33m,\u001b[0m \u001b[0mX\u001b[0m\u001b[1;33m)\u001b[0m\u001b[1;33m\u001b[0m\u001b[1;33m\u001b[0m\u001b[0m\n\u001b[0m\u001b[0;32m    283\u001b[0m         \u001b[1;31m# Filter statements that are ['x', rel, 'x']\u001b[0m\u001b[1;33m\u001b[0m\u001b[1;33m\u001b[0m\u001b[1;33m\u001b[0m\u001b[0m\n\u001b[0;32m    284\u001b[0m         \u001b[1;32mif\u001b[0m \u001b[0mremove_reflexive\u001b[0m\u001b[1;33m:\u001b[0m\u001b[1;33m\u001b[0m\u001b[1;33m\u001b[0m\u001b[0m\n",
      "\u001b[1;32mc:\\users\\johan\\appdata\\local\\programs\\python\\python37\\lib\\site-packages\\ampligraph\\discovery\\discovery.py\u001b[0m in \u001b[0;36m_setdiff2d\u001b[1;34m(A, B)\u001b[0m\n\u001b[0;32m    438\u001b[0m     \u001b[0mprint\u001b[0m\u001b[1;33m(\u001b[0m\u001b[1;34m'hallo'\u001b[0m\u001b[1;33m,\u001b[0m \u001b[0mtmp2\u001b[0m\u001b[1;33m)\u001b[0m\u001b[1;33m\u001b[0m\u001b[1;33m\u001b[0m\u001b[0m\n\u001b[0;32m    439\u001b[0m     \u001b[0mprint\u001b[0m\u001b[1;33m(\u001b[0m\u001b[1;34m'hei'\u001b[0m\u001b[1;33m,\u001b[0m \u001b[0mtmp3\u001b[0m\u001b[1;33m)\u001b[0m\u001b[1;33m\u001b[0m\u001b[1;33m\u001b[0m\u001b[0m\n\u001b[1;32m--> 440\u001b[1;33m     \u001b[1;32mraise\u001b[0m \u001b[0mRuntimeError\u001b[0m\u001b[1;33m(\u001b[0m\u001b[1;34m':)'\u001b[0m\u001b[1;33m)\u001b[0m\u001b[1;33m\u001b[0m\u001b[1;33m\u001b[0m\u001b[0m\n\u001b[0m\u001b[0;32m    441\u001b[0m     \u001b[0mtmp\u001b[0m \u001b[1;33m=\u001b[0m \u001b[0mnp\u001b[0m\u001b[1;33m.\u001b[0m\u001b[0mprod\u001b[0m\u001b[1;33m(\u001b[0m\u001b[0mnp\u001b[0m\u001b[1;33m.\u001b[0m\u001b[0mswapaxes\u001b[0m\u001b[1;33m(\u001b[0m\u001b[0mA\u001b[0m\u001b[1;33m[\u001b[0m\u001b[1;33m:\u001b[0m\u001b[1;33m,\u001b[0m \u001b[1;33m:\u001b[0m\u001b[1;33m,\u001b[0m \u001b[1;32mNone\u001b[0m\u001b[1;33m]\u001b[0m\u001b[1;33m,\u001b[0m \u001b[1;36m1\u001b[0m\u001b[1;33m,\u001b[0m \u001b[1;36m2\u001b[0m\u001b[1;33m)\u001b[0m \u001b[1;33m==\u001b[0m \u001b[0mB\u001b[0m\u001b[1;33m,\u001b[0m \u001b[0maxis\u001b[0m\u001b[1;33m=\u001b[0m\u001b[1;36m2\u001b[0m\u001b[1;33m)\u001b[0m\u001b[1;33m\u001b[0m\u001b[1;33m\u001b[0m\u001b[0m\n\u001b[0;32m    442\u001b[0m     \u001b[1;32mreturn\u001b[0m \u001b[0mA\u001b[0m\u001b[1;33m[\u001b[0m\u001b[1;33m~\u001b[0m \u001b[0mnp\u001b[0m\u001b[1;33m.\u001b[0m\u001b[0msum\u001b[0m\u001b[1;33m(\u001b[0m\u001b[0mnp\u001b[0m\u001b[1;33m.\u001b[0m\u001b[0mcumsum\u001b[0m\u001b[1;33m(\u001b[0m\u001b[0mtmp\u001b[0m\u001b[1;33m,\u001b[0m \u001b[0maxis\u001b[0m\u001b[1;33m=\u001b[0m\u001b[1;36m0\u001b[0m\u001b[1;33m)\u001b[0m \u001b[1;33m*\u001b[0m \u001b[0mtmp\u001b[0m \u001b[1;33m==\u001b[0m \u001b[1;36m1\u001b[0m\u001b[1;33m,\u001b[0m \u001b[0maxis\u001b[0m\u001b[1;33m=\u001b[0m\u001b[1;36m1\u001b[0m\u001b[1;33m)\u001b[0m\u001b[1;33m.\u001b[0m\u001b[0mastype\u001b[0m\u001b[1;33m(\u001b[0m\u001b[0mbool\u001b[0m\u001b[1;33m)\u001b[0m\u001b[1;33m]\u001b[0m\u001b[1;33m\u001b[0m\u001b[1;33m\u001b[0m\u001b[0m\n",
      "\u001b[1;31mRuntimeError\u001b[0m: :)"
     ]
    }
   ],
   "source": [
    "from pykeen.datasets import Wikidata5M\n",
    "import pykeen\n",
    "import tensorflow as tf\n",
    "import pandas as pd\n",
    "pd.set_option('display.max_colwidth', None)\n",
    "import numpy as np\n",
    "np.random.seed(0)\n",
    "from signature_tools import subset_by_signature, subset_by_strict_signature, subset_by_frequency, most_frequent_objects, most_frequent_predicates, most_frequent_targets\n",
    "\n",
    "from ampligraph.evaluation import train_test_split_no_unseen \n",
    "from ampligraph.latent_features import ComplEx\n",
    "from ampligraph.latent_features import save_model\n",
    "from ampligraph.evaluation import evaluate_performance\n",
    "from ampligraph.evaluation import mr_score, mrr_score, hits_at_n_score\n",
    "from ampligraph.latent_features import save_model, restore_model\n",
    "from ampligraph.discovery import discover_facts\n",
    "\n",
    "import matplotlib.pyplot as plt\n",
    "import seaborn as sns\n",
    "\n",
    "\n",
    "family_subset = np.loadtxt(\"family_subset.txt\", dtype = 'object')\n",
    "entities_subset = np.loadtxt(\"entities_subset.txt\", dtype = 'object')\n",
    "model = restore_model('./Wikidata_family_subset_100_epocs.pkl')\n",
    "discoveries, discovery_ranks = discover_facts(family_subset, model, top_n = 5000, max_candidates = 50000, entities_subset = entities_subset, seed = 2)"
   ]
  },
  {
   "cell_type": "markdown",
   "metadata": {},
   "source": [
    "## Data preparation"
   ]
  },
  {
   "cell_type": "code",
   "execution_count": 3,
   "metadata": {},
   "outputs": [
    {
     "name": "stdout",
     "output_type": "stream",
     "text": [
      "WARNING - You're trying to map triples with 156 entities and 0 relations that are not in the training set. These triples will be excluded from the mapping.\n",
      "WARNING - In total 156 from 5133 triples were filtered out\n",
      "WARNING - You're trying to map triples with 180 entities and 0 relations that are not in the training set. These triples will be excluded from the mapping.\n",
      "WARNING - In total 180 from 5163 triples were filtered out\n",
      "Wikidata5M (create_inverse_triples=False)\n",
      "Name        Entities    Relations      Triples\n",
      "----------  ----------  -----------  ---------\n",
      "Training    4594149     822           20614279\n",
      "Testing     4594149     822               4977\n",
      "Validation  4594149     822               4983\n",
      "Total       -           -             20624239\n",
      "Head    Relation    tail\n",
      "------  ----------  --------\n",
      "Q1      P1343       Q602358\n",
      "Q1      P1419       Q1647152\n",
      "Q1      P1552       Q11412\n",
      "Q1      P2184       Q136407\n",
      "Q1      P2670       Q18343\n",
      "\n"
     ]
    }
   ],
   "source": [
    "# retrieve the data from Pykeen distribution\n",
    "data_unprocessed = Wikidata5M()\n",
    "data_unprocessed.summarize()"
   ]
  },
  {
   "cell_type": "code",
   "execution_count": 4,
   "metadata": {},
   "outputs": [
    {
     "name": "stdout",
     "output_type": "stream",
     "text": [
      "WARNING - Reconstructing all label-based triples. This is expensive and rarely needed.\n",
      "WARNING - Reconstructing all label-based triples. This is expensive and rarely needed.\n",
      "WARNING - Reconstructing all label-based triples. This is expensive and rarely needed.\n"
     ]
    }
   ],
   "source": [
    "# extract all the data into a numpy array of triples\n",
    "train_Wikidata = data_unprocessed.training.triples\n",
    "test_Wikidata = data_unprocessed.testing.triples\n",
    "validation_Wikidata = data_unprocessed.validation.triples\n",
    "data_Wikidata = np.concatenate((train_Wikidata, test_Wikidata, validation_Wikidata))\n",
    "data_Wikidata = data_Wikidata.astype('object') # used to have datatype '<U95' which was problematic for signature_tools functions"
   ]
  },
  {
   "cell_type": "markdown",
   "metadata": {},
   "source": [
    "## Family graph\n",
    "\n",
    "Extracting rules from the entire Wikidata5M dataset is a bit too ambitious for this project, so instead rules will be extracted from a well-defined subset of Wikidata5M. This subset consists of all triples with relations that have to do with family structure."
   ]
  },
  {
   "cell_type": "code",
   "execution_count": 10,
   "metadata": {},
   "outputs": [
    {
     "name": "stdout",
     "output_type": "stream",
     "text": [
      "The type of predicates that are used in this subset are: ['child', 'father', 'mother', 'spouse', 'relative', 'sibling', 'stepparent']\n"
     ]
    }
   ],
   "source": [
    "# change predicate names to meaningful values\n",
    "family_predicates_dict = {\n",
    "    'P40': 'child', \n",
    "    'P22' : 'father', \n",
    "    'P25' : 'mother',\n",
    "    'P26' : 'spouse', \n",
    "    'P1038' : 'relative', \n",
    "    'P3373' : 'sibling', \n",
    "    #'P1290' : 'godparent'\n",
    "    #'P451' : 'unmarried_partner'\n",
    "    'P3448' : 'stepparent'\n",
    "}\n",
    "family_pred_ids = list(family_predicates_dict.keys())\n",
    "family_relations = list(family_predicates_dict.values())\n",
    "\n",
    "family_subset = subset_by_signature(data_Wikidata, [], family_pred_ids, [])\n",
    "family_subset[:,1] = np.array([family_predicates_dict[p] for p in family_subset[:,1]])\n",
    "\n",
    "print(\"The type of predicates that are used in this subset are:\", family_relations)"
   ]
  },
  {
   "cell_type": "code",
   "execution_count": 2,
   "metadata": {},
   "outputs": [],
   "source": [
    "'''UNCOMMENT TO REPLACE FAMILY SUBSET'''\n",
    "#pd.DataFrame(family_subset).to_csv(\"family_subset.txt\", sep = \"\\t\", header=None, index=None)\n",
    "family_subset = np.loadtxt(\"family_subset.txt\", dtype = 'object')"
   ]
  },
  {
   "cell_type": "markdown",
   "metadata": {},
   "source": [
    "## Rule mining on entire family graph\n",
    "Use AMIE+ to mine rules. Call jar file from https://github.com/lajus/amie using this command:\n",
    "\n",
    ">java -jar amie-dev.jar -bias lazy -full -noHeuristics -ostd [TSV file] > [txt file to save rules in]"
   ]
  },
  {
   "cell_type": "code",
   "execution_count": 5,
   "metadata": {},
   "outputs": [
    {
     "data": {
      "text/plain": [
       "'UNCOMMENT TO SAVE NEW SUBSET'"
      ]
     },
     "execution_count": 5,
     "metadata": {},
     "output_type": "execute_result"
    }
   ],
   "source": [
    "'''UNCOMMENT TO SAVE NEW SUBSET'''\n",
    "#pd.DataFrame(family_subset).to_csv(\"family_KB.txt\", sep = \"\\t\", header=None, index=None) # remember to later rename to tsv filetype"
   ]
  },
  {
   "cell_type": "markdown",
   "metadata": {},
   "source": [
    "### Manual work:\n",
    "\n",
    "1. rename \"family_KB.txt\" to \"family_KB.csv\"\n",
    "2. Mine rules with command:\n",
    "```java -jar amie-milestone-intKB.jar -bias lazy -full -noHeuristics -ostd family_KB.tsv > family_mined_rules.txt```\n",
    "3. Remove useless text so that family_mined_rules.txt only contains the mined rules. Save as family_mined_rules_cleaned.txt"
   ]
  },
  {
   "cell_type": "code",
   "execution_count": 6,
   "metadata": {},
   "outputs": [],
   "source": [
    "family_mining_results = pd.read_csv(\"family_mined_rules_cleaned.txt\", sep=\"\\t\", names=[\"Rule\", \"Head_Coverage_A\", \"PCA_Confidence_A\", \"Positive_Examples_A\", \"PCA_Body_size_A\", \"Functional_variable\"], skiprows = 1)"
   ]
  },
  {
   "cell_type": "code",
   "execution_count": 7,
   "metadata": {},
   "outputs": [
    {
     "data": {
      "text/html": [
       "<div>\n",
       "<style scoped>\n",
       "    .dataframe tbody tr th:only-of-type {\n",
       "        vertical-align: middle;\n",
       "    }\n",
       "\n",
       "    .dataframe tbody tr th {\n",
       "        vertical-align: top;\n",
       "    }\n",
       "\n",
       "    .dataframe thead th {\n",
       "        text-align: right;\n",
       "    }\n",
       "</style>\n",
       "<table border=\"1\" class=\"dataframe\">\n",
       "  <thead>\n",
       "    <tr style=\"text-align: right;\">\n",
       "      <th></th>\n",
       "      <th>Rule</th>\n",
       "      <th>Head_Coverage_A</th>\n",
       "      <th>PCA_Confidence_A</th>\n",
       "      <th>Positive_Examples_A</th>\n",
       "      <th>PCA_Body_size_A</th>\n",
       "      <th>Functional_variable</th>\n",
       "    </tr>\n",
       "  </thead>\n",
       "  <tbody>\n",
       "    <tr>\n",
       "      <th>0</th>\n",
       "      <td>?b  relative  ?a   =&gt; ?a  stepparent  ?b</td>\n",
       "      <td>0.056604</td>\n",
       "      <td>0.750000</td>\n",
       "      <td>6</td>\n",
       "      <td>8</td>\n",
       "      <td>-1</td>\n",
       "    </tr>\n",
       "    <tr>\n",
       "      <th>1</th>\n",
       "      <td>?b  relative  ?a   =&gt; ?a  relative  ?b</td>\n",
       "      <td>0.551117</td>\n",
       "      <td>0.846306</td>\n",
       "      <td>2566</td>\n",
       "      <td>3032</td>\n",
       "      <td>-2</td>\n",
       "    </tr>\n",
       "    <tr>\n",
       "      <th>2</th>\n",
       "      <td>?b  spouse  ?a   =&gt; ?a  spouse  ?b</td>\n",
       "      <td>0.947832</td>\n",
       "      <td>0.992355</td>\n",
       "      <td>44132</td>\n",
       "      <td>44472</td>\n",
       "      <td>-1</td>\n",
       "    </tr>\n",
       "    <tr>\n",
       "      <th>3</th>\n",
       "      <td>?b  sibling  ?a   =&gt; ?a  sibling  ?b</td>\n",
       "      <td>0.961588</td>\n",
       "      <td>0.989634</td>\n",
       "      <td>72748</td>\n",
       "      <td>73510</td>\n",
       "      <td>-2</td>\n",
       "    </tr>\n",
       "    <tr>\n",
       "      <th>4</th>\n",
       "      <td>?b  relative  ?h  ?a  sibling  ?h   =&gt; ?a  stepparent  ?b</td>\n",
       "      <td>0.018868</td>\n",
       "      <td>0.500000</td>\n",
       "      <td>2</td>\n",
       "      <td>4</td>\n",
       "      <td>-1</td>\n",
       "    </tr>\n",
       "    <tr>\n",
       "      <th>...</th>\n",
       "      <td>...</td>\n",
       "      <td>...</td>\n",
       "      <td>...</td>\n",
       "      <td>...</td>\n",
       "      <td>...</td>\n",
       "      <td>...</td>\n",
       "    </tr>\n",
       "    <tr>\n",
       "      <th>59</th>\n",
       "      <td>?a  father  ?h  ?b  father  ?h   =&gt; ?a  sibling  ?b</td>\n",
       "      <td>0.773231</td>\n",
       "      <td>0.658865</td>\n",
       "      <td>58498</td>\n",
       "      <td>88786</td>\n",
       "      <td>-2</td>\n",
       "    </tr>\n",
       "    <tr>\n",
       "      <th>60</th>\n",
       "      <td>?h  sibling  ?a  ?b  sibling  ?h   =&gt; ?a  sibling  ?b</td>\n",
       "      <td>0.716023</td>\n",
       "      <td>0.584857</td>\n",
       "      <td>54170</td>\n",
       "      <td>92621</td>\n",
       "      <td>-2</td>\n",
       "    </tr>\n",
       "    <tr>\n",
       "      <th>61</th>\n",
       "      <td>?h  sibling  ?b  ?a  sibling  ?h   =&gt; ?a  sibling  ?b</td>\n",
       "      <td>0.721059</td>\n",
       "      <td>0.588151</td>\n",
       "      <td>54551</td>\n",
       "      <td>92750</td>\n",
       "      <td>-2</td>\n",
       "    </tr>\n",
       "    <tr>\n",
       "      <th>62</th>\n",
       "      <td>?a  sibling  ?h  ?b  sibling  ?h   =&gt; ?a  sibling  ?b</td>\n",
       "      <td>0.718680</td>\n",
       "      <td>0.590059</td>\n",
       "      <td>54371</td>\n",
       "      <td>92145</td>\n",
       "      <td>-2</td>\n",
       "    </tr>\n",
       "    <tr>\n",
       "      <th>63</th>\n",
       "      <td>?g  sibling  ?a  ?g  sibling  ?b   =&gt; ?a  sibling  ?b</td>\n",
       "      <td>0.721125</td>\n",
       "      <td>0.564657</td>\n",
       "      <td>54556</td>\n",
       "      <td>96618</td>\n",
       "      <td>-2</td>\n",
       "    </tr>\n",
       "  </tbody>\n",
       "</table>\n",
       "<p>64 rows × 6 columns</p>\n",
       "</div>"
      ],
      "text/plain": [
       "                                                         Rule  \\\n",
       "0                    ?b  relative  ?a   => ?a  stepparent  ?b   \n",
       "1                      ?b  relative  ?a   => ?a  relative  ?b   \n",
       "2                          ?b  spouse  ?a   => ?a  spouse  ?b   \n",
       "3                        ?b  sibling  ?a   => ?a  sibling  ?b   \n",
       "4   ?b  relative  ?h  ?a  sibling  ?h   => ?a  stepparent  ?b   \n",
       "..                                                        ...   \n",
       "59        ?a  father  ?h  ?b  father  ?h   => ?a  sibling  ?b   \n",
       "60      ?h  sibling  ?a  ?b  sibling  ?h   => ?a  sibling  ?b   \n",
       "61      ?h  sibling  ?b  ?a  sibling  ?h   => ?a  sibling  ?b   \n",
       "62      ?a  sibling  ?h  ?b  sibling  ?h   => ?a  sibling  ?b   \n",
       "63      ?g  sibling  ?a  ?g  sibling  ?b   => ?a  sibling  ?b   \n",
       "\n",
       "    Head_Coverage_A  PCA_Confidence_A  Positive_Examples_A  PCA_Body_size_A  \\\n",
       "0          0.056604          0.750000                    6                8   \n",
       "1          0.551117          0.846306                 2566             3032   \n",
       "2          0.947832          0.992355                44132            44472   \n",
       "3          0.961588          0.989634                72748            73510   \n",
       "4          0.018868          0.500000                    2                4   \n",
       "..              ...               ...                  ...              ...   \n",
       "59         0.773231          0.658865                58498            88786   \n",
       "60         0.716023          0.584857                54170            92621   \n",
       "61         0.721059          0.588151                54551            92750   \n",
       "62         0.718680          0.590059                54371            92145   \n",
       "63         0.721125          0.564657                54556            96618   \n",
       "\n",
       "    Functional_variable  \n",
       "0                    -1  \n",
       "1                    -2  \n",
       "2                    -1  \n",
       "3                    -2  \n",
       "4                    -1  \n",
       "..                  ...  \n",
       "59                   -2  \n",
       "60                   -2  \n",
       "61                   -2  \n",
       "62                   -2  \n",
       "63                   -2  \n",
       "\n",
       "[64 rows x 6 columns]"
      ]
     },
     "execution_count": 7,
     "metadata": {},
     "output_type": "execute_result"
    }
   ],
   "source": [
    "family_mining_results"
   ]
  },
  {
   "cell_type": "markdown",
   "metadata": {},
   "source": [
    "## Rule mining on subset of graph\n",
    "\n",
    "We now do the same procedure as above with a subset of the graph. This subset will contain 90% of the original data in the family graph, and the datapoints to be included will be selected at random."
   ]
  },
  {
   "cell_type": "code",
   "execution_count": 8,
   "metadata": {},
   "outputs": [],
   "source": [
    "# Extract subset contaning 90% of the data\n",
    "random_subset_mask = np.random.choice([False, True], len(family_subset), p=[0.1, 0.9])\n",
    "family_subset_subset = family_subset[random_subset_mask]"
   ]
  },
  {
   "cell_type": "code",
   "execution_count": 9,
   "metadata": {},
   "outputs": [
    {
     "data": {
      "text/plain": [
       "'UNCOMMENT TO SAVE NEW SUBSET'"
      ]
     },
     "execution_count": 9,
     "metadata": {},
     "output_type": "execute_result"
    }
   ],
   "source": [
    "'''UNCOMMENT TO SAVE NEW SUBSET'''\n",
    "#pd.DataFrame(family_subset_subset).to_csv(\"family_random_subset_KB.txt\", sep = \"\\t\", header=None, index=None)"
   ]
  },
  {
   "cell_type": "markdown",
   "metadata": {},
   "source": [
    "### Manual work:\n",
    "\n",
    "1. Rename \"family_random_subset_KB.txt\" to \"family_random_subset_KB.csv\"\n",
    "2. Mine rules with command: ```java -jar amie-milestone-intKB.jar -bias lazy -full -noHeuristics -ostd family_random_subset_KB.tsv > family_random_subset_mined_rules.txt```\n",
    "3. Remove useless text so that family_random_subset_mined_rules.txt only contains the mined rules. Save as family_random_subset_mined_rules_cleaned.txt"
   ]
  },
  {
   "cell_type": "code",
   "execution_count": 10,
   "metadata": {},
   "outputs": [],
   "source": [
    "family_random_subset_mining_results = pd.read_csv(\"family_random_subset_mined_rules_cleaned.txt\", sep=\"\\t\", names=[\"Rule\", \"Head_Coverage_B\", \"PCA_Confidence_B\", \"Positive_Examples_B\", \"PCA_Body_size_B\", \"Functional_variable\"], skiprows = 1)"
   ]
  },
  {
   "cell_type": "code",
   "execution_count": 11,
   "metadata": {},
   "outputs": [
    {
     "data": {
      "text/html": [
       "<div>\n",
       "<style scoped>\n",
       "    .dataframe tbody tr th:only-of-type {\n",
       "        vertical-align: middle;\n",
       "    }\n",
       "\n",
       "    .dataframe tbody tr th {\n",
       "        vertical-align: top;\n",
       "    }\n",
       "\n",
       "    .dataframe thead th {\n",
       "        text-align: right;\n",
       "    }\n",
       "</style>\n",
       "<table border=\"1\" class=\"dataframe\">\n",
       "  <thead>\n",
       "    <tr style=\"text-align: right;\">\n",
       "      <th></th>\n",
       "      <th>Rule</th>\n",
       "      <th>Head_Coverage_B</th>\n",
       "      <th>PCA_Confidence_B</th>\n",
       "      <th>Positive_Examples_B</th>\n",
       "      <th>PCA_Body_size_B</th>\n",
       "      <th>Functional_variable</th>\n",
       "    </tr>\n",
       "  </thead>\n",
       "  <tbody>\n",
       "    <tr>\n",
       "      <th>0</th>\n",
       "      <td>?b  relative  ?a   =&gt; ?a  relative  ?b</td>\n",
       "      <td>0.489102</td>\n",
       "      <td>0.799217</td>\n",
       "      <td>2042</td>\n",
       "      <td>2555</td>\n",
       "      <td>-2</td>\n",
       "    </tr>\n",
       "    <tr>\n",
       "      <th>1</th>\n",
       "      <td>?b  spouse  ?a   =&gt; ?a  spouse  ?b</td>\n",
       "      <td>0.851667</td>\n",
       "      <td>0.974573</td>\n",
       "      <td>35684</td>\n",
       "      <td>36615</td>\n",
       "      <td>-1</td>\n",
       "    </tr>\n",
       "    <tr>\n",
       "      <th>2</th>\n",
       "      <td>?b  sibling  ?a   =&gt; ?a  sibling  ?b</td>\n",
       "      <td>0.866911</td>\n",
       "      <td>0.917226</td>\n",
       "      <td>59184</td>\n",
       "      <td>64525</td>\n",
       "      <td>-2</td>\n",
       "    </tr>\n",
       "    <tr>\n",
       "      <th>3</th>\n",
       "      <td>?h  relative  ?a  ?b  sibling  ?h   =&gt; ?a  relative  ?b</td>\n",
       "      <td>0.079760</td>\n",
       "      <td>0.314745</td>\n",
       "      <td>333</td>\n",
       "      <td>1058</td>\n",
       "      <td>-2</td>\n",
       "    </tr>\n",
       "    <tr>\n",
       "      <th>4</th>\n",
       "      <td>?b  mother  ?h  ?h  relative  ?a   =&gt; ?a  relative  ?b</td>\n",
       "      <td>0.015808</td>\n",
       "      <td>0.208202</td>\n",
       "      <td>66</td>\n",
       "      <td>317</td>\n",
       "      <td>-2</td>\n",
       "    </tr>\n",
       "    <tr>\n",
       "      <th>5</th>\n",
       "      <td>?a  relative  ?h  ?b  sibling  ?h   =&gt; ?a  relative  ?b</td>\n",
       "      <td>0.117365</td>\n",
       "      <td>0.454968</td>\n",
       "      <td>490</td>\n",
       "      <td>1077</td>\n",
       "      <td>-2</td>\n",
       "    </tr>\n",
       "    <tr>\n",
       "      <th>6</th>\n",
       "      <td>?b  mother  ?h  ?a  relative  ?h   =&gt; ?a  relative  ?b</td>\n",
       "      <td>0.022754</td>\n",
       "      <td>0.293210</td>\n",
       "      <td>95</td>\n",
       "      <td>324</td>\n",
       "      <td>-2</td>\n",
       "    </tr>\n",
       "    <tr>\n",
       "      <th>7</th>\n",
       "      <td>?b  relative  ?h  ?a  sibling  ?h   =&gt; ?a  relative  ?b</td>\n",
       "      <td>0.075449</td>\n",
       "      <td>0.110217</td>\n",
       "      <td>315</td>\n",
       "      <td>2858</td>\n",
       "      <td>-2</td>\n",
       "    </tr>\n",
       "    <tr>\n",
       "      <th>8</th>\n",
       "      <td>?h  father  ?a  ?b  father  ?h   =&gt; ?a  relative  ?b</td>\n",
       "      <td>0.018922</td>\n",
       "      <td>0.187204</td>\n",
       "      <td>79</td>\n",
       "      <td>422</td>\n",
       "      <td>-2</td>\n",
       "    </tr>\n",
       "    <tr>\n",
       "      <th>9</th>\n",
       "      <td>?h  relative  ?b  ?a  sibling  ?h   =&gt; ?a  relative  ?b</td>\n",
       "      <td>0.098683</td>\n",
       "      <td>0.116089</td>\n",
       "      <td>412</td>\n",
       "      <td>3549</td>\n",
       "      <td>-2</td>\n",
       "    </tr>\n",
       "    <tr>\n",
       "      <th>10</th>\n",
       "      <td>?h  relative  ?a  ?b  spouse  ?h   =&gt; ?a  relative  ?b</td>\n",
       "      <td>0.024910</td>\n",
       "      <td>0.193309</td>\n",
       "      <td>104</td>\n",
       "      <td>538</td>\n",
       "      <td>-2</td>\n",
       "    </tr>\n",
       "    <tr>\n",
       "      <th>11</th>\n",
       "      <td>?a  relative  ?h  ?b  spouse  ?h   =&gt; ?a  relative  ?b</td>\n",
       "      <td>0.038323</td>\n",
       "      <td>0.276817</td>\n",
       "      <td>160</td>\n",
       "      <td>578</td>\n",
       "      <td>-2</td>\n",
       "    </tr>\n",
       "    <tr>\n",
       "      <th>12</th>\n",
       "      <td>?b  father  ?h  ?h  relative  ?a   =&gt; ?a  relative  ?b</td>\n",
       "      <td>0.046707</td>\n",
       "      <td>0.262097</td>\n",
       "      <td>195</td>\n",
       "      <td>744</td>\n",
       "      <td>-2</td>\n",
       "    </tr>\n",
       "    <tr>\n",
       "      <th>13</th>\n",
       "      <td>?b  father  ?h  ?a  relative  ?h   =&gt; ?a  relative  ?b</td>\n",
       "      <td>0.068024</td>\n",
       "      <td>0.349323</td>\n",
       "      <td>284</td>\n",
       "      <td>813</td>\n",
       "      <td>-2</td>\n",
       "    </tr>\n",
       "    <tr>\n",
       "      <th>14</th>\n",
       "      <td>?h  father  ?a  ?b  relative  ?h   =&gt; ?a  relative  ?b</td>\n",
       "      <td>0.037365</td>\n",
       "      <td>0.170306</td>\n",
       "      <td>156</td>\n",
       "      <td>916</td>\n",
       "      <td>-2</td>\n",
       "    </tr>\n",
       "    <tr>\n",
       "      <th>15</th>\n",
       "      <td>?b  relative  ?h  ?h  sibling  ?a   =&gt; ?a  relative  ?b</td>\n",
       "      <td>0.077844</td>\n",
       "      <td>0.112886</td>\n",
       "      <td>325</td>\n",
       "      <td>2879</td>\n",
       "      <td>-2</td>\n",
       "    </tr>\n",
       "    <tr>\n",
       "      <th>16</th>\n",
       "      <td>?a  relative  ?g  ?g  spouse  ?b   =&gt; ?a  relative  ?b</td>\n",
       "      <td>0.038323</td>\n",
       "      <td>0.271186</td>\n",
       "      <td>160</td>\n",
       "      <td>590</td>\n",
       "      <td>-2</td>\n",
       "    </tr>\n",
       "    <tr>\n",
       "      <th>17</th>\n",
       "      <td>?h  father  ?a  ?b  spouse  ?h   =&gt; ?a  relative  ?b</td>\n",
       "      <td>0.012216</td>\n",
       "      <td>0.121140</td>\n",
       "      <td>51</td>\n",
       "      <td>421</td>\n",
       "      <td>-2</td>\n",
       "    </tr>\n",
       "    <tr>\n",
       "      <th>18</th>\n",
       "      <td>?g  father  ?a  ?g  spouse  ?b   =&gt; ?a  relative  ?b</td>\n",
       "      <td>0.012934</td>\n",
       "      <td>0.128878</td>\n",
       "      <td>54</td>\n",
       "      <td>419</td>\n",
       "      <td>-2</td>\n",
       "    </tr>\n",
       "    <tr>\n",
       "      <th>19</th>\n",
       "      <td>?g  father  ?b  ?g  relative  ?a   =&gt; ?a  relative  ?b</td>\n",
       "      <td>0.043114</td>\n",
       "      <td>0.290792</td>\n",
       "      <td>180</td>\n",
       "      <td>619</td>\n",
       "      <td>-2</td>\n",
       "    </tr>\n",
       "    <tr>\n",
       "      <th>20</th>\n",
       "      <td>?g  relative  ?b  ?g  sibling  ?a   =&gt; ?a  relative  ?b</td>\n",
       "      <td>0.099162</td>\n",
       "      <td>0.115385</td>\n",
       "      <td>414</td>\n",
       "      <td>3588</td>\n",
       "      <td>-2</td>\n",
       "    </tr>\n",
       "    <tr>\n",
       "      <th>21</th>\n",
       "      <td>?g  father  ?a  ?g  relative  ?b   =&gt; ?a  relative  ?b</td>\n",
       "      <td>0.043593</td>\n",
       "      <td>0.133529</td>\n",
       "      <td>182</td>\n",
       "      <td>1363</td>\n",
       "      <td>-2</td>\n",
       "    </tr>\n",
       "    <tr>\n",
       "      <th>22</th>\n",
       "      <td>?h  mother  ?b  ?a  relative  ?h   =&gt; ?a  relative  ?b</td>\n",
       "      <td>0.020120</td>\n",
       "      <td>0.270096</td>\n",
       "      <td>84</td>\n",
       "      <td>311</td>\n",
       "      <td>-2</td>\n",
       "    </tr>\n",
       "    <tr>\n",
       "      <th>23</th>\n",
       "      <td>?g  mother  ?b  ?g  relative  ?a   =&gt; ?a  relative  ?b</td>\n",
       "      <td>0.015569</td>\n",
       "      <td>0.212418</td>\n",
       "      <td>65</td>\n",
       "      <td>306</td>\n",
       "      <td>-2</td>\n",
       "    </tr>\n",
       "    <tr>\n",
       "      <th>24</th>\n",
       "      <td>?g  relative  ?a  ?g  spouse  ?b   =&gt; ?a  relative  ?b</td>\n",
       "      <td>0.024671</td>\n",
       "      <td>0.192884</td>\n",
       "      <td>103</td>\n",
       "      <td>534</td>\n",
       "      <td>-2</td>\n",
       "    </tr>\n",
       "    <tr>\n",
       "      <th>25</th>\n",
       "      <td>?g  father  ?b  ?a  relative  ?g   =&gt; ?a  relative  ?b</td>\n",
       "      <td>0.053413</td>\n",
       "      <td>0.352848</td>\n",
       "      <td>223</td>\n",
       "      <td>632</td>\n",
       "      <td>-2</td>\n",
       "    </tr>\n",
       "    <tr>\n",
       "      <th>26</th>\n",
       "      <td>?a  relative  ?h  ?h  sibling  ?b   =&gt; ?a  relative  ?b</td>\n",
       "      <td>0.117605</td>\n",
       "      <td>0.459308</td>\n",
       "      <td>491</td>\n",
       "      <td>1069</td>\n",
       "      <td>-2</td>\n",
       "    </tr>\n",
       "    <tr>\n",
       "      <th>27</th>\n",
       "      <td>?g  relative  ?a  ?g  sibling  ?b   =&gt; ?a  relative  ?b</td>\n",
       "      <td>0.078323</td>\n",
       "      <td>0.317168</td>\n",
       "      <td>327</td>\n",
       "      <td>1031</td>\n",
       "      <td>-2</td>\n",
       "    </tr>\n",
       "    <tr>\n",
       "      <th>28</th>\n",
       "      <td>?g  father  ?b  ?g  mother  ?a   =&gt; ?a  spouse  ?b</td>\n",
       "      <td>0.120552</td>\n",
       "      <td>0.957717</td>\n",
       "      <td>5051</td>\n",
       "      <td>5274</td>\n",
       "      <td>-1</td>\n",
       "    </tr>\n",
       "    <tr>\n",
       "      <th>29</th>\n",
       "      <td>?a  mother  ?h  ?b  spouse  ?h   =&gt; ?a  father  ?b</td>\n",
       "      <td>0.203578</td>\n",
       "      <td>0.867208</td>\n",
       "      <td>9182</td>\n",
       "      <td>10588</td>\n",
       "      <td>-1</td>\n",
       "    </tr>\n",
       "    <tr>\n",
       "      <th>30</th>\n",
       "      <td>?a  father  ?h  ?b  spouse  ?h   =&gt; ?a  mother  ?b</td>\n",
       "      <td>0.625380</td>\n",
       "      <td>0.697604</td>\n",
       "      <td>9260</td>\n",
       "      <td>13274</td>\n",
       "      <td>-1</td>\n",
       "    </tr>\n",
       "    <tr>\n",
       "      <th>31</th>\n",
       "      <td>?g  father  ?a  ?g  mother  ?b   =&gt; ?a  spouse  ?b</td>\n",
       "      <td>0.119931</td>\n",
       "      <td>0.928835</td>\n",
       "      <td>5025</td>\n",
       "      <td>5410</td>\n",
       "      <td>-1</td>\n",
       "    </tr>\n",
       "    <tr>\n",
       "      <th>32</th>\n",
       "      <td>?a  father  ?g  ?g  spouse  ?b   =&gt; ?a  mother  ?b</td>\n",
       "      <td>0.620180</td>\n",
       "      <td>0.705733</td>\n",
       "      <td>9183</td>\n",
       "      <td>13012</td>\n",
       "      <td>-1</td>\n",
       "    </tr>\n",
       "    <tr>\n",
       "      <th>33</th>\n",
       "      <td>?a  mother  ?h  ?h  spouse  ?b   =&gt; ?a  father  ?b</td>\n",
       "      <td>0.205308</td>\n",
       "      <td>0.871447</td>\n",
       "      <td>9260</td>\n",
       "      <td>10626</td>\n",
       "      <td>-1</td>\n",
       "    </tr>\n",
       "    <tr>\n",
       "      <th>34</th>\n",
       "      <td>?g  mother  ?b  ?a  sibling  ?g   =&gt; ?a  mother  ?b</td>\n",
       "      <td>0.586682</td>\n",
       "      <td>0.795804</td>\n",
       "      <td>8687</td>\n",
       "      <td>10916</td>\n",
       "      <td>-1</td>\n",
       "    </tr>\n",
       "    <tr>\n",
       "      <th>35</th>\n",
       "      <td>?g  mother  ?b  ?g  sibling  ?a   =&gt; ?a  mother  ?b</td>\n",
       "      <td>0.586817</td>\n",
       "      <td>0.794387</td>\n",
       "      <td>8689</td>\n",
       "      <td>10938</td>\n",
       "      <td>-1</td>\n",
       "    </tr>\n",
       "    <tr>\n",
       "      <th>36</th>\n",
       "      <td>?a  mother  ?h  ?b  mother  ?h   =&gt; ?a  sibling  ?b</td>\n",
       "      <td>0.326395</td>\n",
       "      <td>0.632878</td>\n",
       "      <td>22283</td>\n",
       "      <td>35209</td>\n",
       "      <td>-2</td>\n",
       "    </tr>\n",
       "    <tr>\n",
       "      <th>37</th>\n",
       "      <td>?a  father  ?h  ?b  father  ?h   =&gt; ?a  sibling  ?b</td>\n",
       "      <td>0.626512</td>\n",
       "      <td>0.596783</td>\n",
       "      <td>42772</td>\n",
       "      <td>71671</td>\n",
       "      <td>-2</td>\n",
       "    </tr>\n",
       "    <tr>\n",
       "      <th>38</th>\n",
       "      <td>?h  father  ?b  ?a  sibling  ?h   =&gt; ?a  father  ?b</td>\n",
       "      <td>0.387624</td>\n",
       "      <td>0.963091</td>\n",
       "      <td>17483</td>\n",
       "      <td>18153</td>\n",
       "      <td>-1</td>\n",
       "    </tr>\n",
       "    <tr>\n",
       "      <th>39</th>\n",
       "      <td>?g  father  ?b  ?g  sibling  ?a   =&gt; ?a  father  ?b</td>\n",
       "      <td>0.388112</td>\n",
       "      <td>0.963242</td>\n",
       "      <td>17505</td>\n",
       "      <td>18173</td>\n",
       "      <td>-1</td>\n",
       "    </tr>\n",
       "    <tr>\n",
       "      <th>40</th>\n",
       "      <td>?a  sibling  ?h  ?b  sibling  ?h   =&gt; ?a  sibling  ?b</td>\n",
       "      <td>0.684649</td>\n",
       "      <td>0.551256</td>\n",
       "      <td>46741</td>\n",
       "      <td>84790</td>\n",
       "      <td>-2</td>\n",
       "    </tr>\n",
       "    <tr>\n",
       "      <th>41</th>\n",
       "      <td>?h  sibling  ?a  ?b  sibling  ?h   =&gt; ?a  sibling  ?b</td>\n",
       "      <td>0.682686</td>\n",
       "      <td>0.548363</td>\n",
       "      <td>46607</td>\n",
       "      <td>84993</td>\n",
       "      <td>-2</td>\n",
       "    </tr>\n",
       "    <tr>\n",
       "      <th>42</th>\n",
       "      <td>?g  sibling  ?a  ?g  sibling  ?b   =&gt; ?a  sibling  ?b</td>\n",
       "      <td>0.687125</td>\n",
       "      <td>0.517485</td>\n",
       "      <td>46910</td>\n",
       "      <td>90650</td>\n",
       "      <td>-2</td>\n",
       "    </tr>\n",
       "    <tr>\n",
       "      <th>43</th>\n",
       "      <td>?h  sibling  ?b  ?a  sibling  ?h   =&gt; ?a  sibling  ?b</td>\n",
       "      <td>0.686861</td>\n",
       "      <td>0.548887</td>\n",
       "      <td>46892</td>\n",
       "      <td>85431</td>\n",
       "      <td>-2</td>\n",
       "    </tr>\n",
       "  </tbody>\n",
       "</table>\n",
       "</div>"
      ],
      "text/plain": [
       "                                                       Rule  Head_Coverage_B  \\\n",
       "0                    ?b  relative  ?a   => ?a  relative  ?b         0.489102   \n",
       "1                        ?b  spouse  ?a   => ?a  spouse  ?b         0.851667   \n",
       "2                      ?b  sibling  ?a   => ?a  sibling  ?b         0.866911   \n",
       "3   ?h  relative  ?a  ?b  sibling  ?h   => ?a  relative  ?b         0.079760   \n",
       "4    ?b  mother  ?h  ?h  relative  ?a   => ?a  relative  ?b         0.015808   \n",
       "5   ?a  relative  ?h  ?b  sibling  ?h   => ?a  relative  ?b         0.117365   \n",
       "6    ?b  mother  ?h  ?a  relative  ?h   => ?a  relative  ?b         0.022754   \n",
       "7   ?b  relative  ?h  ?a  sibling  ?h   => ?a  relative  ?b         0.075449   \n",
       "8      ?h  father  ?a  ?b  father  ?h   => ?a  relative  ?b         0.018922   \n",
       "9   ?h  relative  ?b  ?a  sibling  ?h   => ?a  relative  ?b         0.098683   \n",
       "10   ?h  relative  ?a  ?b  spouse  ?h   => ?a  relative  ?b         0.024910   \n",
       "11   ?a  relative  ?h  ?b  spouse  ?h   => ?a  relative  ?b         0.038323   \n",
       "12   ?b  father  ?h  ?h  relative  ?a   => ?a  relative  ?b         0.046707   \n",
       "13   ?b  father  ?h  ?a  relative  ?h   => ?a  relative  ?b         0.068024   \n",
       "14   ?h  father  ?a  ?b  relative  ?h   => ?a  relative  ?b         0.037365   \n",
       "15  ?b  relative  ?h  ?h  sibling  ?a   => ?a  relative  ?b         0.077844   \n",
       "16   ?a  relative  ?g  ?g  spouse  ?b   => ?a  relative  ?b         0.038323   \n",
       "17     ?h  father  ?a  ?b  spouse  ?h   => ?a  relative  ?b         0.012216   \n",
       "18     ?g  father  ?a  ?g  spouse  ?b   => ?a  relative  ?b         0.012934   \n",
       "19   ?g  father  ?b  ?g  relative  ?a   => ?a  relative  ?b         0.043114   \n",
       "20  ?g  relative  ?b  ?g  sibling  ?a   => ?a  relative  ?b         0.099162   \n",
       "21   ?g  father  ?a  ?g  relative  ?b   => ?a  relative  ?b         0.043593   \n",
       "22   ?h  mother  ?b  ?a  relative  ?h   => ?a  relative  ?b         0.020120   \n",
       "23   ?g  mother  ?b  ?g  relative  ?a   => ?a  relative  ?b         0.015569   \n",
       "24   ?g  relative  ?a  ?g  spouse  ?b   => ?a  relative  ?b         0.024671   \n",
       "25   ?g  father  ?b  ?a  relative  ?g   => ?a  relative  ?b         0.053413   \n",
       "26  ?a  relative  ?h  ?h  sibling  ?b   => ?a  relative  ?b         0.117605   \n",
       "27  ?g  relative  ?a  ?g  sibling  ?b   => ?a  relative  ?b         0.078323   \n",
       "28       ?g  father  ?b  ?g  mother  ?a   => ?a  spouse  ?b         0.120552   \n",
       "29       ?a  mother  ?h  ?b  spouse  ?h   => ?a  father  ?b         0.203578   \n",
       "30       ?a  father  ?h  ?b  spouse  ?h   => ?a  mother  ?b         0.625380   \n",
       "31       ?g  father  ?a  ?g  mother  ?b   => ?a  spouse  ?b         0.119931   \n",
       "32       ?a  father  ?g  ?g  spouse  ?b   => ?a  mother  ?b         0.620180   \n",
       "33       ?a  mother  ?h  ?h  spouse  ?b   => ?a  father  ?b         0.205308   \n",
       "34      ?g  mother  ?b  ?a  sibling  ?g   => ?a  mother  ?b         0.586682   \n",
       "35      ?g  mother  ?b  ?g  sibling  ?a   => ?a  mother  ?b         0.586817   \n",
       "36      ?a  mother  ?h  ?b  mother  ?h   => ?a  sibling  ?b         0.326395   \n",
       "37      ?a  father  ?h  ?b  father  ?h   => ?a  sibling  ?b         0.626512   \n",
       "38      ?h  father  ?b  ?a  sibling  ?h   => ?a  father  ?b         0.387624   \n",
       "39      ?g  father  ?b  ?g  sibling  ?a   => ?a  father  ?b         0.388112   \n",
       "40    ?a  sibling  ?h  ?b  sibling  ?h   => ?a  sibling  ?b         0.684649   \n",
       "41    ?h  sibling  ?a  ?b  sibling  ?h   => ?a  sibling  ?b         0.682686   \n",
       "42    ?g  sibling  ?a  ?g  sibling  ?b   => ?a  sibling  ?b         0.687125   \n",
       "43    ?h  sibling  ?b  ?a  sibling  ?h   => ?a  sibling  ?b         0.686861   \n",
       "\n",
       "    PCA_Confidence_B  Positive_Examples_B  PCA_Body_size_B  \\\n",
       "0           0.799217                 2042             2555   \n",
       "1           0.974573                35684            36615   \n",
       "2           0.917226                59184            64525   \n",
       "3           0.314745                  333             1058   \n",
       "4           0.208202                   66              317   \n",
       "5           0.454968                  490             1077   \n",
       "6           0.293210                   95              324   \n",
       "7           0.110217                  315             2858   \n",
       "8           0.187204                   79              422   \n",
       "9           0.116089                  412             3549   \n",
       "10          0.193309                  104              538   \n",
       "11          0.276817                  160              578   \n",
       "12          0.262097                  195              744   \n",
       "13          0.349323                  284              813   \n",
       "14          0.170306                  156              916   \n",
       "15          0.112886                  325             2879   \n",
       "16          0.271186                  160              590   \n",
       "17          0.121140                   51              421   \n",
       "18          0.128878                   54              419   \n",
       "19          0.290792                  180              619   \n",
       "20          0.115385                  414             3588   \n",
       "21          0.133529                  182             1363   \n",
       "22          0.270096                   84              311   \n",
       "23          0.212418                   65              306   \n",
       "24          0.192884                  103              534   \n",
       "25          0.352848                  223              632   \n",
       "26          0.459308                  491             1069   \n",
       "27          0.317168                  327             1031   \n",
       "28          0.957717                 5051             5274   \n",
       "29          0.867208                 9182            10588   \n",
       "30          0.697604                 9260            13274   \n",
       "31          0.928835                 5025             5410   \n",
       "32          0.705733                 9183            13012   \n",
       "33          0.871447                 9260            10626   \n",
       "34          0.795804                 8687            10916   \n",
       "35          0.794387                 8689            10938   \n",
       "36          0.632878                22283            35209   \n",
       "37          0.596783                42772            71671   \n",
       "38          0.963091                17483            18153   \n",
       "39          0.963242                17505            18173   \n",
       "40          0.551256                46741            84790   \n",
       "41          0.548363                46607            84993   \n",
       "42          0.517485                46910            90650   \n",
       "43          0.548887                46892            85431   \n",
       "\n",
       "    Functional_variable  \n",
       "0                    -2  \n",
       "1                    -1  \n",
       "2                    -2  \n",
       "3                    -2  \n",
       "4                    -2  \n",
       "5                    -2  \n",
       "6                    -2  \n",
       "7                    -2  \n",
       "8                    -2  \n",
       "9                    -2  \n",
       "10                   -2  \n",
       "11                   -2  \n",
       "12                   -2  \n",
       "13                   -2  \n",
       "14                   -2  \n",
       "15                   -2  \n",
       "16                   -2  \n",
       "17                   -2  \n",
       "18                   -2  \n",
       "19                   -2  \n",
       "20                   -2  \n",
       "21                   -2  \n",
       "22                   -2  \n",
       "23                   -2  \n",
       "24                   -2  \n",
       "25                   -2  \n",
       "26                   -2  \n",
       "27                   -2  \n",
       "28                   -1  \n",
       "29                   -1  \n",
       "30                   -1  \n",
       "31                   -1  \n",
       "32                   -1  \n",
       "33                   -1  \n",
       "34                   -1  \n",
       "35                   -1  \n",
       "36                   -2  \n",
       "37                   -2  \n",
       "38                   -1  \n",
       "39                   -1  \n",
       "40                   -2  \n",
       "41                   -2  \n",
       "42                   -2  \n",
       "43                   -2  "
      ]
     },
     "execution_count": 11,
     "metadata": {},
     "output_type": "execute_result"
    }
   ],
   "source": [
    "family_random_subset_mining_results"
   ]
  },
  {
   "cell_type": "markdown",
   "metadata": {},
   "source": [
    "## Rule comparison\n",
    "This section examines which rules were mined from the entire family graph and compare them with the rules mined from the subset of that graph.\n",
    "\n",
    "First the overlap of the rules mined will calculated, and then the difference in scores calculated for the commonly mined rules is examined."
   ]
  },
  {
   "cell_type": "code",
   "execution_count": 12,
   "metadata": {},
   "outputs": [],
   "source": [
    "# Group rules to see which are common or unique to the two mined sets\n",
    "common_rules = pd.merge(family_mining_results, family_random_subset_mining_results, how='inner', on=['Rule', \"Functional_variable\"])\n",
    "uncommon_rules = pd.concat([family_mining_results, family_random_subset_mining_results]).drop_duplicates([\"Rule\"], keep=False)\n",
    "all_rules = pd.merge(family_mining_results, family_random_subset_mining_results, how='outer', on=['Rule'])\n",
    "unique_incomplete_graph = family_random_subset_mining_results[~family_random_subset_mining_results.Rule.isin(family_mining_results.Rule)]\n",
    "unique_complete_graph = family_mining_results[~family_mining_results.Rule.isin(family_random_subset_mining_results.Rule)]"
   ]
  },
  {
   "cell_type": "code",
   "execution_count": 13,
   "metadata": {},
   "outputs": [],
   "source": [
    "all_rules_count = len(all_rules)\n",
    "common_rules_count = len(common_rules)\n",
    "subset_graph_rule_count = len(family_random_subset_mining_results)\n",
    "complete_graph_rule_count = len(family_mining_results)"
   ]
  },
  {
   "cell_type": "code",
   "execution_count": 14,
   "metadata": {},
   "outputs": [],
   "source": [
    "unique_subset_count = len(unique_incomplete_graph)\n",
    "unique_complete_count = len(unique_complete_graph)\n",
    "common_count = len(common_rules)"
   ]
  },
  {
   "cell_type": "code",
   "execution_count": 15,
   "metadata": {},
   "outputs": [
    {
     "name": "stdout",
     "output_type": "stream",
     "text": [
      "Rules unique to incomplete graph\n"
     ]
    },
    {
     "data": {
      "text/html": [
       "<div>\n",
       "<style scoped>\n",
       "    .dataframe tbody tr th:only-of-type {\n",
       "        vertical-align: middle;\n",
       "    }\n",
       "\n",
       "    .dataframe tbody tr th {\n",
       "        vertical-align: top;\n",
       "    }\n",
       "\n",
       "    .dataframe thead th {\n",
       "        text-align: right;\n",
       "    }\n",
       "</style>\n",
       "<table border=\"1\" class=\"dataframe\">\n",
       "  <thead>\n",
       "    <tr style=\"text-align: right;\">\n",
       "      <th></th>\n",
       "      <th>Rule</th>\n",
       "      <th>Head_Coverage_B</th>\n",
       "      <th>PCA_Confidence_B</th>\n",
       "      <th>Positive_Examples_B</th>\n",
       "      <th>PCA_Body_size_B</th>\n",
       "      <th>Functional_variable</th>\n",
       "    </tr>\n",
       "  </thead>\n",
       "  <tbody>\n",
       "    <tr>\n",
       "      <th>22</th>\n",
       "      <td>?h  mother  ?b  ?a  relative  ?h   =&gt; ?a  relative  ?b</td>\n",
       "      <td>0.020120</td>\n",
       "      <td>0.270096</td>\n",
       "      <td>84</td>\n",
       "      <td>311</td>\n",
       "      <td>-2</td>\n",
       "    </tr>\n",
       "    <tr>\n",
       "      <th>25</th>\n",
       "      <td>?g  father  ?b  ?a  relative  ?g   =&gt; ?a  relative  ?b</td>\n",
       "      <td>0.053413</td>\n",
       "      <td>0.352848</td>\n",
       "      <td>223</td>\n",
       "      <td>632</td>\n",
       "      <td>-2</td>\n",
       "    </tr>\n",
       "    <tr>\n",
       "      <th>32</th>\n",
       "      <td>?a  father  ?g  ?g  spouse  ?b   =&gt; ?a  mother  ?b</td>\n",
       "      <td>0.620180</td>\n",
       "      <td>0.705733</td>\n",
       "      <td>9183</td>\n",
       "      <td>13012</td>\n",
       "      <td>-1</td>\n",
       "    </tr>\n",
       "  </tbody>\n",
       "</table>\n",
       "</div>"
      ],
      "text/plain": [
       "                                                      Rule  Head_Coverage_B  \\\n",
       "22  ?h  mother  ?b  ?a  relative  ?h   => ?a  relative  ?b         0.020120   \n",
       "25  ?g  father  ?b  ?a  relative  ?g   => ?a  relative  ?b         0.053413   \n",
       "32      ?a  father  ?g  ?g  spouse  ?b   => ?a  mother  ?b         0.620180   \n",
       "\n",
       "    PCA_Confidence_B  Positive_Examples_B  PCA_Body_size_B  \\\n",
       "22          0.270096                   84              311   \n",
       "25          0.352848                  223              632   \n",
       "32          0.705733                 9183            13012   \n",
       "\n",
       "    Functional_variable  \n",
       "22                   -2  \n",
       "25                   -2  \n",
       "32                   -1  "
      ]
     },
     "execution_count": 15,
     "metadata": {},
     "output_type": "execute_result"
    }
   ],
   "source": [
    "print(\"Rules unique to incomplete graph\")\n",
    "unique_incomplete_graph"
   ]
  },
  {
   "cell_type": "code",
   "execution_count": 16,
   "metadata": {},
   "outputs": [
    {
     "data": {
      "image/png": "[encoded data removed]",
      "text/plain": [
       "<Figure size 432x288 with 1 Axes>"
      ]
     },
     "metadata": {},
     "output_type": "display_data"
    }
   ],
   "source": [
    "# plot distribution of the mined rules\n",
    "data = [common_count, unique_subset_count, unique_complete_count]\n",
    "labels = ['Common for both mined sets', 'Unique to subset', 'Unique to complete graph']\n",
    "\n",
    "#define Seaborn color pallette to use\n",
    "colors = sns.color_palette('pastel')[0:5]\n",
    "\n",
    "#create pie chart\n",
    "plt.pie(data, labels = labels, colors = colors, autopct='%.0f%%')\n",
    "plt.title(\"Distribution of rules mined\")\n",
    "plt.show()"
   ]
  },
  {
   "cell_type": "markdown",
   "metadata": {},
   "source": [
    "## Difference in head coverage and PCA confidence \n",
    "Compare the head coverage and PCA confidence of rules when calculated on the complete graph and the subset of the graph.\n",
    "This is only done on the rules that were commonly mined from both graphs."
   ]
  },
  {
   "cell_type": "code",
   "execution_count": 17,
   "metadata": {},
   "outputs": [],
   "source": [
    "common_rules[\"HC_Diff\"] = common_rules[\"Head_Coverage_B\"] - common_rules[\"Head_Coverage_A\"]\n",
    "common_rules[\"PCA_Conf_Diff\"] = common_rules[\"PCA_Confidence_B\"] - common_rules[\"PCA_Confidence_A\"]\n",
    "common_rules[\"Pos_Ex_Diff\"] = common_rules[\"Positive_Examples_B\"] - common_rules[\"Positive_Examples_A\"]\n",
    "common_rules[\"PCA_Body_Size_Diff\"] = common_rules[\"PCA_Body_size_B\"] - common_rules[\"PCA_Body_size_A\"]"
   ]
  },
  {
   "cell_type": "code",
   "execution_count": 18,
   "metadata": {},
   "outputs": [],
   "source": [
    "rule_diffs = common_rules[[\"Rule\", \"HC_Diff\", \"PCA_Conf_Diff\"]]"
   ]
  },
  {
   "cell_type": "code",
   "execution_count": 19,
   "metadata": {},
   "outputs": [
    {
     "data": {
      "image/png": "[encoded data removed]",
      "text/plain": [
       "<Figure size 432x288 with 1 Axes>"
      ]
     },
     "metadata": {
      "needs_background": "light"
     },
     "output_type": "display_data"
    }
   ],
   "source": [
    "plt.hist(rule_diffs[\"HC_Diff\"], bins = 20)\n",
    "plt.title(\"Head coverage difference\")\n",
    "plt.figtext(.1, -0.05, \"Difference between the head coverage of a rule calculated on the complete graph vs a subset of the graph\")\n",
    "plt.xlabel(\"Head coverage\")    \n",
    "plt.ylabel(\"Number of rules\")    \n",
    "plt.show()"
   ]
  },
  {
   "cell_type": "code",
   "execution_count": 20,
   "metadata": {},
   "outputs": [
    {
     "data": {
      "image/png": "[encoded data removed]",
      "text/plain": [
       "<Figure size 432x288 with 1 Axes>"
      ]
     },
     "metadata": {
      "needs_background": "light"
     },
     "output_type": "display_data"
    }
   ],
   "source": [
    "plt.hist(rule_diffs[\"PCA_Conf_Diff\"], bins = 20)\n",
    "plt.title(\"PCa confidence difference\")\n",
    "plt.figtext(.1, -0.05, \"Difference between the PCA confidence of a rule calculated on the complete graph vs a subset of the graph\")\n",
    "plt.xlabel(\"PCA confidence\")    \n",
    "plt.ylabel(\"Number of rules\")    \n",
    "plt.show()"
   ]
  },
  {
   "cell_type": "markdown",
   "metadata": {},
   "source": [
    "---\n",
    "# KG embedding using Ampligraph\n",
    "\n",
    "**THIS SECTION CONTAINS CODE THAT WOULD HAVE BEEN USED IF NOT FOR ISSUES WITH THE APLIGRAPH LIBRARY**\n",
    "\n",
    "AmpliGraph has implemented [several Knoweldge Graph Embedding models](https://docs.ampligraph.org/en/latest/ampligraph.latent_features.html#knowledge-graph-embedding-models) (TransE, ComplEx, DistMult, HolE), but for this project we will only use the [ComplEx](https://docs.ampligraph.org/en/latest/generated/ampligraph.latent_features.ComplEx.html#ampligraph.latent_features.ComplEx) model (with  default values)."
   ]
  },
  {
   "cell_type": "code",
   "execution_count": 14,
   "metadata": {},
   "outputs": [],
   "source": [
    "X_train, X_test = train_test_split_no_unseen(family_subset, test_size=100, seed = 0) \n",
    "\n",
    "'''UNCOMMENT TO SAVE NEW TRAIN AND TEST SET'''\n",
    "#pd.DataFrame(X_train).to_csv(\"X_train.txt\", sep = \"\\t\", header=None, index=None)\n",
    "#pd.DataFrame(X_test).to_csv(\"X_test.txt\", sep = \"\\t\", header=None, index=None)"
   ]
  },
  {
   "cell_type": "code",
   "execution_count": 3,
   "metadata": {},
   "outputs": [],
   "source": [
    "X_train = np.loadtxt(\"X_train.txt\", dtype = 'object')\n",
    "X_test = np.loadtxt(\"X_test.txt\", dtype = 'object')"
   ]
  },
  {
   "cell_type": "code",
   "execution_count": 16,
   "metadata": {},
   "outputs": [],
   "source": [
    "# generate set of entities to generate counterexamples from\n",
    "top_targets = most_frequent_targets(X_train, n=10000)[:,1]\n",
    "top_objects = most_frequent_objects(X_train, n=10000)[:,1]\n",
    "entities_subset = np.concatenate([top_targets, top_objects[~np.isin(top_objects,top_targets)]])"
   ]
  },
  {
   "cell_type": "code",
   "execution_count": 18,
   "metadata": {},
   "outputs": [
    {
     "data": {
      "text/plain": [
       "'UNCOMMENT TO SAVE entities subset'"
      ]
     },
     "execution_count": 18,
     "metadata": {},
     "output_type": "execute_result"
    }
   ],
   "source": [
    "'''UNCOMMENT TO SAVE entities subset'''\n",
    "#pd.DataFrame(entities_subset).to_csv(\"entities_subset.txt\", sep = \"\\t\", header=None, index=None)"
   ]
  },
  {
   "cell_type": "code",
   "execution_count": 3,
   "metadata": {},
   "outputs": [],
   "source": [
    "entities_subset = np.loadtxt(\"entities_subset.txt\", dtype = 'object')"
   ]
  },
  {
   "cell_type": "code",
   "execution_count": 6,
   "metadata": {},
   "outputs": [],
   "source": [
    "# initialize model\n",
    "model = ComplEx(batches_count=100, \n",
    "                seed=0, \n",
    "                epochs=100, \n",
    "                k=150, \n",
    "                eta=5,\n",
    "                optimizer='adam', \n",
    "                optimizer_params={'lr':1e-3},\n",
    "                loss='multiclass_nll', \n",
    "                regularizer='LP', \n",
    "                regularizer_params={'p':3, 'lambda':1e-5}, \n",
    "                verbose=True)"
   ]
  },
  {
   "cell_type": "markdown",
   "metadata": {},
   "source": [
    "## Fitting the model"
   ]
  },
  {
   "cell_type": "code",
   "execution_count": 7,
   "metadata": {},
   "outputs": [
    {
     "name": "stderr",
     "output_type": "stream",
     "text": [
      "Average ComplEx Loss:   0.000690: 100%|█| 100/100 [2:16:44<00:00, 82.05s/epoch]\n"
     ]
    }
   ],
   "source": [
    "tf.logging.set_verbosity(tf.logging.ERROR)\n",
    "\n",
    "model.fit(X_train, early_stopping = False)"
   ]
  },
  {
   "cell_type": "code",
   "execution_count": 8,
   "metadata": {},
   "outputs": [],
   "source": [
    "save_model(model, './Wikidata_family_subset_100_epocs.pkl')"
   ]
  },
  {
   "cell_type": "markdown",
   "metadata": {},
   "source": [
    "Uncomment to save new model"
   ]
  },
  {
   "cell_type": "code",
   "execution_count": 4,
   "metadata": {},
   "outputs": [],
   "source": [
    "model = restore_model('./Wikidata_family_subset_100_epocs.pkl')"
   ]
  },
  {
   "cell_type": "markdown",
   "metadata": {},
   "source": [
    "## Evaluate model"
   ]
  },
  {
   "cell_type": "code",
   "execution_count": 10,
   "metadata": {},
   "outputs": [
    {
     "name": "stdout",
     "output_type": "stream",
     "text": [
      "WARNING - DeprecationWarning: use_default_protocol will be removed in future. Please use corrupt_side argument instead.\n",
      "WARNING - You are attempting to use 116236 distinct entities to generate synthetic negatives in the evaluation\n",
      "    protocol. This may be unnecessary and will lead to a 'harder' task. Besides, it will lead to a much slower\n",
      "    evaluation procedure. We recommended to set the 'corruption_entities' argument to a reasonably sized set\n",
      "    of entities. The size of corruption_entities depends on your domain-specific task.\n"
     ]
    },
    {
     "name": "stderr",
     "output_type": "stream",
     "text": [
      "c:\\users\\johan\\appdata\\local\\programs\\python\\python37\\lib\\site-packages\\ampligraph\\evaluation\\protocol.py:952: UserWarning: You are attempting to use 116236 distinct entities to generate synthetic negatives in the evaluation\n",
      "    protocol. This may be unnecessary and will lead to a 'harder' task. Besides, it will lead to a much slower\n",
      "    evaluation procedure. We recommended to set the 'corruption_entities' argument to a reasonably sized set\n",
      "    of entities. The size of corruption_entities depends on your domain-specific task.\n",
      "  warnings.warn(warn_msg % ent_for_corruption_size)\n",
      "100%|████████████████████████████████████████| 100/100 [01:33<00:00,  1.07it/s]\n"
     ]
    }
   ],
   "source": [
    "positives_filter = family_subset\n",
    "ranks = evaluate_performance(X_test, \n",
    "                             model=model, \n",
    "                             filter_triples=positives_filter,   # Corruption strategy filter defined above \n",
    "                             use_default_protocol=True, # corrupt subj and obj separately while evaluating\n",
    "                             verbose=True)"
   ]
  },
  {
   "cell_type": "code",
   "execution_count": 11,
   "metadata": {},
   "outputs": [
    {
     "name": "stdout",
     "output_type": "stream",
     "text": [
      "MRR: 0.95\n",
      "Hits@10: 0.99\n",
      "Hits@3: 0.98\n",
      "Hits@1: 0.92\n"
     ]
    }
   ],
   "source": [
    "mrr = mrr_score(ranks)\n",
    "print(\"MRR: %.2f\" % (mrr))\n",
    "\n",
    "hits_10 = hits_at_n_score(ranks, n=10)\n",
    "print(\"Hits@10: %.2f\" % (hits_10))\n",
    "hits_3 = hits_at_n_score(ranks, n=3)\n",
    "print(\"Hits@3: %.2f\" % (hits_3))\n",
    "hits_1 = hits_at_n_score(ranks, n=1)\n",
    "print(\"Hits@1: %.2f\" % (hits_1))"
   ]
  },
  {
   "cell_type": "markdown",
   "metadata": {},
   "source": [
    "## Generate new triples\n",
    "\n",
    "This is where the error is enountered :("
   ]
  },
  {
   "cell_type": "code",
   "execution_count": 5,
   "metadata": {},
   "outputs": [
    {
     "name": "stdout",
     "output_type": "stream",
     "text": [
      "A1: <class 'numpy.ndarray'>\n",
      "Ad1: object\n",
      "B: <class 'numpy.ndarray'>\n",
      "Bd: object\n",
      "A2: <class 'numpy.ndarray'>\n",
      "A [[['Q349243' 'child' 'Q333609']]\n",
      "\n",
      " [['Q6761233' 'child' 'Q333609']]\n",
      "\n",
      " [['Q95992' 'child' 'Q333609']]\n",
      "\n",
      " [['Q5569757' 'child' 'Q333609']]\n",
      "\n",
      " [['Q704668' 'child' 'Q333609']]\n",
      "\n",
      " [['Q355710' 'child' 'Q333609']]\n",
      "\n",
      " [['Q3296283' 'child' 'Q333609']]\n",
      "\n",
      " [['Q26704631' 'child' 'Q333609']]\n",
      "\n",
      " [['Q18600482' 'child' 'Q333609']]\n",
      "\n",
      " [['Q5489855' 'child' 'Q333609']]]\n",
      "B [['Q1000366' 'child' 'Q1701445']\n",
      " ['Q1000366' 'child' 'Q6776382']\n",
      " ['Q1000505' 'spouse' 'Q268177']\n",
      " ['Q1000505' 'spouse' 'Q540597']\n",
      " ['Q1000596' 'father' 'Q701504']\n",
      " ['Q1000596' 'sibling' 'Q718827']\n",
      " ['Q1000682' 'spouse' 'Q673856']\n",
      " ['Q10007' 'father' 'Q9994']\n",
      " ['Q10007' 'mother' 'Q5374627']\n",
      " ['Q10007' 'spouse' 'Q5374631']]\n"
     ]
    },
    {
     "ename": "RuntimeError",
     "evalue": ":)",
     "output_type": "error",
     "traceback": [
      "\u001b[1;31m---------------------------------------------------------------------------\u001b[0m",
      "\u001b[1;31mRuntimeError\u001b[0m                              Traceback (most recent call last)",
      "\u001b[1;32m<ipython-input-5-b52401b11e39>\u001b[0m in \u001b[0;36m<module>\u001b[1;34m\u001b[0m\n\u001b[1;32m----> 1\u001b[1;33m \u001b[0mdiscoveries\u001b[0m\u001b[1;33m,\u001b[0m \u001b[0mdiscovery_ranks\u001b[0m \u001b[1;33m=\u001b[0m \u001b[0mdiscover_facts\u001b[0m\u001b[1;33m(\u001b[0m\u001b[0mfamily_subset\u001b[0m\u001b[1;33m,\u001b[0m \u001b[0mmodel\u001b[0m\u001b[1;33m,\u001b[0m \u001b[0mtop_n\u001b[0m \u001b[1;33m=\u001b[0m \u001b[1;36m5000\u001b[0m\u001b[1;33m,\u001b[0m \u001b[0mmax_candidates\u001b[0m \u001b[1;33m=\u001b[0m \u001b[1;36m50000\u001b[0m\u001b[1;33m,\u001b[0m \u001b[0mentities_subset\u001b[0m \u001b[1;33m=\u001b[0m \u001b[0mentities_subset\u001b[0m\u001b[1;33m,\u001b[0m \u001b[0mseed\u001b[0m \u001b[1;33m=\u001b[0m \u001b[1;36m2\u001b[0m\u001b[1;33m)\u001b[0m\u001b[1;33m\u001b[0m\u001b[1;33m\u001b[0m\u001b[0m\n\u001b[0m",
      "\u001b[1;32mc:\\users\\johan\\appdata\\local\\programs\\python\\python37\\lib\\site-packages\\ampligraph\\discovery\\discovery.py\u001b[0m in \u001b[0;36mdiscover_facts\u001b[1;34m(X, model, top_n, strategy, max_candidates, target_rel, entities_subset, seed)\u001b[0m\n\u001b[0;32m    174\u001b[0m         \u001b[0mlogger\u001b[0m\u001b[1;33m.\u001b[0m\u001b[0minfo\u001b[0m\u001b[1;33m(\u001b[0m\u001b[1;34m'Generating candidates for relation: %s'\u001b[0m \u001b[1;33m%\u001b[0m \u001b[0mrelation\u001b[0m\u001b[1;33m)\u001b[0m\u001b[1;33m\u001b[0m\u001b[1;33m\u001b[0m\u001b[0m\n\u001b[0;32m    175\u001b[0m \u001b[1;33m\u001b[0m\u001b[0m\n\u001b[1;32m--> 176\u001b[1;33m         \u001b[0mcandidates\u001b[0m \u001b[1;33m=\u001b[0m \u001b[0mgenerate_candidates\u001b[0m\u001b[1;33m(\u001b[0m\u001b[0mX_filtered\u001b[0m\u001b[1;33m,\u001b[0m \u001b[0mstrategy\u001b[0m\u001b[1;33m,\u001b[0m \u001b[0mrelation\u001b[0m\u001b[1;33m,\u001b[0m \u001b[0mmax_candidates\u001b[0m\u001b[1;33m,\u001b[0m \u001b[0mseed\u001b[0m\u001b[1;33m=\u001b[0m\u001b[0mseed\u001b[0m\u001b[1;33m)\u001b[0m\u001b[1;33m\u001b[0m\u001b[1;33m\u001b[0m\u001b[0m\n\u001b[0m\u001b[0;32m    177\u001b[0m \u001b[1;33m\u001b[0m\u001b[0m\n\u001b[0;32m    178\u001b[0m         \u001b[0mlogger\u001b[0m\u001b[1;33m.\u001b[0m\u001b[0mdebug\u001b[0m\u001b[1;33m(\u001b[0m\u001b[1;34m'Generated %d candidate statements.'\u001b[0m \u001b[1;33m%\u001b[0m \u001b[0mlen\u001b[0m\u001b[1;33m(\u001b[0m\u001b[0mcandidates\u001b[0m\u001b[1;33m)\u001b[0m\u001b[1;33m)\u001b[0m\u001b[1;33m\u001b[0m\u001b[1;33m\u001b[0m\u001b[0m\n",
      "\u001b[1;32mc:\\users\\johan\\appdata\\local\\programs\\python\\python37\\lib\\site-packages\\ampligraph\\discovery\\discovery.py\u001b[0m in \u001b[0;36mgenerate_candidates\u001b[1;34m(X, strategy, target_rel, max_candidates, consolidate_sides, seed)\u001b[0m\n\u001b[0;32m    315\u001b[0m \u001b[1;33m\u001b[0m\u001b[0m\n\u001b[0;32m    316\u001b[0m             \u001b[0mgen_candidates\u001b[0m \u001b[1;33m=\u001b[0m \u001b[0mnp\u001b[0m\u001b[1;33m.\u001b[0m\u001b[0marray\u001b[0m\u001b[1;33m(\u001b[0m\u001b[0mnp\u001b[0m\u001b[1;33m.\u001b[0m\u001b[0mmeshgrid\u001b[0m\u001b[1;33m(\u001b[0m\u001b[0msample_e_s\u001b[0m\u001b[1;33m,\u001b[0m \u001b[0mtarget_rel\u001b[0m\u001b[1;33m,\u001b[0m \u001b[0msample_e_o\u001b[0m\u001b[1;33m)\u001b[0m\u001b[1;33m)\u001b[0m\u001b[1;33m.\u001b[0m\u001b[0mT\u001b[0m\u001b[1;33m.\u001b[0m\u001b[0mreshape\u001b[0m\u001b[1;33m(\u001b[0m\u001b[1;33m-\u001b[0m\u001b[1;36m1\u001b[0m\u001b[1;33m,\u001b[0m \u001b[1;36m3\u001b[0m\u001b[1;33m)\u001b[0m\u001b[1;33m\u001b[0m\u001b[1;33m\u001b[0m\u001b[0m\n\u001b[1;32m--> 317\u001b[1;33m             \u001b[0mgen_candidates\u001b[0m \u001b[1;33m=\u001b[0m \u001b[0m_filter_candidates\u001b[0m\u001b[1;33m(\u001b[0m\u001b[0mgen_candidates\u001b[0m\u001b[1;33m,\u001b[0m \u001b[0mX\u001b[0m\u001b[1;33m)\u001b[0m\u001b[1;33m\u001b[0m\u001b[1;33m\u001b[0m\u001b[0m\n\u001b[0m\u001b[0;32m    318\u001b[0m \u001b[1;33m\u001b[0m\u001b[0m\n\u001b[0;32m    319\u001b[0m             \u001b[1;31m# Select either all of gen_candidates or just enough to fill X_candidates\u001b[0m\u001b[1;33m\u001b[0m\u001b[1;33m\u001b[0m\u001b[1;33m\u001b[0m\u001b[0m\n",
      "\u001b[1;32mc:\\users\\johan\\appdata\\local\\programs\\python\\python37\\lib\\site-packages\\ampligraph\\discovery\\discovery.py\u001b[0m in \u001b[0;36m_filter_candidates\u001b[1;34m(X_candidates, X, remove_reflexive)\u001b[0m\n\u001b[0;32m    280\u001b[0m         \"\"\" Inner function to filter candidate statements from X_candidates that are in X.\n\u001b[0;32m    281\u001b[0m         \"\"\"\n\u001b[1;32m--> 282\u001b[1;33m         \u001b[0mX_candidates\u001b[0m \u001b[1;33m=\u001b[0m \u001b[0m_setdiff2d\u001b[0m\u001b[1;33m(\u001b[0m\u001b[0mX_candidates\u001b[0m\u001b[1;33m,\u001b[0m \u001b[0mX\u001b[0m\u001b[1;33m)\u001b[0m\u001b[1;33m\u001b[0m\u001b[1;33m\u001b[0m\u001b[0m\n\u001b[0m\u001b[0;32m    283\u001b[0m         \u001b[1;31m# Filter statements that are ['x', rel, 'x']\u001b[0m\u001b[1;33m\u001b[0m\u001b[1;33m\u001b[0m\u001b[1;33m\u001b[0m\u001b[0m\n\u001b[0;32m    284\u001b[0m         \u001b[1;32mif\u001b[0m \u001b[0mremove_reflexive\u001b[0m\u001b[1;33m:\u001b[0m\u001b[1;33m\u001b[0m\u001b[1;33m\u001b[0m\u001b[0m\n",
      "\u001b[1;32mc:\\users\\johan\\appdata\\local\\programs\\python\\python37\\lib\\site-packages\\ampligraph\\discovery\\discovery.py\u001b[0m in \u001b[0;36m_setdiff2d\u001b[1;34m(A, B)\u001b[0m\n\u001b[0;32m    430\u001b[0m     \u001b[0mprint\u001b[0m\u001b[1;33m(\u001b[0m\u001b[1;34m'B'\u001b[0m\u001b[1;33m,\u001b[0m \u001b[0mB\u001b[0m\u001b[1;33m[\u001b[0m\u001b[1;33m:\u001b[0m\u001b[1;36m10\u001b[0m\u001b[1;33m]\u001b[0m\u001b[1;33m)\u001b[0m\u001b[1;33m\u001b[0m\u001b[1;33m\u001b[0m\u001b[0m\n\u001b[0;32m    431\u001b[0m     \u001b[1;31m#print(tmp2)\u001b[0m\u001b[1;33m\u001b[0m\u001b[1;33m\u001b[0m\u001b[1;33m\u001b[0m\u001b[0m\n\u001b[1;32m--> 432\u001b[1;33m     \u001b[1;32mraise\u001b[0m \u001b[0mRuntimeError\u001b[0m\u001b[1;33m(\u001b[0m\u001b[1;34m':)'\u001b[0m\u001b[1;33m)\u001b[0m\u001b[1;33m\u001b[0m\u001b[1;33m\u001b[0m\u001b[0m\n\u001b[0m\u001b[0;32m    433\u001b[0m     \u001b[0mtmp\u001b[0m \u001b[1;33m=\u001b[0m \u001b[0mnp\u001b[0m\u001b[1;33m.\u001b[0m\u001b[0mprod\u001b[0m\u001b[1;33m(\u001b[0m\u001b[0mnp\u001b[0m\u001b[1;33m.\u001b[0m\u001b[0mswapaxes\u001b[0m\u001b[1;33m(\u001b[0m\u001b[0mA\u001b[0m\u001b[1;33m[\u001b[0m\u001b[1;33m:\u001b[0m\u001b[1;33m,\u001b[0m \u001b[1;33m:\u001b[0m\u001b[1;33m,\u001b[0m \u001b[1;32mNone\u001b[0m\u001b[1;33m]\u001b[0m\u001b[1;33m,\u001b[0m \u001b[1;36m1\u001b[0m\u001b[1;33m,\u001b[0m \u001b[1;36m2\u001b[0m\u001b[1;33m)\u001b[0m \u001b[1;33m==\u001b[0m \u001b[0mB\u001b[0m\u001b[1;33m,\u001b[0m \u001b[0maxis\u001b[0m\u001b[1;33m=\u001b[0m\u001b[1;36m2\u001b[0m\u001b[1;33m)\u001b[0m\u001b[1;33m\u001b[0m\u001b[1;33m\u001b[0m\u001b[0m\n\u001b[0;32m    434\u001b[0m     \u001b[1;32mreturn\u001b[0m \u001b[0mA\u001b[0m\u001b[1;33m[\u001b[0m\u001b[1;33m~\u001b[0m \u001b[0mnp\u001b[0m\u001b[1;33m.\u001b[0m\u001b[0msum\u001b[0m\u001b[1;33m(\u001b[0m\u001b[0mnp\u001b[0m\u001b[1;33m.\u001b[0m\u001b[0mcumsum\u001b[0m\u001b[1;33m(\u001b[0m\u001b[0mtmp\u001b[0m\u001b[1;33m,\u001b[0m \u001b[0maxis\u001b[0m\u001b[1;33m=\u001b[0m\u001b[1;36m0\u001b[0m\u001b[1;33m)\u001b[0m \u001b[1;33m*\u001b[0m \u001b[0mtmp\u001b[0m \u001b[1;33m==\u001b[0m \u001b[1;36m1\u001b[0m\u001b[1;33m,\u001b[0m \u001b[0maxis\u001b[0m\u001b[1;33m=\u001b[0m\u001b[1;36m1\u001b[0m\u001b[1;33m)\u001b[0m\u001b[1;33m.\u001b[0m\u001b[0mastype\u001b[0m\u001b[1;33m(\u001b[0m\u001b[0mbool\u001b[0m\u001b[1;33m)\u001b[0m\u001b[1;33m]\u001b[0m\u001b[1;33m\u001b[0m\u001b[1;33m\u001b[0m\u001b[0m\n",
      "\u001b[1;31mRuntimeError\u001b[0m: :)"
     ]
    }
   ],
   "source": [
    "discoveries, discovery_ranks = discover_facts(family_subset, model, top_n = 5000, max_candidates = 50000, entities_subset = entities_subset, seed = 2)"
   ]
  },
  {
   "cell_type": "code",
   "execution_count": 56,
   "metadata": {},
   "outputs": [],
   "source": [
    "a = np.array([['Q828550', 'child', 'Q2426845']], dtype=object)\n",
    "b = np.array([['Q1774982', 'father', 'Q215546']], dtype=object)\n",
    "c = np.array([['Q6845092', 'mother', 'Q16840232']], dtype=object)\n",
    "d = np.array([['Q5649896', 'relative', 'Q2426845']], dtype=object)\n",
    "e = np.array([['Q65428', 'sibling', 'Q110374'],['Q380341', 'sibling', 'Q313219'],['Q24082781', 'sibling', 'Q5543457']], dtype=object)\n",
    "f = np.array([], dtype=object)\n",
    "g = np.array([], dtype=object)"
   ]
  },
  {
   "cell_type": "code",
   "execution_count": 57,
   "metadata": {},
   "outputs": [],
   "source": [
    "disc = [a,b,c,d,e,f,g]"
   ]
  },
  {
   "cell_type": "code",
   "execution_count": 72,
   "metadata": {},
   "outputs": [],
   "source": [
    "disc = [a.tolist(),b.tolist(),c.tolist(),d.tolist(),e.tolist(),f.tolist(),g.tolist()]"
   ]
  },
  {
   "cell_type": "code",
   "execution_count": 74,
   "metadata": {},
   "outputs": [],
   "source": [
    "flat_list = [item for sublist in disc for item in sublist]"
   ]
  },
  {
   "cell_type": "code",
   "execution_count": 75,
   "metadata": {},
   "outputs": [
    {
     "data": {
      "text/plain": [
       "[['Q828550', 'child', 'Q2426845'],\n",
       " ['Q1774982', 'father', 'Q215546'],\n",
       " ['Q6845092', 'mother', 'Q16840232'],\n",
       " ['Q5649896', 'relative', 'Q2426845'],\n",
       " ['Q65428', 'sibling', 'Q110374'],\n",
       " ['Q380341', 'sibling', 'Q313219'],\n",
       " ['Q24082781', 'sibling', 'Q5543457']]"
      ]
     },
     "execution_count": 75,
     "metadata": {},
     "output_type": "execute_result"
    }
   ],
   "source": [
    "flat_list"
   ]
  },
  {
   "cell_type": "code",
   "execution_count": 13,
   "metadata": {},
   "outputs": [
    {
     "data": {
      "text/plain": [
       "array([['Q1000366', 'child', 'Q1701445'],\n",
       "       ['Q1000366', 'child', 'Q6776382'],\n",
       "       ['Q1000505', 'spouse', 'Q268177'],\n",
       "       ...,\n",
       "       ['Q913574', 'spouse', 'Q235629'],\n",
       "       ['Q953878', 'relative', 'Q314514'],\n",
       "       ['Q9749', 'sibling', 'Q706559']], dtype=object)"
      ]
     },
     "execution_count": 13,
     "metadata": {},
     "output_type": "execute_result"
    }
   ],
   "source": [
    "family_subset"
   ]
  },
  {
   "cell_type": "code",
   "execution_count": 14,
   "metadata": {},
   "outputs": [
    {
     "data": {
      "text/plain": [
       "(258341, 3)"
      ]
     },
     "execution_count": 14,
     "metadata": {},
     "output_type": "execute_result"
    }
   ],
   "source": [
    "family_subset.shape"
   ]
  },
  {
   "cell_type": "code",
   "execution_count": null,
   "metadata": {},
   "outputs": [],
   "source": []
  }
 ],
 "metadata": {
  "kernelspec": {
   "display_name": "Python 3",
   "language": "python",
   "name": "python3"
  },
  "language_info": {
   "codemirror_mode": {
    "name": "ipython",
    "version": 3
   },
   "file_extension": ".py",
   "mimetype": "text/x-python",
   "name": "python",
   "nbconvert_exporter": "python",
   "pygments_lexer": "ipython3",
   "version": "3.7.7"
  }
 },
 "nbformat": 4,
 "nbformat_minor": 4
}
