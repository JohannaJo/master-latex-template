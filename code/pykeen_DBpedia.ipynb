{
 "cells": [
  {
   "cell_type": "markdown",
   "metadata": {},
   "source": [
    "\n",
    "# DBpedia rule suggestions\n",
    "\n",
    "\n",
    "This notebook presents some possible rules that could be extacted from Wikidata.\n",
    "\n",
    "---\n",
    "### **Rule 1**: spouse(A, B) -> spouse(B, A)\n",
    "\"If A is the spouse of B, then B is a spouse of A.\"\n",
    "\n",
    "---\n",
    "### **Rule 2**: child(A, B) & parent(C, A) & child(D, C) -> child(D, B)\n",
    "\"If A has child B, C has parent A and D has child C, then D also has child B.\"\n",
    "\n",
    "---\n",
    "### **Rule 3**: parent(A, B) -> child(B, A)\n",
    "\"If A has parent B, then B has child A\"\n",
    "\n",
    "---\n",
    "### **Rule 4**: relative\n",
    "\"If A is the doctoral student of B, then B is the doctoral advisor of A.\"\n",
    "\n",
    "---\n",
    "\n",
    "### **Rule 5**: P800[notableWork](A, B) -> P170[creator](B, A)\n",
    "\"If A is the notable work of B, then B is the creator of A.\"\n",
    "\n",
    "---\n",
    "### **Rule 6**: P1196[mannerOfDeath](A, Q171558[accident]) -> P184[causeOfDeath](A, Q171558[accident])\n",
    "\"If the manner of A's death was an accident, then the cause of A's death was a accident.\"\n",
    "\n",
    "---"
   ]
  },
  {
   "cell_type": "code",
   "execution_count": 1,
   "metadata": {},
   "outputs": [],
   "source": [
    "from pykeen.pipeline import pipeline\n",
    "from pykeen.triples import TriplesFactory\n",
    "from pykeen.datasets import DBpedia50, DB100K\n",
    "import pykeen\n",
    "import pandas as pd\n",
    "import numpy as np\n",
    "from signature_tools import subset_by_signature, subset_by_strict_signature, subset_by_frequency, most_frequent_objects, most_frequent_predicates, most_frequent_targets"
   ]
  },
  {
   "cell_type": "code",
   "execution_count": 2,
   "metadata": {},
   "outputs": [
    {
     "name": "stderr",
     "output_type": "stream",
     "text": [
      "You're trying to map triples with 11247 entities and 22 relations that are not in the training set. These triples will be excluded from the mapping.\n",
      "In total 8871 from 10969 triples were filtered out\n",
      "You're trying to map triples with 332 entities and 1 relations that are not in the training set. These triples will be excluded from the mapping.\n",
      "In total 276 from 399 triples were filtered out\n"
     ]
    },
    {
     "name": "stdout",
     "output_type": "stream",
     "text": [
      "DBpedia50 (create_inverse_triples=False)\n",
      "Name        Entities    Relations      Triples\n",
      "----------  ----------  -----------  ---------\n",
      "Training    24624       351              32203\n",
      "Testing     24624       351               2095\n",
      "Validation  24624       351                123\n",
      "Total       -           -                34421\n",
      "Head                                Relation     tail\n",
      "----------------------------------  -----------  ----------------\n",
      "$_(film)                            starring     Goldie_Hawn\n",
      "&ME                                 language     English_language\n",
      "'Cause_I'm_a_Man                    recordedIn   Fremantle\n",
      "(Ain't_Nobody_Loves_You)_Like_I_Do  genre        Dance_music\n",
      "(Ain't_Nobody_Loves_You)_Like_I_Do  recordLabel  RCA_Records\n",
      "\n"
     ]
    }
   ],
   "source": [
    "data = DBpedia50()\n",
    "data.summarize()"
   ]
  },
  {
   "cell_type": "code",
   "execution_count": 3,
   "metadata": {},
   "outputs": [
    {
     "name": "stderr",
     "output_type": "stream",
     "text": [
      "Reconstructing all label-based triples. This is expensive and rarely needed.\n",
      "Reconstructing all label-based triples. This is expensive and rarely needed.\n",
      "Reconstructing all label-based triples. This is expensive and rarely needed.\n"
     ]
    }
   ],
   "source": [
    "# extract all the data into a numpy array of triples\n",
    "train_data = data.training.triples\n",
    "test_data = data.testing.triples\n",
    "validation_data = data.validation.triples\n",
    "data_DBpedia50 = np.concatenate((train_data, test_data, validation_data))\n",
    "data_DBpedia50 = data_DBpedia50.astype('object') # used to have datatype '<U95' which was problematic for signature_tools functions"
   ]
  },
  {
   "cell_type": "code",
   "execution_count": 4,
   "metadata": {},
   "outputs": [
    {
     "data": {
      "text/plain": [
       "array([[33, 'List_of_Cypriot_football_transfers_summer_2012'],\n",
       "       [24, 'List_of_Iranian_football_transfers_summer_2012'],\n",
       "       [23, 'List_of_Russian_football_transfers_summer_2013'],\n",
       "       [19, 'List_of_Serbian_football_transfers_winter_2012–13'],\n",
       "       [16, 'List_of_Russian_football_transfers_summer_2009'],\n",
       "       [15, 'List_of_Cypriot_football_transfers_summer_2008'],\n",
       "       [12, 'List_of_Serbian_football_transfers_winter_2009–10'],\n",
       "       [12, 'List_of_Iranian_football_transfers_winter_2014–15'],\n",
       "       [11, 'Nat_Powers'],\n",
       "       [11, 'Ennio_Morricone']], dtype=object)"
      ]
     },
     "execution_count": 4,
     "metadata": {},
     "output_type": "execute_result"
    }
   ],
   "source": [
    "most_frequent_objects(data_DBpedia50, n=10)"
   ]
  },
  {
   "cell_type": "code",
   "execution_count": 5,
   "metadata": {},
   "outputs": [
    {
     "data": {
      "text/plain": [
       "array([[3185, 'team'],\n",
       "       [3033, 'genre'],\n",
       "       [2536, 'birthPlace'],\n",
       "       [1145, 'recordLabel'],\n",
       "       [1080, 'starring'],\n",
       "       [986, 'language'],\n",
       "       [932, 'producer'],\n",
       "       [793, 'class'],\n",
       "       [774, 'associatedBand'],\n",
       "       [774, 'associatedMusicalArtist']], dtype=object)"
      ]
     },
     "execution_count": 5,
     "metadata": {},
     "output_type": "execute_result"
    }
   ],
   "source": [
    "most_frequent_predicates(data_DBpedia50, n=10)"
   ]
  },
  {
   "cell_type": "code",
   "execution_count": 6,
   "metadata": {},
   "outputs": [
    {
     "data": {
      "text/plain": [
       "array([[854, 'Germany'],\n",
       "       [755, 'English_language'],\n",
       "       [711, 'Hip_hop_music'],\n",
       "       [650, 'London'],\n",
       "       [565, 'Insect'],\n",
       "       [499, 'Plant'],\n",
       "       [478, 'Flowering_plant'],\n",
       "       [466, 'Jazz'],\n",
       "       [390, 'Iran'],\n",
       "       [378, 'Soviet_Union']], dtype=object)"
      ]
     },
     "execution_count": 6,
     "metadata": {},
     "output_type": "execute_result"
    }
   ],
   "source": [
    "most_frequent_targets(data_DBpedia50, n=10)"
   ]
  },
  {
   "cell_type": "code",
   "execution_count": 7,
   "metadata": {},
   "outputs": [
    {
     "name": "stdout",
     "output_type": "stream",
     "text": [
      "DB100K (create_inverse_triples=False)\n",
      "Name        Entities    Relations      Triples\n",
      "----------  ----------  -----------  ---------\n",
      "Training    99604       470             597482\n",
      "Testing     99604       470              50000\n",
      "Validation  99604       470              49997\n",
      "Total       -           -               697479\n",
      "Head    Relation        tail\n",
      "------  --------------  --------\n",
      "Q100    governmentType  Q3308596\n",
      "Q100    isPartOf        Q1191350\n",
      "Q100    isPartOf        Q179876\n",
      "Q100    isPartOf        Q2079909\n",
      "Q100    isPartOf        Q54072\n",
      "\n"
     ]
    }
   ],
   "source": [
    "unprocessed_DB100K= DB100K()\n",
    "unprocessed_DB100K.summarize()"
   ]
  },
  {
   "cell_type": "code",
   "execution_count": 8,
   "metadata": {},
   "outputs": [
    {
     "name": "stderr",
     "output_type": "stream",
     "text": [
      "Reconstructing all label-based triples. This is expensive and rarely needed.\n",
      "Reconstructing all label-based triples. This is expensive and rarely needed.\n",
      "Reconstructing all label-based triples. This is expensive and rarely needed.\n"
     ]
    }
   ],
   "source": [
    "# extract all the data into a numpy array of triples\n",
    "train_DB100K = unprocessed_DB100K.training.triples\n",
    "test_DB100K = unprocessed_DB100K.testing.triples\n",
    "validation_DB100K = unprocessed_DB100K.validation.triples\n",
    "data_DB100K = np.concatenate((train_DB100K, test_DB100K, validation_DB100K))"
   ]
  },
  {
   "cell_type": "code",
   "execution_count": 9,
   "metadata": {},
   "outputs": [
    {
     "data": {
      "text/plain": [
       "array([['9', 'Q1991928'],\n",
       "       ['9', 'Q1095773'],\n",
       "       ['9', 'Q1891138'],\n",
       "       ['9', 'Q60172'],\n",
       "       ['9', 'Q188973'],\n",
       "       ['9', 'Q188920'],\n",
       "       ['9', 'Q60268'],\n",
       "       ['9', 'Q1888771'],\n",
       "       ['9', 'Q603107'],\n",
       "       ['9', 'Q918497']], dtype='<U27')"
      ]
     },
     "execution_count": 9,
     "metadata": {},
     "output_type": "execute_result"
    }
   ],
   "source": [
    "most_frequent_objects(data_DB100K, n=10)"
   ]
  },
  {
   "cell_type": "code",
   "execution_count": 10,
   "metadata": {},
   "outputs": [
    {
     "data": {
      "text/plain": [
       "array([['98', 'county'],\n",
       "       ['98', 'rightTributary'],\n",
       "       ['97', 'designer'],\n",
       "       ['947', 'distributingCompany'],\n",
       "       ['947', 'distributingLabel'],\n",
       "       ['936', 'leaderParty'],\n",
       "       ['9350', 'starring'],\n",
       "       ['93', 'currency'],\n",
       "       ['9162', 'battle'],\n",
       "       ['9073', 'location']], dtype='<U27')"
      ]
     },
     "execution_count": 10,
     "metadata": {},
     "output_type": "execute_result"
    }
   ],
   "source": [
    "most_frequent_predicates(data_DB100K, n=10)"
   ]
  },
  {
   "cell_type": "code",
   "execution_count": 11,
   "metadata": {},
   "outputs": [
    {
     "data": {
      "text/plain": [
       "array([['99', 'Q176081'],\n",
       "       ['99', 'Q54183'],\n",
       "       ['99', 'Q1757'],\n",
       "       ['99', 'Q1330417'],\n",
       "       ['99', 'Q6952746'],\n",
       "       ['99', 'Q189758'],\n",
       "       ['99', 'Q19077'],\n",
       "       ['99', 'Q42448'],\n",
       "       ['99', 'Q185796'],\n",
       "       ['99', 'Q11220']], dtype='<U27')"
      ]
     },
     "execution_count": 11,
     "metadata": {},
     "output_type": "execute_result"
    }
   ],
   "source": [
    "most_frequent_targets(data_DB100K, n=10)"
   ]
  },
  {
   "cell_type": "code",
   "execution_count": 12,
   "metadata": {},
   "outputs": [
    {
     "data": {
      "text/plain": [
       "(697479, 3)"
      ]
     },
     "execution_count": 12,
     "metadata": {},
     "output_type": "execute_result"
    }
   ],
   "source": [
    "data_DB100K.shape"
   ]
  },
  {
   "cell_type": "code",
   "execution_count": 13,
   "metadata": {},
   "outputs": [
    {
     "data": {
      "text/plain": [
       "(34421, 3)"
      ]
     },
     "execution_count": 13,
     "metadata": {},
     "output_type": "execute_result"
    }
   ],
   "source": [
    "data_DBpedia50.shape"
   ]
  },
  {
   "cell_type": "code",
   "execution_count": 14,
   "metadata": {},
   "outputs": [
    {
     "ename": "NameError",
     "evalue": "name 'data_test' is not defined",
     "output_type": "error",
     "traceback": [
      "\u001b[1;31m---------------------------------------------------------------------------\u001b[0m",
      "\u001b[1;31mNameError\u001b[0m                                 Traceback (most recent call last)",
      "\u001b[1;32m<ipython-input-14-0cc8d1c950e6>\u001b[0m in \u001b[0;36m<module>\u001b[1;34m\u001b[0m\n\u001b[1;32m----> 1\u001b[1;33m \u001b[0mdata_test\u001b[0m\u001b[1;33m\u001b[0m\u001b[1;33m\u001b[0m\u001b[0m\n\u001b[0m",
      "\u001b[1;31mNameError\u001b[0m: name 'data_test' is not defined"
     ]
    }
   ],
   "source": [
    "data_test"
   ]
  },
  {
   "cell_type": "code",
   "execution_count": null,
   "metadata": {},
   "outputs": [],
   "source": [
    "train_data = np.loadtxt('C:\\Users\\johan\\.data\\pykeen\\datasets\\dbpedia50\\train.txt', dtype=str)"
   ]
  },
  {
   "cell_type": "code",
   "execution_count": null,
   "metadata": {},
   "outputs": [],
   "source": [
    "data_2 = DB100K()\n",
    "data_2.summarize()"
   ]
  },
  {
   "cell_type": "code",
   "execution_count": null,
   "metadata": {},
   "outputs": [],
   "source": [
    "data_2"
   ]
  },
  {
   "cell_type": "code",
   "execution_count": null,
   "metadata": {},
   "outputs": [],
   "source": []
  }
 ],
 "metadata": {
  "kernelspec": {
   "display_name": "Python 3",
   "language": "python",
   "name": "python3"
  },
  "language_info": {
   "codemirror_mode": {
    "name": "ipython",
    "version": 3
   },
   "file_extension": ".py",
   "mimetype": "text/x-python",
   "name": "python",
   "nbconvert_exporter": "python",
   "pygments_lexer": "ipython3",
   "version": "3.7.7"
  }
 },
 "nbformat": 4,
 "nbformat_minor": 4
}
