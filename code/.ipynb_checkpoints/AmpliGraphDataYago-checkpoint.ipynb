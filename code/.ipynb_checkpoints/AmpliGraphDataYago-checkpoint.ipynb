{
 "cells": [
  {
   "cell_type": "markdown",
   "metadata": {},
   "source": [
    "---\n",
    "# Knowledge graph subset extraction\n",
    "---"
   ]
  },
  {
   "cell_type": "code",
   "execution_count": 1,
   "metadata": {},
   "outputs": [],
   "source": [
    "import numpy as np\n",
    "import pandas as pd\n",
    "import ampligraph\n",
    "import tensorflow as tf\n",
    "from ampligraph.datasets import load_yago3_10\n",
    "from ampligraph.evaluation import evaluate_performance\n",
    "from ampligraph.evaluation import train_test_split_no_unseen \n",
    "from ampligraph.evaluation import mr_score, mrr_score, hits_at_n_score\n",
    "from ampligraph.latent_features import save_model\n",
    "from signature_tools import subset_by_signature, subset_by_frequency, most_frequent_objects, most_frequent_predicates, most_frequent_targets"
   ]
  },
  {
   "cell_type": "markdown",
   "metadata": {},
   "source": [
    "## Subset generation functions\n",
    "\n",
    "Helper functions to extract information about triplet datasets and generate subsets of knowledge graphs."
   ]
  },
  {
   "cell_type": "code",
   "execution_count": 2,
   "metadata": {},
   "outputs": [],
   "source": [
    "def get_object_frequencies(dataset):\n",
    "    objects = dataset[:,0]\n",
    "    unique, counts = np.unique(objects, return_counts=True)\n",
    "    frequencies = np.asarray((unique, counts)).T\n",
    "    return frequencies\n",
    "\n",
    "def get_predicate_frequencies(dataset):\n",
    "    objects = dataset[:,1]\n",
    "    unique, counts = np.unique(objects, return_counts=True)\n",
    "    frequencies = np.asarray((unique, counts)).T\n",
    "    return frequencies\n",
    "\n",
    "def get_target_frequencies(dataset):\n",
    "    objects = dataset[:,2]\n",
    "    unique, counts = np.unique(objects, return_counts=True)\n",
    "    frequencies = np.asarray((unique, counts)).T\n",
    "    return frequencies\n",
    "\n",
    "def subset_by_signature(dataset, objects, predicates, targets):\n",
    "    \"\"\"\n",
    "    Extracts a subset of a knowledge graph. It includes all triplets in which the object, predicate and/or target appear in their corresponding lists.\n",
    "    Not that only one of the three must be present in a triplet for it to be included in the subset.\n",
    "    \n",
    "    :param dataset: set of triplets\n",
    "    :param objects: list of objects\n",
    "    :param predicastes: list of predicates\n",
    "    :param targets: list of targets\n",
    "    \"\"\"\n",
    "    #obj_subset =  dataset[np.isin(dataset[:,0], objects)]\n",
    "    #pred_subset =  dataset[np.isin(dataset[:,1],predicates)]\n",
    "    #target_subset =  dataset[np.isin(dataset[:,2], targets)]\n",
    "    #subset_with_duplicates = np.concatenate([obj_subset, pred_subset, target_subset])\n",
    "    #subset_without_duplicates = np.unique(subset_with_duplicates)\n",
    "    subset = dataset[np.isin(dataset[:,0], objects) | np.isin(dataset[:,1],predicates) | np.isin(dataset[:,2], targets)]\n",
    "    return subset\n",
    "\n",
    "\n",
    "def subset_by_frequency(dataset, min_predicate_freq, min_object_target_freq):\n",
    "    predicate_freq = get_predicate_frequencies(dataset)\n",
    "    relevant_predicates = predicate_freq[np.where(predicate_freq[:,1] >= min_predicate_freq)]\n",
    "    relevant_predicates = relevant_predicates[:,0] # extract list of relevant predicates\n",
    "    yago_filtered = dataset[np.isin(dataset[:,1], relevant_predicates)]\n",
    "    object_freq = get_object_frequencies(yago_filtered)\n",
    "    objects_and_targets = np.concatenate([yago_filtered[:, 0], yago_filtered[:, 2]])\n",
    "    unique, counts = np.unique(objects_and_targets, return_counts=True)\n",
    "    object_target_freq = np.asarray((unique, counts)).T\n",
    "    relevant_obj_target = object_target_freq[np.where(object_target_freq[:,1] >= min_object_target_freq)]\n",
    "    relevant_obj_target = relevant_obj_target[:,0]\n",
    "    yago_filtered = yago_filtered[np.isin(yago_filtered[:,0], relevant_obj_target) | np.isin(yago_filtered[:,2], relevant_obj_target)]\n",
    "\n",
    "    return yago_filtered"
   ]
  },
  {
   "cell_type": "code",
   "execution_count": 3,
   "metadata": {},
   "outputs": [],
   "source": [
    "def most_frequent_objects(dataset, n = 10):\n",
    "    \"\"\"\n",
    "    Finds the most frequent objects in a dataset of triplets, and returns the n most frequent with their corresponding frequencies.\n",
    "    \n",
    "    :param dataset: set of triplets\n",
    "    :param n: number of most frequent objects to return.\n",
    "    \"\"\"\n",
    "    frequencies = get_object_frequencies(dataset)\n",
    "    sorted_frequencies = frequencies[frequencies[:, 1].argsort()]\n",
    "    sorted_frequencies = np.flip(sorted_frequencies)\n",
    "    \n",
    "    return sorted_frequencies[:n]\n",
    "    \n",
    "def most_frequent_predicates(dataset, n = 10):\n",
    "    \"\"\"\n",
    "    Finds the most frequent predicates in a dataset of triplets, and returns the n most frequent with their corresponding frequencies.\n",
    "    \n",
    "    :param dataset: set of triplets\n",
    "    :param n: number of most frequent predicates to return.\n",
    "    \"\"\"\n",
    "    frequencies = get_predicate_frequencies(dataset)\n",
    "    sorted_frequencies = frequencies[frequencies[:, 1].argsort()]\n",
    "    sorted_frequencies = np.flip(sorted_frequencies)\n",
    "    \n",
    "    return sorted_frequencies[:n]\n",
    "\n",
    "def most_frequent_targets(dataset, n = 10):\n",
    "    \"\"\"\n",
    "    Finds the most frequent targets in a dataset of triplets, and returns the n most frequent with their corresponding frequencies.\n",
    "    \n",
    "    :param dataset: set of triplets\n",
    "    :param n: number of most frequent targets to return.\n",
    "    \"\"\"\n",
    "    frequencies = get_target_frequencies(dataset)\n",
    "    sorted_frequencies = frequencies[frequencies[:, 1].argsort()]\n",
    "    sorted_frequencies = np.flip(sorted_frequencies)\n",
    "    \n",
    "    return sorted_frequencies[:n]"
   ]
  },
  {
   "cell_type": "markdown",
   "metadata": {},
   "source": [
    "## Yago3_10"
   ]
  },
  {
   "cell_type": "code",
   "execution_count": 4,
   "metadata": {},
   "outputs": [],
   "source": [
    "yago = load_yago3_10()\n",
    "yago = np.concatenate([yago['train'], yago['valid'], yago['test']]) # combine the split data"
   ]
  },
  {
   "cell_type": "code",
   "execution_count": 5,
   "metadata": {},
   "outputs": [
    {
     "data": {
      "text/plain": [
       "array([[264, 'Frankfurt_Airport'],\n",
       "       [259, 'Amsterdam_Airport_Schiphol'],\n",
       "       [250, 'Charles_de_Gaulle_Airport'],\n",
       "       [230, 'Istanbul_Atatürk_Airport'],\n",
       "       [210, 'United_States'],\n",
       "       [206, 'Munich_Airport'],\n",
       "       [202, 'Barcelona–El_Prat_Airport'],\n",
       "       [200, 'Dubai_International_Airport'],\n",
       "       [191, 'Brussels_Airport'],\n",
       "       [179, 'Leonardo_da_Vinci–Fiumicino_Airport']], dtype=object)"
      ]
     },
     "execution_count": 5,
     "metadata": {},
     "output_type": "execute_result"
    }
   ],
   "source": [
    "most_frequent_objects(yago)"
   ]
  },
  {
   "cell_type": "code",
   "execution_count": 6,
   "metadata": {},
   "outputs": [
    {
     "data": {
      "text/plain": [
       "array([[377143, 'isAffiliatedTo'],\n",
       "       [324048, 'playsFor'],\n",
       "       [89495, 'isLocatedIn'],\n",
       "       [66764, 'hasGender'],\n",
       "       [45410, 'wasBornIn'],\n",
       "       [32479, 'actedIn'],\n",
       "       [32338, 'isConnectedTo'],\n",
       "       [24277, 'hasWonPrize'],\n",
       "       [10801, 'influences'],\n",
       "       [9340, 'diedIn'],\n",
       "       [7827, 'hasMusicalRole'],\n",
       "       [7432, 'graduatedFrom'],\n",
       "       [7006, 'created'],\n",
       "       [6102, 'wroteMusicFor'],\n",
       "       [5530, 'directed'],\n",
       "       [5190, 'participatedIn'],\n",
       "       [5111, 'hasChild'],\n",
       "       [5099, 'happenedIn'],\n",
       "       [3795, 'isMarriedTo'],\n",
       "       [3482, 'isCitizenOf'],\n",
       "       [3419, 'worksAt'],\n",
       "       [3114, 'edited'],\n",
       "       [3011, 'livesIn'],\n",
       "       [2587, 'hasCapital'],\n",
       "       [2186, 'isPoliticianOf'],\n",
       "       [1320, 'dealsWith'],\n",
       "       [966, 'isLeaderOf'],\n",
       "       [921, 'hasAcademicAdvisor'],\n",
       "       [733, 'owns'],\n",
       "       [558, 'hasNeighbor'],\n",
       "       [394, 'imports'],\n",
       "       [381, 'exports'],\n",
       "       [300, 'hasOfficialLanguage'],\n",
       "       [243, 'isInterestedIn'],\n",
       "       [110, 'hasCurrency'],\n",
       "       [69, 'hasWebsite'],\n",
       "       [19, 'isKnownFor']], dtype=object)"
      ]
     },
     "execution_count": 6,
     "metadata": {},
     "output_type": "execute_result"
    }
   ],
   "source": [
    "most_frequent_predicates(yago, n = 40)"
   ]
  },
  {
   "cell_type": "code",
   "execution_count": 7,
   "metadata": {},
   "outputs": [
    {
     "data": {
      "text/plain": [
       "array([[61599, 'male'],\n",
       "       [12309, 'United_States'],\n",
       "       [5165, 'female'],\n",
       "       [1743, 'London'],\n",
       "       [1733, 'United_Kingdom'],\n",
       "       [1673, 'wordnet_guitar_103467517'],\n",
       "       [1578, 'France'],\n",
       "       [1443, 'New_York_City'],\n",
       "       [1384, 'Birmingham_City_F.C.'],\n",
       "       [1373, 'Los_Angeles']], dtype=object)"
      ]
     },
     "execution_count": 7,
     "metadata": {},
     "output_type": "execute_result"
    }
   ],
   "source": [
    "most_frequent_targets(yago)"
   ]
  },
  {
   "cell_type": "markdown",
   "metadata": {},
   "source": [
    "### Generate subset\n",
    "\n",
    "It seems that airports make up a large part of the dataset, and these are related to eachother by the predicate \"isConnectedTo\". \n",
    "\n",
    "So, we will generate a subset containing only triplets with the predicate \"isConnectedTo\" that include entities that appear in at least 50 triplets."
   ]
  },
  {
   "cell_type": "code",
   "execution_count": 8,
   "metadata": {},
   "outputs": [],
   "source": [
    "subset = subset_by_signature(yago, [], [\"isLeaderOf\"], [])"
   ]
  },
  {
   "cell_type": "code",
   "execution_count": 9,
   "metadata": {},
   "outputs": [
    {
     "data": {
      "text/plain": [
       "array([['Alana_DeLong', 'isLeaderOf', 'Division_No._6,_Alberta'],\n",
       "       ['Bill_Monning', 'isLeaderOf', 'Marina,_California'],\n",
       "       ['Rick_Holden', 'isLeaderOf', 'Cleburne,_Texas'],\n",
       "       ...,\n",
       "       ['Boris_Johnson', 'isLeaderOf', 'Transport_for_London'],\n",
       "       ['Town_council', 'isLeaderOf', 'Princeton,_British_Columbia'],\n",
       "       ['Peter_Till', 'isLeaderOf', 'Ruapehu_District']], dtype=object)"
      ]
     },
     "execution_count": 9,
     "metadata": {},
     "output_type": "execute_result"
    }
   ],
   "source": [
    "subset"
   ]
  },
  {
   "cell_type": "code",
   "execution_count": 10,
   "metadata": {},
   "outputs": [
    {
     "data": {
      "text/plain": [
       "array(['16th_arrondissement_of_Paris', 'Abdelaziz_Bouteflika',\n",
       "       'Abdul_Halim_of_Kedah', ..., 'Îles_des_Saintes',\n",
       "       'Ólafur_Ragnar_Grímsson', 'Čoka'], dtype=object)"
      ]
     },
     "execution_count": 10,
     "metadata": {},
     "output_type": "execute_result"
    }
   ],
   "source": [
    "entities = np.unique(np.concatenate([subset[:, 0], subset[:, 2]]))\n",
    "entities"
   ]
  },
  {
   "cell_type": "code",
   "execution_count": 11,
   "metadata": {},
   "outputs": [
    {
     "data": {
      "text/plain": [
       "array(['isLeaderOf'], dtype=object)"
      ]
     },
     "execution_count": 11,
     "metadata": {},
     "output_type": "execute_result"
    }
   ],
   "source": [
    "relations = np.unique(subset[:, 1])\n",
    "relations"
   ]
  },
  {
   "cell_type": "code",
   "execution_count": 12,
   "metadata": {},
   "outputs": [],
   "source": [
    "subset = subset_by_frequency(subset, 1, 50)"
   ]
  },
  {
   "cell_type": "code",
   "execution_count": 13,
   "metadata": {},
   "outputs": [
    {
     "data": {
      "text/plain": [
       "(0, 3)"
      ]
     },
     "execution_count": 13,
     "metadata": {},
     "output_type": "execute_result"
    }
   ],
   "source": [
    "subset.shape"
   ]
  },
  {
   "cell_type": "markdown",
   "metadata": {},
   "source": [
    "# 2. Defining train and test datasets"
   ]
  },
  {
   "cell_type": "markdown",
   "metadata": {},
   "source": [
    "As is typical in machine learning, we need to split our dataset into training and test (and sometimes validation) datasets. \n",
    "\n",
    "What differs from the standard method of randomly sampling N points to make up our test set, is that our data points are two entities linked by some relationship, and we need to take care to ensure that all entities are represented in train and test sets by at least one triple. \n",
    "\n",
    "To accomplish this, AmpliGraph provides the [`train_test_split_no_unseen`](https://docs.ampligraph.org/en/latest/generated/ampligraph.evaluation.train_test_split_no_unseen.html#train-test-split-no-unseen) function.  \n",
    "\n",
    "For sake of example, we will create a small test size that includes only 100 triples:"
   ]
  },
  {
   "cell_type": "code",
   "execution_count": 14,
   "metadata": {},
   "outputs": [
    {
     "ename": "Exception",
     "evalue": "Cannot create a test split of the desired size. Some entities will not occur in both training and test set. Set allow_duplication=True,remove filter on test predicates or set test_size to a smaller value.",
     "output_type": "error",
     "traceback": [
      "\u001b[1;31m---------------------------------------------------------------------------\u001b[0m",
      "\u001b[1;31mException\u001b[0m                                 Traceback (most recent call last)",
      "\u001b[1;32m<ipython-input-14-b961514dcc4f>\u001b[0m in \u001b[0;36m<module>\u001b[1;34m\u001b[0m\n\u001b[0;32m      1\u001b[0m \u001b[1;32mfrom\u001b[0m \u001b[0mampligraph\u001b[0m\u001b[1;33m.\u001b[0m\u001b[0mevaluation\u001b[0m \u001b[1;32mimport\u001b[0m \u001b[0mtrain_test_split_no_unseen\u001b[0m\u001b[1;33m\u001b[0m\u001b[1;33m\u001b[0m\u001b[0m\n\u001b[0;32m      2\u001b[0m \u001b[1;33m\u001b[0m\u001b[0m\n\u001b[1;32m----> 3\u001b[1;33m \u001b[0mX_train\u001b[0m\u001b[1;33m,\u001b[0m \u001b[0mX_test\u001b[0m \u001b[1;33m=\u001b[0m \u001b[0mtrain_test_split_no_unseen\u001b[0m\u001b[1;33m(\u001b[0m\u001b[0msubset\u001b[0m\u001b[1;33m,\u001b[0m \u001b[0mtest_size\u001b[0m\u001b[1;33m=\u001b[0m\u001b[1;36m100\u001b[0m\u001b[1;33m)\u001b[0m\u001b[1;33m\u001b[0m\u001b[1;33m\u001b[0m\u001b[0m\n\u001b[0m",
      "\u001b[1;32mc:\\users\\johan\\appdata\\local\\programs\\python\\python37\\lib\\site-packages\\ampligraph\\evaluation\\protocol.py\u001b[0m in \u001b[0;36mtrain_test_split_no_unseen\u001b[1;34m(X, test_size, seed, allow_duplication, filtered_test_predicates, backward_compatible)\u001b[0m\n\u001b[0;32m    404\u001b[0m         \u001b[1;32mreturn\u001b[0m \u001b[0m_train_test_split_no_unseen_old\u001b[0m\u001b[1;33m(\u001b[0m\u001b[0mX\u001b[0m\u001b[1;33m,\u001b[0m \u001b[0mtest_size\u001b[0m\u001b[1;33m,\u001b[0m \u001b[0mseed\u001b[0m\u001b[1;33m,\u001b[0m \u001b[0mallow_duplication\u001b[0m\u001b[1;33m,\u001b[0m \u001b[0mfiltered_test_predicates\u001b[0m\u001b[1;33m)\u001b[0m\u001b[1;33m\u001b[0m\u001b[1;33m\u001b[0m\u001b[0m\n\u001b[0;32m    405\u001b[0m \u001b[1;33m\u001b[0m\u001b[0m\n\u001b[1;32m--> 406\u001b[1;33m     \u001b[1;32mreturn\u001b[0m \u001b[0m_train_test_split_no_unseen_fast\u001b[0m\u001b[1;33m(\u001b[0m\u001b[0mX\u001b[0m\u001b[1;33m,\u001b[0m \u001b[0mtest_size\u001b[0m\u001b[1;33m,\u001b[0m \u001b[0mseed\u001b[0m\u001b[1;33m,\u001b[0m \u001b[0mallow_duplication\u001b[0m\u001b[1;33m,\u001b[0m \u001b[0mfiltered_test_predicates\u001b[0m\u001b[1;33m)\u001b[0m\u001b[1;33m\u001b[0m\u001b[1;33m\u001b[0m\u001b[0m\n\u001b[0m\u001b[0;32m    407\u001b[0m \u001b[1;33m\u001b[0m\u001b[0m\n\u001b[0;32m    408\u001b[0m \u001b[1;33m\u001b[0m\u001b[0m\n",
      "\u001b[1;32mc:\\users\\johan\\appdata\\local\\programs\\python\\python37\\lib\\site-packages\\ampligraph\\evaluation\\protocol.py\u001b[0m in \u001b[0;36m_train_test_split_no_unseen_fast\u001b[1;34m(X, test_size, seed, allow_duplication, filtered_test_predicates)\u001b[0m\n\u001b[0;32m    166\u001b[0m             \u001b[1;31m# throw an exception since we cannot get unique triples in the test set without creating\u001b[0m\u001b[1;33m\u001b[0m\u001b[1;33m\u001b[0m\u001b[1;33m\u001b[0m\u001b[0m\n\u001b[0;32m    167\u001b[0m             \u001b[1;31m# unseen entities\u001b[0m\u001b[1;33m\u001b[0m\u001b[1;33m\u001b[0m\u001b[1;33m\u001b[0m\u001b[0m\n\u001b[1;32m--> 168\u001b[1;33m             raise Exception(\"Cannot create a test split of the desired size. \"\n\u001b[0m\u001b[0;32m    169\u001b[0m                             \u001b[1;34m\"Some entities will not occur in both training and test set. \"\u001b[0m\u001b[1;33m\u001b[0m\u001b[1;33m\u001b[0m\u001b[0m\n\u001b[0;32m    170\u001b[0m                             \u001b[1;34m\"Set allow_duplication=True,\"\u001b[0m\u001b[1;33m\u001b[0m\u001b[1;33m\u001b[0m\u001b[0m\n",
      "\u001b[1;31mException\u001b[0m: Cannot create a test split of the desired size. Some entities will not occur in both training and test set. Set allow_duplication=True,remove filter on test predicates or set test_size to a smaller value."
     ]
    }
   ],
   "source": [
    "from ampligraph.evaluation import train_test_split_no_unseen \n",
    "\n",
    "X_train, X_test = train_test_split_no_unseen(subset, test_size=100) "
   ]
  },
  {
   "cell_type": "markdown",
   "metadata": {},
   "source": [
    "Our data is now split into train/test sets. If we need to further divide into a validation dataset we can just repeat using the same procedure on the test set (and adjusting the split percentages). "
   ]
  },
  {
   "cell_type": "code",
   "execution_count": null,
   "metadata": {},
   "outputs": [],
   "source": [
    "print('Train set size: ', X_train.shape)\n",
    "print('Test set size: ', X_test.shape)"
   ]
  },
  {
   "cell_type": "code",
   "execution_count": null,
   "metadata": {},
   "outputs": [],
   "source": [
    "[\"Trondheim_Airport\", \"hasGender\", \"Brisbane_Airport\"] in subset"
   ]
  },
  {
   "cell_type": "markdown",
   "metadata": {},
   "source": [
    "---\n",
    "# 3. Training a model \n",
    "\n",
    "AmpliGraph has implemented [several Knoweldge Graph Embedding models](https://docs.ampligraph.org/en/latest/ampligraph.latent_features.html#knowledge-graph-embedding-models) (TransE, ComplEx, DistMult, HolE), but to begin with we're just going to use the [ComplEx](https://docs.ampligraph.org/en/latest/generated/ampligraph.latent_features.ComplEx.html#ampligraph.latent_features.ComplEx) model (with  default values), so lets import that:"
   ]
  },
  {
   "cell_type": "code",
   "execution_count": null,
   "metadata": {},
   "outputs": [],
   "source": [
    "from ampligraph.latent_features import ComplEx"
   ]
  },
  {
   "cell_type": "markdown",
   "metadata": {},
   "source": [
    "Lets go through the parameters to understand what's going on:\n",
    "\n",
    "- **`k`** : the dimensionality of the embedding space\n",
    "- **`eta`** ($\\eta$) : the number of negative, or false triples that must be generated at training runtime for each positive, or true triple\n",
    "- **`batches_count`** : the number of batches in which the training set is split during the training loop. If you are having into low memory issues than settings this to a higher number may help.\n",
    "- **`epochs`** : the number of epochs to train the model for.\n",
    "- **`optimizer`** : the Adam optimizer, with a learning rate of 1e-3 set via the *optimizer_params* kwarg.\n",
    "- **`loss`** : pairwise loss, with a margin of 0.5 set via the *loss_params* kwarg.\n",
    "- **`regularizer`** : $L_p$ regularization with $p=2$, i.e. l2 regularization. $\\lambda$ = 1e-5, set via the *regularizer_params* kwarg. \n",
    "\n",
    "Now we can instantiate the model:\n"
   ]
  },
  {
   "cell_type": "code",
   "execution_count": null,
   "metadata": {},
   "outputs": [],
   "source": [
    "model = ComplEx(batches_count=100, \n",
    "                seed=0, \n",
    "                epochs=200, \n",
    "                k=150, \n",
    "                eta=5,\n",
    "                optimizer='adam', \n",
    "                optimizer_params={'lr':1e-3},\n",
    "                loss='multiclass_nll', \n",
    "                regularizer='LP', \n",
    "                regularizer_params={'p':3, 'lambda':1e-5}, \n",
    "                verbose=True)"
   ]
  },
  {
   "cell_type": "markdown",
   "metadata": {},
   "source": [
    "## Filtering negatives\n",
    "\n",
    "AmpliGraph aims to follow scikit-learn's ease-of-use design philosophy and simplify everything down to **`fit`**, **`evaluate`**, and **`predict`** functions. \n",
    "\n",
    "However, there are some knowledge graph specific steps we must take to ensure our model can be trained and evaluated correctly. The first of these is defining the filter that will be used to ensure that no *negative* statements generated by the corruption procedure are actually positives. This is simply done by concatenating our train and test sets. Now when negative triples are generated by the corruption strategy, we can check that they aren't actually true statements.  \n"
   ]
  },
  {
   "cell_type": "code",
   "execution_count": null,
   "metadata": {},
   "outputs": [],
   "source": [
    "positives_filter = subset"
   ]
  },
  {
   "cell_type": "markdown",
   "metadata": {},
   "source": [
    "## Fitting the model\n",
    "\n",
    "Once you run the next cell the model will train. \n",
    "\n",
    "On a modern laptop this should take ~3 minutes (although your mileage may vary, especially if you've changed any of the hyper-parameters above)."
   ]
  },
  {
   "cell_type": "code",
   "execution_count": null,
   "metadata": {},
   "outputs": [],
   "source": [
    "tf.logging.set_verbosity(tf.logging.ERROR)\n",
    "\n",
    "model.fit(X_train, early_stopping = False)"
   ]
  },
  {
   "cell_type": "markdown",
   "metadata": {},
   "source": [
    "---\n",
    "# 5.  Saving and restoring a model\n",
    "\n",
    "Before we go any further, let's save the best model found so that we can restore it in future."
   ]
  },
  {
   "cell_type": "code",
   "execution_count": null,
   "metadata": {},
   "outputs": [],
   "source": [
    "from ampligraph.latent_features import save_model"
   ]
  },
  {
   "cell_type": "code",
   "execution_count": null,
   "metadata": {},
   "outputs": [],
   "source": [
    "save_model(model, './airports_subset.pkl')"
   ]
  },
  {
   "cell_type": "markdown",
   "metadata": {},
   "source": [
    "This will save the model in the ampligraph_tutorial directory as `best_model.pkl`."
   ]
  },
  {
   "cell_type": "markdown",
   "metadata": {},
   "source": [
    ".. we can then delete the model .. "
   ]
  },
  {
   "cell_type": "code",
   "execution_count": null,
   "metadata": {},
   "outputs": [],
   "source": [
    "#del model"
   ]
  },
  {
   "cell_type": "markdown",
   "metadata": {},
   "source": [
    ".. and then restore it from disk! Ta-da! "
   ]
  },
  {
   "cell_type": "code",
   "execution_count": null,
   "metadata": {},
   "outputs": [],
   "source": [
    "#model = restore_model('./connectedTo_subset.pkl')"
   ]
  },
  {
   "cell_type": "markdown",
   "metadata": {},
   "source": [
    "And let's just double check that the model we restored has been fit:"
   ]
  },
  {
   "cell_type": "code",
   "execution_count": null,
   "metadata": {},
   "outputs": [],
   "source": [
    "if model.is_fitted:\n",
    "    print('The model is fit!')\n",
    "else:\n",
    "    print('The model is not fit! Did you skip a step?')"
   ]
  },
  {
   "cell_type": "markdown",
   "metadata": {},
   "source": [
    "## Running evaluation"
   ]
  },
  {
   "cell_type": "code",
   "execution_count": null,
   "metadata": {},
   "outputs": [],
   "source": [
    "ranks = evaluate_performance(X_test, \n",
    "                             model=model, \n",
    "                             filter_triples=positives_filter,   # Corruption strategy filter defined above \n",
    "                             use_default_protocol=True, # corrupt subj and obj separately while evaluating\n",
    "                             verbose=True)"
   ]
  },
  {
   "cell_type": "markdown",
   "metadata": {},
   "source": [
    "\n",
    "The ***ranks*** returned by the evaluate_performance function indicate the rank at which the test set triple was found when performing link prediction using the model. \n",
    "\n",
    "For example, given the triple:\n",
    "\n",
    "    <House Stark of Winterfell, IN_REGION The North>\n",
    "    \n",
    "The model returns a rank of 7. This tells us that while it's not the highest likelihood true statement (which would be given a rank 1), it's pretty likely.\n"
   ]
  },
  {
   "cell_type": "markdown",
   "metadata": {},
   "source": [
    "## Metrics"
   ]
  },
  {
   "cell_type": "markdown",
   "metadata": {},
   "source": [
    "Let's compute some evaluate metrics and print them out.\n",
    "\n",
    "We're going to use the mrr_score (mean reciprocal rank) and hits_at_n_score functions. \n",
    "\n",
    "- ***mrr_score***:  The function computes the mean of the reciprocal of elements of a vector of rankings ranks.\n",
    "- ***hits_at_n_score***: The function computes how many elements of a vector of rankings ranks make it to the top n positions.\n"
   ]
  },
  {
   "cell_type": "code",
   "execution_count": null,
   "metadata": {},
   "outputs": [],
   "source": [
    "mrr = mrr_score(ranks)\n",
    "print(\"MRR: %.2f\" % (mrr))\n",
    "\n",
    "hits_10 = hits_at_n_score(ranks, n=10)\n",
    "print(\"Hits@10: %.2f\" % (hits_10))\n",
    "hits_3 = hits_at_n_score(ranks, n=3)\n",
    "print(\"Hits@3: %.2f\" % (hits_3))\n",
    "hits_1 = hits_at_n_score(ranks, n=1)\n",
    "print(\"Hits@1: %.2f\" % (hits_1))"
   ]
  },
  {
   "cell_type": "markdown",
   "metadata": {},
   "source": [
    "Now, how do we interpret those numbers? \n",
    "\n",
    "[Hits@N](http://docs.ampligraph.org/en/1.0.3/generated/ampligraph.evaluation.hits_at_n_score.html#ampligraph.evaluation.hits_at_n_score) indicates how many times in average a true triple was ranked in the top-N. Therefore, on average, we guessed the correct subject or object 53% of the time when considering the top-3 better ranked triples. The choice of which N makes more sense depends on the application.\n",
    "\n",
    "The [Mean Reciprocal Rank (MRR)](http://docs.ampligraph.org/en/latest/generated/ampligraph.evaluation.mrr_score.html) is another popular metrics to assess the predictive power of a model."
   ]
  }
 ],
 "metadata": {
  "kernelspec": {
   "display_name": "Python 3",
   "language": "python",
   "name": "python3"
  },
  "language_info": {
   "codemirror_mode": {
    "name": "ipython",
    "version": 3
   },
   "file_extension": ".py",
   "mimetype": "text/x-python",
   "name": "python",
   "nbconvert_exporter": "python",
   "pygments_lexer": "ipython3",
   "version": "3.7.7"
  }
 },
 "nbformat": 4,
 "nbformat_minor": 4
}
