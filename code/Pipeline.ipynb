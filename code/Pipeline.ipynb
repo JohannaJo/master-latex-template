{
 "cells": [
  {
   "cell_type": "code",
   "execution_count": 1,
   "metadata": {},
   "outputs": [],
   "source": [
    "import numpy as np\n",
    "from rule_mining import rule_mining\n",
    "from kb_extension import extend_kb\n",
    "from ampligraph.latent_features import restore_model"
   ]
  },
  {
   "cell_type": "code",
   "execution_count": 10,
   "metadata": {},
   "outputs": [],
   "source": [
    "# original knowlege base\n",
    "original_kb = np.loadtxt(\"family_subset_test.txt\", dtype = 'object')\n",
    "\n",
    "# mine rules from original knowledge base\n",
    "original_rules = rule_mining(original_kb)"
   ]
  },
  {
   "cell_type": "code",
   "execution_count": 2,
   "metadata": {},
   "outputs": [],
   "source": [
    "original_kb = np.loadtxt(\"family_subset_test.txt\", dtype = 'object')\n",
    "\n",
    "# load pretrained knowledge graph embeddings\n",
    "# TODO: add files for other models\n",
    "complEx_model = restore_model('./Wikidata_family_subset_100_epocs.pkl')\n",
    "distMult_model = restore_model('./Wikidata_family_subset_100_epocs.pkl')\n",
    "transE_model = restore_model('./Wikidata_family_subset_100_epocs.pkl')\n",
    "randomBaseline_model = restore_model('./Wikidata_family_subset_100_epocs.pkl')"
   ]
  },
  {
   "cell_type": "code",
   "execution_count": 3,
   "metadata": {},
   "outputs": [],
   "source": [
    "# parameters\n",
    "models = [complEx_model, distMult_model]#, transE_model, randomBaseline_model]\n",
    "entity_selection_methods = [\"random\", \"most_frequent\"]#, \"least_frequent\"]\n",
    "candidate_admittance_criteria = [1,2] # right now this is just rankt cutoff value"
   ]
  },
  {
   "cell_type": "code",
   "execution_count": 4,
   "metadata": {},
   "outputs": [
    {
     "name": "stderr",
     "output_type": "stream",
     "text": [
      "c:\\users\\johan\\appdata\\local\\programs\\python\\python37\\lib\\site-packages\\ampligraph\\latent_features\\models\\EmbeddingModel.py:1329: FutureWarning: elementwise comparison failed; returning scalar instead, but in the future will perform elementwise comparison\n",
      "  if corruption_entities == 'all':\n",
      "100%|███████████████████████████████████████| 600/600 [00:01<00:00, 576.26it/s]\n",
      "100%|███████████████████████████████████████| 599/599 [00:01<00:00, 582.98it/s]\n",
      "100%|███████████████████████████████████████| 600/600 [00:00<00:00, 637.35it/s]\n",
      "100%|███████████████████████████████████████| 600/600 [00:01<00:00, 583.06it/s]\n",
      "100%|███████████████████████████████████████| 600/600 [00:01<00:00, 590.55it/s]\n",
      "100%|███████████████████████████████████████| 600/600 [00:00<00:00, 621.19it/s]\n",
      "100%|███████████████████████████████████████| 600/600 [00:01<00:00, 543.71it/s]\n",
      "100%|███████████████████████████████████████| 600/600 [00:01<00:00, 559.36it/s]\n"
     ]
    }
   ],
   "source": [
    "mined_rules = []\n",
    "kb_extensions = []\n",
    "for model in models:\n",
    "    for method in entity_selection_methods:\n",
    "        for criteria in candidate_admittance_criteria:\n",
    "            extended_kb, admitted_candidates = extend_kb(original_kb, model, method, criteria)\n",
    "            rules = rule_mining(extended_kb)\n",
    "            kb_extensions.append(admitted_candidates)\n",
    "            mined_rules.append(rules)"
   ]
  },
  {
   "cell_type": "code",
   "execution_count": 8,
   "metadata": {},
   "outputs": [
    {
     "data": {
      "text/plain": [
       "8"
      ]
     },
     "execution_count": 8,
     "metadata": {},
     "output_type": "execute_result"
    }
   ],
   "source": [
    "len(kb_extensions)"
   ]
  },
  {
   "cell_type": "code",
   "execution_count": 9,
   "metadata": {},
   "outputs": [
    {
     "data": {
      "text/plain": [
       "8"
      ]
     },
     "execution_count": 9,
     "metadata": {},
     "output_type": "execute_result"
    }
   ],
   "source": [
    "len(mined_rules)"
   ]
  },
  {
   "cell_type": "code",
   "execution_count": null,
   "metadata": {},
   "outputs": [],
   "source": []
  }
 ],
 "metadata": {
  "kernelspec": {
   "display_name": "Python 3",
   "language": "python",
   "name": "python3"
  },
  "language_info": {
   "codemirror_mode": {
    "name": "ipython",
    "version": 3
   },
   "file_extension": ".py",
   "mimetype": "text/x-python",
   "name": "python",
   "nbconvert_exporter": "python",
   "pygments_lexer": "ipython3",
   "version": "3.7.7"
  }
 },
 "nbformat": 4,
 "nbformat_minor": 4
}
